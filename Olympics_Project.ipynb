{
 "cells": [
  {
   "cell_type": "code",
   "execution_count": null,
   "metadata": {
    "id": "FPtNH_dY2DlA"
   },
   "outputs": [],
   "source": [
    "import pandas as pd\n",
    "import numpy as np\n",
    "import matplotlib.pyplot as plt\n",
    "import requests\n",
    "from google.colab import files, drive\n",
    "from bs4 import BeautifulSoup\n"
   ]
  },
  {
   "cell_type": "code",
   "execution_count": null,
   "metadata": {
    "colab": {
     "base_uri": "https://localhost:8080/"
    },
    "id": "BOcIS1hC2Njb",
    "outputId": "4321ab1d-8fe5-463d-d330-8cb5a8b9e991"
   },
   "outputs": [
    {
     "name": "stdout",
     "output_type": "stream",
     "text": [
      "Mounted at D\n"
     ]
    }
   ],
   "source": [
    "drive.mount(\"D\")"
   ]
  },
  {
   "cell_type": "markdown",
   "metadata": {
    "id": "5JZ-7IST2j35"
   },
   "source": [
    " **Data for the 2020 Olympics**"
   ]
  },
  {
   "cell_type": "code",
   "execution_count": null,
   "metadata": {
    "id": "Yw8u4UO-2XuM"
   },
   "outputs": [],
   "source": [
    "url2020 = \"https://olympics.com/tokyo-2020/olympic-games/en/results/all-sports/medal-standings.htm\"\n",
    "res2020 = requests.get(url2020)\n",
    "soup_20 = BeautifulSoup(res2020.content)"
   ]
  },
  {
   "cell_type": "code",
   "execution_count": null,
   "metadata": {
    "colab": {
     "base_uri": "https://localhost:8080/"
    },
    "id": "136itecL2oER",
    "outputId": "707c00da-ed93-4f05-8ee4-423b5714f371"
   },
   "outputs": [
    {
     "data": {
      "text/plain": [
       "bs4.BeautifulSoup"
      ]
     },
     "execution_count": 4,
     "metadata": {
      "tags": []
     },
     "output_type": "execute_result"
    }
   ],
   "source": [
    "type(soup_20)"
   ]
  },
  {
   "cell_type": "code",
   "execution_count": null,
   "metadata": {
    "id": "QNjnprCZ2r4P"
   },
   "outputs": [],
   "source": [
    "country_divs = soup_20.find_all(attrs={\"class\": \"playerTag\"})\n",
    "list_of_ioc_codes_2020 = [div['country'] for div in country_divs]"
   ]
  },
  {
   "cell_type": "code",
   "execution_count": null,
   "metadata": {
    "colab": {
     "base_uri": "https://localhost:8080/"
    },
    "id": "CvJr2ZS_2vM3",
    "outputId": "10f4d7c2-77af-4407-d51b-e7bafea2be0d"
   },
   "outputs": [
    {
     "data": {
      "text/plain": [
       "['USA', 'CHN', 'JPN', 'GBR', 'ROC', 'AUS', 'NED', 'FRA', 'GER', 'ITA']"
      ]
     },
     "execution_count": 6,
     "metadata": {
      "tags": []
     },
     "output_type": "execute_result"
    }
   ],
   "source": [
    "list_of_ioc_codes_2020[:10]"
   ]
  },
  {
   "cell_type": "code",
   "execution_count": null,
   "metadata": {
    "id": "_TM2GAia2xan"
   },
   "outputs": [],
   "source": [
    "country_names_tags = soup_20.select(\".country\")\n",
    "list_of_countries_2020 = [tag.text for tag in country_names_tags]"
   ]
  },
  {
   "cell_type": "code",
   "execution_count": null,
   "metadata": {
    "colab": {
     "base_uri": "https://localhost:8080/"
    },
    "id": "2mwBeYad20XO",
    "outputId": "b6bae6cd-134c-4947-af40-ae12dccf3abd"
   },
   "outputs": [
    {
     "data": {
      "text/plain": [
       "['United States of America',\n",
       " \"People's Republic of China\",\n",
       " 'Japan',\n",
       " 'Great Britain',\n",
       " 'ROC',\n",
       " 'Australia',\n",
       " 'Netherlands',\n",
       " 'France',\n",
       " 'Germany',\n",
       " 'Italy']"
      ]
     },
     "execution_count": 8,
     "metadata": {
      "tags": []
     },
     "output_type": "execute_result"
    }
   ],
   "source": [
    "list_of_countries_2020[:10]"
   ]
  },
  {
   "cell_type": "code",
   "execution_count": null,
   "metadata": {
    "id": "UVcdkFQa22fw"
   },
   "outputs": [],
   "source": [
    "total_medals_tags = soup_20.find_all(\"td\")[5::8]\n",
    "list_of_total_medals_2020 = [item.strong.text for item in total_medals_tags if item.strong != None]"
   ]
  },
  {
   "cell_type": "code",
   "execution_count": null,
   "metadata": {
    "colab": {
     "base_uri": "https://localhost:8080/"
    },
    "id": "ZHjHjTdZ25Rz",
    "outputId": "35d72aa3-b33d-4db2-b652-10f7a59a8721"
   },
   "outputs": [
    {
     "data": {
      "text/plain": [
       "['113', '88', '58', '65', '71', '46', '36', '33', '37', '40']"
      ]
     },
     "execution_count": 10,
     "metadata": {
      "tags": []
     },
     "output_type": "execute_result"
    }
   ],
   "source": [
    "list_of_total_medals_2020[:10]"
   ]
  },
  {
   "cell_type": "code",
   "execution_count": null,
   "metadata": {
    "id": "ArzQGz9Q278V"
   },
   "outputs": [],
   "source": [
    "gold_medal_tags = soup_20.find_all(\"td\")[2::8]\n",
    "list_of_gold_medals_2020 = [tag.text[2:] for tag in gold_medal_tags]"
   ]
  },
  {
   "cell_type": "code",
   "execution_count": null,
   "metadata": {
    "colab": {
     "base_uri": "https://localhost:8080/"
    },
    "id": "olH8WLP-2_I9",
    "outputId": "9f780d12-a3fd-451a-83a5-db97fc395127"
   },
   "outputs": [
    {
     "data": {
      "text/plain": [
       "['39 ', '38 ', '27 ', '22 ', '20 ', '17 ', '10 ', '10 ', '10 ', '10 ']"
      ]
     },
     "execution_count": 12,
     "metadata": {
      "tags": []
     },
     "output_type": "execute_result"
    }
   ],
   "source": [
    "list_of_gold_medals_2020[:10]"
   ]
  },
  {
   "cell_type": "code",
   "execution_count": null,
   "metadata": {
    "id": "ehxeGGok3Bqo"
   },
   "outputs": [],
   "source": [
    "num_countries = len(list_of_total_medals_2020)\n",
    "unique_list_of_ioc_codes_2020 = list_of_ioc_codes_2020[:num_countries]\n",
    "unique_list_of_countries_2020 = list_of_countries_2020[:num_countries]\n",
    "final_list_of_gold_medals_2020 = list_of_gold_medals_2020[:num_countries]"
   ]
  },
  {
   "cell_type": "code",
   "execution_count": null,
   "metadata": {
    "id": "qhJjhaL03ElA"
   },
   "outputs": [],
   "source": [
    "df_olympics_2020 = pd.DataFrame({\"Country Name\": unique_list_of_countries_2020, \n",
    "                                 \"IOC Code\": unique_list_of_ioc_codes_2020, \"gold_medals_2020\": final_list_of_gold_medals_2020, \"total_medals_2020\":list_of_total_medals_2020 })\n",
    "df_olympics_2020 = df_olympics_2020.replace(\"\", 0)\n",
    "\n",
    "df_olympics_2020.iloc[:, -2:] = df_olympics_2020.iloc[:,-2:].applymap(lambda x: int(x))"
   ]
  },
  {
   "cell_type": "code",
   "execution_count": null,
   "metadata": {
    "colab": {
     "base_uri": "https://localhost:8080/",
     "height": 819
    },
    "id": "JDKY8br53iw8",
    "outputId": "cccefe3e-7f81-404c-e3f6-98c3e61e0a41"
   },
   "outputs": [
    {
     "data": {
      "text/html": [
       "<div>\n",
       "<style scoped>\n",
       "    .dataframe tbody tr th:only-of-type {\n",
       "        vertical-align: middle;\n",
       "    }\n",
       "\n",
       "    .dataframe tbody tr th {\n",
       "        vertical-align: top;\n",
       "    }\n",
       "\n",
       "    .dataframe thead th {\n",
       "        text-align: right;\n",
       "    }\n",
       "</style>\n",
       "<table border=\"1\" class=\"dataframe\">\n",
       "  <thead>\n",
       "    <tr style=\"text-align: right;\">\n",
       "      <th></th>\n",
       "      <th>Country Name</th>\n",
       "      <th>IOC Code</th>\n",
       "      <th>gold_medals_2020</th>\n",
       "      <th>total_medals_2020</th>\n",
       "    </tr>\n",
       "  </thead>\n",
       "  <tbody>\n",
       "    <tr>\n",
       "      <th>0</th>\n",
       "      <td>United States of America</td>\n",
       "      <td>USA</td>\n",
       "      <td>39</td>\n",
       "      <td>113</td>\n",
       "    </tr>\n",
       "    <tr>\n",
       "      <th>1</th>\n",
       "      <td>People's Republic of China</td>\n",
       "      <td>CHN</td>\n",
       "      <td>38</td>\n",
       "      <td>88</td>\n",
       "    </tr>\n",
       "    <tr>\n",
       "      <th>2</th>\n",
       "      <td>Japan</td>\n",
       "      <td>JPN</td>\n",
       "      <td>27</td>\n",
       "      <td>58</td>\n",
       "    </tr>\n",
       "    <tr>\n",
       "      <th>3</th>\n",
       "      <td>Great Britain</td>\n",
       "      <td>GBR</td>\n",
       "      <td>22</td>\n",
       "      <td>65</td>\n",
       "    </tr>\n",
       "    <tr>\n",
       "      <th>4</th>\n",
       "      <td>ROC</td>\n",
       "      <td>ROC</td>\n",
       "      <td>20</td>\n",
       "      <td>71</td>\n",
       "    </tr>\n",
       "    <tr>\n",
       "      <th>5</th>\n",
       "      <td>Australia</td>\n",
       "      <td>AUS</td>\n",
       "      <td>17</td>\n",
       "      <td>46</td>\n",
       "    </tr>\n",
       "    <tr>\n",
       "      <th>6</th>\n",
       "      <td>Netherlands</td>\n",
       "      <td>NED</td>\n",
       "      <td>10</td>\n",
       "      <td>36</td>\n",
       "    </tr>\n",
       "    <tr>\n",
       "      <th>7</th>\n",
       "      <td>France</td>\n",
       "      <td>FRA</td>\n",
       "      <td>10</td>\n",
       "      <td>33</td>\n",
       "    </tr>\n",
       "    <tr>\n",
       "      <th>8</th>\n",
       "      <td>Germany</td>\n",
       "      <td>GER</td>\n",
       "      <td>10</td>\n",
       "      <td>37</td>\n",
       "    </tr>\n",
       "    <tr>\n",
       "      <th>9</th>\n",
       "      <td>Italy</td>\n",
       "      <td>ITA</td>\n",
       "      <td>10</td>\n",
       "      <td>40</td>\n",
       "    </tr>\n",
       "    <tr>\n",
       "      <th>10</th>\n",
       "      <td>Canada</td>\n",
       "      <td>CAN</td>\n",
       "      <td>7</td>\n",
       "      <td>24</td>\n",
       "    </tr>\n",
       "    <tr>\n",
       "      <th>11</th>\n",
       "      <td>Brazil</td>\n",
       "      <td>BRA</td>\n",
       "      <td>7</td>\n",
       "      <td>21</td>\n",
       "    </tr>\n",
       "    <tr>\n",
       "      <th>12</th>\n",
       "      <td>New Zealand</td>\n",
       "      <td>NZL</td>\n",
       "      <td>7</td>\n",
       "      <td>20</td>\n",
       "    </tr>\n",
       "    <tr>\n",
       "      <th>13</th>\n",
       "      <td>Cuba</td>\n",
       "      <td>CUB</td>\n",
       "      <td>7</td>\n",
       "      <td>15</td>\n",
       "    </tr>\n",
       "    <tr>\n",
       "      <th>14</th>\n",
       "      <td>Hungary</td>\n",
       "      <td>HUN</td>\n",
       "      <td>6</td>\n",
       "      <td>20</td>\n",
       "    </tr>\n",
       "    <tr>\n",
       "      <th>15</th>\n",
       "      <td>Republic of Korea</td>\n",
       "      <td>KOR</td>\n",
       "      <td>6</td>\n",
       "      <td>20</td>\n",
       "    </tr>\n",
       "    <tr>\n",
       "      <th>16</th>\n",
       "      <td>Poland</td>\n",
       "      <td>POL</td>\n",
       "      <td>4</td>\n",
       "      <td>14</td>\n",
       "    </tr>\n",
       "    <tr>\n",
       "      <th>17</th>\n",
       "      <td>Czech Republic</td>\n",
       "      <td>CZE</td>\n",
       "      <td>4</td>\n",
       "      <td>11</td>\n",
       "    </tr>\n",
       "    <tr>\n",
       "      <th>18</th>\n",
       "      <td>Kenya</td>\n",
       "      <td>KEN</td>\n",
       "      <td>4</td>\n",
       "      <td>10</td>\n",
       "    </tr>\n",
       "    <tr>\n",
       "      <th>19</th>\n",
       "      <td>Norway</td>\n",
       "      <td>NOR</td>\n",
       "      <td>4</td>\n",
       "      <td>8</td>\n",
       "    </tr>\n",
       "    <tr>\n",
       "      <th>20</th>\n",
       "      <td>Jamaica</td>\n",
       "      <td>JAM</td>\n",
       "      <td>4</td>\n",
       "      <td>9</td>\n",
       "    </tr>\n",
       "    <tr>\n",
       "      <th>21</th>\n",
       "      <td>Spain</td>\n",
       "      <td>ESP</td>\n",
       "      <td>3</td>\n",
       "      <td>17</td>\n",
       "    </tr>\n",
       "    <tr>\n",
       "      <th>22</th>\n",
       "      <td>Sweden</td>\n",
       "      <td>SWE</td>\n",
       "      <td>3</td>\n",
       "      <td>9</td>\n",
       "    </tr>\n",
       "    <tr>\n",
       "      <th>23</th>\n",
       "      <td>Switzerland</td>\n",
       "      <td>SUI</td>\n",
       "      <td>3</td>\n",
       "      <td>13</td>\n",
       "    </tr>\n",
       "    <tr>\n",
       "      <th>24</th>\n",
       "      <td>Denmark</td>\n",
       "      <td>DEN</td>\n",
       "      <td>3</td>\n",
       "      <td>11</td>\n",
       "    </tr>\n",
       "  </tbody>\n",
       "</table>\n",
       "</div>"
      ],
      "text/plain": [
       "                  Country Name IOC Code gold_medals_2020 total_medals_2020\n",
       "0     United States of America      USA               39               113\n",
       "1   People's Republic of China      CHN               38                88\n",
       "2                        Japan      JPN               27                58\n",
       "3                Great Britain      GBR               22                65\n",
       "4                          ROC      ROC               20                71\n",
       "5                    Australia      AUS               17                46\n",
       "6                  Netherlands      NED               10                36\n",
       "7                       France      FRA               10                33\n",
       "8                      Germany      GER               10                37\n",
       "9                        Italy      ITA               10                40\n",
       "10                      Canada      CAN                7                24\n",
       "11                      Brazil      BRA                7                21\n",
       "12                 New Zealand      NZL                7                20\n",
       "13                        Cuba      CUB                7                15\n",
       "14                     Hungary      HUN                6                20\n",
       "15           Republic of Korea      KOR                6                20\n",
       "16                      Poland      POL                4                14\n",
       "17              Czech Republic      CZE                4                11\n",
       "18                       Kenya      KEN                4                10\n",
       "19                      Norway      NOR                4                 8\n",
       "20                     Jamaica      JAM                4                 9\n",
       "21                       Spain      ESP                3                17\n",
       "22                      Sweden      SWE                3                 9\n",
       "23                 Switzerland      SUI                3                13\n",
       "24                     Denmark      DEN                3                11"
      ]
     },
     "execution_count": 15,
     "metadata": {
      "tags": []
     },
     "output_type": "execute_result"
    }
   ],
   "source": [
    "df_olympics_2020.head(25)"
   ]
  },
  {
   "cell_type": "markdown",
   "metadata": {
    "id": "03XU0s6e3y7j"
   },
   "source": [
    "**2016 Olympics data**"
   ]
  },
  {
   "cell_type": "code",
   "execution_count": null,
   "metadata": {
    "id": "PncXHAk_3ljY"
   },
   "outputs": [],
   "source": [
    "url16 = \"https://olympics.com/en/olympic-games/rio-2016/medals\"\n",
    "res16 = requests.get(url16)\n",
    "soup_16 = BeautifulSoup(res16.content)"
   ]
  },
  {
   "cell_type": "code",
   "execution_count": null,
   "metadata": {
    "id": "4xq590Xe4qkM"
   },
   "outputs": [],
   "source": [
    "ioc_codes_tags_2016 = soup_16.find_all(name=\"div\", attrs={\"data-cy\" : \"tri-letter-code\"})\n",
    "list_of_ioc_codes_2016 = [tag.text for tag in ioc_codes_tags_2016]"
   ]
  },
  {
   "cell_type": "code",
   "execution_count": null,
   "metadata": {
    "colab": {
     "base_uri": "https://localhost:8080/"
    },
    "id": "E-xZVHTV5E5v",
    "outputId": "5c872661-110c-4ea7-a48b-79f406b3e8fa"
   },
   "outputs": [
    {
     "data": {
      "text/plain": [
       "['USA', 'GBR', 'CHN', 'RUS', 'GER', 'JPN', 'FRA', 'KOR', 'ITA', 'AUS']"
      ]
     },
     "execution_count": 18,
     "metadata": {
      "tags": []
     },
     "output_type": "execute_result"
    }
   ],
   "source": [
    "list_of_ioc_codes_2016[:10]"
   ]
  },
  {
   "cell_type": "code",
   "execution_count": null,
   "metadata": {
    "id": "P7sdWBOY5Mv5"
   },
   "outputs": [],
   "source": [
    "medals_tags_2016  = soup_16.find_all(name=\"span\", attrs={\"data-cy\": \"medal-main\"})\n",
    "list_of_gold_medals_2016 = [tag.text for tag in medals_tags_2016][0::4]\n",
    "list_of_total_medals_2016 = [tag.text for tag in medals_tags_2016][3::4]"
   ]
  },
  {
   "cell_type": "code",
   "execution_count": null,
   "metadata": {
    "colab": {
     "base_uri": "https://localhost:8080/"
    },
    "id": "Vv9UHQe25hTt",
    "outputId": "5d45a6b6-d477-4578-e9e8-77a62cdbbd18"
   },
   "outputs": [
    {
     "data": {
      "text/plain": [
       "['46', '27', '26', '19', '17', '12', '10', '9', '8', '8']"
      ]
     },
     "execution_count": 20,
     "metadata": {
      "tags": []
     },
     "output_type": "execute_result"
    }
   ],
   "source": [
    "list_of_gold_medals_2016[:10]"
   ]
  },
  {
   "cell_type": "code",
   "execution_count": null,
   "metadata": {
    "colab": {
     "base_uri": "https://localhost:8080/"
    },
    "id": "lTSZiBeB5nQL",
    "outputId": "796793a2-35ab-4580-f865-754bb1550156"
   },
   "outputs": [
    {
     "data": {
      "text/plain": [
       "['121', '67', '70', '56', '42', '41', '42', '21', '28', '29']"
      ]
     },
     "execution_count": 21,
     "metadata": {
      "tags": []
     },
     "output_type": "execute_result"
    }
   ],
   "source": [
    "list_of_total_medals_2016[:10]"
   ]
  },
  {
   "cell_type": "code",
   "execution_count": null,
   "metadata": {
    "id": "MlnKuCYO5pV8"
   },
   "outputs": [],
   "source": [
    "df_2016 = pd.DataFrame({\"IOC Code\": list_of_ioc_codes_2016, \"gold_medals_2016\": list_of_gold_medals_2016,\"total_medals_2016\": list_of_total_medals_2016})\n",
    "df_2016 = df_2016.replace(\"-\", 0)\n",
    "df_2016.iloc[:, -2:] = df_2016.iloc[:,-2:].applymap(lambda x: int(x))"
   ]
  },
  {
   "cell_type": "code",
   "execution_count": null,
   "metadata": {
    "colab": {
     "base_uri": "https://localhost:8080/",
     "height": 203
    },
    "id": "5XQSguHP6sLS",
    "outputId": "930e046d-7aef-4c3a-8b72-d1d37a4b2933"
   },
   "outputs": [
    {
     "data": {
      "text/html": [
       "<div>\n",
       "<style scoped>\n",
       "    .dataframe tbody tr th:only-of-type {\n",
       "        vertical-align: middle;\n",
       "    }\n",
       "\n",
       "    .dataframe tbody tr th {\n",
       "        vertical-align: top;\n",
       "    }\n",
       "\n",
       "    .dataframe thead th {\n",
       "        text-align: right;\n",
       "    }\n",
       "</style>\n",
       "<table border=\"1\" class=\"dataframe\">\n",
       "  <thead>\n",
       "    <tr style=\"text-align: right;\">\n",
       "      <th></th>\n",
       "      <th>IOC Code</th>\n",
       "      <th>gold_medals_2016</th>\n",
       "      <th>total_medals_2016</th>\n",
       "    </tr>\n",
       "  </thead>\n",
       "  <tbody>\n",
       "    <tr>\n",
       "      <th>81</th>\n",
       "      <td>EST</td>\n",
       "      <td>0</td>\n",
       "      <td>1</td>\n",
       "    </tr>\n",
       "    <tr>\n",
       "      <th>82</th>\n",
       "      <td>DOM</td>\n",
       "      <td>0</td>\n",
       "      <td>1</td>\n",
       "    </tr>\n",
       "    <tr>\n",
       "      <th>83</th>\n",
       "      <td>AUT</td>\n",
       "      <td>0</td>\n",
       "      <td>1</td>\n",
       "    </tr>\n",
       "    <tr>\n",
       "      <th>84</th>\n",
       "      <td>UAE</td>\n",
       "      <td>0</td>\n",
       "      <td>1</td>\n",
       "    </tr>\n",
       "    <tr>\n",
       "      <th>85</th>\n",
       "      <td>POR</td>\n",
       "      <td>0</td>\n",
       "      <td>1</td>\n",
       "    </tr>\n",
       "  </tbody>\n",
       "</table>\n",
       "</div>"
      ],
      "text/plain": [
       "   IOC Code gold_medals_2016 total_medals_2016\n",
       "81      EST                0                 1\n",
       "82      DOM                0                 1\n",
       "83      AUT                0                 1\n",
       "84      UAE                0                 1\n",
       "85      POR                0                 1"
      ]
     },
     "execution_count": 23,
     "metadata": {
      "tags": []
     },
     "output_type": "execute_result"
    }
   ],
   "source": [
    "df_2016.tail()"
   ]
  },
  {
   "cell_type": "markdown",
   "metadata": {
    "id": "IKPP6NV567I1"
   },
   "source": [
    "**2012 Olympics Data**"
   ]
  },
  {
   "cell_type": "code",
   "execution_count": null,
   "metadata": {
    "id": "XqXGm6XH6t61"
   },
   "outputs": [],
   "source": [
    "url12 = \"https://olympics.com/en/olympic-games/london-2012/medals\"\n",
    "res12 = requests.get(url12)\n",
    "soup_12 = BeautifulSoup(res12.content)"
   ]
  },
  {
   "cell_type": "code",
   "execution_count": null,
   "metadata": {
    "id": "K8c1S8IE7Epz"
   },
   "outputs": [],
   "source": [
    "ioc_codes_tags_2012 = soup_12.find_all(name=\"div\", attrs={\"data-cy\" : \"tri-letter-code\"})\n",
    "list_of_ioc_codes_2012 = [tag.text for tag in ioc_codes_tags_2012]"
   ]
  },
  {
   "cell_type": "code",
   "execution_count": null,
   "metadata": {
    "colab": {
     "base_uri": "https://localhost:8080/"
    },
    "id": "02v71mjB7Sfv",
    "outputId": "5adea037-50f0-439d-fef3-1838dcbd2138"
   },
   "outputs": [
    {
     "data": {
      "text/plain": [
       "['USA', 'CHN', 'GBR', 'RUS', 'KOR', 'GER', 'FRA', 'AUS', 'ITA', 'HUN']"
      ]
     },
     "execution_count": 26,
     "metadata": {
      "tags": []
     },
     "output_type": "execute_result"
    }
   ],
   "source": [
    "list_of_ioc_codes_2012[:10]"
   ]
  },
  {
   "cell_type": "code",
   "execution_count": null,
   "metadata": {
    "id": "_4LMZCIx7XBq"
   },
   "outputs": [],
   "source": [
    "medals_tags_2012  = soup_12.find_all(name=\"span\", attrs={\"data-cy\": \"medal-main\"})\n",
    "list_of_gold_medals_2012 = [tag.text for tag in medals_tags_2012][0::4]\n",
    "list_of_total_medals_2012 = [tag.text for tag in medals_tags_2012][3::4]"
   ]
  },
  {
   "cell_type": "code",
   "execution_count": null,
   "metadata": {
    "colab": {
     "base_uri": "https://localhost:8080/"
    },
    "id": "yz-dqhnF7f94",
    "outputId": "fd72e2e6-6e12-4907-dfa4-76dc64dc668c"
   },
   "outputs": [
    {
     "data": {
      "text/plain": [
       "['46', '38', '29', '20', '13', '11', '11', '8', '8', '8']"
      ]
     },
     "execution_count": 28,
     "metadata": {
      "tags": []
     },
     "output_type": "execute_result"
    }
   ],
   "source": [
    "list_of_gold_medals_2012[:10]"
   ]
  },
  {
   "cell_type": "code",
   "execution_count": null,
   "metadata": {
    "colab": {
     "base_uri": "https://localhost:8080/"
    },
    "id": "a-D7KYWU7kLt",
    "outputId": "e5e56577-85e0-4e5c-84e5-b712a21b00a3"
   },
   "outputs": [
    {
     "data": {
      "text/plain": [
       "['104', '91', '65', '67', '30', '44', '35', '35', '28', '18']"
      ]
     },
     "execution_count": 29,
     "metadata": {
      "tags": []
     },
     "output_type": "execute_result"
    }
   ],
   "source": [
    "list_of_total_medals_2012[:10]"
   ]
  },
  {
   "cell_type": "code",
   "execution_count": null,
   "metadata": {
    "id": "ks4npzZy7vqZ"
   },
   "outputs": [],
   "source": [
    "df_2012 = pd.DataFrame({\"IOC Code\": list_of_ioc_codes_2012, \"gold_medals_2012\": list_of_gold_medals_2012,\"total_medals_2012\": list_of_total_medals_2012})\n",
    "df_2012 = df_2012.replace(\"-\", 0)\n",
    "df_2012.iloc[:, -2:] = df_2012.iloc[:,-2:].applymap(lambda x: int(x))"
   ]
  },
  {
   "cell_type": "code",
   "execution_count": null,
   "metadata": {
    "colab": {
     "base_uri": "https://localhost:8080/",
     "height": 203
    },
    "id": "ofGajgMY72Of",
    "outputId": "17d2da95-10c3-42eb-f047-10a845c08292"
   },
   "outputs": [
    {
     "data": {
      "text/html": [
       "<div>\n",
       "<style scoped>\n",
       "    .dataframe tbody tr th:only-of-type {\n",
       "        vertical-align: middle;\n",
       "    }\n",
       "\n",
       "    .dataframe tbody tr th {\n",
       "        vertical-align: top;\n",
       "    }\n",
       "\n",
       "    .dataframe thead th {\n",
       "        text-align: right;\n",
       "    }\n",
       "</style>\n",
       "<table border=\"1\" class=\"dataframe\">\n",
       "  <thead>\n",
       "    <tr style=\"text-align: right;\">\n",
       "      <th></th>\n",
       "      <th>IOC Code</th>\n",
       "      <th>gold_medals_2012</th>\n",
       "      <th>total_medals_2012</th>\n",
       "    </tr>\n",
       "  </thead>\n",
       "  <tbody>\n",
       "    <tr>\n",
       "      <th>80</th>\n",
       "      <td>AFG</td>\n",
       "      <td>0</td>\n",
       "      <td>1</td>\n",
       "    </tr>\n",
       "    <tr>\n",
       "      <th>81</th>\n",
       "      <td>HKG</td>\n",
       "      <td>0</td>\n",
       "      <td>1</td>\n",
       "    </tr>\n",
       "    <tr>\n",
       "      <th>82</th>\n",
       "      <td>TJK</td>\n",
       "      <td>0</td>\n",
       "      <td>1</td>\n",
       "    </tr>\n",
       "    <tr>\n",
       "      <th>83</th>\n",
       "      <td>CMR</td>\n",
       "      <td>0</td>\n",
       "      <td>1</td>\n",
       "    </tr>\n",
       "    <tr>\n",
       "      <th>84</th>\n",
       "      <td>MAR</td>\n",
       "      <td>0</td>\n",
       "      <td>1</td>\n",
       "    </tr>\n",
       "  </tbody>\n",
       "</table>\n",
       "</div>"
      ],
      "text/plain": [
       "   IOC Code gold_medals_2012 total_medals_2012\n",
       "80      AFG                0                 1\n",
       "81      HKG                0                 1\n",
       "82      TJK                0                 1\n",
       "83      CMR                0                 1\n",
       "84      MAR                0                 1"
      ]
     },
     "execution_count": 31,
     "metadata": {
      "tags": []
     },
     "output_type": "execute_result"
    }
   ],
   "source": [
    "df_2012.tail()"
   ]
  },
  {
   "cell_type": "markdown",
   "metadata": {
    "id": "YukjMWel8KVQ"
   },
   "source": [
    "**2008 Olympics Data**"
   ]
  },
  {
   "cell_type": "code",
   "execution_count": null,
   "metadata": {
    "id": "nbV_YegD73qV"
   },
   "outputs": [],
   "source": [
    "url08 = \"https://olympics.com/en/olympic-games/beijing-2008/medals\"\n",
    "res08 = requests.get(url08)\n",
    "soup_08 = BeautifulSoup(res08.content)"
   ]
  },
  {
   "cell_type": "code",
   "execution_count": null,
   "metadata": {
    "id": "JDk_fzTn8fMv"
   },
   "outputs": [],
   "source": [
    "ioc_codes_tags_2008 = soup_08.find_all(name=\"div\", attrs={\"data-cy\" : \"tri-letter-code\"})\n",
    "list_of_ioc_codes_2008 = [tag.text for tag in ioc_codes_tags_2008]"
   ]
  },
  {
   "cell_type": "code",
   "execution_count": null,
   "metadata": {
    "colab": {
     "base_uri": "https://localhost:8080/"
    },
    "id": "UVnvCpFG8ppG",
    "outputId": "dd031a7c-6b52-47c7-8ca2-250bc9ed829f"
   },
   "outputs": [
    {
     "data": {
      "text/plain": [
       "['CHN', 'USA', 'RUS', 'GBR', 'GER', 'AUS', 'KOR', 'JPN', 'ITA', 'FRA']"
      ]
     },
     "execution_count": 34,
     "metadata": {
      "tags": []
     },
     "output_type": "execute_result"
    }
   ],
   "source": [
    "list_of_ioc_codes_2008[:10]"
   ]
  },
  {
   "cell_type": "code",
   "execution_count": null,
   "metadata": {
    "id": "Oh0t0KjY8v54"
   },
   "outputs": [],
   "source": [
    "medals_tags_2008  = soup_08.find_all(name=\"span\", attrs={\"data-cy\": \"medal-main\"})\n",
    "list_of_gold_medals_2008 = [tag.text for tag in medals_tags_2008][0::4]\n",
    "list_of_total_medals_2008 = [tag.text for tag in medals_tags_2008][3::4]"
   ]
  },
  {
   "cell_type": "code",
   "execution_count": null,
   "metadata": {
    "colab": {
     "base_uri": "https://localhost:8080/"
    },
    "id": "vTy817uk9CQk",
    "outputId": "b47255ff-6869-471a-aade-44dca3275f8d"
   },
   "outputs": [
    {
     "data": {
      "text/plain": [
       "['46', '27', '26', '19', '17', '12', '10', '9', '8', '8']"
      ]
     },
     "execution_count": 36,
     "metadata": {
      "tags": []
     },
     "output_type": "execute_result"
    }
   ],
   "source": [
    "list_of_gold_medals_2016[:10]"
   ]
  },
  {
   "cell_type": "code",
   "execution_count": null,
   "metadata": {
    "colab": {
     "base_uri": "https://localhost:8080/"
    },
    "id": "CzFwFRAP9O3z",
    "outputId": "c85b6696-6042-40a9-bc67-9029059b4fac"
   },
   "outputs": [
    {
     "data": {
      "text/plain": [
       "['121', '67', '70', '56', '42', '41', '42', '21', '28', '29']"
      ]
     },
     "execution_count": 37,
     "metadata": {
      "tags": []
     },
     "output_type": "execute_result"
    }
   ],
   "source": [
    "list_of_total_medals_2016[:10]"
   ]
  },
  {
   "cell_type": "code",
   "execution_count": null,
   "metadata": {
    "id": "2tg2Y2879Sol"
   },
   "outputs": [],
   "source": [
    "df_2008 = pd.DataFrame({\"IOC Code\": list_of_ioc_codes_2008, \"gold_medals_2008\": list_of_gold_medals_2008,\"total_medals_2008\": list_of_total_medals_2008})\n",
    "df_2008 = df_2008.replace(\"-\", 0)\n",
    "df_2008.iloc[:, -2:] = df_2008.iloc[:,-2:].applymap(lambda x: int(x))"
   ]
  },
  {
   "cell_type": "code",
   "execution_count": null,
   "metadata": {
    "colab": {
     "base_uri": "https://localhost:8080/",
     "height": 203
    },
    "id": "B2Wby5179e3b",
    "outputId": "f9226935-ba53-4a45-ac1f-0e7e74fb32c2"
   },
   "outputs": [
    {
     "data": {
      "text/html": [
       "<div>\n",
       "<style scoped>\n",
       "    .dataframe tbody tr th:only-of-type {\n",
       "        vertical-align: middle;\n",
       "    }\n",
       "\n",
       "    .dataframe tbody tr th {\n",
       "        vertical-align: top;\n",
       "    }\n",
       "\n",
       "    .dataframe thead th {\n",
       "        text-align: right;\n",
       "    }\n",
       "</style>\n",
       "<table border=\"1\" class=\"dataframe\">\n",
       "  <thead>\n",
       "    <tr style=\"text-align: right;\">\n",
       "      <th></th>\n",
       "      <th>IOC Code</th>\n",
       "      <th>gold_medals_2008</th>\n",
       "      <th>total_medals_2008</th>\n",
       "    </tr>\n",
       "  </thead>\n",
       "  <tbody>\n",
       "    <tr>\n",
       "      <th>82</th>\n",
       "      <td>ISR</td>\n",
       "      <td>0</td>\n",
       "      <td>1</td>\n",
       "    </tr>\n",
       "    <tr>\n",
       "      <th>83</th>\n",
       "      <td>MRI</td>\n",
       "      <td>0</td>\n",
       "      <td>1</td>\n",
       "    </tr>\n",
       "    <tr>\n",
       "      <th>84</th>\n",
       "      <td>AFG</td>\n",
       "      <td>0</td>\n",
       "      <td>1</td>\n",
       "    </tr>\n",
       "    <tr>\n",
       "      <th>85</th>\n",
       "      <td>VEN</td>\n",
       "      <td>0</td>\n",
       "      <td>1</td>\n",
       "    </tr>\n",
       "    <tr>\n",
       "      <th>86</th>\n",
       "      <td>TOG</td>\n",
       "      <td>0</td>\n",
       "      <td>1</td>\n",
       "    </tr>\n",
       "  </tbody>\n",
       "</table>\n",
       "</div>"
      ],
      "text/plain": [
       "   IOC Code gold_medals_2008 total_medals_2008\n",
       "82      ISR                0                 1\n",
       "83      MRI                0                 1\n",
       "84      AFG                0                 1\n",
       "85      VEN                0                 1\n",
       "86      TOG                0                 1"
      ]
     },
     "execution_count": 39,
     "metadata": {
      "tags": []
     },
     "output_type": "execute_result"
    }
   ],
   "source": [
    "df_2008.tail()"
   ]
  },
  {
   "cell_type": "code",
   "execution_count": null,
   "metadata": {
    "id": "QP_yxOrj9hK3"
   },
   "outputs": [],
   "source": [
    "def combine_olympics_data(df_list):\n",
    "\n",
    "    df1 = df_list[0]\n",
    "    mask = df1[\"IOC Code\"] == \"ROC\" #These 2 lines of code ensures we get to merge 2020's ROC medals with Russia's previous medals \n",
    "    df1[\"IOC Code\"].loc[mask] = \"RUS\"\n",
    "    for df in df_list[1:]:\n",
    "    df1 = pd.merge(df1, df, on=\"IOC Code\", how=\"outer\")\n",
    "    df1 = df1.fillna(0)\n",
    "    return df1"
   ]
  },
  {
   "cell_type": "code",
   "execution_count": null,
   "metadata": {
    "colab": {
     "base_uri": "https://localhost:8080/",
     "height": 698
    },
    "id": "nDXEVwci94_5",
    "outputId": "18afe322-8a82-4246-96f5-6e6cb5508cb4"
   },
   "outputs": [
    {
     "data": {
      "text/html": [
       "<div>\n",
       "<style scoped>\n",
       "    .dataframe tbody tr th:only-of-type {\n",
       "        vertical-align: middle;\n",
       "    }\n",
       "\n",
       "    .dataframe tbody tr th {\n",
       "        vertical-align: top;\n",
       "    }\n",
       "\n",
       "    .dataframe thead th {\n",
       "        text-align: right;\n",
       "    }\n",
       "</style>\n",
       "<table border=\"1\" class=\"dataframe\">\n",
       "  <thead>\n",
       "    <tr style=\"text-align: right;\">\n",
       "      <th></th>\n",
       "      <th>Country Name</th>\n",
       "      <th>IOC Code</th>\n",
       "      <th>gold_medals_2020</th>\n",
       "      <th>total_medals_2020</th>\n",
       "      <th>gold_medals_2016</th>\n",
       "      <th>total_medals_2016</th>\n",
       "      <th>gold_medals_2012</th>\n",
       "      <th>total_medals_2012</th>\n",
       "      <th>gold_medals_2008</th>\n",
       "      <th>total_medals_2008</th>\n",
       "    </tr>\n",
       "  </thead>\n",
       "  <tbody>\n",
       "    <tr>\n",
       "      <th>0</th>\n",
       "      <td>United States of America</td>\n",
       "      <td>USA</td>\n",
       "      <td>39.0</td>\n",
       "      <td>113.0</td>\n",
       "      <td>46.0</td>\n",
       "      <td>121.0</td>\n",
       "      <td>46.0</td>\n",
       "      <td>104.0</td>\n",
       "      <td>36</td>\n",
       "      <td>112</td>\n",
       "    </tr>\n",
       "    <tr>\n",
       "      <th>1</th>\n",
       "      <td>People's Republic of China</td>\n",
       "      <td>CHN</td>\n",
       "      <td>38.0</td>\n",
       "      <td>88.0</td>\n",
       "      <td>26.0</td>\n",
       "      <td>70.0</td>\n",
       "      <td>38.0</td>\n",
       "      <td>91.0</td>\n",
       "      <td>48</td>\n",
       "      <td>100</td>\n",
       "    </tr>\n",
       "    <tr>\n",
       "      <th>2</th>\n",
       "      <td>Japan</td>\n",
       "      <td>JPN</td>\n",
       "      <td>27.0</td>\n",
       "      <td>58.0</td>\n",
       "      <td>12.0</td>\n",
       "      <td>41.0</td>\n",
       "      <td>7.0</td>\n",
       "      <td>38.0</td>\n",
       "      <td>9</td>\n",
       "      <td>25</td>\n",
       "    </tr>\n",
       "    <tr>\n",
       "      <th>3</th>\n",
       "      <td>Great Britain</td>\n",
       "      <td>GBR</td>\n",
       "      <td>22.0</td>\n",
       "      <td>65.0</td>\n",
       "      <td>27.0</td>\n",
       "      <td>67.0</td>\n",
       "      <td>29.0</td>\n",
       "      <td>65.0</td>\n",
       "      <td>19</td>\n",
       "      <td>51</td>\n",
       "    </tr>\n",
       "    <tr>\n",
       "      <th>4</th>\n",
       "      <td>ROC</td>\n",
       "      <td>RUS</td>\n",
       "      <td>20.0</td>\n",
       "      <td>71.0</td>\n",
       "      <td>19.0</td>\n",
       "      <td>56.0</td>\n",
       "      <td>20.0</td>\n",
       "      <td>67.0</td>\n",
       "      <td>24</td>\n",
       "      <td>60</td>\n",
       "    </tr>\n",
       "    <tr>\n",
       "      <th>5</th>\n",
       "      <td>Australia</td>\n",
       "      <td>AUS</td>\n",
       "      <td>17.0</td>\n",
       "      <td>46.0</td>\n",
       "      <td>8.0</td>\n",
       "      <td>29.0</td>\n",
       "      <td>8.0</td>\n",
       "      <td>35.0</td>\n",
       "      <td>14</td>\n",
       "      <td>46</td>\n",
       "    </tr>\n",
       "    <tr>\n",
       "      <th>6</th>\n",
       "      <td>Netherlands</td>\n",
       "      <td>NED</td>\n",
       "      <td>10.0</td>\n",
       "      <td>36.0</td>\n",
       "      <td>8.0</td>\n",
       "      <td>19.0</td>\n",
       "      <td>6.0</td>\n",
       "      <td>20.0</td>\n",
       "      <td>7</td>\n",
       "      <td>16</td>\n",
       "    </tr>\n",
       "    <tr>\n",
       "      <th>7</th>\n",
       "      <td>France</td>\n",
       "      <td>FRA</td>\n",
       "      <td>10.0</td>\n",
       "      <td>33.0</td>\n",
       "      <td>10.0</td>\n",
       "      <td>42.0</td>\n",
       "      <td>11.0</td>\n",
       "      <td>35.0</td>\n",
       "      <td>7</td>\n",
       "      <td>43</td>\n",
       "    </tr>\n",
       "    <tr>\n",
       "      <th>8</th>\n",
       "      <td>Germany</td>\n",
       "      <td>GER</td>\n",
       "      <td>10.0</td>\n",
       "      <td>37.0</td>\n",
       "      <td>17.0</td>\n",
       "      <td>42.0</td>\n",
       "      <td>11.0</td>\n",
       "      <td>44.0</td>\n",
       "      <td>16</td>\n",
       "      <td>41</td>\n",
       "    </tr>\n",
       "    <tr>\n",
       "      <th>9</th>\n",
       "      <td>Italy</td>\n",
       "      <td>ITA</td>\n",
       "      <td>10.0</td>\n",
       "      <td>40.0</td>\n",
       "      <td>8.0</td>\n",
       "      <td>28.0</td>\n",
       "      <td>8.0</td>\n",
       "      <td>28.0</td>\n",
       "      <td>8</td>\n",
       "      <td>27</td>\n",
       "    </tr>\n",
       "    <tr>\n",
       "      <th>10</th>\n",
       "      <td>Canada</td>\n",
       "      <td>CAN</td>\n",
       "      <td>7.0</td>\n",
       "      <td>24.0</td>\n",
       "      <td>4.0</td>\n",
       "      <td>22.0</td>\n",
       "      <td>2.0</td>\n",
       "      <td>18.0</td>\n",
       "      <td>3</td>\n",
       "      <td>20</td>\n",
       "    </tr>\n",
       "    <tr>\n",
       "      <th>11</th>\n",
       "      <td>Brazil</td>\n",
       "      <td>BRA</td>\n",
       "      <td>7.0</td>\n",
       "      <td>21.0</td>\n",
       "      <td>7.0</td>\n",
       "      <td>19.0</td>\n",
       "      <td>3.0</td>\n",
       "      <td>17.0</td>\n",
       "      <td>3</td>\n",
       "      <td>17</td>\n",
       "    </tr>\n",
       "    <tr>\n",
       "      <th>12</th>\n",
       "      <td>New Zealand</td>\n",
       "      <td>NZL</td>\n",
       "      <td>7.0</td>\n",
       "      <td>20.0</td>\n",
       "      <td>4.0</td>\n",
       "      <td>18.0</td>\n",
       "      <td>6.0</td>\n",
       "      <td>13.0</td>\n",
       "      <td>3</td>\n",
       "      <td>9</td>\n",
       "    </tr>\n",
       "    <tr>\n",
       "      <th>13</th>\n",
       "      <td>Cuba</td>\n",
       "      <td>CUB</td>\n",
       "      <td>7.0</td>\n",
       "      <td>15.0</td>\n",
       "      <td>5.0</td>\n",
       "      <td>11.0</td>\n",
       "      <td>5.0</td>\n",
       "      <td>15.0</td>\n",
       "      <td>3</td>\n",
       "      <td>30</td>\n",
       "    </tr>\n",
       "    <tr>\n",
       "      <th>14</th>\n",
       "      <td>Hungary</td>\n",
       "      <td>HUN</td>\n",
       "      <td>6.0</td>\n",
       "      <td>20.0</td>\n",
       "      <td>8.0</td>\n",
       "      <td>15.0</td>\n",
       "      <td>8.0</td>\n",
       "      <td>18.0</td>\n",
       "      <td>3</td>\n",
       "      <td>10</td>\n",
       "    </tr>\n",
       "    <tr>\n",
       "      <th>15</th>\n",
       "      <td>Republic of Korea</td>\n",
       "      <td>KOR</td>\n",
       "      <td>6.0</td>\n",
       "      <td>20.0</td>\n",
       "      <td>9.0</td>\n",
       "      <td>21.0</td>\n",
       "      <td>13.0</td>\n",
       "      <td>30.0</td>\n",
       "      <td>13</td>\n",
       "      <td>32</td>\n",
       "    </tr>\n",
       "    <tr>\n",
       "      <th>16</th>\n",
       "      <td>Poland</td>\n",
       "      <td>POL</td>\n",
       "      <td>4.0</td>\n",
       "      <td>14.0</td>\n",
       "      <td>2.0</td>\n",
       "      <td>11.0</td>\n",
       "      <td>3.0</td>\n",
       "      <td>11.0</td>\n",
       "      <td>4</td>\n",
       "      <td>11</td>\n",
       "    </tr>\n",
       "    <tr>\n",
       "      <th>17</th>\n",
       "      <td>Czech Republic</td>\n",
       "      <td>CZE</td>\n",
       "      <td>4.0</td>\n",
       "      <td>11.0</td>\n",
       "      <td>1.0</td>\n",
       "      <td>10.0</td>\n",
       "      <td>4.0</td>\n",
       "      <td>11.0</td>\n",
       "      <td>3</td>\n",
       "      <td>7</td>\n",
       "    </tr>\n",
       "    <tr>\n",
       "      <th>18</th>\n",
       "      <td>Kenya</td>\n",
       "      <td>KEN</td>\n",
       "      <td>4.0</td>\n",
       "      <td>10.0</td>\n",
       "      <td>6.0</td>\n",
       "      <td>13.0</td>\n",
       "      <td>2.0</td>\n",
       "      <td>12.0</td>\n",
       "      <td>6</td>\n",
       "      <td>16</td>\n",
       "    </tr>\n",
       "    <tr>\n",
       "      <th>19</th>\n",
       "      <td>Norway</td>\n",
       "      <td>NOR</td>\n",
       "      <td>4.0</td>\n",
       "      <td>8.0</td>\n",
       "      <td>0.0</td>\n",
       "      <td>4.0</td>\n",
       "      <td>2.0</td>\n",
       "      <td>4.0</td>\n",
       "      <td>3</td>\n",
       "      <td>9</td>\n",
       "    </tr>\n",
       "  </tbody>\n",
       "</table>\n",
       "</div>"
      ],
      "text/plain": [
       "                  Country Name IOC Code  ...  gold_medals_2008  total_medals_2008\n",
       "0     United States of America      USA  ...                36                112\n",
       "1   People's Republic of China      CHN  ...                48                100\n",
       "2                        Japan      JPN  ...                 9                 25\n",
       "3                Great Britain      GBR  ...                19                 51\n",
       "4                          ROC      RUS  ...                24                 60\n",
       "5                    Australia      AUS  ...                14                 46\n",
       "6                  Netherlands      NED  ...                 7                 16\n",
       "7                       France      FRA  ...                 7                 43\n",
       "8                      Germany      GER  ...                16                 41\n",
       "9                        Italy      ITA  ...                 8                 27\n",
       "10                      Canada      CAN  ...                 3                 20\n",
       "11                      Brazil      BRA  ...                 3                 17\n",
       "12                 New Zealand      NZL  ...                 3                  9\n",
       "13                        Cuba      CUB  ...                 3                 30\n",
       "14                     Hungary      HUN  ...                 3                 10\n",
       "15           Republic of Korea      KOR  ...                13                 32\n",
       "16                      Poland      POL  ...                 4                 11\n",
       "17              Czech Republic      CZE  ...                 3                  7\n",
       "18                       Kenya      KEN  ...                 6                 16\n",
       "19                      Norway      NOR  ...                 3                  9\n",
       "\n",
       "[20 rows x 10 columns]"
      ]
     },
     "execution_count": 41,
     "metadata": {
      "tags": []
     },
     "output_type": "execute_result"
    }
   ],
   "source": [
    "olympics_data = combine_olympics_data([df_olympics_2020, df_2016, df_2012, df_2008])\n",
    "olympics_data.head(20)"
   ]
  },
  {
   "cell_type": "markdown",
   "metadata": {
    "id": "I1oCHVR4BZR0"
   },
   "source": [
    "**Let's get a list of country codes**"
   ]
  },
  {
   "cell_type": "code",
   "execution_count": null,
   "metadata": {
    "id": "2pdE112h9_ev"
   },
   "outputs": [],
   "source": [
    "ioc_codes_url =\"https://en.wikipedia.org/wiki/List_of_IOC_country_codes\"\n",
    "tables = pd.read_html(ioc_codes_url)\n",
    "ioc_codes_df = tables[0]"
   ]
  },
  {
   "cell_type": "code",
   "execution_count": null,
   "metadata": {
    "colab": {
     "base_uri": "https://localhost:8080/",
     "height": 203
    },
    "id": "BXHTj_MnBjMb",
    "outputId": "92e761a5-63dc-4f8d-dd04-fee8f3edb0c0"
   },
   "outputs": [
    {
     "data": {
      "text/html": [
       "<div>\n",
       "<style scoped>\n",
       "    .dataframe tbody tr th:only-of-type {\n",
       "        vertical-align: middle;\n",
       "    }\n",
       "\n",
       "    .dataframe tbody tr th {\n",
       "        vertical-align: top;\n",
       "    }\n",
       "\n",
       "    .dataframe thead th {\n",
       "        text-align: right;\n",
       "    }\n",
       "</style>\n",
       "<table border=\"1\" class=\"dataframe\">\n",
       "  <thead>\n",
       "    <tr style=\"text-align: right;\">\n",
       "      <th></th>\n",
       "      <th>Code</th>\n",
       "      <th>National Olympic Committee</th>\n",
       "      <th>Other codes used</th>\n",
       "      <th>Link</th>\n",
       "    </tr>\n",
       "  </thead>\n",
       "  <tbody>\n",
       "    <tr>\n",
       "      <th>0</th>\n",
       "      <td>.mw-parser-output .monospaced{font-family:mono...</td>\n",
       "      <td>Afghanistan</td>\n",
       "      <td>NaN</td>\n",
       "      <td>[3]</td>\n",
       "    </tr>\n",
       "    <tr>\n",
       "      <th>1</th>\n",
       "      <td>ALB</td>\n",
       "      <td>Albania</td>\n",
       "      <td>NaN</td>\n",
       "      <td>[4]</td>\n",
       "    </tr>\n",
       "    <tr>\n",
       "      <th>2</th>\n",
       "      <td>ALG</td>\n",
       "      <td>Algeria</td>\n",
       "      <td>AGR (1964)AGL (1968 S) from Spanish Argelia</td>\n",
       "      <td>[5]</td>\n",
       "    </tr>\n",
       "    <tr>\n",
       "      <th>3</th>\n",
       "      <td>AND</td>\n",
       "      <td>Andorra</td>\n",
       "      <td>NaN</td>\n",
       "      <td>[6]</td>\n",
       "    </tr>\n",
       "    <tr>\n",
       "      <th>4</th>\n",
       "      <td>ANG</td>\n",
       "      <td>Angola</td>\n",
       "      <td>ANO (As referenced in IAAF World Championships...</td>\n",
       "      <td>[7]</td>\n",
       "    </tr>\n",
       "  </tbody>\n",
       "</table>\n",
       "</div>"
      ],
      "text/plain": [
       "                                                Code  ... Link\n",
       "0  .mw-parser-output .monospaced{font-family:mono...  ...  [3]\n",
       "1                                                ALB  ...  [4]\n",
       "2                                                ALG  ...  [5]\n",
       "3                                                AND  ...  [6]\n",
       "4                                                ANG  ...  [7]\n",
       "\n",
       "[5 rows x 4 columns]"
      ]
     },
     "execution_count": 43,
     "metadata": {
      "tags": []
     },
     "output_type": "execute_result"
    }
   ],
   "source": [
    "ioc_codes_df.head()"
   ]
  },
  {
   "cell_type": "code",
   "execution_count": null,
   "metadata": {
    "colab": {
     "base_uri": "https://localhost:8080/"
    },
    "id": "I1kJwXGI-bxu",
    "outputId": "8c97fbbf-4129-4933-ecb6-01f3c7947dda"
   },
   "outputs": [
    {
     "data": {
      "text/plain": [
       "(206, 4)"
      ]
     },
     "execution_count": 44,
     "metadata": {
      "tags": []
     },
     "output_type": "execute_result"
    }
   ],
   "source": [
    "ioc_codes_df.shape"
   ]
  },
  {
   "cell_type": "code",
   "execution_count": null,
   "metadata": {
    "colab": {
     "base_uri": "https://localhost:8080/",
     "height": 203
    },
    "id": "e6u8f6TXDHE6",
    "outputId": "51a0b862-a50e-45e1-cb1b-024f5041ef7b"
   },
   "outputs": [
    {
     "data": {
      "text/html": [
       "<div>\n",
       "<style scoped>\n",
       "    .dataframe tbody tr th:only-of-type {\n",
       "        vertical-align: middle;\n",
       "    }\n",
       "\n",
       "    .dataframe tbody tr th {\n",
       "        vertical-align: top;\n",
       "    }\n",
       "\n",
       "    .dataframe thead th {\n",
       "        text-align: right;\n",
       "    }\n",
       "</style>\n",
       "<table border=\"1\" class=\"dataframe\">\n",
       "  <thead>\n",
       "    <tr style=\"text-align: right;\">\n",
       "      <th></th>\n",
       "      <th>IOC Code</th>\n",
       "      <th>National Olympic Committee</th>\n",
       "    </tr>\n",
       "  </thead>\n",
       "  <tbody>\n",
       "    <tr>\n",
       "      <th>0</th>\n",
       "      <td>AFG</td>\n",
       "      <td>Afghanistan</td>\n",
       "    </tr>\n",
       "    <tr>\n",
       "      <th>1</th>\n",
       "      <td>ALB</td>\n",
       "      <td>Albania</td>\n",
       "    </tr>\n",
       "    <tr>\n",
       "      <th>2</th>\n",
       "      <td>ALG</td>\n",
       "      <td>Algeria</td>\n",
       "    </tr>\n",
       "    <tr>\n",
       "      <th>3</th>\n",
       "      <td>AND</td>\n",
       "      <td>Andorra</td>\n",
       "    </tr>\n",
       "    <tr>\n",
       "      <th>4</th>\n",
       "      <td>ANG</td>\n",
       "      <td>Angola</td>\n",
       "    </tr>\n",
       "  </tbody>\n",
       "</table>\n",
       "</div>"
      ],
      "text/plain": [
       "  IOC Code National Olympic Committee\n",
       "0      AFG                Afghanistan\n",
       "1      ALB                    Albania\n",
       "2      ALG                    Algeria\n",
       "3      AND                    Andorra\n",
       "4      ANG                     Angola"
      ]
     },
     "execution_count": 45,
     "metadata": {
      "tags": []
     },
     "output_type": "execute_result"
    }
   ],
   "source": [
    "ioc_codes_df.Code = ioc_codes_df.Code.apply(lambda x: x[-3:])\n",
    "ioc_codes_df = ioc_codes_df.drop([\"Other codes used\", \"Link\"], axis=1)\n",
    "ioc_codes_df = ioc_codes_df.rename(columns={\"Code\": \"IOC Code\"})\n",
    "ioc_codes_df.head()"
   ]
  },
  {
   "cell_type": "code",
   "execution_count": null,
   "metadata": {
    "colab": {
     "base_uri": "https://localhost:8080/",
     "height": 110,
     "resources": {
      "http://localhost:8080/nbextensions/google.colab/files.js": {
       "data": "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",
       "headers": [
        [
         "content-type",
         "application/javascript"
        ]
       ],
       "ok": true,
       "status": 200,
       "status_text": ""
      }
     }
    },
    "id": "cEmPk_L4E5ZV",
    "outputId": "93e9aa54-5b76-48c1-e35f-2036fa5de636"
   },
   "outputs": [
    {
     "data": {
      "text/html": [
       "\n",
       "     <input type=\"file\" id=\"files-7691e25a-6201-4366-982b-f0f18d5565cf\" name=\"files[]\" multiple disabled\n",
       "        style=\"border:none\" />\n",
       "     <output id=\"result-7691e25a-6201-4366-982b-f0f18d5565cf\">\n",
       "      Upload widget is only available when the cell has been executed in the\n",
       "      current browser session. Please rerun this cell to enable.\n",
       "      </output>\n",
       "      <script src=\"/nbextensions/google.colab/files.js\"></script> "
      ],
      "text/plain": [
       "<IPython.core.display.HTML object>"
      ]
     },
     "metadata": {
      "tags": []
     },
     "output_type": "display_data"
    },
    {
     "name": "stdout",
     "output_type": "stream",
     "text": [
      "Saving countries_codes.csv to countries_codes.csv\n"
     ]
    },
    {
     "data": {
      "text/plain": [
       "{'countries_codes.csv': b'\"Country\",\"Alpha-2 code\",\"Alpha-3 code\",\"Numeric code\",\"Latitude (average)\",\"Longitude (average)\"\\n\"Afghanistan\", \"AF\", \"AFG\", \"4\", \"33\", \"65\"\\n\"Albania\", \"AL\", \"ALB\", \"8\", \"41\", \"20\"\\n\"Algeria\", \"DZ\", \"DZA\", \"12\", \"28\", \"3\"\\n\"American Samoa\", \"AS\", \"ASM\", \"16\", \"-14.3333\", \"-170\"\\n\"Andorra\", \"AD\", \"AND\", \"20\", \"42.5\", \"1.6\"\\n\"Angola\", \"AO\", \"AGO\", \"24\", \"-12.5\", \"18.5\"\\n\"Anguilla\", \"AI\", \"AIA\", \"660\", \"18.25\", \"-63.1667\"\\n\"Antarctica\", \"AQ\", \"ATA\", \"10\", \"-90\", \"0\"\\n\"Antigua and Barbuda\", \"AG\", \"ATG\", \"28\", \"17.05\", \"-61.8\"\\n\"Argentina\", \"AR\", \"ARG\", \"32\", \"-34\", \"-64\"\\n\"Armenia\", \"AM\", \"ARM\", \"51\", \"40\", \"45\"\\n\"Aruba\", \"AW\", \"ABW\", \"533\", \"12.5\", \"-69.9667\"\\n\"Australia\", \"AU\", \"AUS\", \"36\", \"-27\", \"133\"\\n\"Austria\", \"AT\", \"AUT\", \"40\", \"47.3333\", \"13.3333\"\\n\"Azerbaijan\", \"AZ\", \"AZE\", \"31\", \"40.5\", \"47.5\"\\n\"Bahamas\", \"BS\", \"BHS\", \"44\", \"24.25\", \"-76\"\\n\"Bahrain\", \"BH\", \"BHR\", \"48\", \"26\", \"50.55\"\\n\"Bangladesh\", \"BD\", \"BGD\", \"50\", \"24\", \"90\"\\n\"Barbados\", \"BB\", \"BRB\", \"52\", \"13.1667\", \"-59.5333\"\\n\"Belarus\", \"BY\", \"BLR\", \"112\", \"53\", \"28\"\\n\"Belgium\", \"BE\", \"BEL\", \"56\", \"50.8333\", \"4\"\\n\"Belize\", \"BZ\", \"BLZ\", \"84\", \"17.25\", \"-88.75\"\\n\"Benin\", \"BJ\", \"BEN\", \"204\", \"9.5\", \"2.25\"\\n\"Bermuda\", \"BM\", \"BMU\", \"60\", \"32.3333\", \"-64.75\"\\n\"Bhutan\", \"BT\", \"BTN\", \"64\", \"27.5\", \"90.5\"\\n\"Bolivia, Plurinational State of\", \"BO\", \"BOL\", \"68\", \"-17\", \"-65\"\\n\"Bolivia\", \"BO\", \"BOL\", \"68\", \"-17\", \"-65\"\\n\"Bosnia and Herzegovina\", \"BA\", \"BIH\", \"70\", \"44\", \"18\"\\n\"Botswana\", \"BW\", \"BWA\", \"72\", \"-22\", \"24\"\\n\"Bouvet Island\", \"BV\", \"BVT\", \"74\", \"-54.4333\", \"3.4\"\\n\"Brazil\", \"BR\", \"BRA\", \"76\", \"-10\", \"-55\"\\n\"British Indian Ocean Territory\", \"IO\", \"IOT\", \"86\", \"-6\", \"71.5\"\\n\"Brunei Darussalam\", \"BN\", \"BRN\", \"96\", \"4.5\", \"114.6667\"\\n\"Brunei\", \"BN\", \"BRN\", \"96\", \"4.5\", \"114.6667\"\\n\"Bulgaria\", \"BG\", \"BGR\", \"100\", \"43\", \"25\"\\n\"Burkina Faso\", \"BF\", \"BFA\", \"854\", \"13\", \"-2\"\\n\"Burundi\", \"BI\", \"BDI\", \"108\", \"-3.5\", \"30\"\\n\"Cambodia\", \"KH\", \"KHM\", \"116\", \"13\", \"105\"\\n\"Cameroon\", \"CM\", \"CMR\", \"120\", \"6\", \"12\"\\n\"Canada\", \"CA\", \"CAN\", \"124\", \"60\", \"-95\"\\n\"Cape Verde\", \"CV\", \"CPV\", \"132\", \"16\", \"-24\"\\n\"Cayman Islands\", \"KY\", \"CYM\", \"136\", \"19.5\", \"-80.5\"\\n\"Central African Republic\", \"CF\", \"CAF\", \"140\", \"7\", \"21\"\\n\"Chad\", \"TD\", \"TCD\", \"148\", \"15\", \"19\"\\n\"Chile\", \"CL\", \"CHL\", \"152\", \"-30\", \"-71\"\\n\"China\", \"CN\", \"CHN\", \"156\", \"35\", \"105\"\\n\"Christmas Island\", \"CX\", \"CXR\", \"162\", \"-10.5\", \"105.6667\"\\n\"Cocos (Keeling) Islands\", \"CC\", \"CCK\", \"166\", \"-12.5\", \"96.8333\"\\n\"Colombia\", \"CO\", \"COL\", \"170\", \"4\", \"-72\"\\n\"Comoros\", \"KM\", \"COM\", \"174\", \"-12.1667\", \"44.25\"\\n\"Congo\", \"CG\", \"COG\", \"178\", \"-1\", \"15\"\\n\"Congo, the Democratic Republic of the\", \"CD\", \"COD\", \"180\", \"0\", \"25\"\\n\"Cook Islands\", \"CK\", \"COK\", \"184\", \"-21.2333\", \"-159.7667\"\\n\"Costa Rica\", \"CR\", \"CRI\", \"188\", \"10\", \"-84\"\\n\"C\\xc3\\xb4te d\\'Ivoire\", \"CI\", \"CIV\", \"384\", \"8\", \"-5\"\\n\"Ivory Coast\", \"CI\", \"CIV\", \"384\", \"8\", \"-5\"\\n\"Croatia\", \"HR\", \"HRV\", \"191\", \"45.1667\", \"15.5\"\\n\"Cuba\", \"CU\", \"CUB\", \"192\", \"21.5\", \"-80\"\\n\"Cyprus\", \"CY\", \"CYP\", \"196\", \"35\", \"33\"\\n\"Czech Republic\", \"CZ\", \"CZE\", \"203\", \"49.75\", \"15.5\"\\n\"Denmark\", \"DK\", \"DNK\", \"208\", \"56\", \"10\"\\n\"Djibouti\", \"DJ\", \"DJI\", \"262\", \"11.5\", \"43\"\\n\"Dominica\", \"DM\", \"DMA\", \"212\", \"15.4167\", \"-61.3333\"\\n\"Dominican Republic\", \"DO\", \"DOM\", \"214\", \"19\", \"-70.6667\"\\n\"Ecuador\", \"EC\", \"ECU\", \"218\", \"-2\", \"-77.5\"\\n\"Egypt\", \"EG\", \"EGY\", \"818\", \"27\", \"30\"\\n\"El Salvador\", \"SV\", \"SLV\", \"222\", \"13.8333\", \"-88.9167\"\\n\"Equatorial Guinea\", \"GQ\", \"GNQ\", \"226\", \"2\", \"10\"\\n\"Eritrea\", \"ER\", \"ERI\", \"232\", \"15\", \"39\"\\n\"Estonia\", \"EE\", \"EST\", \"233\", \"59\", \"26\"\\n\"Ethiopia\", \"ET\", \"ETH\", \"231\", \"8\", \"38\"\\n\"Falkland Islands (Malvinas)\", \"FK\", \"FLK\", \"238\", \"-51.75\", \"-59\"\\n\"Faroe Islands\", \"FO\", \"FRO\", \"234\", \"62\", \"-7\"\\n\"Fiji\", \"FJ\", \"FJI\", \"242\", \"-18\", \"175\"\\n\"Finland\", \"FI\", \"FIN\", \"246\", \"64\", \"26\"\\n\"France\", \"FR\", \"FRA\", \"250\", \"46\", \"2\"\\n\"French Guiana\", \"GF\", \"GUF\", \"254\", \"4\", \"-53\"\\n\"French Polynesia\", \"PF\", \"PYF\", \"258\", \"-15\", \"-140\"\\n\"French Southern Territories\", \"TF\", \"ATF\", \"260\", \"-43\", \"67\"\\n\"Gabon\", \"GA\", \"GAB\", \"266\", \"-1\", \"11.75\"\\n\"Gambia\", \"GM\", \"GMB\", \"270\", \"13.4667\", \"-16.5667\"\\n\"Georgia\", \"GE\", \"GEO\", \"268\", \"42\", \"43.5\"\\n\"Germany\", \"DE\", \"DEU\", \"276\", \"51\", \"9\"\\n\"Ghana\", \"GH\", \"GHA\", \"288\", \"8\", \"-2\"\\n\"Gibraltar\", \"GI\", \"GIB\", \"292\", \"36.1833\", \"-5.3667\"\\n\"Greece\", \"GR\", \"GRC\", \"300\", \"39\", \"22\"\\n\"Greenland\", \"GL\", \"GRL\", \"304\", \"72\", \"-40\"\\n\"Grenada\", \"GD\", \"GRD\", \"308\", \"12.1167\", \"-61.6667\"\\n\"Guadeloupe\", \"GP\", \"GLP\", \"312\", \"16.25\", \"-61.5833\"\\n\"Guam\", \"GU\", \"GUM\", \"316\", \"13.4667\", \"144.7833\"\\n\"Guatemala\", \"GT\", \"GTM\", \"320\", \"15.5\", \"-90.25\"\\n\"Guernsey\", \"GG\", \"GGY\", \"831\", \"49.5\", \"-2.56\"\\n\"Guinea\", \"GN\", \"GIN\", \"324\", \"11\", \"-10\"\\n\"Guinea-Bissau\", \"GW\", \"GNB\", \"624\", \"12\", \"-15\"\\n\"Guyana\", \"GY\", \"GUY\", \"328\", \"5\", \"-59\"\\n\"Haiti\", \"HT\", \"HTI\", \"332\", \"19\", \"-72.4167\"\\n\"Heard Island and McDonald Islands\", \"HM\", \"HMD\", \"334\", \"-53.1\", \"72.5167\"\\n\"Holy See (Vatican City State)\", \"VA\", \"VAT\", \"336\", \"41.9\", \"12.45\"\\n\"Honduras\", \"HN\", \"HND\", \"340\", \"15\", \"-86.5\"\\n\"Hong Kong\", \"HK\", \"HKG\", \"344\", \"22.25\", \"114.1667\"\\n\"Hungary\", \"HU\", \"HUN\", \"348\", \"47\", \"20\"\\n\"Iceland\", \"IS\", \"ISL\", \"352\", \"65\", \"-18\"\\n\"India\", \"IN\", \"IND\", \"356\", \"20\", \"77\"\\n\"Indonesia\", \"ID\", \"IDN\", \"360\", \"-5\", \"120\"\\n\"Iran, Islamic Republic of\", \"IR\", \"IRN\", \"364\", \"32\", \"53\"\\n\"Iraq\", \"IQ\", \"IRQ\", \"368\", \"33\", \"44\"\\n\"Ireland\", \"IE\", \"IRL\", \"372\", \"53\", \"-8\"\\n\"Isle of Man\", \"IM\", \"IMN\", \"833\", \"54.23\", \"-4.55\"\\n\"Israel\", \"IL\", \"ISR\", \"376\", \"31.5\", \"34.75\"\\n\"Italy\", \"IT\", \"ITA\", \"380\", \"42.8333\", \"12.8333\"\\n\"Jamaica\", \"JM\", \"JAM\", \"388\", \"18.25\", \"-77.5\"\\n\"Japan\", \"JP\", \"JPN\", \"392\", \"36\", \"138\"\\n\"Jersey\", \"JE\", \"JEY\", \"832\", \"49.21\", \"-2.13\"\\n\"Jordan\", \"JO\", \"JOR\", \"400\", \"31\", \"36\"\\n\"Kazakhstan\", \"KZ\", \"KAZ\", \"398\", \"48\", \"68\"\\n\"Kenya\", \"KE\", \"KEN\", \"404\", \"1\", \"38\"\\n\"Kiribati\", \"KI\", \"KIR\", \"296\", \"1.4167\", \"173\"\\n\"Korea, Democratic People\\'s Republic of\", \"KP\", \"PRK\", \"408\", \"40\", \"127\"\\n\"Korea, Republic of\", \"KR\", \"KOR\", \"410\", \"37\", \"127.5\"\\n\"South Korea\", \"KR\", \"KOR\", \"410\", \"37\", \"127.5\"\\n\"Kuwait\", \"KW\", \"KWT\", \"414\", \"29.3375\", \"47.6581\"\\n\"Kyrgyzstan\", \"KG\", \"KGZ\", \"417\", \"41\", \"75\"\\n\"Lao People\\'s Democratic Republic\", \"LA\", \"LAO\", \"418\", \"18\", \"105\"\\n\"Latvia\", \"LV\", \"LVA\", \"428\", \"57\", \"25\"\\n\"Lebanon\", \"LB\", \"LBN\", \"422\", \"33.8333\", \"35.8333\"\\n\"Lesotho\", \"LS\", \"LSO\", \"426\", \"-29.5\", \"28.5\"\\n\"Liberia\", \"LR\", \"LBR\", \"430\", \"6.5\", \"-9.5\"\\n\"Libyan Arab Jamahiriya\", \"LY\", \"LBY\", \"434\", \"25\", \"17\"\\n\"Libya\", \"LY\", \"LBY\", \"434\", \"25\", \"17\"\\n\"Liechtenstein\", \"LI\", \"LIE\", \"438\", \"47.1667\", \"9.5333\"\\n\"Lithuania\", \"LT\", \"LTU\", \"440\", \"56\", \"24\"\\n\"Luxembourg\", \"LU\", \"LUX\", \"442\", \"49.75\", \"6.1667\"\\n\"Macao\", \"MO\", \"MAC\", \"446\", \"22.1667\", \"113.55\"\\n\"Macedonia, the former Yugoslav Republic of\", \"MK\", \"MKD\", \"807\", \"41.8333\", \"22\"\\n\"Madagascar\", \"MG\", \"MDG\", \"450\", \"-20\", \"47\"\\n\"Malawi\", \"MW\", \"MWI\", \"454\", \"-13.5\", \"34\"\\n\"Malaysia\", \"MY\", \"MYS\", \"458\", \"2.5\", \"112.5\"\\n\"Maldives\", \"MV\", \"MDV\", \"462\", \"3.25\", \"73\"\\n\"Mali\", \"ML\", \"MLI\", \"466\", \"17\", \"-4\"\\n\"Malta\", \"MT\", \"MLT\", \"470\", \"35.8333\", \"14.5833\"\\n\"Marshall Islands\", \"MH\", \"MHL\", \"584\", \"9\", \"168\"\\n\"Martinique\", \"MQ\", \"MTQ\", \"474\", \"14.6667\", \"-61\"\\n\"Mauritania\", \"MR\", \"MRT\", \"478\", \"20\", \"-12\"\\n\"Mauritius\", \"MU\", \"MUS\", \"480\", \"-20.2833\", \"57.55\"\\n\"Mayotte\", \"YT\", \"MYT\", \"175\", \"-12.8333\", \"45.1667\"\\n\"Mexico\", \"MX\", \"MEX\", \"484\", \"23\", \"-102\"\\n\"Micronesia, Federated States of\", \"FM\", \"FSM\", \"583\", \"6.9167\", \"158.25\"\\n\"Moldova, Republic of\", \"MD\", \"MDA\", \"498\", \"47\", \"29\"\\n\"Monaco\", \"MC\", \"MCO\", \"492\", \"43.7333\", \"7.4\"\\n\"Mongolia\", \"MN\", \"MNG\", \"496\", \"46\", \"105\"\\n\"Montenegro\", \"ME\", \"MNE\", \"499\", \"42\", \"19\"\\n\"Montserrat\", \"MS\", \"MSR\", \"500\", \"16.75\", \"-62.2\"\\n\"Morocco\", \"MA\", \"MAR\", \"504\", \"32\", \"-5\"\\n\"Mozambique\", \"MZ\", \"MOZ\", \"508\", \"-18.25\", \"35\"\\n\"Myanmar\", \"MM\", \"MMR\", \"104\", \"22\", \"98\"\\n\"Burma\", \"MM\", \"MMR\", \"104\", \"22\", \"98\"\\n\"Namibia\", \"NA\", \"NAM\", \"516\", \"-22\", \"17\"\\n\"Nauru\", \"NR\", \"NRU\", \"520\", \"-0.5333\", \"166.9167\"\\n\"Nepal\", \"NP\", \"NPL\", \"524\", \"28\", \"84\"\\n\"Netherlands\", \"NL\", \"NLD\", \"528\", \"52.5\", \"5.75\"\\n\"Netherlands Antilles\", \"AN\", \"ANT\", \"530\", \"12.25\", \"-68.75\"\\n\"New Caledonia\", \"NC\", \"NCL\", \"540\", \"-21.5\", \"165.5\"\\n\"New Zealand\", \"NZ\", \"NZL\", \"554\", \"-41\", \"174\"\\n\"Nicaragua\", \"NI\", \"NIC\", \"558\", \"13\", \"-85\"\\n\"Niger\", \"NE\", \"NER\", \"562\", \"16\", \"8\"\\n\"Nigeria\", \"NG\", \"NGA\", \"566\", \"10\", \"8\"\\n\"Niue\", \"NU\", \"NIU\", \"570\", \"-19.0333\", \"-169.8667\"\\n\"Norfolk Island\", \"NF\", \"NFK\", \"574\", \"-29.0333\", \"167.95\"\\n\"Northern Mariana Islands\", \"MP\", \"MNP\", \"580\", \"15.2\", \"145.75\"\\n\"Norway\", \"NO\", \"NOR\", \"578\", \"62\", \"10\"\\n\"Oman\", \"OM\", \"OMN\", \"512\", \"21\", \"57\"\\n\"Pakistan\", \"PK\", \"PAK\", \"586\", \"30\", \"70\"\\n\"Palau\", \"PW\", \"PLW\", \"585\", \"7.5\", \"134.5\"\\n\"Palestinian Territory, Occupied\", \"PS\", \"PSE\", \"275\", \"32\", \"35.25\"\\n\"Panama\", \"PA\", \"PAN\", \"591\", \"9\", \"-80\"\\n\"Papua New Guinea\", \"PG\", \"PNG\", \"598\", \"-6\", \"147\"\\n\"Paraguay\", \"PY\", \"PRY\", \"600\", \"-23\", \"-58\"\\n\"Peru\", \"PE\", \"PER\", \"604\", \"-10\", \"-76\"\\n\"Philippines\", \"PH\", \"PHL\", \"608\", \"13\", \"122\"\\n\"Pitcairn\", \"PN\", \"PCN\", \"612\", \"-24.7\", \"-127.4\"\\n\"Poland\", \"PL\", \"POL\", \"616\", \"52\", \"20\"\\n\"Portugal\", \"PT\", \"PRT\", \"620\", \"39.5\", \"-8\"\\n\"Puerto Rico\", \"PR\", \"PRI\", \"630\", \"18.25\", \"-66.5\"\\n\"Qatar\", \"QA\", \"QAT\", \"634\", \"25.5\", \"51.25\"\\n\"R\\xc3\\xa9union\", \"RE\", \"REU\", \"638\", \"-21.1\", \"55.6\"\\n\"Romania\", \"RO\", \"ROU\", \"642\", \"46\", \"25\"\\n\"Russian Federation\", \"RU\", \"RUS\", \"643\", \"60\", \"100\"\\n\"Russia\", \"RU\", \"RUS\", \"643\", \"60\", \"100\"\\n\"Rwanda\", \"RW\", \"RWA\", \"646\", \"-2\", \"30\"\\n\"Saint Helena, Ascension and Tristan da Cunha\", \"SH\", \"SHN\", \"654\", \"-15.9333\", \"-5.7\"\\n\"Saint Kitts and Nevis\", \"KN\", \"KNA\", \"659\", \"17.3333\", \"-62.75\"\\n\"Saint Lucia\", \"LC\", \"LCA\", \"662\", \"13.8833\", \"-61.1333\"\\n\"Saint Pierre and Miquelon\", \"PM\", \"SPM\", \"666\", \"46.8333\", \"-56.3333\"\\n\"Saint Vincent and the Grenadines\", \"VC\", \"VCT\", \"670\", \"13.25\", \"-61.2\"\\n\"Saint Vincent & the Grenadines\", \"VC\", \"VCT\", \"670\", \"13.25\", \"-61.2\"\\n\"St. Vincent and the Grenadines\", \"VC\", \"VCT\", \"670\", \"13.25\", \"-61.2\"\\n\"Samoa\", \"WS\", \"WSM\", \"882\", \"-13.5833\", \"-172.3333\"\\n\"San Marino\", \"SM\", \"SMR\", \"674\", \"43.7667\", \"12.4167\"\\n\"Sao Tome and Principe\", \"ST\", \"STP\", \"678\", \"1\", \"7\"\\n\"Saudi Arabia\", \"SA\", \"SAU\", \"682\", \"25\", \"45\"\\n\"Senegal\", \"SN\", \"SEN\", \"686\", \"14\", \"-14\"\\n\"Serbia\", \"RS\", \"SRB\", \"688\", \"44\", \"21\"\\n\"Seychelles\", \"SC\", \"SYC\", \"690\", \"-4.5833\", \"55.6667\"\\n\"Sierra Leone\", \"SL\", \"SLE\", \"694\", \"8.5\", \"-11.5\"\\n\"Singapore\", \"SG\", \"SGP\", \"702\", \"1.3667\", \"103.8\"\\n\"Slovakia\", \"SK\", \"SVK\", \"703\", \"48.6667\", \"19.5\"\\n\"Slovenia\", \"SI\", \"SVN\", \"705\", \"46\", \"15\"\\n\"Solomon Islands\", \"SB\", \"SLB\", \"90\", \"-8\", \"159\"\\n\"Somalia\", \"SO\", \"SOM\", \"706\", \"10\", \"49\"\\n\"South Africa\", \"ZA\", \"ZAF\", \"710\", \"-29\", \"24\"\\n\"South Georgia and the South Sandwich Islands\", \"GS\", \"SGS\", \"239\", \"-54.5\", \"-37\"\\n\"South Sudan\", \"SS\", \"SSD\", \"728\", \"8\", \"30\"\\n\"Spain\", \"ES\", \"ESP\", \"724\", \"40\", \"-4\"\\n\"Sri Lanka\", \"LK\", \"LKA\", \"144\", \"7\", \"81\"\\n\"Sudan\", \"SD\", \"SDN\", \"736\", \"15\", \"30\"\\n\"Suriname\", \"SR\", \"SUR\", \"740\", \"4\", \"-56\"\\n\"Svalbard and Jan Mayen\", \"SJ\", \"SJM\", \"744\", \"78\", \"20\"\\n\"Swaziland\", \"SZ\", \"SWZ\", \"748\", \"-26.5\", \"31.5\"\\n\"Sweden\", \"SE\", \"SWE\", \"752\", \"62\", \"15\"\\n\"Switzerland\", \"CH\", \"CHE\", \"756\", \"47\", \"8\"\\n\"Syrian Arab Republic\", \"SY\", \"SYR\", \"760\", \"35\", \"38\"\\n\"Taiwan, Province of China\", \"TW\", \"TWN\", \"158\", \"23.5\", \"121\"\\n\"Taiwan\", \"TW\", \"TWN\", \"158\", \"23.5\", \"121\"\\n\"Tajikistan\", \"TJ\", \"TJK\", \"762\", \"39\", \"71\"\\n\"Tanzania, United Republic of\", \"TZ\", \"TZA\", \"834\", \"-6\", \"35\"\\n\"Thailand\", \"TH\", \"THA\", \"764\", \"15\", \"100\"\\n\"Timor-Leste\", \"TL\", \"TLS\", \"626\", \"-8.55\", \"125.5167\"\\n\"Togo\", \"TG\", \"TGO\", \"768\", \"8\", \"1.1667\"\\n\"Tokelau\", \"TK\", \"TKL\", \"772\", \"-9\", \"-172\"\\n\"Tonga\", \"TO\", \"TON\", \"776\", \"-20\", \"-175\"\\n\"Trinidad and Tobago\", \"TT\", \"TTO\", \"780\", \"11\", \"-61\"\\n\"Tunisia\", \"TN\", \"TUN\", \"788\", \"34\", \"9\"\\n\"Turkey\", \"TR\", \"TUR\", \"792\", \"39\", \"35\"\\n\"Turkmenistan\", \"TM\", \"TKM\", \"795\", \"40\", \"60\"\\n\"Turks and Caicos Islands\", \"TC\", \"TCA\", \"796\", \"21.75\", \"-71.5833\"\\n\"Tuvalu\", \"TV\", \"TUV\", \"798\", \"-8\", \"178\"\\n\"Uganda\", \"UG\", \"UGA\", \"800\", \"1\", \"32\"\\n\"Ukraine\", \"UA\", \"UKR\", \"804\", \"49\", \"32\"\\n\"United Arab Emirates\", \"AE\", \"ARE\", \"784\", \"24\", \"54\"\\n\"United Kingdom\", \"GB\", \"GBR\", \"826\", \"54\", \"-2\"\\n\"United States\", \"US\", \"USA\", \"840\", \"38\", \"-97\"\\n\"United States Minor Outlying Islands\", \"UM\", \"UMI\", \"581\", \"19.2833\", \"166.6\"\\n\"Uruguay\", \"UY\", \"URY\", \"858\", \"-33\", \"-56\"\\n\"Uzbekistan\", \"UZ\", \"UZB\", \"860\", \"41\", \"64\"\\n\"Vanuatu\", \"VU\", \"VUT\", \"548\", \"-16\", \"167\"\\n\"Venezuela, Bolivarian Republic of\", \"VE\", \"VEN\", \"862\", \"8\", \"-66\"\\n\"Venezuela\", \"VE\", \"VEN\", \"862\", \"8\", \"-66\"\\n\"Viet Nam\", \"VN\", \"VNM\", \"704\", \"16\", \"106\"\\n\"Vietnam\", \"VN\", \"VNM\", \"704\", \"16\", \"106\"\\n\"Virgin Islands, British\", \"VG\", \"VGB\", \"92\", \"18.5\", \"-64.5\"\\n\"Virgin Islands, U.S.\", \"VI\", \"VIR\", \"850\", \"18.3333\", \"-64.8333\"\\n\"Wallis and Futuna\", \"WF\", \"WLF\", \"876\", \"-13.3\", \"-176.2\"\\n\"Western Sahara\", \"EH\", \"ESH\", \"732\", \"24.5\", \"-13\"\\n\"Yemen\", \"YE\", \"YEM\", \"887\", \"15\", \"48\"\\n\"Zambia\", \"ZM\", \"ZMB\", \"894\", \"-15\", \"30\"\\n\"Zimbabwe\", \"ZW\", \"ZWE\", \"716\", \"-20\", \"30\"'}"
      ]
     },
     "execution_count": 46,
     "metadata": {
      "tags": []
     },
     "output_type": "execute_result"
    }
   ],
   "source": [
    "files.upload()"
   ]
  },
  {
   "cell_type": "code",
   "execution_count": null,
   "metadata": {
    "id": "L5bQTg03FXJN"
   },
   "outputs": [],
   "source": [
    "country_codes_df = pd.read_csv(\"countries_codes.csv\")"
   ]
  },
  {
   "cell_type": "code",
   "execution_count": null,
   "metadata": {
    "colab": {
     "base_uri": "https://localhost:8080/"
    },
    "id": "qxE_Nk-u-nC6",
    "outputId": "17fe6a65-3fda-4b99-b22b-1e45676a739e"
   },
   "outputs": [
    {
     "data": {
      "text/plain": [
       "(256, 6)"
      ]
     },
     "execution_count": 48,
     "metadata": {
      "tags": []
     },
     "output_type": "execute_result"
    }
   ],
   "source": [
    "country_codes_df.shape"
   ]
  },
  {
   "cell_type": "code",
   "execution_count": null,
   "metadata": {
    "colab": {
     "base_uri": "https://localhost:8080/",
     "height": 203
    },
    "id": "sxHJtE0SFiQW",
    "outputId": "d3ec3572-9a95-4f29-d0b6-3b0b25ac3933"
   },
   "outputs": [
    {
     "data": {
      "text/html": [
       "<div>\n",
       "<style scoped>\n",
       "    .dataframe tbody tr th:only-of-type {\n",
       "        vertical-align: middle;\n",
       "    }\n",
       "\n",
       "    .dataframe tbody tr th {\n",
       "        vertical-align: top;\n",
       "    }\n",
       "\n",
       "    .dataframe thead th {\n",
       "        text-align: right;\n",
       "    }\n",
       "</style>\n",
       "<table border=\"1\" class=\"dataframe\">\n",
       "  <thead>\n",
       "    <tr style=\"text-align: right;\">\n",
       "      <th></th>\n",
       "      <th>Country</th>\n",
       "      <th>Alpha-2 code</th>\n",
       "      <th>Alpha-3 code</th>\n",
       "      <th>Numeric code</th>\n",
       "      <th>Latitude (average)</th>\n",
       "      <th>Longitude (average)</th>\n",
       "    </tr>\n",
       "  </thead>\n",
       "  <tbody>\n",
       "    <tr>\n",
       "      <th>0</th>\n",
       "      <td>Afghanistan</td>\n",
       "      <td>\"AF\"</td>\n",
       "      <td>\"AFG\"</td>\n",
       "      <td>\"4\"</td>\n",
       "      <td>\"33\"</td>\n",
       "      <td>\"65\"</td>\n",
       "    </tr>\n",
       "    <tr>\n",
       "      <th>1</th>\n",
       "      <td>Albania</td>\n",
       "      <td>\"AL\"</td>\n",
       "      <td>\"ALB\"</td>\n",
       "      <td>\"8\"</td>\n",
       "      <td>\"41\"</td>\n",
       "      <td>\"20\"</td>\n",
       "    </tr>\n",
       "    <tr>\n",
       "      <th>2</th>\n",
       "      <td>Algeria</td>\n",
       "      <td>\"DZ\"</td>\n",
       "      <td>\"DZA\"</td>\n",
       "      <td>\"12\"</td>\n",
       "      <td>\"28\"</td>\n",
       "      <td>\"3\"</td>\n",
       "    </tr>\n",
       "    <tr>\n",
       "      <th>3</th>\n",
       "      <td>American Samoa</td>\n",
       "      <td>\"AS\"</td>\n",
       "      <td>\"ASM\"</td>\n",
       "      <td>\"16\"</td>\n",
       "      <td>\"-14.3333\"</td>\n",
       "      <td>\"-170\"</td>\n",
       "    </tr>\n",
       "    <tr>\n",
       "      <th>4</th>\n",
       "      <td>Andorra</td>\n",
       "      <td>\"AD\"</td>\n",
       "      <td>\"AND\"</td>\n",
       "      <td>\"20\"</td>\n",
       "      <td>\"42.5\"</td>\n",
       "      <td>\"1.6\"</td>\n",
       "    </tr>\n",
       "  </tbody>\n",
       "</table>\n",
       "</div>"
      ],
      "text/plain": [
       "          Country Alpha-2 code  ... Latitude (average) Longitude (average)\n",
       "0     Afghanistan         \"AF\"  ...               \"33\"                \"65\"\n",
       "1         Albania         \"AL\"  ...               \"41\"                \"20\"\n",
       "2         Algeria         \"DZ\"  ...               \"28\"                 \"3\"\n",
       "3  American Samoa         \"AS\"  ...         \"-14.3333\"              \"-170\"\n",
       "4         Andorra         \"AD\"  ...             \"42.5\"               \"1.6\"\n",
       "\n",
       "[5 rows x 6 columns]"
      ]
     },
     "execution_count": 49,
     "metadata": {
      "tags": []
     },
     "output_type": "execute_result"
    }
   ],
   "source": [
    "country_codes_df.head()"
   ]
  },
  {
   "cell_type": "code",
   "execution_count": null,
   "metadata": {
    "colab": {
     "base_uri": "https://localhost:8080/",
     "height": 203
    },
    "id": "qyW9U7TOFmQX",
    "outputId": "cbf58fbb-5881-4345-9766-a665ad32b937"
   },
   "outputs": [
    {
     "data": {
      "text/html": [
       "<div>\n",
       "<style scoped>\n",
       "    .dataframe tbody tr th:only-of-type {\n",
       "        vertical-align: middle;\n",
       "    }\n",
       "\n",
       "    .dataframe tbody tr th {\n",
       "        vertical-align: top;\n",
       "    }\n",
       "\n",
       "    .dataframe thead th {\n",
       "        text-align: right;\n",
       "    }\n",
       "</style>\n",
       "<table border=\"1\" class=\"dataframe\">\n",
       "  <thead>\n",
       "    <tr style=\"text-align: right;\">\n",
       "      <th></th>\n",
       "      <th>Country</th>\n",
       "      <th>Flag Code</th>\n",
       "      <th>Country Code</th>\n",
       "    </tr>\n",
       "  </thead>\n",
       "  <tbody>\n",
       "    <tr>\n",
       "      <th>0</th>\n",
       "      <td>Afghanistan</td>\n",
       "      <td>AF</td>\n",
       "      <td>AFG</td>\n",
       "    </tr>\n",
       "    <tr>\n",
       "      <th>1</th>\n",
       "      <td>Albania</td>\n",
       "      <td>AL</td>\n",
       "      <td>ALB</td>\n",
       "    </tr>\n",
       "    <tr>\n",
       "      <th>2</th>\n",
       "      <td>Algeria</td>\n",
       "      <td>DZ</td>\n",
       "      <td>DZA</td>\n",
       "    </tr>\n",
       "    <tr>\n",
       "      <th>3</th>\n",
       "      <td>American Samoa</td>\n",
       "      <td>AS</td>\n",
       "      <td>ASM</td>\n",
       "    </tr>\n",
       "    <tr>\n",
       "      <th>4</th>\n",
       "      <td>Andorra</td>\n",
       "      <td>AD</td>\n",
       "      <td>AND</td>\n",
       "    </tr>\n",
       "  </tbody>\n",
       "</table>\n",
       "</div>"
      ],
      "text/plain": [
       "          Country Flag Code Country Code\n",
       "0     Afghanistan        AF          AFG\n",
       "1         Albania        AL          ALB\n",
       "2         Algeria        DZ          DZA\n",
       "3  American Samoa        AS          ASM\n",
       "4         Andorra        AD          AND"
      ]
     },
     "execution_count": 50,
     "metadata": {
      "tags": []
     },
     "output_type": "execute_result"
    }
   ],
   "source": [
    "country_codes_df = country_codes_df.drop(['Numeric code','Latitude (average)', 'Longitude (average)'], axis=1)\n",
    "country_codes_df = country_codes_df.rename(columns={'Alpha-3 code': \"Country Code\", 'Alpha-2 code': \"Flag Code\" })\n",
    "country_codes_df.loc[:, [\"Flag Code\", \"Country Code\"]] = country_codes_df.loc[:, [\"Flag Code\", \"Country Code\"]].applymap(lambda x: x.strip(\"\\\" \"))\n",
    "\n",
    "country_codes_df.head()"
   ]
  },
  {
   "cell_type": "code",
   "execution_count": null,
   "metadata": {
    "id": "PnqLHBJwF89U"
   },
   "outputs": [],
   "source": [
    "ioc_name_but_not_country_name = [country for country in list(ioc_codes_df['National Olympic Committee']) if country not in list(country_codes_df[\"Country\"])]"
   ]
  },
  {
   "cell_type": "code",
   "execution_count": null,
   "metadata": {
    "colab": {
     "base_uri": "https://localhost:8080/"
    },
    "id": "Y65dTdm9GY24",
    "outputId": "74b08170-6d0c-4922-f382-27b3ca9c0179"
   },
   "outputs": [
    {
     "data": {
      "text/plain": [
       "['Republic of the Congo',\n",
       " 'Democratic Republic of the Congo',\n",
       " 'Federated States of Micronesia',\n",
       " 'The Gambia',\n",
       " 'Great Britain',\n",
       " 'Hong Kong, China',\n",
       " 'Iran',\n",
       " 'Virgin Islands',\n",
       " 'British Virgin Islands',\n",
       " 'Kosovo',\n",
       " 'Laos',\n",
       " 'Moldova',\n",
       " 'North Macedonia',\n",
       " 'Palestine',\n",
       " 'North Korea',\n",
       " 'São Tomé and Príncipe',\n",
       " 'Eswatini',\n",
       " 'Syria',\n",
       " 'Tanzania',\n",
       " 'East Timor',\n",
       " 'Chinese Taipei[7]']"
      ]
     },
     "execution_count": 52,
     "metadata": {
      "tags": []
     },
     "output_type": "execute_result"
    }
   ],
   "source": [
    "ioc_name_but_not_country_name"
   ]
  },
  {
   "cell_type": "code",
   "execution_count": null,
   "metadata": {
    "id": "-mYkPq0EGapB"
   },
   "outputs": [],
   "source": [
    "country_name_but_not_ioc_name = [country for country in list(country_codes_df[\"Country\"]) if country not in list(ioc_codes_df['National Olympic Committee'])]"
   ]
  },
  {
   "cell_type": "code",
   "execution_count": null,
   "metadata": {
    "colab": {
     "base_uri": "https://localhost:8080/"
    },
    "id": "EynC8ve2GpLT",
    "outputId": "73ef4585-92c1-49d5-9cc3-a4abda1e633a"
   },
   "outputs": [
    {
     "name": "stdout",
     "output_type": "stream",
     "text": [
      "['Anguilla',\n",
      " 'Antarctica',\n",
      " 'Bolivia, Plurinational State of',\n",
      " 'Bouvet Island',\n",
      " 'British Indian Ocean Territory',\n",
      " 'Brunei Darussalam',\n",
      " 'Christmas Island',\n",
      " 'Cocos (Keeling) Islands',\n",
      " 'Congo',\n",
      " 'Congo, the Democratic Republic of the',\n",
      " \"Côte d'Ivoire\",\n",
      " 'Falkland Islands (Malvinas)',\n",
      " 'Faroe Islands',\n",
      " 'French Guiana',\n",
      " 'French Polynesia',\n",
      " 'French Southern Territories',\n",
      " 'Gambia',\n",
      " 'Gibraltar',\n",
      " 'Greenland',\n",
      " 'Guadeloupe',\n",
      " 'Guernsey',\n",
      " 'Heard Island and McDonald Islands',\n",
      " 'Holy See (Vatican City State)',\n",
      " 'Hong Kong',\n",
      " 'Iran, Islamic Republic of',\n",
      " 'Isle of Man',\n",
      " 'Jersey',\n",
      " \"Korea, Democratic People's Republic of\",\n",
      " 'Korea, Republic of',\n",
      " \"Lao People's Democratic Republic\",\n",
      " 'Libyan Arab Jamahiriya',\n",
      " 'Macao',\n",
      " 'Macedonia, the former Yugoslav Republic of',\n",
      " 'Martinique',\n",
      " 'Mayotte',\n",
      " 'Micronesia, Federated States of',\n",
      " 'Moldova, Republic of',\n",
      " 'Montserrat',\n",
      " 'Burma',\n",
      " 'Netherlands Antilles',\n",
      " 'New Caledonia',\n",
      " 'Niue',\n",
      " 'Norfolk Island',\n",
      " 'Northern Mariana Islands',\n",
      " 'Palestinian Territory, Occupied',\n",
      " 'Pitcairn',\n",
      " 'Réunion',\n",
      " 'Russian Federation',\n",
      " 'Saint Helena, Ascension and Tristan da Cunha',\n",
      " 'Saint Pierre and Miquelon',\n",
      " 'Saint Vincent & the Grenadines',\n",
      " 'St. Vincent and the Grenadines',\n",
      " 'Sao Tome and Principe',\n",
      " 'South Georgia and the South Sandwich Islands',\n",
      " 'Svalbard and Jan Mayen',\n",
      " 'Swaziland',\n",
      " 'Syrian Arab Republic',\n",
      " 'Taiwan, Province of China',\n",
      " 'Taiwan',\n",
      " 'Tanzania, United Republic of',\n",
      " 'Timor-Leste',\n",
      " 'Tokelau',\n",
      " 'Turks and Caicos Islands',\n",
      " 'United Kingdom',\n",
      " 'United States Minor Outlying Islands',\n",
      " 'Venezuela, Bolivarian Republic of',\n",
      " 'Viet Nam',\n",
      " 'Virgin Islands, British',\n",
      " 'Virgin Islands, U.S.',\n",
      " 'Wallis and Futuna',\n",
      " 'Western Sahara']\n"
     ]
    }
   ],
   "source": [
    "import pprint\n",
    "pprint.pprint(country_name_but_not_ioc_name)"
   ]
  },
  {
   "cell_type": "code",
   "execution_count": null,
   "metadata": {
    "id": "dz4KJtX1Gqcy"
   },
   "outputs": [],
   "source": [
    "replacements_for_ioc_names = [\"Congo\", 'Congo, the Democratic Republic of the',  'Micronesia, Federated States of', 'Gambia', 'United Kingdom', 'Hong Kong', \n",
    "                        'Iran, Islamic Republic of','Virgin Islands, U.S.', 'Virgin Islands, British', \"Kosovo\", \"Lao People's Democratic Republic\", 'Moldova, Republic of', \n",
    "                        'Macedonia, the former Yugoslav Republic of','Palestinian Territory, Occupied', \"Korea, Democratic People's Republic of\", 'Sao Tome and Principe', \n",
    "                        'Swaziland', 'Syrian Arab Republic', 'Tanzania, United Republic of','Timor-Leste', 'Taiwan']"
   ]
  },
  {
   "cell_type": "code",
   "execution_count": null,
   "metadata": {
    "colab": {
     "base_uri": "https://localhost:8080/",
     "height": 357
    },
    "id": "Nl3nCAUrG3gK",
    "outputId": "05313a67-682a-485e-ab76-dab5e9dba7a9"
   },
   "outputs": [
    {
     "data": {
      "text/html": [
       "<div>\n",
       "<style scoped>\n",
       "    .dataframe tbody tr th:only-of-type {\n",
       "        vertical-align: middle;\n",
       "    }\n",
       "\n",
       "    .dataframe tbody tr th {\n",
       "        vertical-align: top;\n",
       "    }\n",
       "\n",
       "    .dataframe thead th {\n",
       "        text-align: right;\n",
       "    }\n",
       "</style>\n",
       "<table border=\"1\" class=\"dataframe\">\n",
       "  <thead>\n",
       "    <tr style=\"text-align: right;\">\n",
       "      <th></th>\n",
       "      <th>IOC Code</th>\n",
       "      <th>National Olympic Committee</th>\n",
       "      <th>Reference Name</th>\n",
       "    </tr>\n",
       "  </thead>\n",
       "  <tbody>\n",
       "    <tr>\n",
       "      <th>30</th>\n",
       "      <td>BUR</td>\n",
       "      <td>Burkina Faso</td>\n",
       "      <td>Burkina Faso</td>\n",
       "    </tr>\n",
       "    <tr>\n",
       "      <th>31</th>\n",
       "      <td>CAF</td>\n",
       "      <td>Central African Republic</td>\n",
       "      <td>Central African Republic</td>\n",
       "    </tr>\n",
       "    <tr>\n",
       "      <th>32</th>\n",
       "      <td>CAM</td>\n",
       "      <td>Cambodia</td>\n",
       "      <td>Cambodia</td>\n",
       "    </tr>\n",
       "    <tr>\n",
       "      <th>33</th>\n",
       "      <td>CAN</td>\n",
       "      <td>Canada</td>\n",
       "      <td>Canada</td>\n",
       "    </tr>\n",
       "    <tr>\n",
       "      <th>34</th>\n",
       "      <td>CAY</td>\n",
       "      <td>Cayman Islands</td>\n",
       "      <td>Cayman Islands</td>\n",
       "    </tr>\n",
       "    <tr>\n",
       "      <th>35</th>\n",
       "      <td>CGO</td>\n",
       "      <td>Republic of the Congo</td>\n",
       "      <td>Congo</td>\n",
       "    </tr>\n",
       "    <tr>\n",
       "      <th>36</th>\n",
       "      <td>CHA</td>\n",
       "      <td>Chad</td>\n",
       "      <td>Chad</td>\n",
       "    </tr>\n",
       "    <tr>\n",
       "      <th>37</th>\n",
       "      <td>CHI</td>\n",
       "      <td>Chile</td>\n",
       "      <td>Chile</td>\n",
       "    </tr>\n",
       "    <tr>\n",
       "      <th>38</th>\n",
       "      <td>CHN</td>\n",
       "      <td>China</td>\n",
       "      <td>China</td>\n",
       "    </tr>\n",
       "    <tr>\n",
       "      <th>39</th>\n",
       "      <td>CIV</td>\n",
       "      <td>Ivory Coast</td>\n",
       "      <td>Ivory Coast</td>\n",
       "    </tr>\n",
       "  </tbody>\n",
       "</table>\n",
       "</div>"
      ],
      "text/plain": [
       "   IOC Code National Olympic Committee            Reference Name\n",
       "30      BUR               Burkina Faso              Burkina Faso\n",
       "31      CAF   Central African Republic  Central African Republic\n",
       "32      CAM                   Cambodia                  Cambodia\n",
       "33      CAN                     Canada                    Canada\n",
       "34      CAY             Cayman Islands            Cayman Islands\n",
       "35      CGO      Republic of the Congo                     Congo\n",
       "36      CHA                       Chad                      Chad\n",
       "37      CHI                      Chile                     Chile\n",
       "38      CHN                      China                     China\n",
       "39      CIV                Ivory Coast               Ivory Coast"
      ]
     },
     "execution_count": 56,
     "metadata": {
      "tags": []
     },
     "output_type": "execute_result"
    }
   ],
   "source": [
    "ioc_codes_df['Reference Name'] = ioc_codes_df[\"National Olympic Committee\"]\n",
    "ioc_codes_df['Reference Name'] = ioc_codes_df['Reference Name'].replace(ioc_name_but_not_country_name, replacements_for_ioc_names)\n",
    "ioc_codes_df.iloc[30:40, :]"
   ]
  },
  {
   "cell_type": "code",
   "execution_count": null,
   "metadata": {
    "colab": {
     "base_uri": "https://localhost:8080/"
    },
    "id": "sL2gSZFc-O1j",
    "outputId": "462dca2e-e806-4faf-96be-763a2aa809d5"
   },
   "outputs": [
    {
     "data": {
      "text/plain": [
       "(206, 3)"
      ]
     },
     "execution_count": 57,
     "metadata": {
      "tags": []
     },
     "output_type": "execute_result"
    }
   ],
   "source": [
    "ioc_codes_df.shape"
   ]
  },
  {
   "cell_type": "code",
   "execution_count": null,
   "metadata": {
    "colab": {
     "base_uri": "https://localhost:8080/",
     "height": 203
    },
    "id": "KkOC0FXjHdqH",
    "outputId": "0f78972c-761d-4853-fc47-29093f390941"
   },
   "outputs": [
    {
     "data": {
      "text/html": [
       "<div>\n",
       "<style scoped>\n",
       "    .dataframe tbody tr th:only-of-type {\n",
       "        vertical-align: middle;\n",
       "    }\n",
       "\n",
       "    .dataframe tbody tr th {\n",
       "        vertical-align: top;\n",
       "    }\n",
       "\n",
       "    .dataframe thead th {\n",
       "        text-align: right;\n",
       "    }\n",
       "</style>\n",
       "<table border=\"1\" class=\"dataframe\">\n",
       "  <thead>\n",
       "    <tr style=\"text-align: right;\">\n",
       "      <th></th>\n",
       "      <th>IOC Code</th>\n",
       "      <th>National Olympic Committee</th>\n",
       "      <th>Reference Name</th>\n",
       "      <th>Country</th>\n",
       "      <th>Flag Code</th>\n",
       "      <th>Country Code</th>\n",
       "    </tr>\n",
       "  </thead>\n",
       "  <tbody>\n",
       "    <tr>\n",
       "      <th>0</th>\n",
       "      <td>AFG</td>\n",
       "      <td>Afghanistan</td>\n",
       "      <td>Afghanistan</td>\n",
       "      <td>Afghanistan</td>\n",
       "      <td>AF</td>\n",
       "      <td>AFG</td>\n",
       "    </tr>\n",
       "    <tr>\n",
       "      <th>1</th>\n",
       "      <td>ALB</td>\n",
       "      <td>Albania</td>\n",
       "      <td>Albania</td>\n",
       "      <td>Albania</td>\n",
       "      <td>AL</td>\n",
       "      <td>ALB</td>\n",
       "    </tr>\n",
       "    <tr>\n",
       "      <th>2</th>\n",
       "      <td>ALG</td>\n",
       "      <td>Algeria</td>\n",
       "      <td>Algeria</td>\n",
       "      <td>Algeria</td>\n",
       "      <td>DZ</td>\n",
       "      <td>DZA</td>\n",
       "    </tr>\n",
       "    <tr>\n",
       "      <th>3</th>\n",
       "      <td>AND</td>\n",
       "      <td>Andorra</td>\n",
       "      <td>Andorra</td>\n",
       "      <td>Andorra</td>\n",
       "      <td>AD</td>\n",
       "      <td>AND</td>\n",
       "    </tr>\n",
       "    <tr>\n",
       "      <th>4</th>\n",
       "      <td>ANG</td>\n",
       "      <td>Angola</td>\n",
       "      <td>Angola</td>\n",
       "      <td>Angola</td>\n",
       "      <td>AO</td>\n",
       "      <td>AGO</td>\n",
       "    </tr>\n",
       "  </tbody>\n",
       "</table>\n",
       "</div>"
      ],
      "text/plain": [
       "  IOC Code National Olympic Committee  ... Flag Code Country Code\n",
       "0      AFG                Afghanistan  ...        AF          AFG\n",
       "1      ALB                    Albania  ...        AL          ALB\n",
       "2      ALG                    Algeria  ...        DZ          DZA\n",
       "3      AND                    Andorra  ...        AD          AND\n",
       "4      ANG                     Angola  ...        AO          AGO\n",
       "\n",
       "[5 rows x 6 columns]"
      ]
     },
     "execution_count": 58,
     "metadata": {
      "tags": []
     },
     "output_type": "execute_result"
    }
   ],
   "source": [
    "final_country_and_IOC_code_df = pd.merge(ioc_codes_df, country_codes_df, left_on=\"Reference Name\", right_on=\"Country\", how=\"inner\")\n",
    "final_country_and_IOC_code_df.head()"
   ]
  },
  {
   "cell_type": "code",
   "execution_count": null,
   "metadata": {
    "colab": {
     "base_uri": "https://localhost:8080/"
    },
    "id": "HSd0mrlMIEcX",
    "outputId": "b5aa3505-559f-4779-8811-00c17dfc9759"
   },
   "outputs": [
    {
     "name": "stdout",
     "output_type": "stream",
     "text": [
      "(205, 6) (206, 3)\n"
     ]
    }
   ],
   "source": [
    "print(final_country_and_IOC_code_df.shape, ioc_codes_df.shape)"
   ]
  },
  {
   "cell_type": "code",
   "execution_count": null,
   "metadata": {
    "colab": {
     "base_uri": "https://localhost:8080/"
    },
    "id": "VjCM9fa3_N1Y",
    "outputId": "8382e5b1-c9a3-40d1-bf92-655d4eb609d8"
   },
   "outputs": [
    {
     "data": {
      "text/plain": [
       "['KOS']"
      ]
     },
     "execution_count": 60,
     "metadata": {
      "tags": []
     },
     "output_type": "execute_result"
    }
   ],
   "source": [
    "[code for code in list(ioc_codes_df[\"IOC Code\"]) if code not in list(final_country_and_IOC_code_df['IOC Code'])]"
   ]
  },
  {
   "cell_type": "code",
   "execution_count": null,
   "metadata": {
    "id": "B58m2plXBA5A"
   },
   "outputs": [],
   "source": [
    "final_country_and_IOC_code_df.loc[205, :] = [\"KOS\", \"Kosovo\", \"Kosovo\", \"Kosovo\", \"XK\", \"XKX\"]\n",
    "final_country_and_IOC_code_df = final_country_and_IOC_code_df.replace('Chinese Taipei[7]', 'Chinese Taipei')"
   ]
  },
  {
   "cell_type": "code",
   "execution_count": null,
   "metadata": {
    "colab": {
     "base_uri": "https://localhost:8080/",
     "height": 203
    },
    "id": "mdgsKWXfCaFd",
    "outputId": "e45e8910-4433-4bdf-8449-fe86b0b42b40"
   },
   "outputs": [
    {
     "data": {
      "text/html": [
       "<div>\n",
       "<style scoped>\n",
       "    .dataframe tbody tr th:only-of-type {\n",
       "        vertical-align: middle;\n",
       "    }\n",
       "\n",
       "    .dataframe tbody tr th {\n",
       "        vertical-align: top;\n",
       "    }\n",
       "\n",
       "    .dataframe thead th {\n",
       "        text-align: right;\n",
       "    }\n",
       "</style>\n",
       "<table border=\"1\" class=\"dataframe\">\n",
       "  <thead>\n",
       "    <tr style=\"text-align: right;\">\n",
       "      <th></th>\n",
       "      <th>IOC Code</th>\n",
       "      <th>National Olympic Committee</th>\n",
       "      <th>Reference Name</th>\n",
       "      <th>Country</th>\n",
       "      <th>Flag Code</th>\n",
       "      <th>Country Code</th>\n",
       "    </tr>\n",
       "  </thead>\n",
       "  <tbody>\n",
       "    <tr>\n",
       "      <th>201</th>\n",
       "      <td>VIN</td>\n",
       "      <td>Saint Vincent and the Grenadines</td>\n",
       "      <td>Saint Vincent and the Grenadines</td>\n",
       "      <td>Saint Vincent and the Grenadines</td>\n",
       "      <td>VC</td>\n",
       "      <td>VCT</td>\n",
       "    </tr>\n",
       "    <tr>\n",
       "      <th>202</th>\n",
       "      <td>YEM</td>\n",
       "      <td>Yemen</td>\n",
       "      <td>Yemen</td>\n",
       "      <td>Yemen</td>\n",
       "      <td>YE</td>\n",
       "      <td>YEM</td>\n",
       "    </tr>\n",
       "    <tr>\n",
       "      <th>203</th>\n",
       "      <td>ZAM</td>\n",
       "      <td>Zambia</td>\n",
       "      <td>Zambia</td>\n",
       "      <td>Zambia</td>\n",
       "      <td>ZM</td>\n",
       "      <td>ZMB</td>\n",
       "    </tr>\n",
       "    <tr>\n",
       "      <th>204</th>\n",
       "      <td>ZIM</td>\n",
       "      <td>Zimbabwe</td>\n",
       "      <td>Zimbabwe</td>\n",
       "      <td>Zimbabwe</td>\n",
       "      <td>ZW</td>\n",
       "      <td>ZWE</td>\n",
       "    </tr>\n",
       "    <tr>\n",
       "      <th>205</th>\n",
       "      <td>KOS</td>\n",
       "      <td>Kosovo</td>\n",
       "      <td>Kosovo</td>\n",
       "      <td>Kosovo</td>\n",
       "      <td>XK</td>\n",
       "      <td>XKX</td>\n",
       "    </tr>\n",
       "  </tbody>\n",
       "</table>\n",
       "</div>"
      ],
      "text/plain": [
       "    IOC Code        National Olympic Committee  ... Flag Code Country Code\n",
       "201      VIN  Saint Vincent and the Grenadines  ...        VC          VCT\n",
       "202      YEM                             Yemen  ...        YE          YEM\n",
       "203      ZAM                            Zambia  ...        ZM          ZMB\n",
       "204      ZIM                          Zimbabwe  ...        ZW          ZWE\n",
       "205      KOS                            Kosovo  ...        XK          XKX\n",
       "\n",
       "[5 rows x 6 columns]"
      ]
     },
     "execution_count": 62,
     "metadata": {
      "tags": []
     },
     "output_type": "execute_result"
    }
   ],
   "source": [
    "final_country_and_IOC_code_df.tail()"
   ]
  },
  {
   "cell_type": "markdown",
   "metadata": {
    "id": "O8THmypfIeyx"
   },
   "source": [
    "**Merging the IOC code data and the Country Code Data**"
   ]
  },
  {
   "cell_type": "code",
   "execution_count": null,
   "metadata": {
    "colab": {
     "base_uri": "https://localhost:8080/"
    },
    "id": "XK3jyK2KIQj3",
    "outputId": "dc7a524c-9336-45cb-fa69-28130e38dbfc"
   },
   "outputs": [
    {
     "data": {
      "text/plain": [
       "(117, 10)"
      ]
     },
     "execution_count": 63,
     "metadata": {
      "tags": []
     },
     "output_type": "execute_result"
    }
   ],
   "source": [
    "olympics_data.shape"
   ]
  },
  {
   "cell_type": "code",
   "execution_count": null,
   "metadata": {
    "colab": {
     "base_uri": "https://localhost:8080/"
    },
    "id": "ConTxxhjItMr",
    "outputId": "cc4fa1c7-1d02-4dd9-cb0b-fe4a64144fa6"
   },
   "outputs": [
    {
     "data": {
      "text/plain": [
       "(206, 6)"
      ]
     },
     "execution_count": 64,
     "metadata": {
      "tags": []
     },
     "output_type": "execute_result"
    }
   ],
   "source": [
    "final_country_and_IOC_code_df.shape"
   ]
  },
  {
   "cell_type": "code",
   "execution_count": null,
   "metadata": {
    "colab": {
     "base_uri": "https://localhost:8080/",
     "height": 203
    },
    "id": "NJW0_svFIn0q",
    "outputId": "2e78e93c-dabb-4447-9226-e16e162871b3"
   },
   "outputs": [
    {
     "data": {
      "text/html": [
       "<div>\n",
       "<style scoped>\n",
       "    .dataframe tbody tr th:only-of-type {\n",
       "        vertical-align: middle;\n",
       "    }\n",
       "\n",
       "    .dataframe tbody tr th {\n",
       "        vertical-align: top;\n",
       "    }\n",
       "\n",
       "    .dataframe thead th {\n",
       "        text-align: right;\n",
       "    }\n",
       "</style>\n",
       "<table border=\"1\" class=\"dataframe\">\n",
       "  <thead>\n",
       "    <tr style=\"text-align: right;\">\n",
       "      <th></th>\n",
       "      <th>Country Name</th>\n",
       "      <th>IOC Code</th>\n",
       "      <th>gold_medals_2020</th>\n",
       "      <th>total_medals_2020</th>\n",
       "      <th>gold_medals_2016</th>\n",
       "      <th>total_medals_2016</th>\n",
       "      <th>gold_medals_2012</th>\n",
       "      <th>total_medals_2012</th>\n",
       "      <th>gold_medals_2008</th>\n",
       "      <th>total_medals_2008</th>\n",
       "    </tr>\n",
       "  </thead>\n",
       "  <tbody>\n",
       "    <tr>\n",
       "      <th>0</th>\n",
       "      <td>United States of America</td>\n",
       "      <td>USA</td>\n",
       "      <td>39.0</td>\n",
       "      <td>113.0</td>\n",
       "      <td>46.0</td>\n",
       "      <td>121.0</td>\n",
       "      <td>46.0</td>\n",
       "      <td>104.0</td>\n",
       "      <td>36</td>\n",
       "      <td>112</td>\n",
       "    </tr>\n",
       "    <tr>\n",
       "      <th>1</th>\n",
       "      <td>People's Republic of China</td>\n",
       "      <td>CHN</td>\n",
       "      <td>38.0</td>\n",
       "      <td>88.0</td>\n",
       "      <td>26.0</td>\n",
       "      <td>70.0</td>\n",
       "      <td>38.0</td>\n",
       "      <td>91.0</td>\n",
       "      <td>48</td>\n",
       "      <td>100</td>\n",
       "    </tr>\n",
       "    <tr>\n",
       "      <th>2</th>\n",
       "      <td>Japan</td>\n",
       "      <td>JPN</td>\n",
       "      <td>27.0</td>\n",
       "      <td>58.0</td>\n",
       "      <td>12.0</td>\n",
       "      <td>41.0</td>\n",
       "      <td>7.0</td>\n",
       "      <td>38.0</td>\n",
       "      <td>9</td>\n",
       "      <td>25</td>\n",
       "    </tr>\n",
       "    <tr>\n",
       "      <th>3</th>\n",
       "      <td>Great Britain</td>\n",
       "      <td>GBR</td>\n",
       "      <td>22.0</td>\n",
       "      <td>65.0</td>\n",
       "      <td>27.0</td>\n",
       "      <td>67.0</td>\n",
       "      <td>29.0</td>\n",
       "      <td>65.0</td>\n",
       "      <td>19</td>\n",
       "      <td>51</td>\n",
       "    </tr>\n",
       "    <tr>\n",
       "      <th>4</th>\n",
       "      <td>ROC</td>\n",
       "      <td>RUS</td>\n",
       "      <td>20.0</td>\n",
       "      <td>71.0</td>\n",
       "      <td>19.0</td>\n",
       "      <td>56.0</td>\n",
       "      <td>20.0</td>\n",
       "      <td>67.0</td>\n",
       "      <td>24</td>\n",
       "      <td>60</td>\n",
       "    </tr>\n",
       "  </tbody>\n",
       "</table>\n",
       "</div>"
      ],
      "text/plain": [
       "                 Country Name IOC Code  ...  gold_medals_2008  total_medals_2008\n",
       "0    United States of America      USA  ...                36                112\n",
       "1  People's Republic of China      CHN  ...                48                100\n",
       "2                       Japan      JPN  ...                 9                 25\n",
       "3               Great Britain      GBR  ...                19                 51\n",
       "4                         ROC      RUS  ...                24                 60\n",
       "\n",
       "[5 rows x 10 columns]"
      ]
     },
     "execution_count": 65,
     "metadata": {
      "tags": []
     },
     "output_type": "execute_result"
    }
   ],
   "source": [
    "olympics_data.head()"
   ]
  },
  {
   "cell_type": "code",
   "execution_count": null,
   "metadata": {
    "id": "tE0eBvwpIzjL"
   },
   "outputs": [],
   "source": [
    "olympics_data_with_country_codes = pd.merge(final_country_and_IOC_code_df, olympics_data, on=\"IOC Code\", how=\"inner\")"
   ]
  },
  {
   "cell_type": "code",
   "execution_count": null,
   "metadata": {
    "colab": {
     "base_uri": "https://localhost:8080/"
    },
    "id": "ue7Nw0lZJOy3",
    "outputId": "5613448b-b444-42c0-f287-e405da1fc117"
   },
   "outputs": [
    {
     "data": {
      "text/plain": [
       "(116, 15)"
      ]
     },
     "execution_count": 67,
     "metadata": {
      "tags": []
     },
     "output_type": "execute_result"
    }
   ],
   "source": [
    "olympics_data_with_country_codes.shape"
   ]
  },
  {
   "cell_type": "code",
   "execution_count": null,
   "metadata": {
    "id": "hEGz8sE6JS1N"
   },
   "outputs": [],
   "source": [
    "missing_data = [code for code in list(olympics_data[\"IOC Code\"]) if code not in list(final_country_and_IOC_code_df[\"IOC Code\"])]"
   ]
  },
  {
   "cell_type": "code",
   "execution_count": null,
   "metadata": {
    "colab": {
     "base_uri": "https://localhost:8080/"
    },
    "id": "gNAExaxsJz3k",
    "outputId": "21862c70-6109-489d-f050-cac28cc8e14d"
   },
   "outputs": [
    {
     "data": {
      "text/plain": [
       "['IOA']"
      ]
     },
     "execution_count": 69,
     "metadata": {
      "tags": []
     },
     "output_type": "execute_result"
    }
   ],
   "source": [
    "missing_data"
   ]
  },
  {
   "cell_type": "code",
   "execution_count": null,
   "metadata": {
    "colab": {
     "base_uri": "https://localhost:8080/",
     "height": 257
    },
    "id": "PGqCYt9jQ--Z",
    "outputId": "81137d59-bb65-4cee-fa7f-0e27d655a4c5"
   },
   "outputs": [
    {
     "data": {
      "text/html": [
       "<div>\n",
       "<style scoped>\n",
       "    .dataframe tbody tr th:only-of-type {\n",
       "        vertical-align: middle;\n",
       "    }\n",
       "\n",
       "    .dataframe tbody tr th {\n",
       "        vertical-align: top;\n",
       "    }\n",
       "\n",
       "    .dataframe thead th {\n",
       "        text-align: right;\n",
       "    }\n",
       "</style>\n",
       "<table border=\"1\" class=\"dataframe\">\n",
       "  <thead>\n",
       "    <tr style=\"text-align: right;\">\n",
       "      <th></th>\n",
       "      <th>IOC Code</th>\n",
       "      <th>National Olympic Committee</th>\n",
       "      <th>Reference Name</th>\n",
       "      <th>Country</th>\n",
       "      <th>Flag Code</th>\n",
       "      <th>Country Code</th>\n",
       "      <th>Country Name</th>\n",
       "      <th>gold_medals_2020</th>\n",
       "      <th>total_medals_2020</th>\n",
       "      <th>gold_medals_2016</th>\n",
       "      <th>total_medals_2016</th>\n",
       "      <th>gold_medals_2012</th>\n",
       "      <th>total_medals_2012</th>\n",
       "      <th>gold_medals_2008</th>\n",
       "      <th>total_medals_2008</th>\n",
       "    </tr>\n",
       "  </thead>\n",
       "  <tbody>\n",
       "    <tr>\n",
       "      <th>0</th>\n",
       "      <td>AFG</td>\n",
       "      <td>Afghanistan</td>\n",
       "      <td>Afghanistan</td>\n",
       "      <td>Afghanistan</td>\n",
       "      <td>AF</td>\n",
       "      <td>AFG</td>\n",
       "      <td>0</td>\n",
       "      <td>0.0</td>\n",
       "      <td>0.0</td>\n",
       "      <td>0.0</td>\n",
       "      <td>0.0</td>\n",
       "      <td>0.0</td>\n",
       "      <td>1.0</td>\n",
       "      <td>0</td>\n",
       "      <td>1</td>\n",
       "    </tr>\n",
       "    <tr>\n",
       "      <th>1</th>\n",
       "      <td>ALG</td>\n",
       "      <td>Algeria</td>\n",
       "      <td>Algeria</td>\n",
       "      <td>Algeria</td>\n",
       "      <td>DZ</td>\n",
       "      <td>DZA</td>\n",
       "      <td>0</td>\n",
       "      <td>0.0</td>\n",
       "      <td>0.0</td>\n",
       "      <td>0.0</td>\n",
       "      <td>2.0</td>\n",
       "      <td>1.0</td>\n",
       "      <td>1.0</td>\n",
       "      <td>0</td>\n",
       "      <td>2</td>\n",
       "    </tr>\n",
       "    <tr>\n",
       "      <th>2</th>\n",
       "      <td>ARG</td>\n",
       "      <td>Argentina</td>\n",
       "      <td>Argentina</td>\n",
       "      <td>Argentina</td>\n",
       "      <td>AR</td>\n",
       "      <td>ARG</td>\n",
       "      <td>Argentina</td>\n",
       "      <td>0.0</td>\n",
       "      <td>3.0</td>\n",
       "      <td>3.0</td>\n",
       "      <td>4.0</td>\n",
       "      <td>1.0</td>\n",
       "      <td>4.0</td>\n",
       "      <td>2</td>\n",
       "      <td>6</td>\n",
       "    </tr>\n",
       "    <tr>\n",
       "      <th>3</th>\n",
       "      <td>ARM</td>\n",
       "      <td>Armenia</td>\n",
       "      <td>Armenia</td>\n",
       "      <td>Armenia</td>\n",
       "      <td>AM</td>\n",
       "      <td>ARM</td>\n",
       "      <td>Armenia</td>\n",
       "      <td>0.0</td>\n",
       "      <td>4.0</td>\n",
       "      <td>1.0</td>\n",
       "      <td>4.0</td>\n",
       "      <td>0.0</td>\n",
       "      <td>2.0</td>\n",
       "      <td>0</td>\n",
       "      <td>5</td>\n",
       "    </tr>\n",
       "    <tr>\n",
       "      <th>4</th>\n",
       "      <td>AUS</td>\n",
       "      <td>Australia</td>\n",
       "      <td>Australia</td>\n",
       "      <td>Australia</td>\n",
       "      <td>AU</td>\n",
       "      <td>AUS</td>\n",
       "      <td>Australia</td>\n",
       "      <td>17.0</td>\n",
       "      <td>46.0</td>\n",
       "      <td>8.0</td>\n",
       "      <td>29.0</td>\n",
       "      <td>8.0</td>\n",
       "      <td>35.0</td>\n",
       "      <td>14</td>\n",
       "      <td>46</td>\n",
       "    </tr>\n",
       "  </tbody>\n",
       "</table>\n",
       "</div>"
      ],
      "text/plain": [
       "  IOC Code National Olympic Committee  ... gold_medals_2008 total_medals_2008\n",
       "0      AFG                Afghanistan  ...                0                 1\n",
       "1      ALG                    Algeria  ...                0                 2\n",
       "2      ARG                  Argentina  ...                2                 6\n",
       "3      ARM                    Armenia  ...                0                 5\n",
       "4      AUS                  Australia  ...               14                46\n",
       "\n",
       "[5 rows x 15 columns]"
      ]
     },
     "execution_count": 70,
     "metadata": {
      "tags": []
     },
     "output_type": "execute_result"
    }
   ],
   "source": [
    "olympics_data_with_country_codes.head()"
   ]
  },
  {
   "cell_type": "markdown",
   "metadata": {
    "id": "8tuoJi_TM6Eg"
   },
   "source": [
    "**Merging the olympics data and population data**"
   ]
  },
  {
   "cell_type": "code",
   "execution_count": null,
   "metadata": {
    "colab": {
     "base_uri": "https://localhost:8080/",
     "height": 110,
     "resources": {
      "http://localhost:8080/nbextensions/google.colab/files.js": {
       "data": "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",
       "headers": [
        [
         "content-type",
         "application/javascript"
        ]
       ],
       "ok": true,
       "status": 200,
       "status_text": ""
      }
     }
    },
    "id": "ktS0IVWzJ03m",
    "outputId": "dba39a60-3095-455e-abd6-5f59f5424670"
   },
   "outputs": [
    {
     "data": {
      "text/html": [
       "\n",
       "     <input type=\"file\" id=\"files-d898af9a-d9f0-4093-9563-2d2479bf4de1\" name=\"files[]\" multiple disabled\n",
       "        style=\"border:none\" />\n",
       "     <output id=\"result-d898af9a-d9f0-4093-9563-2d2479bf4de1\">\n",
       "      Upload widget is only available when the cell has been executed in the\n",
       "      current browser session. Please rerun this cell to enable.\n",
       "      </output>\n",
       "      <script src=\"/nbextensions/google.colab/files.js\"></script> "
      ],
      "text/plain": [
       "<IPython.core.display.HTML object>"
      ]
     },
     "metadata": {
      "tags": []
     },
     "output_type": "display_data"
    },
    {
     "name": "stdout",
     "output_type": "stream",
     "text": [
      "Saving Population_data.csv to Population_data.csv\n"
     ]
    },
    {
     "data": {
      "text/plain": [
       "{'Population_data.csv': b'\\xef\\xbb\\xbf\"Data Source\",\"World Development Indicators\",\\r\\n\\r\\n\"Last Updated Date\",\"2021-07-21\",\\r\\n\\r\\n\"Country Name\",\"Country Code\",\"Indicator Name\",\"Indicator Code\",\"1960\",\"1961\",\"1962\",\"1963\",\"1964\",\"1965\",\"1966\",\"1967\",\"1968\",\"1969\",\"1970\",\"1971\",\"1972\",\"1973\",\"1974\",\"1975\",\"1976\",\"1977\",\"1978\",\"1979\",\"1980\",\"1981\",\"1982\",\"1983\",\"1984\",\"1985\",\"1986\",\"1987\",\"1988\",\"1989\",\"1990\",\"1991\",\"1992\",\"1993\",\"1994\",\"1995\",\"1996\",\"1997\",\"1998\",\"1999\",\"2000\",\"2001\",\"2002\",\"2003\",\"2004\",\"2005\",\"2006\",\"2007\",\"2008\",\"2009\",\"2010\",\"2011\",\"2012\",\"2013\",\"2014\",\"2015\",\"2016\",\"2017\",\"2018\",\"2019\",\"2020\",\\r\\n\"Aruba\",\"ABW\",\"Population, total\",\"SP.POP.TOTL\",\"54208\",\"55434\",\"56234\",\"56699\",\"57029\",\"57357\",\"57702\",\"58044\",\"58377\",\"58734\",\"59070\",\"59442\",\"59849\",\"60236\",\"60527\",\"60653\",\"60586\",\"60366\",\"60102\",\"59972\",\"60097\",\"60561\",\"61341\",\"62213\",\"62826\",\"63024\",\"62645\",\"61838\",\"61072\",\"61033\",\"62152\",\"64623\",\"68240\",\"72495\",\"76705\",\"80324\",\"83211\",\"85450\",\"87280\",\"89009\",\"90866\",\"92892\",\"94992\",\"97016\",\"98744\",\"100028\",\"100830\",\"101226\",\"101362\",\"101452\",\"101665\",\"102050\",\"102565\",\"103165\",\"103776\",\"104339\",\"104865\",\"105361\",\"105846\",\"106310\",\"106766\",\\r\\n\"Africa Eastern and Southern\",\"AFE\",\"Population, total\",\"SP.POP.TOTL\",\"130836765\",\"134159786\",\"137614644\",\"141202036\",\"144920186\",\"148769974\",\"152752671\",\"156876454\",\"161156430\",\"165611760\",\"170257189\",\"175100167\",\"180141148\",\"185376550\",\"190800796\",\"196409937\",\"202205766\",\"208193045\",\"214368393\",\"220740384\",\"227305945\",\"234058404\",\"240999134\",\"248146290\",\"255530063\",\"263161451\",\"271050065\",\"279184536\",\"287524258\",\"296024639\",\"304648010\",\"313394693\",\"322270073\",\"331265579\",\"340379934\",\"349605660\",\"358953595\",\"368440591\",\"378098393\",\"387977990\",\"398113044\",\"408522129\",\"419223717\",\"430246635\",\"441630149\",\"453404076\",\"465581372\",\"478166911\",\"491173160\",\"504604672\",\"518468229\",\"532760424\",\"547482863\",\"562601578\",\"578075373\",\"593871847\",\"609978946\",\"626392880\",\"643090131\",\"660046272\",\"677243299\",\\r\\n\"Afghanistan\",\"AFG\",\"Population, total\",\"SP.POP.TOTL\",\"8996967\",\"9169406\",\"9351442\",\"9543200\",\"9744772\",\"9956318\",\"10174840\",\"10399936\",\"10637064\",\"10893772\",\"11173654\",\"11475450\",\"11791222\",\"12108963\",\"12412960\",\"12689164\",\"12943093\",\"13171294\",\"13341199\",\"13411060\",\"13356500\",\"13171679\",\"12882518\",\"12537732\",\"12204306\",\"11938204\",\"11736177\",\"11604538\",\"11618008\",\"11868873\",\"12412311\",\"13299016\",\"14485543\",\"15816601\",\"17075728\",\"18110662\",\"18853444\",\"19357126\",\"19737770\",\"20170847\",\"20779957\",\"21606992\",\"22600774\",\"23680871\",\"24726689\",\"25654274\",\"26433058\",\"27100542\",\"27722281\",\"28394806\",\"29185511\",\"30117411\",\"31161378\",\"32269592\",\"33370804\",\"34413603\",\"35383028\",\"36296111\",\"37171922\",\"38041757\",\"38928341\",\\r\\n\"Africa Western and Central\",\"AFW\",\"Population, total\",\"SP.POP.TOTL\",\"96396419\",\"98407221\",\"100506960\",\"102691339\",\"104953470\",\"107289875\",\"109701811\",\"112195950\",\"114781116\",\"117468741\",\"120269044\",\"123184308\",\"126218502\",\"129384954\",\"132699537\",\"136173544\",\"139813171\",\"143615715\",\"147571063\",\"151663853\",\"155882270\",\"160223588\",\"164689764\",\"169279422\",\"173991851\",\"178826553\",\"183785612\",\"188868567\",\"194070079\",\"199382783\",\"204803865\",\"210332267\",\"215976366\",\"221754806\",\"227692136\",\"233807627\",\"240114179\",\"246613750\",\"253302310\",\"260170348\",\"267214544\",\"274433894\",\"281842480\",\"289469530\",\"297353098\",\"305520588\",\"313985474\",\"322741656\",\"331772330\",\"341050537\",\"350556886\",\"360285439\",\"370243017\",\"380437896\",\"390882979\",\"401586651\",\"412551299\",\"423769930\",\"435229381\",\"446911598\",\"458803476\",\\r\\n\"Angola\",\"AGO\",\"Population, total\",\"SP.POP.TOTL\",\"5454938\",\"5531451\",\"5608499\",\"5679409\",\"5734995\",\"5770573\",\"5781305\",\"5774440\",\"5771973\",\"5803677\",\"5890360\",\"6041239\",\"6248965\",\"6497283\",\"6761623\",\"7023994\",\"7279630\",\"7533814\",\"7790774\",\"8058112\",\"8341290\",\"8640478\",\"8952971\",\"9278104\",\"9614756\",\"9961993\",\"10320116\",\"10689247\",\"11068051\",\"11454784\",\"11848385\",\"12248901\",\"12657361\",\"13075044\",\"13503753\",\"13945205\",\"14400722\",\"14871572\",\"15359600\",\"15866871\",\"16395477\",\"16945753\",\"17519418\",\"18121477\",\"18758138\",\"19433604\",\"20149905\",\"20905360\",\"21695636\",\"22514275\",\"23356247\",\"24220660\",\"25107925\",\"26015786\",\"26941773\",\"27884380\",\"28842482\",\"29816769\",\"30809787\",\"31825299\",\"32866268\",\\r\\n\"Albania\",\"ALB\",\"Population, total\",\"SP.POP.TOTL\",\"1608800\",\"1659800\",\"1711319\",\"1762621\",\"1814135\",\"1864791\",\"1914573\",\"1965598\",\"2022272\",\"2081695\",\"2135479\",\"2187853\",\"2243126\",\"2296752\",\"2350124\",\"2404831\",\"2458526\",\"2513546\",\"2566266\",\"2617832\",\"2671997\",\"2726056\",\"2784278\",\"2843960\",\"2904429\",\"2964762\",\"3022635\",\"3083605\",\"3142336\",\"3227943\",\"3286542\",\"3266790\",\"3247039\",\"3227287\",\"3207536\",\"3187784\",\"3168033\",\"3148281\",\"3128530\",\"3108778\",\"3089027\",\"3060173\",\"3051010\",\"3039616\",\"3026939\",\"3011487\",\"2992547\",\"2970017\",\"2947314\",\"2927519\",\"2913021\",\"2905195\",\"2900401\",\"2895092\",\"2889104\",\"2880703\",\"2876101\",\"2873457\",\"2866376\",\"2854191\",\"2837743\",\\r\\n\"Andorra\",\"AND\",\"Population, total\",\"SP.POP.TOTL\",\"13410\",\"14378\",\"15379\",\"16407\",\"17466\",\"18542\",\"19646\",\"20760\",\"21886\",\"23053\",\"24275\",\"25571\",\"26885\",\"28232\",\"29515\",\"30705\",\"31782\",\"32769\",\"33744\",\"34825\",\"36063\",\"37498\",\"39115\",\"40854\",\"42706\",\"44593\",\"46520\",\"48459\",\"50433\",\"52452\",\"54508\",\"56666\",\"58882\",\"60974\",\"62676\",\"63860\",\"64363\",\"64318\",\"64140\",\"64368\",\"65390\",\"67344\",\"70048\",\"73180\",\"76250\",\"78871\",\"80995\",\"82682\",\"83860\",\"84461\",\"84454\",\"83748\",\"82427\",\"80770\",\"79213\",\"77993\",\"77295\",\"76997\",\"77008\",\"77146\",\"77265\",\\r\\n\"Arab World\",\"ARB\",\"Population, total\",\"SP.POP.TOTL\",\"92197715\",\"94724540\",\"97334438\",\"100034191\",\"102832792\",\"105736428\",\"108758634\",\"111899335\",\"115136161\",\"118437193\",\"121785630\",\"125164720\",\"128598743\",\"132161302\",\"135952270\",\"140040580\",\"144453278\",\"149161836\",\"154111160\",\"159218539\",\"164420771\",\"169698978\",\"175061794\",\"180505967\",\"186035280\",\"191650328\",\"197338140\",\"203084958\",\"208889669\",\"214753965\",\"222653371\",\"228731671\",\"232956364\",\"239243294\",\"245449429\",\"253107302\",\"259000937\",\"264822167\",\"270575777\",\"276393809\",\"282344141\",\"288432153\",\"294665202\",\"301113869\",\"307862846\",\"314965776\",\"322452764\",\"330290752\",\"338395936\",\"346629179\",\"354890097\",\"363156846\",\"371437642\",\"379696477\",\"387899835\",\"396028301\",\"404042892\",\"411942825\",\"419851989\",\"427870273\",\"436080728\",\\r\\n\"United Arab Emirates\",\"ARE\",\"Population, total\",\"SP.POP.TOTL\",\"92417\",\"100801\",\"112112\",\"125130\",\"138049\",\"149855\",\"159979\",\"169768\",\"182620\",\"203103\",\"234512\",\"277463\",\"330968\",\"394625\",\"467457\",\"548295\",\"637926\",\"735347\",\"835498\",\"931752\",\"1019507\",\"1096602\",\"1164816\",\"1228457\",\"1293970\",\"1366165\",\"1446386\",\"1533526\",\"1627068\",\"1725676\",\"1828437\",\"1937159\",\"2052892\",\"2173135\",\"2294377\",\"2415099\",\"2539121\",\"2671361\",\"2813214\",\"2966029\",\"3134067\",\"3302722\",\"3478769\",\"3711931\",\"4068577\",\"4588222\",\"5300172\",\"6168846\",\"7089486\",\"7917368\",\"8549998\",\"8946778\",\"9141598\",\"9197908\",\"9214182\",\"9262896\",\"9360975\",\"9487206\",\"9630966\",\"9770526\",\"9890400\",\\r\\n\"Argentina\",\"ARG\",\"Population, total\",\"SP.POP.TOTL\",\"20481781\",\"20817270\",\"21153042\",\"21488916\",\"21824427\",\"22159644\",\"22494031\",\"22828872\",\"23168268\",\"23517613\",\"23880564\",\"24259564\",\"24653172\",\"25056475\",\"25462305\",\"25865775\",\"26264681\",\"26661397\",\"27061041\",\"27471046\",\"27896532\",\"28338514\",\"28794550\",\"29262049\",\"29737097\",\"30216284\",\"30698964\",\"31184411\",\"31668939\",\"32148137\",\"32618648\",\"33079002\",\"33529320\",\"33970103\",\"34402669\",\"34828168\",\"35246376\",\"35657438\",\"36063451\",\"36467218\",\"36870796\",\"37275644\",\"37681743\",\"38087866\",\"38491970\",\"38892924\",\"39289876\",\"39684303\",\"40080159\",\"40482786\",\"40788453\",\"41261490\",\"41733271\",\"42202935\",\"42669500\",\"43131966\",\"43590368\",\"44044811\",\"44494502\",\"44938712\",\"45376763\",\\r\\n\"Armenia\",\"ARM\",\"Population, total\",\"SP.POP.TOTL\",\"1874119\",\"1941498\",\"2009524\",\"2077584\",\"2145004\",\"2211316\",\"2276038\",\"2339133\",\"2401142\",\"2462938\",\"2525067\",\"2587716\",\"2650484\",\"2712780\",\"2773750\",\"2832752\",\"2889583\",\"2944375\",\"2997419\",\"3049107\",\"3099759\",\"3148096\",\"3193696\",\"3238592\",\"3285593\",\"3335935\",\"3392264\",\"3451947\",\"3504667\",\"3536473\",\"3538164\",\"3505249\",\"3442820\",\"3363111\",\"3283664\",\"3217349\",\"3168213\",\"3133081\",\"3108691\",\"3089020\",\"3069597\",\"3050686\",\"3033976\",\"3017938\",\"3000715\",\"2981262\",\"2958301\",\"2932615\",\"2907615\",\"2888094\",\"2877314\",\"2876536\",\"2884239\",\"2897593\",\"2912403\",\"2925559\",\"2936147\",\"2944789\",\"2951741\",\"2957728\",\"2963234\",\\r\\n\"American Samoa\",\"ASM\",\"Population, total\",\"SP.POP.TOTL\",\"20127\",\"20605\",\"21246\",\"22029\",\"22850\",\"23675\",\"24473\",\"25235\",\"25980\",\"26698\",\"27362\",\"27982\",\"28564\",\"29103\",\"29595\",\"30045\",\"30455\",\"30834\",\"31262\",\"31842\",\"32648\",\"33697\",\"34969\",\"36413\",\"37946\",\"39521\",\"41114\",\"42741\",\"44346\",\"45894\",\"47351\",\"48682\",\"49900\",\"51025\",\"52099\",\"53158\",\"54209\",\"55227\",\"56180\",\"57049\",\"57816\",\"58496\",\"59077\",\"59495\",\"59684\",\"59557\",\"59109\",\"58367\",\"57490\",\"56675\",\"56084\",\"55755\",\"55669\",\"55717\",\"55791\",\"55806\",\"55739\",\"55617\",\"55461\",\"55312\",\"55197\",\\r\\n\"Antigua and Barbuda\",\"ATG\",\"Population, total\",\"SP.POP.TOTL\",\"54132\",\"55005\",\"55849\",\"56701\",\"57641\",\"58699\",\"59912\",\"61240\",\"62523\",\"63553\",\"64184\",\"64354\",\"64134\",\"63649\",\"63108\",\"62671\",\"62353\",\"62162\",\"62038\",\"61948\",\"61861\",\"61789\",\"61780\",\"61779\",\"61784\",\"61785\",\"61754\",\"61713\",\"61758\",\"62007\",\"62533\",\"63363\",\"64459\",\"65777\",\"67201\",\"68672\",\"70176\",\"71707\",\"73219\",\"74674\",\"76007\",\"77212\",\"78298\",\"79311\",\"80347\",\"81462\",\"82715\",\"84029\",\"85394\",\"86743\",\"88030\",\"89250\",\"90407\",\"91510\",\"92562\",\"93571\",\"94520\",\"95425\",\"96282\",\"97115\",\"97928\",\\r\\n\"Australia\",\"AUS\",\"Population, total\",\"SP.POP.TOTL\",\"10276477\",\"10483000\",\"10742000\",\"10950000\",\"11167000\",\"11388000\",\"11651000\",\"11799000\",\"12009000\",\"12263000\",\"12507000\",\"12937000\",\"13177000\",\"13380000\",\"13723000\",\"13893000\",\"14033000\",\"14192000\",\"14358000\",\"14514000\",\"14692000\",\"14927000\",\"15178000\",\"15369000\",\"15544000\",\"15758000\",\"16018400\",\"16263900\",\"16532200\",\"16814400\",\"17065100\",\"17284000\",\"17495000\",\"17667000\",\"17855000\",\"18072000\",\"18311000\",\"18517000\",\"18711000\",\"18926000\",\"19153000\",\"19413000\",\"19651400\",\"19895400\",\"20127400\",\"20394800\",\"20697900\",\"20827600\",\"21249200\",\"21691700\",\"22031750\",\"22340024\",\"22733465\",\"23128129\",\"23475686\",\"23815995\",\"24190907\",\"24601860\",\"24982688\",\"25365745\",\"25687041\",\\r\\n\"Austria\",\"AUT\",\"Population, total\",\"SP.POP.TOTL\",\"7047539\",\"7086299\",\"7129864\",\"7175811\",\"7223801\",\"7270889\",\"7322066\",\"7376998\",\"7415403\",\"7441055\",\"7467086\",\"7500482\",\"7544201\",\"7586115\",\"7599038\",\"7578903\",\"7565525\",\"7568430\",\"7562305\",\"7549425\",\"7549433\",\"7568710\",\"7574140\",\"7561910\",\"7561434\",\"7564985\",\"7569794\",\"7574586\",\"7585317\",\"7619567\",\"7677850\",\"7754891\",\"7840709\",\"7905633\",\"7936118\",\"7948278\",\"7959017\",\"7968041\",\"7976789\",\"7992324\",\"8011566\",\"8042293\",\"8081957\",\"8121423\",\"8171966\",\"8227829\",\"8268641\",\"8295487\",\"8321496\",\"8343323\",\"8363404\",\"8391643\",\"8429991\",\"8479823\",\"8546356\",\"8642699\",\"8736668\",\"8797566\",\"8840521\",\"8879920\",\"8917205\",\\r\\n\"Azerbaijan\",\"AZE\",\"Population, total\",\"SP.POP.TOTL\",\"3895398\",\"4030325\",\"4171428\",\"4315127\",\"4456691\",\"4592601\",\"4721528\",\"4843872\",\"4960237\",\"5071930\",\"5180032\",\"5284518\",\"5385266\",\"5483088\",\"5579071\",\"5674129\",\"5768730\",\"5863138\",\"5957927\",\"6053635\",\"6150735\",\"6249312\",\"6349555\",\"6452067\",\"6557581\",\"6666447\",\"6778631\",\"6893486\",\"7010027\",\"7126877\",\"7159000\",\"7271000\",\"7382000\",\"7495000\",\"7597000\",\"7685000\",\"7763000\",\"7838250\",\"7913000\",\"7982750\",\"8048600\",\"8111200\",\"8171950\",\"8234100\",\"8306500\",\"8391850\",\"8484550\",\"8581300\",\"8763400\",\"8947243\",\"9054332\",\"9173082\",\"9295784\",\"9416801\",\"9535079\",\"9649341\",\"9757812\",\"9854033\",\"9939771\",\"10024283\",\"10110116\",\\r\\n\"Burundi\",\"BDI\",\"Population, total\",\"SP.POP.TOTL\",\"2797925\",\"2852438\",\"2907320\",\"2964416\",\"3026292\",\"3094378\",\"3170496\",\"3253215\",\"3336930\",\"3413909\",\"3479070\",\"3530000\",\"3569655\",\"3605120\",\"3646428\",\"3700879\",\"3770870\",\"3854446\",\"3949264\",\"4051239\",\"4157296\",\"4266520\",\"4379727\",\"4497544\",\"4621096\",\"4750832\",\"4886745\",\"5027143\",\"5168703\",\"5307069\",\"5438959\",\"5564923\",\"5685569\",\"5798054\",\"5898964\",\"5987044\",\"6060110\",\"6122130\",\"6185564\",\"6267132\",\"6378871\",\"6525546\",\"6704118\",\"6909161\",\"7131688\",\"7364857\",\"7607850\",\"7862226\",\"8126104\",\"8397661\",\"8675606\",\"8958406\",\"9245992\",\"9540302\",\"9844301\",\"10160034\",\"10488002\",\"10827010\",\"11175379\",\"11530577\",\"11890781\",\\r\\n\"Belgium\",\"BEL\",\"Population, total\",\"SP.POP.TOTL\",\"9153489\",\"9183948\",\"9220578\",\"9289770\",\"9378113\",\"9463667\",\"9527807\",\"9580991\",\"9618756\",\"9646032\",\"9655549\",\"9673162\",\"9711115\",\"9741720\",\"9772419\",\"9800700\",\"9818227\",\"9830358\",\"9839534\",\"9848382\",\"9859242\",\"9858982\",\"9856303\",\"9855520\",\"9855372\",\"9858308\",\"9861823\",\"9870234\",\"9901664\",\"9937697\",\"9967379\",\"10004486\",\"10045158\",\"10084475\",\"10115603\",\"10136811\",\"10156637\",\"10181245\",\"10203008\",\"10226419\",\"10251250\",\"10286570\",\"10332785\",\"10376133\",\"10421137\",\"10478617\",\"10547958\",\"10625700\",\"10709973\",\"10796493\",\"10895586\",\"11038264\",\"11106932\",\"11159407\",\"11209057\",\"11274196\",\"11331422\",\"11375158\",\"11427054\",\"11488980\",\"11555997\",\\r\\n\"Benin\",\"BEN\",\"Population, total\",\"SP.POP.TOTL\",\"2431617\",\"2465865\",\"2502897\",\"2542864\",\"2585961\",\"2632361\",\"2682159\",\"2735308\",\"2791588\",\"2850657\",\"2912338\",\"2976575\",\"3043563\",\"3113681\",\"3187413\",\"3265167\",\"3347169\",\"3433445\",\"3523933\",\"3618519\",\"3717161\",\"3820126\",\"3927717\",\"4039940\",\"4156819\",\"4278502\",\"4404504\",\"4535262\",\"4672844\",\"4820020\",\"4978489\",\"5149496\",\"5331805\",\"5521761\",\"5714215\",\"5905552\",\"6094272\",\"6281644\",\"6470275\",\"6664102\",\"6865946\",\"7076728\",\"7295400\",\"7520556\",\"7750003\",\"7982223\",\"8216893\",\"8454790\",\"8696915\",\"8944713\",\"9199254\",\"9460829\",\"9729254\",\"10004594\",\"10286839\",\"10575962\",\"10872072\",\"11175192\",\"11485035\",\"11801151\",\"12123198\",\\r\\n\"Burkina Faso\",\"BFA\",\"Population, total\",\"SP.POP.TOTL\",\"4829289\",\"4894580\",\"4960328\",\"5027811\",\"5098891\",\"5174874\",\"5256360\",\"5343025\",\"5434046\",\"5528172\",\"5624592\",\"5723378\",\"5825174\",\"5930493\",\"6040045\",\"6154554\",\"6274032\",\"6398933\",\"6530820\",\"6671656\",\"6822837\",\"6985166\",\"7158259\",\"7340910\",\"7531239\",\"7727908\",\"7930689\",\"8140080\",\"8356313\",\"8579818\",\"8811033\",\"9050086\",\"9297110\",\"9552473\",\"9816584\",\"10089880\",\"10372734\",\"10665552\",\"10968722\",\"11282696\",\"11607951\",\"11944589\",\"12293097\",\"12654624\",\"13030576\",\"13421935\",\"13829173\",\"14252029\",\"14689725\",\"15141098\",\"15605211\",\"16081915\",\"16571252\",\"17072791\",\"17586029\",\"18110616\",\"18646350\",\"19193236\",\"19751466\",\"20321383\",\"20903278\",\\r\\n\"Bangladesh\",\"BGD\",\"Population, total\",\"SP.POP.TOTL\",\"48013505\",\"49362834\",\"50752150\",\"52202008\",\"53741721\",\"55385114\",\"57157651\",\"59034250\",\"60918452\",\"62679765\",\"64232486\",\"65531635\",\"66625706\",\"67637541\",\"68742222\",\"70066310\",\"71652386\",\"73463593\",\"75450033\",\"77529040\",\"79639498\",\"81767516\",\"83932132\",\"86142490\",\"88416529\",\"90764180\",\"93187593\",\"95671159\",\"98186350\",\"100695496\",\"103171957\",\"105599125\",\"107983708\",\"110350641\",\"112737684\",\"115169933\",\"117649927\",\"120160571\",\"122682818\",\"125189655\",\"127657862\",\"130088709\",\"132478077\",\"134791598\",\"136986429\",\"139035505\",\"140921154\",\"142660381\",\"144304164\",\"145924795\",\"147575433\",\"149273134\",\"151005733\",\"152761413\",\"154517385\",\"156256287\",\"157977151\",\"159685421\",\"161376713\",\"163046173\",\"164689383\",\\r\\n\"Bulgaria\",\"BGR\",\"Population, total\",\"SP.POP.TOTL\",\"7867374\",\"7943118\",\"8012946\",\"8078145\",\"8144340\",\"8204168\",\"8258057\",\"8310226\",\"8369603\",\"8434172\",\"8489574\",\"8536395\",\"8576200\",\"8620967\",\"8678745\",\"8720742\",\"8758599\",\"8804183\",\"8814032\",\"8825940\",\"8861535\",\"8891117\",\"8917457\",\"8939738\",\"8960679\",\"8960547\",\"8958171\",\"8971359\",\"8981446\",\"8876972\",\"8718289\",\"8632367\",\"8540164\",\"8472313\",\"8443591\",\"8406067\",\"8362826\",\"8312068\",\"8256786\",\"8210624\",\"8170172\",\"8009142\",\"7837161\",\"7775327\",\"7716860\",\"7658972\",\"7601022\",\"7545338\",\"7492561\",\"7444443\",\"7395599\",\"7348328\",\"7305888\",\"7265115\",\"7223938\",\"7177991\",\"7127822\",\"7075947\",\"7025037\",\"6975761\",\"6927288\",\\r\\n\"Bahrain\",\"BHR\",\"Population, total\",\"SP.POP.TOTL\",\"162429\",\"167899\",\"173140\",\"178142\",\"182888\",\"187432\",\"191785\",\"196060\",\"200652\",\"206037\",\"212607\",\"220311\",\"229151\",\"239527\",\"251908\",\"266540\",\"283746\",\"303169\",\"323468\",\"342804\",\"359897\",\"374120\",\"385953\",\"396451\",\"407233\",\"419428\",\"433478\",\"448981\",\"465198\",\"481081\",\"495927\",\"509762\",\"523082\",\"536212\",\"549590\",\"563698\",\"578661\",\"594927\",\"613697\",\"636540\",\"664610\",\"697550\",\"735140\",\"778708\",\"829846\",\"889157\",\"958423\",\"1035924\",\"1114645\",\"1185075\",\"1240864\",\"1278153\",\"1299942\",\"1315029\",\"1336073\",\"1371853\",\"1425793\",\"1494077\",\"1569440\",\"1641164\",\"1701583\",\\r\\n\"Bahamas, The\",\"BHS\",\"Population, total\",\"SP.POP.TOTL\",\"109532\",\"115119\",\"121092\",\"127340\",\"133705\",\"140060\",\"146381\",\"152621\",\"158648\",\"164265\",\"169376\",\"173894\",\"177863\",\"181519\",\"185105\",\"188895\",\"192903\",\"197100\",\"201482\",\"205991\",\"210589\",\"215321\",\"220182\",\"225095\",\"229913\",\"234579\",\"239020\",\"243265\",\"247451\",\"251738\",\"256227\",\"261007\",\"266028\",\"271065\",\"275849\",\"280179\",\"283980\",\"287363\",\"290600\",\"294063\",\"298045\",\"302618\",\"307657\",\"313123\",\"318893\",\"324848\",\"331032\",\"337387\",\"343680\",\"349600\",\"354936\",\"359583\",\"363581\",\"367162\",\"370625\",\"374200\",\"377923\",\"381749\",\"385635\",\"389486\",\"393248\",\\r\\n\"Bosnia and Herzegovina\",\"BIH\",\"Population, total\",\"SP.POP.TOTL\",\"3225664\",\"3288604\",\"3353228\",\"3417573\",\"3478999\",\"3535632\",\"3586630\",\"3632678\",\"3675448\",\"3717476\",\"3760536\",\"3805286\",\"3851153\",\"3897259\",\"3942221\",\"3985107\",\"4025271\",\"4063188\",\"4100355\",\"4138816\",\"4179850\",\"4222479\",\"4265183\",\"4307907\",\"4350566\",\"4392135\",\"4435925\",\"4479516\",\"4509462\",\"4507819\",\"4463422\",\"4369320\",\"4233673\",\"4078940\",\"3936527\",\"3829049\",\"3764419\",\"3736070\",\"3734338\",\"3743353\",\"3751176\",\"3755514\",\"3759389\",\"3762179\",\"3764194\",\"3765332\",\"3765422\",\"3762791\",\"3754261\",\"3735945\",\"3705478\",\"3661173\",\"3604972\",\"3542598\",\"3482106\",\"3429362\",\"3386263\",\"3351534\",\"3323929\",\"3300998\",\"3280815\",\\r\\n\"Belarus\",\"BLR\",\"Population, total\",\"SP.POP.TOTL\",\"8198000\",\"8271216\",\"8351928\",\"8437232\",\"8524224\",\"8610000\",\"8696496\",\"8785648\",\"8874552\",\"8960304\",\"9040000\",\"9115576\",\"9188968\",\"9257272\",\"9317584\",\"9367000\",\"9411000\",\"9463000\",\"9525000\",\"9584000\",\"9643000\",\"9710000\",\"9776000\",\"9843000\",\"9910000\",\"9975000\",\"10043000\",\"10111000\",\"10140000\",\"10170000\",\"10189000\",\"10194000\",\"10216000\",\"10239000\",\"10227000\",\"10194000\",\"10160000\",\"10117000\",\"10069000\",\"10026738\",\"9979610\",\"9928549\",\"9865548\",\"9796749\",\"9730146\",\"9663915\",\"9604924\",\"9560953\",\"9527985\",\"9506765\",\"9490583\",\"9473172\",\"9464495\",\"9465997\",\"9474511\",\"9489616\",\"9501534\",\"9498264\",\"9483499\",\"9417849\",\"9398861\",\\r\\n\"Belize\",\"BLZ\",\"Population, total\",\"SP.POP.TOTL\",\"92068\",\"94700\",\"97392\",\"100165\",\"103069\",\"106120\",\"109348\",\"112707\",\"116065\",\"119269\",\"122184\",\"124795\",\"127152\",\"129294\",\"131305\",\"133264\",\"135143\",\"136990\",\"138975\",\"141302\",\"144142\",\"147572\",\"151486\",\"155820\",\"160341\",\"164918\",\"169569\",\"174333\",\"179023\",\"183471\",\"187554\",\"191136\",\"194324\",\"197625\",\"201679\",\"206962\",\"213660\",\"221575\",\"230248\",\"238979\",\"247310\",\"255068\",\"262387\",\"269428\",\"276516\",\"283798\",\"291338\",\"299031\",\"306822\",\"314655\",\"322465\",\"330236\",\"338001\",\"345707\",\"353366\",\"360926\",\"368399\",\"375775\",\"383071\",\"390351\",\"397621\",\\r\\n\"Bermuda\",\"BMU\",\"Population, total\",\"SP.POP.TOTL\",\"44400\",\"45500\",\"46600\",\"47700\",\"48900\",\"50100\",\"51000\",\"52000\",\"53000\",\"54000\",\"55000\",\"54600\",\"54200\",\"53800\",\"53400\",\"53000\",\"53200\",\"53400\",\"53600\",\"53800\",\"54670\",\"55050\",\"55449\",\"55930\",\"56423\",\"56898\",\"57382\",\"57849\",\"58347\",\"58841\",\"59326\",\"59021\",\"58595\",\"58910\",\"59320\",\"59746\",\"60129\",\"60497\",\"60943\",\"61285\",\"61833\",\"62504\",\"62912\",\"63325\",\"63740\",\"64154\",\"64523\",\"64888\",\"65273\",\"65636\",\"65124\",\"64564\",\"64798\",\"65001\",\"65138\",\"65237\",\"64554\",\"63873\",\"63919\",\"63913\",\"63903\",\\r\\n\"Bolivia\",\"BOL\",\"Population, total\",\"SP.POP.TOTL\",\"3656961\",\"3728954\",\"3802996\",\"3879191\",\"3957759\",\"4038865\",\"4122517\",\"4208683\",\"4297522\",\"4389248\",\"4484004\",\"4581752\",\"4682392\",\"4785916\",\"4892294\",\"5001413\",\"5113458\",\"5228253\",\"5344946\",\"5462413\",\"5579932\",\"5697098\",\"5814344\",\"5932812\",\"6054126\",\"6179460\",\"6309129\",\"6442824\",\"6580318\",\"6721117\",\"6864839\",\"7011456\",\"7160917\",\"7312857\",\"7466792\",\"7622334\",\"7779268\",\"7937453\",\"8096761\",\"8257066\",\"8418270\",\"8580244\",\"8742822\",\"8905820\",\"9069044\",\"9232301\",\"9395449\",\"9558438\",\"9721457\",\"9884790\",\"10048597\",\"10212951\",\"10377677\",\"10542375\",\"10706517\",\"10869732\",\"11031822\",\"11192853\",\"11353140\",\"11513102\",\"11673029\",\\r\\n\"Brazil\",\"BRA\",\"Population, total\",\"SP.POP.TOTL\",\"72179235\",\"74311338\",\"76514329\",\"78772647\",\"81064572\",\"83373533\",\"85696502\",\"88035815\",\"90387079\",\"92746607\",\"95113265\",\"97482928\",\"99859388\",\"102259497\",\"104706193\",\"107216209\",\"109790943\",\"112425392\",\"115121158\",\"117878412\",\"120694012\",\"123570327\",\"126498322\",\"129448815\",\"132383569\",\"135274083\",\"138108915\",\"140891606\",\"143627505\",\"146328305\",\"149003225\",\"151648007\",\"154259382\",\"156849086\",\"159432717\",\"162019889\",\"164614682\",\"167209046\",\"169785253\",\"172318674\",\"174790339\",\"177196051\",\"179537523\",\"181809244\",\"184006479\",\"186127108\",\"188167353\",\"190130445\",\"192030362\",\"193886505\",\"195713637\",\"197514541\",\"199287292\",\"201035904\",\"202763744\",\"204471759\",\"206163056\",\"207833825\",\"209469320\",\"211049519\",\"212559409\",\\r\\n\"Barbados\",\"BRB\",\"Population, total\",\"SP.POP.TOTL\",\"230985\",\"231718\",\"232623\",\"233632\",\"234588\",\"235415\",\"236084\",\"236661\",\"237241\",\"237963\",\"238895\",\"240093\",\"241523\",\"243076\",\"244643\",\"246158\",\"247584\",\"248931\",\"250200\",\"251347\",\"252388\",\"253296\",\"254078\",\"254791\",\"255493\",\"256260\",\"257117\",\"258012\",\"258970\",\"259961\",\"260933\",\"261912\",\"262890\",\"263869\",\"264893\",\"265955\",\"267047\",\"268183\",\"269334\",\"270455\",\"271511\",\"272494\",\"273423\",\"274331\",\"275283\",\"276320\",\"277475\",\"278701\",\"279946\",\"281107\",\"282131\",\"282987\",\"283698\",\"284294\",\"284825\",\"285327\",\"285798\",\"286229\",\"286640\",\"287021\",\"287371\",\\r\\n\"Brunei Darussalam\",\"BRN\",\"Population, total\",\"SP.POP.TOTL\",\"81707\",\"85560\",\"89484\",\"93540\",\"97819\",\"102390\",\"107274\",\"112446\",\"117897\",\"123596\",\"129530\",\"135672\",\"142015\",\"148516\",\"155069\",\"161635\",\"168173\",\"174717\",\"181201\",\"187596\",\"193880\",\"200027\",\"206064\",\"212073\",\"218176\",\"224440\",\"230917\",\"237565\",\"244405\",\"251456\",\"258714\",\"266208\",\"273888\",\"281684\",\"289452\",\"297112\",\"304620\",\"311962\",\"319135\",\"326214\",\"333166\",\"340037\",\"346777\",\"353295\",\"359434\",\"365112\",\"370262\",\"374967\",\"379418\",\"383902\",\"388634\",\"393687\",\"398997\",\"404414\",\"409778\",\"414914\",\"419791\",\"424481\",\"428960\",\"433296\",\"437483\",\\r\\n\"Bhutan\",\"BTN\",\"Population, total\",\"SP.POP.TOTL\",\"223284\",\"228849\",\"234552\",\"240529\",\"246961\",\"253993\",\"261664\",\"269944\",\"278731\",\"287886\",\"297307\",\"306957\",\"316822\",\"326986\",\"337491\",\"348395\",\"359721\",\"371424\",\"383324\",\"395192\",\"406883\",\"418107\",\"428938\",\"439823\",\"451471\",\"464264\",\"478683\",\"494313\",\"509532\",\"522173\",\"530801\",\"534637\",\"534525\",\"532590\",\"531905\",\"534629\",\"541471\",\"551713\",\"564378\",\"577886\",\"591014\",\"603643\",\"616025\",\"627840\",\"638809\",\"648744\",\"657404\",\"664873\",\"671611\",\"678329\",\"685502\",\"693297\",\"701582\",\"710235\",\"719053\",\"727885\",\"736706\",\"745563\",\"754396\",\"763094\",\"771612\",\\r\\n\"Botswana\",\"BWA\",\"Population, total\",\"SP.POP.TOTL\",\"502733\",\"512688\",\"523777\",\"535692\",\"547870\",\"559996\",\"571957\",\"584098\",\"596946\",\"611297\",\"627714\",\"646350\",\"667096\",\"689906\",\"714701\",\"741346\",\"769982\",\"800532\",\"832467\",\"865073\",\"897860\",\"930412\",\"962859\",\"996124\",\"1031439\",\"1069585\",\"1110948\",\"1154904\",\"1200073\",\"1244484\",\"1286756\",\"1326321\",\"1363541\",\"1399110\",\"1434061\",\"1469173\",\"1504724\",\"1540424\",\"1575827\",\"1610260\",\"1643333\",\"1674674\",\"1704637\",\"1734387\",\"1765533\",\"1799077\",\"1835911\",\"1875458\",\"1915636\",\"1953495\",\"1987106\",\"2015406\",\"2039551\",\"2062551\",\"2088619\",\"2120716\",\"2159925\",\"2205076\",\"2254067\",\"2303703\",\"2351625\",\\r\\n\"Central African Republic\",\"CAF\",\"Population, total\",\"SP.POP.TOTL\",\"1501668\",\"1526057\",\"1551908\",\"1579375\",\"1608618\",\"1639706\",\"1673019\",\"1708306\",\"1744198\",\"1778870\",\"1811157\",\"1840517\",\"1867786\",\"1894850\",\"1924386\",\"1958367\",\"1997017\",\"2039914\",\"2087662\",\"2140778\",\"2199359\",\"2264441\",\"2335339\",\"2408322\",\"2478382\",\"2542170\",\"2597765\",\"2646836\",\"2693974\",\"2745735\",\"2806740\",\"2878507\",\"2959236\",\"3046148\",\"3135017\",\"3222662\",\"3308235\",\"3392432\",\"3475485\",\"3558019\",\"3640421\",\"3722016\",\"3802129\",\"3881185\",\"3959883\",\"4038380\",\"4118075\",\"4198004\",\"4273368\",\"4337623\",\"4386765\",\"4418639\",\"4436411\",\"4447945\",\"4464171\",\"4493171\",\"4537683\",\"4596023\",\"4666375\",\"4745179\",\"4829764\",\\r\\n\"Canada\",\"CAN\",\"Population, total\",\"SP.POP.TOTL\",\"17909009\",\"18271000\",\"18614000\",\"18964000\",\"19325000\",\"19678000\",\"20048000\",\"20412000\",\"20744000\",\"21028000\",\"21324000\",\"21962032\",\"22218463\",\"22491777\",\"22807969\",\"23143275\",\"23449808\",\"23725843\",\"23963203\",\"24201544\",\"24515667\",\"24819915\",\"25116942\",\"25366451\",\"25607053\",\"25842116\",\"26100278\",\"26446601\",\"26791747\",\"27276781\",\"27691138\",\"28037420\",\"28371264\",\"28684764\",\"29000663\",\"29302311\",\"29610218\",\"29905948\",\"30155173\",\"30401286\",\"30685730\",\"31020902\",\"31360079\",\"31644028\",\"31940655\",\"32243753\",\"32571174\",\"32889025\",\"33247118\",\"33628895\",\"34004889\",\"34339328\",\"34714222\",\"35082954\",\"35437435\",\"35702908\",\"36109487\",\"36545295\",\"37065178\",\"37593384\",\"38005238\",\\r\\n\"Central Europe and the Baltics\",\"CEB\",\"Population, total\",\"SP.POP.TOTL\",\"91401764\",\"92232738\",\"93009498\",\"93840016\",\"94715795\",\"95440988\",\"96146336\",\"97043270\",\"97884022\",\"98606630\",\"99134548\",\"99635258\",\"100357161\",\"101112680\",\"101939916\",\"102860571\",\"103776068\",\"104616884\",\"105329397\",\"105948616\",\"106541316\",\"107129392\",\"107730380\",\"108297837\",\"108838073\",\"109338285\",\"109824166\",\"110296425\",\"110686740\",\"110801640\",\"110743128\",\"110469467\",\"110111454\",\"110041924\",\"110021594\",\"109864246\",\"109626194\",\"109422013\",\"109238340\",\"109060951\",\"108447824\",\"107660041\",\"106959751\",\"106624167\",\"106331716\",\"106041911\",\"105772481\",\"105378748\",\"105001883\",\"104800475\",\"104421447\",\"104174038\",\"103935318\",\"103713726\",\"103496179\",\"103257886\",\"102994278\",\"102740078\",\"102538451\",\"102398537\",\"102246330\",\\r\\n\"Switzerland\",\"CHE\",\"Population, total\",\"SP.POP.TOTL\",\"5327827\",\"5434294\",\"5573815\",\"5694247\",\"5789228\",\"5856472\",\"5918002\",\"5991785\",\"6067714\",\"6136387\",\"6180877\",\"6213399\",\"6260956\",\"6307347\",\"6341405\",\"6338632\",\"6302504\",\"6281174\",\"6281738\",\"6294365\",\"6319408\",\"6354074\",\"6391309\",\"6418773\",\"6441865\",\"6470365\",\"6504124\",\"6545106\",\"6593386\",\"6646912\",\"6715519\",\"6799978\",\"6875364\",\"6938265\",\"6993795\",\"7040687\",\"7071850\",\"7088906\",\"7110001\",\"7143991\",\"7184250\",\"7229854\",\"7284753\",\"7339001\",\"7389625\",\"7437115\",\"7483934\",\"7551117\",\"7647675\",\"7743831\",\"7824909\",\"7912398\",\"7996861\",\"8089346\",\"8188649\",\"8282396\",\"8373338\",\"8451840\",\"8514329\",\"8575280\",\"8636896\",\\r\\n\"Channel Islands\",\"CHI\",\"Population, total\",\"SP.POP.TOTL\",\"109419\",\"110398\",\"111464\",\"112591\",\"113777\",\"114989\",\"116229\",\"117469\",\"118725\",\"119975\",\"121200\",\"122405\",\"123611\",\"124722\",\"125680\",\"126420\",\"126908\",\"127186\",\"127395\",\"127691\",\"128204\",\"128986\",\"129976\",\"131153\",\"132445\",\"133800\",\"135242\",\"136762\",\"138250\",\"139580\",\"140677\",\"141469\",\"142006\",\"142407\",\"142867\",\"143480\",\"144348\",\"145387\",\"146500\",\"147553\",\"148439\",\"149097\",\"149591\",\"150070\",\"150722\",\"151674\",\"152999\",\"154644\",\"156441\",\"158187\",\"159718\",\"160990\",\"162051\",\"163039\",\"164107\",\"165387\",\"166922\",\"168666\",\"170496\",\"172264\",\"173859\",\\r\\n\"Chile\",\"CHL\",\"Population, total\",\"SP.POP.TOTL\",\"8132988\",\"8303804\",\"8476895\",\"8650390\",\"8821855\",\"8989607\",\"9152848\",\"9312091\",\"9468851\",\"9625304\",\"9783134\",\"9942716\",\"10103675\",\"10265827\",\"10428803\",\"10592310\",\"10756876\",\"10922777\",\"11089165\",\"11254877\",\"11419350\",\"11582020\",\"11743909\",\"11907955\",\"12078137\",\"12257238\",\"12445833\",\"12642917\",\"12847712\",\"13058758\",\"13274617\",\"13495255\",\"13719818\",\"13944934\",\"14166346\",\"14380864\",\"14587367\",\"14786227\",\"14977736\",\"15162801\",\"15342350\",\"15516112\",\"15684413\",\"15849649\",\"16014972\",\"16182713\",\"16354507\",\"16530201\",\"16708255\",\"16886184\",\"17062531\",\"17233584\",\"17400359\",\"17571511\",\"17758969\",\"17969356\",\"18209072\",\"18470435\",\"18729166\",\"18952035\",\"19116209\",\\r\\n\"China\",\"CHN\",\"Population, total\",\"SP.POP.TOTL\",\"667070000\",\"660330000\",\"665770000\",\"682335000\",\"698355000\",\"715185000\",\"735400000\",\"754550000\",\"774510000\",\"796025000\",\"818315000\",\"841105000\",\"862030000\",\"881940000\",\"900350000\",\"916395000\",\"930685000\",\"943455000\",\"956165000\",\"969005000\",\"981235000\",\"993885000\",\"1008630000\",\"1023310000\",\"1036825000\",\"1051040000\",\"1066790000\",\"1084035000\",\"1101630000\",\"1118650000\",\"1135185000\",\"1150780000\",\"1164970000\",\"1178440000\",\"1191835000\",\"1204855000\",\"1217550000\",\"1230075000\",\"1241935000\",\"1252735000\",\"1262645000\",\"1271850000\",\"1280400000\",\"1288400000\",\"1296075000\",\"1303720000\",\"1311020000\",\"1317885000\",\"1324655000\",\"1331260000\",\"1337705000\",\"1344130000\",\"1350695000\",\"1357380000\",\"1364270000\",\"1371220000\",\"1378665000\",\"1386395000\",\"1392730000\",\"1397715000\",\"1402112000\",\\r\\n\"Cote d\\'Ivoire\",\"CIV\",\"Population, total\",\"SP.POP.TOTL\",\"3503559\",\"3631547\",\"3770756\",\"3918630\",\"4071411\",\"4226843\",\"4383723\",\"4544168\",\"4713134\",\"4897470\",\"5102070\",\"5328735\",\"5576026\",\"5841513\",\"6121295\",\"6412409\",\"6713949\",\"7026497\",\"7350269\",\"7685927\",\"8033652\",\"8393689\",\"8764991\",\"9144940\",\"9530103\",\"9918204\",\"10307268\",\"10698188\",\"11094740\",\"11502453\",\"11924873\",\"12362404\",\"12812428\",\"13271638\",\"13735438\",\"14199759\",\"14665125\",\"15130674\",\"15589407\",\"16032573\",\"16454660\",\"16853027\",\"17231539\",\"17599613\",\"17970493\",\"18354513\",\"18754914\",\"19171250\",\"19605568\",\"20059147\",\"20532944\",\"21028652\",\"21547188\",\"22087506\",\"22647672\",\"23226148\",\"23822726\",\"24437475\",\"25069226\",\"25716554\",\"26378275\",\\r\\n\"Cameroon\",\"CMR\",\"Population, total\",\"SP.POP.TOTL\",\"5176920\",\"5285015\",\"5398730\",\"5518104\",\"5643039\",\"5773538\",\"5909874\",\"6052419\",\"6201410\",\"6357096\",\"6519754\",\"6689659\",\"6867170\",\"7052847\",\"7247284\",\"7451057\",\"7664398\",\"7887571\",\"8121081\",\"8365560\",\"8621409\",\"8888534\",\"9166813\",\"9456496\",\"9757849\",\"10070806\",\"10395481\",\"10731058\",\"11075423\",\"11425807\",\"11780086\",\"12137912\",\"12499499\",\"12864091\",\"13230978\",\"13599984\",\"13970812\",\"14344444\",\"14723772\",\"15112598\",\"15513944\",\"15928910\",\"16357605\",\"16800869\",\"17259322\",\"17733408\",\"18223677\",\"18730283\",\"19252674\",\"19789922\",\"20341236\",\"20906392\",\"21485267\",\"22077300\",\"22681853\",\"23298376\",\"23926549\",\"24566070\",\"25216261\",\"25876387\",\"26545864\",\\r\\n\"Congo, Dem. Rep.\",\"COD\",\"Population, total\",\"SP.POP.TOTL\",\"15248256\",\"15637700\",\"16041187\",\"16461828\",\"16903830\",\"17369882\",\"17862052\",\"18378620\",\"18913874\",\"19459818\",\"20011033\",\"20564062\",\"21121360\",\"21690448\",\"22282127\",\"22903587\",\"23560470\",\"24249127\",\"24956387\",\"25663598\",\"26358905\",\"27040329\",\"27717293\",\"28403858\",\"29119663\",\"29881222\",\"30683877\",\"31528702\",\"32443784\",\"33464767\",\"34612023\",\"35908240\",\"37333917\",\"38815835\",\"40252973\",\"41576239\",\"42757239\",\"43827191\",\"44849968\",\"45919615\",\"47105830\",\"48428534\",\"49871670\",\"51425583\",\"53068869\",\"54785894\",\"56578046\",\"58453687\",\"60411195\",\"62448572\",\"64563853\",\"66755151\",\"69020749\",\"71358804\",\"73767445\",\"76244532\",\"78789130\",\"81398765\",\"84068092\",\"86790568\",\"89561404\",\\r\\n\"Congo, Rep.\",\"COG\",\"Population, total\",\"SP.POP.TOTL\",\"1018254\",\"1043119\",\"1069236\",\"1096638\",\"1125354\",\"1155389\",\"1186782\",\"1219547\",\"1253761\",\"1289519\",\"1326894\",\"1365891\",\"1406510\",\"1448632\",\"1492055\",\"1536658\",\"1582361\",\"1629218\",\"1677326\",\"1726865\",\"1777932\",\"1830629\",\"1884873\",\"1940454\",\"1996994\",\"2054308\",\"2112359\",\"2171319\",\"2231462\",\"2293161\",\"2356740\",\"2422312\",\"2489945\",\"2559880\",\"2632345\",\"2707532\",\"2785815\",\"2867283\",\"2951651\",\"3038432\",\"3127420\",\"3217930\",\"3310376\",\"3406915\",\"3510468\",\"3622775\",\"3745143\",\"3876123\",\"4011487\",\"4145400\",\"4273738\",\"4394842\",\"4510197\",\"4622757\",\"4736965\",\"4856093\",\"4980996\",\"5110701\",\"5244363\",\"5380504\",\"5518092\",\\r\\n\"Colombia\",\"COL\",\"Population, total\",\"SP.POP.TOTL\",\"16057714\",\"16567817\",\"17092919\",\"17629978\",\"18175187\",\"18725242\",\"19279734\",\"19837508\",\"20393704\",\"20942453\",\"21480064\",\"22003983\",\"22516429\",\"23024512\",\"23538390\",\"24065502\",\"24608102\",\"25164544\",\"25733669\",\"26312996\",\"26900508\",\"27496608\",\"28101824\",\"28714183\",\"29331230\",\"29951194\",\"30572479\",\"31195417\",\"31822527\",\"32457497\",\"33102569\",\"33758328\",\"34422568\",\"35091272\",\"35758978\",\"36421438\",\"37076387\",\"37723803\",\"38364307\",\"38999468\",\"39629965\",\"40255956\",\"40875363\",\"41483872\",\"42075953\",\"42647731\",\"43200901\",\"43737512\",\"44254972\",\"44750054\",\"45222699\",\"45662747\",\"46075721\",\"46495492\",\"46967706\",\"47520667\",\"48175048\",\"48909844\",\"49661056\",\"50339443\",\"50882884\",\\r\\n\"Comoros\",\"COM\",\"Population, total\",\"SP.POP.TOTL\",\"191122\",\"194149\",\"197202\",\"200371\",\"203762\",\"207429\",\"211477\",\"215900\",\"220574\",\"225324\",\"230055\",\"234645\",\"239229\",\"244207\",\"250107\",\"257285\",\"265958\",\"275903\",\"286628\",\"297451\",\"307831\",\"317617\",\"326944\",\"336088\",\"345455\",\"355337\",\"365765\",\"376647\",\"387964\",\"399638\",\"411598\",\"423873\",\"436454\",\"449270\",\"462280\",\"475394\",\"488625\",\"501955\",\"515382\",\"528853\",\"542358\",\"555895\",\"569480\",\"583213\",\"597230\",\"611625\",\"626427\",\"641624\",\"657227\",\"673251\",\"689696\",\"706578\",\"723865\",\"741511\",\"759390\",\"777435\",\"795597\",\"813890\",\"832322\",\"850891\",\"869595\",\\r\\n\"Cabo Verde\",\"CPV\",\"Population, total\",\"SP.POP.TOTL\",\"201770\",\"205321\",\"210141\",\"216087\",\"222949\",\"230421\",\"238655\",\"247522\",\"256169\",\"263461\",\"268633\",\"271315\",\"271841\",\"271068\",\"270228\",\"270240\",\"271345\",\"273335\",\"276182\",\"279729\",\"283848\",\"288678\",\"294244\",\"300226\",\"306140\",\"311668\",\"316613\",\"321137\",\"325744\",\"331180\",\"337953\",\"346229\",\"355763\",\"366057\",\"376409\",\"386288\",\"395533\",\"404248\",\"412513\",\"420456\",\"428178\",\"435701\",\"442955\",\"449925\",\"456619\",\"463034\",\"469171\",\"475067\",\"480846\",\"486667\",\"492644\",\"498858\",\"505241\",\"511740\",\"518276\",\"524740\",\"531140\",\"537499\",\"543764\",\"549936\",\"555988\",\\r\\n\"Costa Rica\",\"CRI\",\"Population, total\",\"SP.POP.TOTL\",\"1330787\",\"1381187\",\"1433346\",\"1486555\",\"1539942\",\"1592834\",\"1645076\",\"1696742\",\"1747690\",\"1797891\",\"1847394\",\"1896074\",\"1944170\",\"1992522\",\"2042242\",\"2094186\",\"2148681\",\"2205618\",\"2264942\",\"2326460\",\"2389973\",\"2455593\",\"2523358\",\"2593015\",\"2664220\",\"2736719\",\"2810245\",\"2884856\",\"2960932\",\"3039015\",\"3119436\",\"3202083\",\"3286525\",\"3372298\",\"3458829\",\"3545524\",\"3632361\",\"3718952\",\"3803893\",\"3885428\",\"3962369\",\"4034074\",\"4100922\",\"4164053\",\"4225156\",\"4285504\",\"4345421\",\"4404626\",\"4463123\",\"4520739\",\"4577371\",\"4633086\",\"4688003\",\"4742111\",\"4795390\",\"4847805\",\"4899336\",\"4949955\",\"4999443\",\"5047561\",\"5094114\",\\r\\n\"Caribbean small states\",\"CSS\",\"Population, total\",\"SP.POP.TOTL\",\"4194711\",\"4274052\",\"4353623\",\"4432240\",\"4508189\",\"4580382\",\"4648353\",\"4712556\",\"4773890\",\"4833839\",\"4893444\",\"4953088\",\"5012600\",\"5071912\",\"5130797\",\"5189174\",\"5246547\",\"5303289\",\"5360562\",\"5419911\",\"5482191\",\"5548521\",\"5617902\",\"5687113\",\"5751508\",\"5808206\",\"5855445\",\"5894820\",\"5930153\",\"5967028\",\"6009262\",\"6058334\",\"6112784\",\"6170324\",\"6227332\",\"6281204\",\"6331277\",\"6378551\",\"6423851\",\"6468461\",\"6513486\",\"6559097\",\"6604966\",\"6650981\",\"6696985\",\"6742657\",\"6788122\",\"6833394\",\"6878973\",\"6925446\",\"6973193\",\"7022367\",\"7072640\",\"7123315\",\"7173443\",\"7222197\",\"7269385\",\"7314956\",\"7358929\",\"7401389\",\"7442291\",\\r\\n\"Cuba\",\"CUB\",\"Population, total\",\"SP.POP.TOTL\",\"7141241\",\"7291201\",\"7453535\",\"7623300\",\"7793258\",\"7958171\",\"8115487\",\"8266373\",\"8413549\",\"8561391\",\"8712535\",\"8868087\",\"9025347\",\"9178809\",\"9320943\",\"9446441\",\"9554186\",\"9646142\",\"9724044\",\"9790850\",\"9849457\",\"9898891\",\"9940314\",\"9981303\",\"10031651\",\"10097910\",\"10183894\",\"10286645\",\"10397519\",\"10503967\",\"10596986\",\"10673534\",\"10736386\",\"10789312\",\"10838461\",\"10888246\",\"10939285\",\"10989730\",\"11038706\",\"11084673\",\"11126423\",\"11164676\",\"11199664\",\"11229185\",\"11250369\",\"11261586\",\"11261241\",\"11251117\",\"11236975\",\"11226711\",\"11225833\",\"11236671\",\"11257112\",\"11282722\",\"11306909\",\"11324777\",\"11335108\",\"11339255\",\"11338146\",\"11333484\",\"11326616\",\\r\\n\"Curacao\",\"CUW\",\"Population, total\",\"SP.POP.TOTL\",\"124826\",\"126125\",\"128414\",\"130860\",\"133148\",\"135266\",\"136682\",\"138140\",\"140298\",\"142581\",\"144739\",\"147389\",\"147710\",\"146912\",\"148351\",\"149129\",\"149399\",\"149459\",\"148341\",\"147851\",\"148041\",\"148629\",\"150101\",\"151159\",\"151940\",\"152711\",\"152662\",\"151456\",\"149254\",\"146937\",\"145400\",\"144403\",\"143912\",\"144299\",\"144630\",\"145139\",\"146306\",\"146956\",\"144472\",\"139428\",\"133860\",\"129047\",\"129205\",\"131897\",\"134192\",\"137658\",\"141239\",\"144056\",\"145880\",\"146833\",\"148703\",\"150831\",\"152088\",\"153822\",\"155909\",\"157980\",\"159664\",\"160175\",\"159336\",\"157441\",\"155014\",\\r\\n\"Cayman Islands\",\"CYM\",\"Population, total\",\"SP.POP.TOTL\",\"7870\",\"8024\",\"8141\",\"8219\",\"8299\",\"8370\",\"8444\",\"8518\",\"8638\",\"8833\",\"9143\",\"9588\",\"10135\",\"10778\",\"11488\",\"12234\",\"13023\",\"13848\",\"14681\",\"15485\",\"16207\",\"16857\",\"17436\",\"18005\",\"18662\",\"19460\",\"20426\",\"21539\",\"22775\",\"24028\",\"25307\",\"26540\",\"27784\",\"29068\",\"30521\",\"32161\",\"34065\",\"36155\",\"38330\",\"40423\",\"42305\",\"43934\",\"45347\",\"46624\",\"47899\",\"49261\",\"50729\",\"52280\",\"53835\",\"55321\",\"56672\",\"57877\",\"58963\",\"59933\",\"60848\",\"61721\",\"62564\",\"63382\",\"64172\",\"64948\",\"65720\",\\r\\n\"Cyprus\",\"CYP\",\"Population, total\",\"SP.POP.TOTL\",\"572933\",\"576402\",\"577696\",\"577918\",\"578628\",\"580972\",\"585313\",\"591301\",\"598495\",\"606121\",\"613618\",\"620860\",\"628002\",\"635105\",\"642322\",\"649753\",\"657524\",\"665521\",\"673253\",\"680010\",\"685408\",\"689170\",\"691716\",\"694076\",\"697715\",\"703694\",\"712335\",\"723384\",\"736476\",\"751043\",\"766616\",\"783121\",\"800610\",\"818750\",\"837104\",\"855391\",\"873426\",\"891190\",\"908710\",\"926049\",\"943288\",\"960274\",\"976968\",\"993562\",\"1010410\",\"1027657\",\"1045508\",\"1063708\",\"1081568\",\"1098089\",\"1112617\",\"1124837\",\"1135046\",\"1143866\",\"1152297\",\"1160987\",\"1170189\",\"1179685\",\"1189262\",\"1198574\",\"1207361\",\\r\\n\"Czech Republic\",\"CZE\",\"Population, total\",\"SP.POP.TOTL\",\"9602006\",\"9586651\",\"9624660\",\"9670685\",\"9727804\",\"9779358\",\"9821040\",\"9852899\",\"9876346\",\"9896580\",\"9858071\",\"9826815\",\"9867632\",\"9922266\",\"9988459\",\"10058620\",\"10125939\",\"10186755\",\"10242098\",\"10292341\",\"10304193\",\"10300591\",\"10314826\",\"10323856\",\"10330213\",\"10337118\",\"10342227\",\"10347318\",\"10355276\",\"10361068\",\"10333355\",\"10308578\",\"10319123\",\"10329855\",\"10333587\",\"10327253\",\"10315241\",\"10304131\",\"10294373\",\"10283860\",\"10255063\",\"10216605\",\"10196916\",\"10193998\",\"10197101\",\"10211216\",\"10238905\",\"10298828\",\"10384603\",\"10443936\",\"10474410\",\"10496088\",\"10510785\",\"10514272\",\"10525347\",\"10546059\",\"10566332\",\"10594438\",\"10629928\",\"10671870\",\"10698896\",\\r\\n\"Germany\",\"DEU\",\"Population, total\",\"SP.POP.TOTL\",\"72814900\",\"73377632\",\"74025784\",\"74714353\",\"75318337\",\"75963695\",\"76600311\",\"76951336\",\"77294314\",\"77909682\",\"78169289\",\"78312842\",\"78688452\",\"78936666\",\"78967433\",\"78673554\",\"78336950\",\"78159814\",\"78091820\",\"78126350\",\"78288576\",\"78407907\",\"78333366\",\"78128282\",\"77858685\",\"77684873\",\"77720436\",\"77839920\",\"78144619\",\"78751283\",\"79433029\",\"80013896\",\"80624598\",\"81156363\",\"81438348\",\"81678051\",\"81914831\",\"82034771\",\"82047195\",\"82100243\",\"82211508\",\"82349925\",\"82488495\",\"82534176\",\"82516260\",\"82469422\",\"82376451\",\"82266372\",\"82110097\",\"81902307\",\"81776930\",\"80274983\",\"80425823\",\"80645605\",\"80982500\",\"81686611\",\"82348669\",\"82657002\",\"82905782\",\"83092962\",\"83240525\",\\r\\n\"Djibouti\",\"DJI\",\"Population, total\",\"SP.POP.TOTL\",\"83634\",\"88503\",\"94203\",\"100618\",\"107582\",\"114976\",\"122876\",\"131405\",\"140462\",\"149889\",\"159662\",\"169372\",\"179237\",\"190569\",\"205180\",\"224177\",\"248556\",\"277472\",\"308008\",\"336080\",\"358960\",\"374934\",\"385268\",\"393800\",\"406018\",\"425608\",\"454359\",\"490337\",\"528993\",\"563855\",\"590393\",\"606843\",\"615050\",\"618504\",\"622364\",\"630385\",\"643649\",\"660858\",\"680465\",\"699973\",\"717577\",\"733019\",\"746947\",\"759639\",\"771599\",\"783248\",\"794554\",\"805456\",\"816361\",\"827820\",\"840194\",\"853671\",\"868136\",\"883296\",\"898707\",\"913998\",\"929117\",\"944100\",\"958923\",\"973557\",\"988002\",\\r\\n\"Dominica\",\"DMA\",\"Population, total\",\"SP.POP.TOTL\",\"60020\",\"61036\",\"61978\",\"62917\",\"63921\",\"65044\",\"66300\",\"67687\",\"69034\",\"70214\",\"71084\",\"71569\",\"71731\",\"71739\",\"71814\",\"72088\",\"72662\",\"73443\",\"74280\",\"74960\",\"75318\",\"75314\",\"75012\",\"74484\",\"73846\",\"73207\",\"72531\",\"71842\",\"71212\",\"70722\",\"70422\",\"70377\",\"70546\",\"70818\",\"71044\",\"71105\",\"70933\",\"70592\",\"70183\",\"69828\",\"69650\",\"69671\",\"69840\",\"70102\",\"70387\",\"70580\",\"70718\",\"70797\",\"70829\",\"70848\",\"70877\",\"70912\",\"70954\",\"71019\",\"71091\",\"71175\",\"71307\",\"71460\",\"71626\",\"71808\",\"71991\",\\r\\n\"Denmark\",\"DNK\",\"Population, total\",\"SP.POP.TOTL\",\"4579603\",\"4611687\",\"4647727\",\"4684483\",\"4722072\",\"4759012\",\"4797381\",\"4835354\",\"4864883\",\"4891860\",\"4928757\",\"4963126\",\"4991596\",\"5021861\",\"5045297\",\"5059862\",\"5072596\",\"5088419\",\"5104248\",\"5116801\",\"5123027\",\"5121572\",\"5117810\",\"5114297\",\"5111619\",\"5113691\",\"5120534\",\"5127024\",\"5129516\",\"5132594\",\"5140939\",\"5154298\",\"5171370\",\"5188628\",\"5206180\",\"5233373\",\"5263074\",\"5284991\",\"5304219\",\"5321799\",\"5339616\",\"5358783\",\"5375931\",\"5390574\",\"5404523\",\"5419432\",\"5437272\",\"5461438\",\"5493621\",\"5523095\",\"5547683\",\"5570572\",\"5591572\",\"5614932\",\"5643475\",\"5683483\",\"5728010\",\"5764980\",\"5793636\",\"5814422\",\"5831404\",\\r\\n\"Dominican Republic\",\"DOM\",\"Population, total\",\"SP.POP.TOTL\",\"3294222\",\"3406282\",\"3521018\",\"3638110\",\"3757123\",\"3877768\",\"3999796\",\"4123100\",\"4247559\",\"4373127\",\"4499722\",\"4627202\",\"4755464\",\"4884460\",\"5014187\",\"5144632\",\"5275767\",\"5407496\",\"5539596\",\"5671801\",\"5803929\",\"5935895\",\"6067769\",\"6199657\",\"6331760\",\"6464229\",\"6596967\",\"6729930\",\"6863438\",\"6997877\",\"7133491\",\"7270413\",\"7408339\",\"7546467\",\"7683707\",\"7819239\",\"7952766\",\"8084407\",\"8214427\",\"8343288\",\"8471317\",\"8598599\",\"8724974\",\"8850317\",\"8974444\",\"9097262\",\"9218681\",\"9338856\",\"9458079\",\"9576736\",\"9695117\",\"9813219\",\"9930916\",\"10048226\",\"10165182\",\"10281675\",\"10397738\",\"10513111\",\"10627147\",\"10738957\",\"10847904\",\\r\\n\"Algeria\",\"DZA\",\"Population, total\",\"SP.POP.TOTL\",\"11057864\",\"11336336\",\"11619828\",\"11912800\",\"12221675\",\"12550880\",\"12902626\",\"13275020\",\"13663581\",\"14061724\",\"14464992\",\"14872253\",\"15285992\",\"15709831\",\"16149018\",\"16607706\",\"17085799\",\"17582899\",\"18102266\",\"18647801\",\"19221659\",\"19824297\",\"20452901\",\"21101875\",\"21763578\",\"22431507\",\"23102386\",\"23774287\",\"24443472\",\"25106192\",\"25758872\",\"26400468\",\"27028330\",\"27635517\",\"28213777\",\"28757788\",\"29266415\",\"29742980\",\"30192750\",\"30623406\",\"31042238\",\"31451513\",\"31855110\",\"32264159\",\"32692153\",\"33149720\",\"33641007\",\"34166976\",\"34730604\",\"35333882\",\"35977451\",\"36661438\",\"37383899\",\"38140135\",\"38923688\",\"39728020\",\"40551398\",\"41389174\",\"42228415\",\"43053054\",\"43851043\",\\r\\n\"East Asia & Pacific (excluding high income)\",\"EAP\",\"Population, total\",\"SP.POP.TOTL\",\"894875757\",\"894479503\",\"906413903\",\"929634719\",\"952494226\",\"976360559\",\"1003799539\",\"1030341030\",\"1057848841\",\"1087054621\",\"1117162921\",\"1147907376\",\"1176909425\",\"1204956207\",\"1231481379\",\"1255568332\",\"1277786882\",\"1298403379\",\"1318985502\",\"1339874993\",\"1360437112\",\"1381732250\",\"1405388781\",\"1429179263\",\"1451901724\",\"1475340043\",\"1500310495\",\"1526774417\",\"1553548236\",\"1579666262\",\"1605187660\",\"1629631622\",\"1652528279\",\"1674580221\",\"1696464118\",\"1717901663\",\"1738949771\",\"1759750554\",\"1779788454\",\"1798639494\",\"1816455800\",\"1833422980\",\"1849607527\",\"1865132738\",\"1880248912\",\"1895275475\",\"1909891482\",\"1924018171\",\"1938057262\",\"1952017377\",\"1965954326\",\"1980035204\",\"1994389913\",\"2008919318\",\"2023595907\",\"2038190024\",\"2053107304\",\"2068150870\",\"2081650327\",\"2093675075\",\"2105003391\",\\r\\n\"Early-demographic dividend\",\"EAR\",\"Population, total\",\"SP.POP.TOTL\",\"980003345\",\"1003194972\",\"1027204700\",\"1051972834\",\"1077531237\",\"1103859981\",\"1130947721\",\"1158861175\",\"1187474694\",\"1216839339\",\"1246947673\",\"1277799456\",\"1309397210\",\"1341779503\",\"1374824941\",\"1408534717\",\"1442862522\",\"1477869964\",\"1513819992\",\"1551093148\",\"1589897378\",\"1630293423\",\"1672134835\",\"1715134126\",\"1758863284\",\"1803032659\",\"1847526576\",\"1892336352\",\"1937278919\",\"1982160339\",\"2028993568\",\"2073591177\",\"2117785781\",\"2161761687\",\"2205758867\",\"2249993925\",\"2294576653\",\"2339379359\",\"2384127937\",\"2428606122\",\"2472852816\",\"2516662185\",\"2560101448\",\"2603300762\",\"2646483605\",\"2689792006\",\"2733278857\",\"2776922505\",\"2820636607\",\"2864298814\",\"2907916947\",\"2951423688\",\"2994346938\",\"3037084158\",\"3079685581\",\"3122156833\",\"3164439749\",\"3206485623\",\"3248413593\",\"3290291029\",\"3332105361\",\\r\\n\"East Asia & Pacific\",\"EAS\",\"Population, total\",\"SP.POP.TOTL\",\"1041673567\",\"1043656626\",\"1058119847\",\"1083884354\",\"1109291332\",\"1135760430\",\"1165660993\",\"1194423916\",\"1224481196\",\"1256501888\",\"1289442011\",\"1324084663\",\"1355934840\",\"1386816705\",\"1416257332\",\"1442992143\",\"1467572978\",\"1490458433\",\"1513242365\",\"1536454977\",\"1559219642\",\"1582802675\",\"1608709544\",\"1634587947\",\"1659196213\",\"1684377898\",\"1710979840\",\"1739049562\",\"1767394678\",\"1795112149\",\"1822134188\",\"1848265154\",\"1872676768\",\"1896190507\",\"1919576721\",\"1942464423\",\"1965146473\",\"1987315524\",\"2008705487\",\"2028650228\",\"2047640091\",\"2065912033\",\"2083186086\",\"2099602481\",\"2115458625\",\"2131146847\",\"2146744105\",\"2161785511\",\"2177119138\",\"2192059400\",\"2206884622\",\"2221672723\",\"2236817711\",\"2252044491\",\"2267485985\",\"2282863725\",\"2298500738\",\"2314112848\",\"2328193462\",\"2340673749\",\"2352037717\",\\r\\n\"Europe & Central Asia (excluding high income)\",\"ECA\",\"Population, total\",\"SP.POP.TOTL\",\"274647228\",\"278931566\",\"283238943\",\"287564681\",\"291878870\",\"296127062\",\"299713085\",\"303366987\",\"306934517\",\"310433036\",\"313941308\",\"317445710\",\"320945150\",\"324422297\",\"327916784\",\"331431777\",\"335100864\",\"338710487\",\"342280107\",\"345827999\",\"349436199\",\"353122612\",\"356678273\",\"360204222\",\"363975241\",\"367739486\",\"371479741\",\"375227253\",\"378837514\",\"382076660\",\"384377493\",\"386437795\",\"388125580\",\"389516909\",\"390276284\",\"390572206\",\"390932358\",\"391289640\",\"391526555\",\"391495413\",\"391586634\",\"391315286\",\"391008840\",\"391172281\",\"391535458\",\"391952218\",\"392511901\",\"393215573\",\"394392601\",\"396042179\",\"398082642\",\"400311983\",\"402565848\",\"405069376\",\"407567142\",\"410111294\",\"412578888\",\"414892969\",\"416931527\",\"418760880\",\"420249459\",\\r\\n\"Europe & Central Asia\",\"ECS\",\"Population, total\",\"SP.POP.TOTL\",\"666753356\",\"674450666\",\"682397828\",\"690411692\",\"698355574\",\"706070460\",\"712830312\",\"719406020\",\"725725300\",\"731903738\",\"737524825\",\"743140589\",\"749283635\",\"755259488\",\"761029417\",\"766625562\",\"772129341\",\"777422111\",\"782653852\",\"787910910\",\"793299463\",\"798559755\",\"803342746\",\"807903880\",\"812662217\",\"817497806\",\"822470047\",\"827505281\",\"832553390\",\"837438555\",\"841520451\",\"845399308\",\"848877909\",\"851974036\",\"854082582\",\"855491301\",\"856857233\",\"858165406\",\"859298084\",\"860319121\",\"861278544\",\"862347956\",\"863936837\",\"866215697\",\"868808153\",\"871456632\",\"874157191\",\"877300670\",\"880932055\",\"884469396\",\"887926793\",\"890162077\",\"893786694\",\"898057341\",\"902404181\",\"906707413\",\"910910900\",\"914655081\",\"918082509\",\"920809471\",\"923489941\",\\r\\n\"Ecuador\",\"ECU\",\"Population, total\",\"SP.POP.TOTL\",\"4543658\",\"4674176\",\"4809194\",\"4948991\",\"5093848\",\"5243980\",\"5399423\",\"5560013\",\"5725462\",\"5895368\",\"6069375\",\"6247421\",\"6429377\",\"6614840\",\"6803271\",\"6994331\",\"7187794\",\"7383713\",\"7582357\",\"7784074\",\"7989178\",\"8197648\",\"8409396\",\"8624594\",\"8843463\",\"9066100\",\"9292481\",\"9522362\",\"9755576\",\"9991870\",\"10230931\",\"10472476\",\"10716131\",\"10961460\",\"11207999\",\"11455205\",\"11703169\",\"11951457\",\"12198449\",\"12442109\",\"12681123\",\"12914660\",\"13143465\",\"13369678\",\"13596390\",\"13825839\",\"14059379\",\"14296554\",\"14535740\",\"14774412\",\"15011114\",\"15243885\",\"15474099\",\"15707473\",\"15951832\",\"16212022\",\"16491116\",\"16785356\",\"17084359\",\"17373657\",\"17643060\",\\r\\n\"Egypt, Arab Rep.\",\"EGY\",\"Population, total\",\"SP.POP.TOTL\",\"26632891\",\"27366239\",\"28112258\",\"28871383\",\"29644875\",\"30433024\",\"31237597\",\"32056506\",\"32881852\",\"33703127\",\"34513851\",\"35311905\",\"36102670\",\"36896551\",\"37708144\",\"38549133\",\"39422731\",\"40329589\",\"41275728\",\"42267429\",\"43309063\",\"44400113\",\"45539295\",\"46728284\",\"47968643\",\"49258726\",\"50602360\",\"51991696\",\"53399243\",\"54788680\",\"56134478\",\"57424552\",\"58666812\",\"59880656\",\"61095804\",\"62334025\",\"63601632\",\"64892269\",\"66200259\",\"67515591\",\"68831561\",\"70152662\",\"71485044\",\"72826102\",\"74172073\",\"75523576\",\"76873670\",\"78232124\",\"79636081\",\"81134789\",\"82761244\",\"84529251\",\"86422240\",\"88404652\",\"90424668\",\"92442549\",\"94447071\",\"96442590\",\"98423602\",\"100388076\",\"102334403\",\\r\\n\"Euro area\",\"EMU\",\"Population, total\",\"SP.POP.TOTL\",\"265203956\",\"267621091\",\"270110063\",\"272655396\",\"275163380\",\"277650954\",\"279969050\",\"281974870\",\"283866408\",\"285778639\",\"287338854\",\"288923399\",\"290874612\",\"292728242\",\"294399217\",\"295923529\",\"297251532\",\"298441848\",\"299652841\",\"300886487\",\"302184216\",\"303343114\",\"304174261\",\"304787497\",\"305299144\",\"305877743\",\"306640636\",\"307488377\",\"308516476\",\"309837575\",\"311262608\",\"312708132\",\"314162056\",\"315449093\",\"316366781\",\"317181461\",\"318003013\",\"318761752\",\"319433985\",\"320258891\",\"321310789\",\"322547874\",\"324125339\",\"325885957\",\"327682513\",\"329380417\",\"330922785\",\"332645162\",\"334274725\",\"335360891\",\"336151482\",\"335419656\",\"336159199\",\"337302111\",\"338462234\",\"339488382\",\"340481755\",\"341217243\",\"341979171\",\"342282081\",\"342949773\",\\r\\n\"Eritrea\",\"ERI\",\"Population, total\",\"SP.POP.TOTL\",\"1007586\",\"1033320\",\"1060489\",\"1088859\",\"1118152\",\"1148188\",\"1178875\",\"1210304\",\"1242633\",\"1276122\",\"1310947\",\"1347180\",\"1384789\",\"1423749\",\"1463986\",\"1505438\",\"1547978\",\"1591622\",\"1636771\",\"1683932\",\"1733423\",\"1784557\",\"1836825\",\"1890556\",\"1946299\",\"2003942\",\"2064803\",\"2127421\",\"2185607\",\"2231144\",\"2258649\",\"2266356\",\"2257593\",\"2238631\",\"2218436\",\"2204227\",\"2196467\",\"2195192\",\"2206439\",\"2237412\",\"2292413\",\"2374721\",\"2481059\",\"2600972\",\"2719809\",\"2826653\",\"2918209\",\"2996540\",\"3062782\",\"3119920\",\"3170437\",\"3213969\",\"\",\"\",\"\",\"\",\"\",\"\",\"\",\"\",\"\",\\r\\n\"Spain\",\"ESP\",\"Population, total\",\"SP.POP.TOTL\",\"30455000\",\"30739250\",\"31023366\",\"31296651\",\"31609195\",\"31954292\",\"32283194\",\"32682947\",\"33113134\",\"33441054\",\"33814531\",\"34224490\",\"34604469\",\"34988947\",\"35373335\",\"35757900\",\"36137812\",\"36511638\",\"36864898\",\"37191330\",\"37491165\",\"37758631\",\"37986012\",\"38171525\",\"38330364\",\"38469512\",\"38584624\",\"38684815\",\"38766939\",\"38827764\",\"38867322\",\"38966376\",\"39157685\",\"39361262\",\"39549108\",\"39724050\",\"39889852\",\"40057389\",\"40223509\",\"40386875\",\"40567864\",\"40850412\",\"41431558\",\"42187645\",\"42921895\",\"43653155\",\"44397319\",\"45226803\",\"45954106\",\"46362946\",\"46576897\",\"46742697\",\"46773055\",\"46620045\",\"46480882\",\"46444832\",\"46484062\",\"46593236\",\"46797754\",\"47133521\",\"47351567\",\\r\\n\"Estonia\",\"EST\",\"Population, total\",\"SP.POP.TOTL\",\"1211537\",\"1225077\",\"1241623\",\"1258857\",\"1277086\",\"1294566\",\"1308597\",\"1318946\",\"1331214\",\"1345249\",\"1360076\",\"1376955\",\"1392518\",\"1405951\",\"1418169\",\"1429352\",\"1439576\",\"1450211\",\"1460188\",\"1468333\",\"1477219\",\"1487666\",\"1498414\",\"1508745\",\"1518617\",\"1528781\",\"1540190\",\"1552221\",\"1561900\",\"1568131\",\"1569174\",\"1561314\",\"1533091\",\"1494128\",\"1462514\",\"1436634\",\"1415594\",\"1399535\",\"1386156\",\"1390244\",\"1396985\",\"1388115\",\"1379350\",\"1370720\",\"1362550\",\"1354775\",\"1346810\",\"1340680\",\"1337090\",\"1334515\",\"1331475\",\"1327439\",\"1322696\",\"1317997\",\"1314545\",\"1315407\",\"1315790\",\"1317384\",\"1321977\",\"1326898\",\"1331057\",\\r\\n\"Ethiopia\",\"ETH\",\"Population, total\",\"SP.POP.TOTL\",\"22151284\",\"22671193\",\"23221385\",\"23798418\",\"24397010\",\"25013634\",\"25641040\",\"26280135\",\"26944386\",\"27652715\",\"28415080\",\"29248650\",\"30140799\",\"31036670\",\"31861353\",\"32566855\",\"33128151\",\"33577240\",\"33993301\",\"34487806\",\"35141703\",\"35984531\",\"36995246\",\"38142679\",\"39374346\",\"40652146\",\"41965696\",\"43329238\",\"44757205\",\"46272308\",\"47887864\",\"49609976\",\"51423591\",\"53295556\",\"55180993\",\"57047906\",\"58883531\",\"60697443\",\"62507724\",\"64343008\",\"66224809\",\"68159422\",\"70142090\",\"72170581\",\"74239508\",\"76346310\",\"78489205\",\"80674343\",\"82916236\",\"85233923\",\"87639962\",\"90139928\",\"92726982\",\"95385793\",\"98094264\",\"100835453\",\"103603461\",\"106399926\",\"109224410\",\"112078727\",\"114963583\",\\r\\n\"European Union\",\"EUU\",\"Population, total\",\"SP.POP.TOTL\",\"356906098\",\"359998408\",\"363200480\",\"366516509\",\"369850237\",\"373032729\",\"376039129\",\"378917964\",\"381605442\",\"384216977\",\"386322917\",\"388391948\",\"390995000\",\"393524745\",\"395949381\",\"398316579\",\"400473497\",\"402425493\",\"404271789\",\"406051882\",\"407875838\",\"409551911\",\"410895608\",\"411974424\",\"412931321\",\"413924499\",\"415076367\",\"416301843\",\"417653046\",\"419073139\",\"420477999\",\"421730520\",\"422963890\",\"424341124\",\"425399126\",\"426203356\",\"426896861\",\"427538048\",\"428109867\",\"428815486\",\"429328622\",\"429895628\",\"430881947\",\"432415932\",\"434040244\",\"435581949\",\"436998045\",\"438468397\",\"439876674\",\"440917801\",\"441532415\",\"440746989\",\"441395937\",\"442469469\",\"443576675\",\"444543761\",\"445487730\",\"446186344\",\"446915113\",\"447196538\",\"447794691\",\\r\\n\"Fragile and conflict affected situations\",\"FCS\",\"Population, total\",\"SP.POP.TOTL\",\"208280083\",\"213082100\",\"218087139\",\"223284589\",\"228670583\",\"234243249\",\"240005133\",\"245962230\",\"252116419\",\"258473157\",\"265037231\",\"271800288\",\"278767597\",\"285961194\",\"293417700\",\"301154406\",\"309196463\",\"317520801\",\"326050578\",\"334679714\",\"343334222\",\"352006783\",\"360736356\",\"369569548\",\"378570396\",\"387802210\",\"397235010\",\"406892515\",\"416947257\",\"427617018\",\"440937023\",\"453319269\",\"466482751\",\"480128168\",\"493815711\",\"507247502\",\"520303326\",\"533112558\",\"545728172\",\"558627550\",\"572303917\",\"586760366\",\"601848734\",\"617468591\",\"633460044\",\"649704454\",\"666174377\",\"682901570\",\"700030438\",\"717553793\",\"735448194\",\"753858934\",\"772742559\",\"791943328\",\"811249811\",\"830536041\",\"849739853\",\"868954263\",\"888488369\",\"908739462\",\"930006546\",\\r\\n\"Finland\",\"FIN\",\"Population, total\",\"SP.POP.TOTL\",\"4429634\",\"4461005\",\"4491443\",\"4523309\",\"4548543\",\"4563732\",\"4580869\",\"4605744\",\"4626469\",\"4623785\",\"4606307\",\"4612124\",\"4639657\",\"4666081\",\"4690574\",\"4711440\",\"4725664\",\"4738902\",\"4752528\",\"4764690\",\"4779535\",\"4799964\",\"4826933\",\"4855787\",\"4881803\",\"4902206\",\"4918154\",\"4932123\",\"4946481\",\"4964371\",\"4986431\",\"5013740\",\"5041992\",\"5066447\",\"5088333\",\"5107790\",\"5124573\",\"5139835\",\"5153498\",\"5165474\",\"5176209\",\"5188008\",\"5200598\",\"5213014\",\"5228172\",\"5246096\",\"5266268\",\"5288720\",\"5313399\",\"5338871\",\"5363352\",\"5388272\",\"5413971\",\"5438972\",\"5461512\",\"5479531\",\"5495303\",\"5508214\",\"5515525\",\"5521606\",\"5530719\",\\r\\n\"Fiji\",\"FJI\",\"Population, total\",\"SP.POP.TOTL\",\"393480\",\"407244\",\"421673\",\"436303\",\"450538\",\"463960\",\"476399\",\"487973\",\"498944\",\"509708\",\"520561\",\"531622\",\"542843\",\"554143\",\"565418\",\"576626\",\"587561\",\"598299\",\"609383\",\"621584\",\"635312\",\"651032\",\"668281\",\"685497\",\"700478\",\"711770\",\"718642\",\"721776\",\"722924\",\"724602\",\"728575\",\"735398\",\"744470\",\"754962\",\"765607\",\"775428\",\"784389\",\"792736\",\"800148\",\"806302\",\"811011\",\"813923\",\"815257\",\"816078\",\"817864\",\"821606\",\"827869\",\"836185\",\"845356\",\"853636\",\"859816\",\"863451\",\"865065\",\"865602\",\"866447\",\"868632\",\"872406\",\"877460\",\"883490\",\"889955\",\"896444\",\\r\\n\"France\",\"FRA\",\"Population, total\",\"SP.POP.TOTL\",\"46621688\",\"47240526\",\"47904879\",\"48582624\",\"49230585\",\"49818019\",\"50330268\",\"50775788\",\"51175507\",\"51561833\",\"51957747\",\"52371320\",\"52793151\",\"53207744\",\"53592235\",\"53931390\",\"54220033\",\"54467709\",\"54691866\",\"54917110\",\"55161510\",\"55430278\",\"55718940\",\"56023775\",\"56337675\",\"56654703\",\"56976126\",\"57302642\",\"57627106\",\"57940199\",\"58235716\",\"58559309\",\"58851216\",\"59106758\",\"59327200\",\"59541904\",\"59753095\",\"59964841\",\"60186284\",\"60496708\",\"60912500\",\"61357432\",\"61805266\",\"62244880\",\"62704901\",\"63179356\",\"63621376\",\"64016227\",\"64374979\",\"64707035\",\"65027505\",\"65342789\",\"65659814\",\"65998685\",\"66312067\",\"66548272\",\"66724104\",\"66918020\",\"67101930\",\"67248926\",\"67391582\",\\r\\n\"Faroe Islands\",\"FRO\",\"Population, total\",\"SP.POP.TOTL\",\"34624\",\"35074\",\"35521\",\"35965\",\"36409\",\"36843\",\"37283\",\"37705\",\"38131\",\"38560\",\"39008\",\"39456\",\"39915\",\"40395\",\"40847\",\"41292\",\"41724\",\"42133\",\"42539\",\"42941\",\"43339\",\"43725\",\"44101\",\"44483\",\"44895\",\"45328\",\"45812\",\"46340\",\"46833\",\"47159\",\"47276\",\"47123\",\"46746\",\"46277\",\"45848\",\"45625\",\"45624\",\"45789\",\"46094\",\"46428\",\"46738\",\"46999\",\"47235\",\"47439\",\"47600\",\"47731\",\"47793\",\"47825\",\"47822\",\"47814\",\"47803\",\"47815\",\"47843\",\"47901\",\"47965\",\"48055\",\"48173\",\"48326\",\"48497\",\"48677\",\"48865\",\\r\\n\"Micronesia, Fed. Sts.\",\"FSM\",\"Population, total\",\"SP.POP.TOTL\",\"44510\",\"45939\",\"47372\",\"48856\",\"50476\",\"52224\",\"54192\",\"56308\",\"58386\",\"60146\",\"61415\",\"62089\",\"62275\",\"62268\",\"62456\",\"63122\",\"64360\",\"66079\",\"68196\",\"70515\",\"72936\",\"75422\",\"78015\",\"80630\",\"83192\",\"85641\",\"87904\",\"89985\",\"91984\",\"94062\",\"96304\",\"98779\",\"101386\",\"103901\",\"106030\",\"107535\",\"108311\",\"108473\",\"108206\",\"107769\",\"107405\",\"107170\",\"107027\",\"106902\",\"106624\",\"106135\",\"105374\",\"104442\",\"103549\",\"102971\",\"102916\",\"103448\",\"104506\",\"105922\",\"107444\",\"108886\",\"110215\",\"111461\",\"112640\",\"113811\",\"115021\",\\r\\n\"Gabon\",\"GAB\",\"Population, total\",\"SP.POP.TOTL\",\"500922\",\"505793\",\"511285\",\"517573\",\"524891\",\"533357\",\"543119\",\"554054\",\"565763\",\"577644\",\"589317\",\"600608\",\"611705\",\"622914\",\"634739\",\"647538\",\"661398\",\"676264\",\"692078\",\"708788\",\"726335\",\"744695\",\"763932\",\"784056\",\"805117\",\"827107\",\"850052\",\"873871\",\"898472\",\"923714\",\"949493\",\"975785\",\"1002573\",\"1029769\",\"1057252\",\"1084951\",\"1112944\",\"1141332\",\"1170061\",\"1199058\",\"1228359\",\"1258008\",\"1288310\",\"1319946\",\"1353788\",\"1390550\",\"1430144\",\"1472565\",\"1518538\",\"1568925\",\"1624146\",\"1684629\",\"1749677\",\"1817070\",\"1883801\",\"1947690\",\"2007882\",\"2064812\",\"2119275\",\"2172578\",\"2225728\",\\r\\n\"United Kingdom\",\"GBR\",\"Population, total\",\"SP.POP.TOTL\",\"52400000\",\"52800000\",\"53250000\",\"53650000\",\"54000000\",\"54348050\",\"54648500\",\"54943600\",\"55211700\",\"55441750\",\"55663250\",\"55896223\",\"56086065\",\"56194527\",\"56229974\",\"56225800\",\"56211968\",\"56193492\",\"56196504\",\"56246951\",\"56314216\",\"56333829\",\"56313641\",\"56332848\",\"56422072\",\"56550268\",\"56681396\",\"56802050\",\"56928327\",\"57076711\",\"57247586\",\"57424897\",\"57580402\",\"57718614\",\"57865745\",\"58019030\",\"58166950\",\"58316954\",\"58487141\",\"58682466\",\"58892514\",\"59119673\",\"59370479\",\"59647577\",\"59987905\",\"60401206\",\"60846820\",\"61322463\",\"61806995\",\"62276270\",\"62766365\",\"63258810\",\"63700215\",\"64128273\",\"64602298\",\"65116219\",\"65611593\",\"66058859\",\"66460344\",\"66836327\",\"67215293\",\\r\\n\"Georgia\",\"GEO\",\"Population, total\",\"SP.POP.TOTL\",\"3645600\",\"3703600\",\"3760300\",\"3816100\",\"3870300\",\"3921600\",\"3966700\",\"4005800\",\"4042300\",\"4080300\",\"4119900\",\"4163000\",\"4205300\",\"4242500\",\"4279500\",\"4311200\",\"4342400\",\"4372100\",\"4397700\",\"4430200\",\"4467700\",\"4504500\",\"4542800\",\"4582900\",\"4622200\",\"4662900\",\"4704500\",\"4743500\",\"4790700\",\"4803300\",\"4802000\",\"4835900\",\"4873500\",\"4911100\",\"4836076\",\"4657722\",\"4491699\",\"4349913\",\"4243607\",\"4157192\",\"4077131\",\"4014373\",\"3978515\",\"3951736\",\"3927340\",\"3902469\",\"3880347\",\"3860158\",\"3848449\",\"3814419\",\"3786695\",\"3756441\",\"3728874\",\"3717668\",\"3719414\",\"3725276\",\"3727505\",\"3728004\",\"3726549\",\"3720161\",\"3714000\",\\r\\n\"Ghana\",\"GHA\",\"Population, total\",\"SP.POP.TOTL\",\"6635229\",\"6848291\",\"7071966\",\"7300124\",\"7524470\",\"7739463\",\"7941418\",\"8132803\",\"8321773\",\"8520018\",\"8735493\",\"8973247\",\"9229640\",\"9493552\",\"9749098\",\"9985946\",\"10199164\",\"10395453\",\"10590265\",\"10805318\",\"11056112\",\"11348287\",\"11676828\",\"12033559\",\"12405659\",\"12783617\",\"13164839\",\"13552021\",\"13947047\",\"14353409\",\"14773274\",\"15207360\",\"15653345\",\"16106756\",\"16561677\",\"17014058\",\"17462504\",\"17908977\",\"18357159\",\"18812369\",\"19278850\",\"19756929\",\"20246376\",\"20750308\",\"21272328\",\"21814648\",\"22379057\",\"22963946\",\"23563832\",\"24170943\",\"24779614\",\"25387713\",\"25996454\",\"26607641\",\"27224480\",\"27849203\",\"28481947\",\"29121464\",\"29767108\",\"30417858\",\"31072945\",\\r\\n\"Gibraltar\",\"GIB\",\"Population, total\",\"SP.POP.TOTL\",\"23420\",\"23808\",\"24307\",\"24889\",\"25478\",\"26079\",\"26631\",\"27172\",\"27693\",\"28165\",\"28601\",\"29007\",\"29353\",\"29657\",\"29886\",\"30062\",\"30179\",\"30228\",\"30224\",\"30172\",\"30068\",\"29902\",\"29698\",\"29481\",\"29284\",\"29151\",\"29096\",\"29114\",\"29164\",\"29187\",\"29149\",\"29021\",\"28844\",\"28680\",\"28605\",\"28688\",\"28970\",\"29404\",\"29945\",\"30526\",\"31081\",\"31604\",\"32097\",\"32556\",\"32930\",\"33222\",\"33420\",\"33524\",\"33570\",\"33562\",\"33585\",\"33608\",\"33653\",\"33694\",\"33726\",\"33742\",\"33738\",\"33723\",\"33715\",\"33706\",\"33691\",\\r\\n\"Guinea\",\"GIN\",\"Population, total\",\"SP.POP.TOTL\",\"3494164\",\"3552068\",\"3611428\",\"3672560\",\"3735912\",\"3801711\",\"3870204\",\"3941046\",\"4013050\",\"4084601\",\"4154606\",\"4223056\",\"4290544\",\"4357357\",\"4424030\",\"4491248\",\"4559239\",\"4628881\",\"4702371\",\"4782491\",\"4871446\",\"4969595\",\"5077073\",\"5195443\",\"5326369\",\"5470716\",\"5629420\",\"5801323\",\"5982484\",\"6167480\",\"6352282\",\"6534936\",\"6716032\",\"6897171\",\"7081119\",\"7269631\",\"7463782\",\"7662071\",\"7860772\",\"8054745\",\"8240735\",\"8417082\",\"8586077\",\"8753097\",\"8925729\",\"9109585\",\"9307421\",\"9518159\",\"9738796\",\"9964470\",\"10192168\",\"10420459\",\"10652032\",\"10892821\",\"11150970\",\"11432096\",\"11738434\",\"12067516\",\"12414292\",\"12771246\",\"13132792\",\\r\\n\"Gambia, The\",\"GMB\",\"Population, total\",\"SP.POP.TOTL\",\"365049\",\"372436\",\"379886\",\"387635\",\"396012\",\"405258\",\"415478\",\"426622\",\"438590\",\"451228\",\"464404\",\"478106\",\"492424\",\"507428\",\"523250\",\"539985\",\"557810\",\"576755\",\"596540\",\"616770\",\"637252\",\"657581\",\"678111\",\"700198\",\"725688\",\"755791\",\"791141\",\"831011\",\"873440\",\"915631\",\"955595\",\"992671\",\"1027476\",\"1060861\",\"1094219\",\"1128577\",\"1164091\",\"1200522\",\"1238124\",\"1277118\",\"1317708\",\"1360070\",\"1404263\",\"1449925\",\"1496524\",\"1543745\",\"1591444\",\"1639846\",\"1689288\",\"1740277\",\"1793199\",\"1848142\",\"1905020\",\"1963708\",\"2024037\",\"2085860\",\"2149134\",\"2213900\",\"2280092\",\"2347696\",\"2416664\",\\r\\n\"Guinea-Bissau\",\"GNB\",\"Population, total\",\"SP.POP.TOTL\",\"616140\",\"622754\",\"628877\",\"635008\",\"641821\",\"649795\",\"658998\",\"669243\",\"680431\",\"692407\",\"704937\",\"718359\",\"732516\",\"746178\",\"757668\",\"765985\",\"770415\",\"771732\",\"772137\",\"774726\",\"781678\",\"793804\",\"810402\",\"830212\",\"851276\",\"872163\",\"892530\",\"912755\",\"933046\",\"953782\",\"975265\",\"997522\",\"1020353\",\"1043421\",\"1066345\",\"1088850\",\"1110835\",\"1132505\",\"1154372\",\"1177133\",\"1201305\",\"1227105\",\"1254454\",\"1283297\",\"1313492\",\"1344931\",\"1377582\",\"1411545\",\"1446936\",\"1483920\",\"1522603\",\"1562996\",\"1604981\",\"1648259\",\"1692433\",\"1737207\",\"1782434\",\"1828146\",\"1874304\",\"1920917\",\"1967998\",\\r\\n\"Equatorial Guinea\",\"GNQ\",\"Population, total\",\"SP.POP.TOTL\",\"255338\",\"258786\",\"262219\",\"266005\",\"270616\",\"276296\",\"283506\",\"291786\",\"299416\",\"304000\",\"303986\",\"298852\",\"289508\",\"277656\",\"265762\",\"255808\",\"247969\",\"242160\",\"239681\",\"241977\",\"249931\",\"264370\",\"284638\",\"308208\",\"331554\",\"352116\",\"369024\",\"382977\",\"394973\",\"406620\",\"419188\",\"432844\",\"447269\",\"462637\",\"479099\",\"496768\",\"515844\",\"536459\",\"558496\",\"581765\",\"606180\",\"631662\",\"658388\",\"686670\",\"716949\",\"749527\",\"784494\",\"821686\",\"860839\",\"901589\",\"943640\",\"986861\",\"1031191\",\"1076412\",\"1122273\",\"1168575\",\"1215181\",\"1262008\",\"1308966\",\"1355982\",\"1402985\",\\r\\n\"Greece\",\"GRC\",\"Population, total\",\"SP.POP.TOTL\",\"8331725\",\"8398050\",\"8448233\",\"8479625\",\"8510429\",\"8550333\",\"8613651\",\"8684088\",\"8740765\",\"8772764\",\"8792806\",\"8831036\",\"8888628\",\"8929086\",\"8962022\",\"9046541\",\"9188150\",\"9308479\",\"9429959\",\"9548258\",\"9642505\",\"9729350\",\"9789513\",\"9846627\",\"9895801\",\"9934300\",\"9967213\",\"10000595\",\"10036983\",\"10089498\",\"10196792\",\"10319927\",\"10399061\",\"10460415\",\"10512922\",\"10562153\",\"10608800\",\"10661259\",\"10720509\",\"10761698\",\"10805808\",\"10862132\",\"10902022\",\"10928070\",\"10955141\",\"10987314\",\"11020362\",\"11048473\",\"11077841\",\"11107017\",\"11121341\",\"11104899\",\"11045011\",\"10965211\",\"10892413\",\"10820883\",\"10775971\",\"10754679\",\"10732882\",\"10721582\",\"10715549\",\\r\\n\"Grenada\",\"GRD\",\"Population, total\",\"SP.POP.TOTL\",\"89927\",\"91324\",\"92481\",\"93409\",\"94122\",\"94634\",\"94936\",\"95012\",\"94929\",\"94723\",\"94476\",\"94212\",\"93984\",\"93661\",\"93190\",\"92494\",\"91469\",\"90219\",\"89104\",\"88603\",\"89032\",\"90610\",\"93132\",\"96020\",\"98472\",\"99953\",\"100183\",\"99425\",\"98126\",\"96932\",\"96328\",\"96462\",\"97161\",\"98234\",\"99345\",\"100286\",\"101003\",\"101567\",\"102023\",\"102429\",\"102837\",\"103242\",\"103636\",\"104003\",\"104346\",\"104658\",\"104938\",\"105183\",\"105457\",\"105787\",\"106227\",\"106786\",\"107452\",\"108172\",\"108900\",\"109603\",\"110263\",\"110874\",\"111449\",\"112002\",\"112519\",\\r\\n\"Greenland\",\"GRL\",\"Population, total\",\"SP.POP.TOTL\",\"32500\",\"33700\",\"35000\",\"36400\",\"37600\",\"39200\",\"40500\",\"41900\",\"43400\",\"44900\",\"46400\",\"47200\",\"48300\",\"49000\",\"49500\",\"49600\",\"49700\",\"49400\",\"49200\",\"49600\",\"50200\",\"51000\",\"51500\",\"52100\",\"52700\",\"53200\",\"53500\",\"54100\",\"54800\",\"55300\",\"55600\",\"55500\",\"55300\",\"55200\",\"55500\",\"55800\",\"55900\",\"56000\",\"56100\",\"56100\",\"56200\",\"56350\",\"56609\",\"56765\",\"56911\",\"56935\",\"56774\",\"56555\",\"56328\",\"56323\",\"56905\",\"56890\",\"56810\",\"56483\",\"56295\",\"56114\",\"56186\",\"56172\",\"56023\",\"56225\",\"56367\",\\r\\n\"Guatemala\",\"GTM\",\"Population, total\",\"SP.POP.TOTL\",\"4128880\",\"4251911\",\"4378604\",\"4508444\",\"4640795\",\"4774984\",\"4910790\",\"5047435\",\"5184095\",\"5320100\",\"5455197\",\"5589563\",\"5723759\",\"5858466\",\"5994300\",\"6131151\",\"6269983\",\"6412667\",\"6561919\",\"6720582\",\"6890346\",\"7071186\",\"7262658\",\"7462585\",\"7669863\",\"7884034\",\"8104921\",\"8332446\",\"8566331\",\"8805995\",\"9050115\",\"9296814\",\"9544055\",\"9790619\",\"10037522\",\"10286786\",\"10536942\",\"10788362\",\"11046215\",\"11311078\",\"11589761\",\"11871565\",\"12147518\",\"12415334\",\"12682108\",\"12948292\",\"13213330\",\"13477017\",\"13739299\",\"14000190\",\"14259687\",\"14521515\",\"14781942\",\"15043981\",\"15306316\",\"15567419\",\"15827690\",\"16087418\",\"16346950\",\"16604026\",\"16858333\",\\r\\n\"Guam\",\"GUM\",\"Population, total\",\"SP.POP.TOTL\",\"66733\",\"68065\",\"69605\",\"71289\",\"73047\",\"74828\",\"76611\",\"78412\",\"80212\",\"82040\",\"83875\",\"85729\",\"87580\",\"89459\",\"91378\",\"93351\",\"95380\",\"97477\",\"99629\",\"101837\",\"104134\",\"106482\",\"108901\",\"111403\",\"113953\",\"116576\",\"119228\",\"121923\",\"124674\",\"127525\",\"130480\",\"133553\",\"136693\",\"139813\",\"142806\",\"145559\",\"148061\",\"150303\",\"152274\",\"153955\",\"155323\",\"156395\",\"157173\",\"157723\",\"158094\",\"158406\",\"158649\",\"158848\",\"159037\",\"159232\",\"159439\",\"159690\",\"159990\",\"160415\",\"161007\",\"161851\",\"162948\",\"164281\",\"165770\",\"167295\",\"168783\",\\r\\n\"Guyana\",\"GUY\",\"Population, total\",\"SP.POP.TOTL\",\"571813\",\"589274\",\"606286\",\"622580\",\"637835\",\"651865\",\"664518\",\"675861\",\"686144\",\"695743\",\"704930\",\"713684\",\"721949\",\"729909\",\"737846\",\"745847\",\"754101\",\"762424\",\"770128\",\"776257\",\"780153\",\"781734\",\"781249\",\"778953\",\"775217\",\"770439\",\"764447\",\"757451\",\"750641\",\"745581\",\"743306\",\"744477\",\"748596\",\"754141\",\"758896\",\"761298\",\"760801\",\"757975\",\"753778\",\"749676\",\"746718\",\"745206\",\"744789\",\"745142\",\"745737\",\"746156\",\"746335\",\"746477\",\"746815\",\"747718\",\"749430\",\"752029\",\"755388\",\"759281\",\"763371\",\"767433\",\"771363\",\"775218\",\"779007\",\"782775\",\"786559\",\\r\\n\"High income\",\"HIC\",\"Population, total\",\"SP.POP.TOTL\",\"759783611\",\"769499360\",\"779465348\",\"789358853\",\"799159797\",\"808596600\",\"817426786\",\"825698975\",\"833895491\",\"842260894\",\"850563450\",\"860560048\",\"869313732\",\"877805133\",\"886141034\",\"894227661\",\"901732072\",\"909139852\",\"916611800\",\"924450013\",\"932075328\",\"939681156\",\"946904804\",\"953688382\",\"960111311\",\"966563677\",\"973188301\",\"979874901\",\"986702713\",\"993966356\",\"1001677611\",\"1010166079\",\"1016513603\",\"1024551207\",\"1032035681\",\"1040719622\",\"1047818942\",\"1054747601\",\"1061501831\",\"1068197515\",\"1074819578\",\"1081809509\",\"1089036403\",\"1096166107\",\"1103693618\",\"1111423301\",\"1119840651\",\"1128710968\",\"1138167727\",\"1146611428\",\"1154194529\",\"1159642350\",\"1166465944\",\"1173351852\",\"1180423771\",\"1187317397\",\"1194191812\",\"1200273639\",\"1205941621\",\"1210795776\",\"1214930230\",\\r\\n\"Hong Kong SAR, China\",\"HKG\",\"Population, total\",\"SP.POP.TOTL\",\"3075605\",\"3168100\",\"3305200\",\"3420900\",\"3504600\",\"3597900\",\"3629900\",\"3722800\",\"3802700\",\"3863900\",\"3959000\",\"4045300\",\"4123600\",\"4241600\",\"4377800\",\"4461600\",\"4518000\",\"4583700\",\"4667500\",\"4929700\",\"5063100\",\"5183400\",\"5264500\",\"5345100\",\"5397900\",\"5456200\",\"5524600\",\"5580500\",\"5627600\",\"5686200\",\"5704500\",\"5752000\",\"5800500\",\"5901000\",\"6035400\",\"6156100\",\"6435500\",\"6489300\",\"6543700\",\"6606500\",\"6665000\",\"6714300\",\"6744100\",\"6730800\",\"6783500\",\"6813200\",\"6857100\",\"6916300\",\"6957800\",\"6972800\",\"7024200\",\"7071600\",\"7150100\",\"7178900\",\"7229500\",\"7291300\",\"7336600\",\"7391700\",\"7451000\",\"7507400\",\"7481800\",\\r\\n\"Honduras\",\"HND\",\"Population, total\",\"SP.POP.TOTL\",\"2038636\",\"2096407\",\"2155648\",\"2216712\",\"2280044\",\"2346005\",\"2414805\",\"2486418\",\"2560723\",\"2637515\",\"2716652\",\"2798125\",\"2882102\",\"2968978\",\"3059245\",\"3153252\",\"3251145\",\"3352825\",\"3458102\",\"3566661\",\"3678274\",\"3792922\",\"3910642\",\"4031333\",\"4154864\",\"4281167\",\"4410270\",\"4542218\",\"4677023\",\"4814696\",\"4955302\",\"5098594\",\"5244677\",\"5394416\",\"5548969\",\"5709010\",\"5874814\",\"6045704\",\"6220405\",\"6397140\",\"6574510\",\"6751912\",\"6929267\",\"7106323\",\"7282953\",\"7458982\",\"7634295\",\"7808520\",\"7980955\",\"8150780\",\"8317467\",\"8480670\",\"8640692\",\"8798524\",\"8955579\",\"9112904\",\"9270794\",\"9429016\",\"9587523\",\"9746115\",\"9904608\",\\r\\n\"Heavily indebted poor countries (HIPC)\",\"HPC\",\"Population, total\",\"SP.POP.TOTL\",\"161734348\",\"165573136\",\"169567052\",\"173722891\",\"178048131\",\"182548798\",\"187227553\",\"192084675\",\"197119416\",\"202329958\",\"207714326\",\"213272593\",\"219004306\",\"224905337\",\"230970270\",\"237195030\",\"243590882\",\"250160343\",\"256880818\",\"263721632\",\"270668519\",\"277719154\",\"284905161\",\"292290400\",\"299959455\",\"307980326\",\"316358167\",\"325095129\",\"334249174\",\"343887503\",\"354047283\",\"364782214\",\"376055877\",\"387705086\",\"399503994\",\"411298637\",\"423019239\",\"434736157\",\"446608371\",\"458867418\",\"471680803\",\"485112670\",\"499113608\",\"513601222\",\"528444638\",\"543555314\",\"558909246\",\"574560319\",\"590590409\",\"607115601\",\"624219296\",\"641921373\",\"660193919\",\"679013004\",\"698336663\",\"718128408\",\"738387077\",\"759106118\",\"780234453\",\"801708019\",\"823480038\",\\r\\n\"Croatia\",\"HRV\",\"Population, total\",\"SP.POP.TOTL\",\"4140181\",\"4167292\",\"4196712\",\"4225675\",\"4252876\",\"4280923\",\"4310701\",\"4338683\",\"4365628\",\"4391490\",\"4412252\",\"4431275\",\"4450564\",\"4470161\",\"4490660\",\"4512082\",\"4535934\",\"4559571\",\"4581085\",\"4594778\",\"4599782\",\"4611509\",\"4634234\",\"4658254\",\"4680285\",\"4701417\",\"4721446\",\"4739745\",\"4755207\",\"4767260\",\"4777368\",\"4689022\",\"4575818\",\"4600463\",\"4652024\",\"4620030\",\"4557097\",\"4534920\",\"4532135\",\"4512597\",\"4468302\",\"4299642\",\"4302174\",\"4303399\",\"4304600\",\"4310145\",\"4311159\",\"4310217\",\"4309705\",\"4305181\",\"4295427\",\"4280622\",\"4267558\",\"4255689\",\"4238389\",\"4203604\",\"4174349\",\"4124531\",\"4087843\",\"4065253\",\"4047200\",\\r\\n\"Haiti\",\"HTI\",\"Population, total\",\"SP.POP.TOTL\",\"3866162\",\"3941956\",\"4019171\",\"4097755\",\"4177631\",\"4258734\",\"4341325\",\"4425318\",\"4509811\",\"4593666\",\"4676237\",\"4757175\",\"4837334\",\"4918625\",\"5003708\",\"5094570\",\"5191637\",\"5294625\",\"5404020\",\"5520187\",\"5643175\",\"5773367\",\"5910223\",\"6051617\",\"6194686\",\"6337275\",\"6478537\",\"6618742\",\"6758222\",\"6897755\",\"7037915\",\"7178611\",\"7319491\",\"7460684\",\"7602318\",\"7744509\",\"7887312\",\"8030721\",\"8174680\",\"8319070\",\"8463802\",\"8608810\",\"8754148\",\"8900108\",\"9047082\",\"9195289\",\"9344784\",\"9495336\",\"9646570\",\"9798046\",\"9949318\",\"10100320\",\"10250922\",\"10400672\",\"10549007\",\"10695540\",\"10839976\",\"10982367\",\"11123183\",\"11263079\",\"11402533\",\\r\\n\"Hungary\",\"HUN\",\"Population, total\",\"SP.POP.TOTL\",\"9983967\",\"10029321\",\"10061734\",\"10087947\",\"10119835\",\"10147935\",\"10178653\",\"10216604\",\"10255815\",\"10298723\",\"10337910\",\"10367537\",\"10398489\",\"10432055\",\"10478720\",\"10540525\",\"10598677\",\"10648031\",\"10684822\",\"10704152\",\"10711122\",\"10711848\",\"10705535\",\"10689463\",\"10668095\",\"10648713\",\"10630564\",\"10612741\",\"10596487\",\"10481719\",\"10373988\",\"10373400\",\"10369341\",\"10357523\",\"10343355\",\"10328965\",\"10311238\",\"10290486\",\"10266570\",\"10237530\",\"10210971\",\"10187576\",\"10158608\",\"10129552\",\"10107146\",\"10087065\",\"10071370\",\"10055780\",\"10038188\",\"10022650\",\"10000023\",\"9971727\",\"9920362\",\"9893082\",\"9866468\",\"9843028\",\"9814023\",\"9787966\",\"9775564\",\"9771141\",\"9749763\",\\r\\n\"IBRD only\",\"IBD\",\"Population, total\",\"SP.POP.TOTL\",\"1919643259\",\"1940356959\",\"1974018983\",\"2019553695\",\"2065153294\",\"2111931236\",\"2161881347\",\"2211446261\",\"2262350288\",\"2315407668\",\"2369907013\",\"2425733326\",\"2480636089\",\"2535259156\",\"2589035943\",\"2641036429\",\"2691929607\",\"2741759767\",\"2792102883\",\"2843436775\",\"2895270850\",\"2948643246\",\"3004914790\",\"3061809639\",\"3118212761\",\"3175484847\",\"3234352999\",\"3294789920\",\"3355391546\",\"3414926034\",\"3472779184\",\"3529273044\",\"3583653536\",\"3636953664\",\"3689444601\",\"3740821661\",\"3791695832\",\"3842266104\",\"3892059002\",\"3940459628\",\"3987195302\",\"4032822479\",\"4077663917\",\"4122166290\",\"4166322561\",\"4210325668\",\"4253873210\",\"4296873722\",\"4340127558\",\"4383703227\",\"4427061950\",\"4471052457\",\"4515480155\",\"4560237588\",\"4604818094\",\"4648913836\",\"4692822905\",\"4736245535\",\"4777365115\",\"4816232592\",\"4853608684\",\\r\\n\"IDA & IBRD total\",\"IBT\",\"Population, total\",\"SP.POP.TOTL\",\"2299245319\",\"2329154652\",\"2372380699\",\"2427869417\",\"2483839827\",\"2541414856\",\"2602626879\",\"2663895780\",\"2726850543\",\"2792171255\",\"2859058030\",\"2927364907\",\"2994908497\",\"3062459678\",\"3129647875\",\"3195675150\",\"3261263509\",\"3326428526\",\"3392709227\",\"3460519136\",\"3529315742\",\"3600136821\",\"3674370514\",\"3749764704\",\"3825225748\",\"3902131693\",\"3981206664\",\"4062409031\",\"4144329655\",\"4225751603\",\"4306143198\",\"4385563803\",\"4463427809\",\"4540599387\",\"4617237223\",\"4693044112\",\"4768632853\",\"4844173689\",\"4919046237\",\"4992708011\",\"5065364303\",\"5137401800\",\"5209100179\",\"5280932681\",\"5352930991\",\"5425296669\",\"5497791266\",\"5570347436\",\"5643704018\",\"5717826420\",\"5792408567\",\"5867926277\",\"5943942309\",\"6020848836\",\"6098309666\",\"6176132700\",\"6254651557\",\"6333519283\",\"6410926655\",\"6486925157\",\"6562212357\",\\r\\n\"IDA total\",\"IDA\",\"Population, total\",\"SP.POP.TOTL\",\"379602060\",\"388797693\",\"398361716\",\"408315722\",\"418686533\",\"429483620\",\"440745532\",\"452449519\",\"464500255\",\"476763587\",\"489151017\",\"501631581\",\"514272408\",\"527200522\",\"540611932\",\"554638721\",\"569333902\",\"584668759\",\"600606344\",\"617082361\",\"634044892\",\"651493575\",\"669455724\",\"687955065\",\"707012987\",\"726646846\",\"746853665\",\"767619111\",\"788938109\",\"810825569\",\"833364014\",\"856290759\",\"879774273\",\"903645723\",\"927792622\",\"952222451\",\"976937021\",\"1001907585\",\"1026987235\",\"1052248383\",\"1078169001\",\"1104579321\",\"1131436262\",\"1158766391\",\"1186608430\",\"1214971001\",\"1243918056\",\"1273473714\",\"1303576460\",\"1334123193\",\"1365346617\",\"1396873820\",\"1428462154\",\"1460611248\",\"1493491572\",\"1527218864\",\"1561828652\",\"1597273748\",\"1633561540\",\"1670692565\",\"1708603673\",\\r\\n\"IDA blend\",\"IDB\",\"Population, total\",\"SP.POP.TOTL\",\"120391642\",\"123270998\",\"126289838\",\"129443834\",\"132726682\",\"136134348\",\"139672971\",\"143347860\",\"147154758\",\"151087339\",\"155145837\",\"159323709\",\"163635977\",\"168129765\",\"172867304\",\"177892039\",\"183221937\",\"188841826\",\"194720560\",\"200810543\",\"207074946\",\"213499720\",\"220088448\",\"226841896\",\"233765810\",\"240860675\",\"248127780\",\"255551895\",\"263097505\",\"270718966\",\"278496624\",\"286142541\",\"293874928\",\"301679823\",\"309568084\",\"317616125\",\"325908669\",\"334399195\",\"342980973\",\"351519915\",\"360173395\",\"368820674\",\"377512139\",\"386309887\",\"395320129\",\"404615733\",\"414232540\",\"424192620\",\"434469632\",\"444998547\",\"456049577\",\"467267685\",\"478335316\",\"489624577\",\"501146189\",\"512877239\",\"524794580\",\"536871945\",\"549127807\",\"561571929\",\"574159138\",\\r\\n\"Indonesia\",\"IDN\",\"Population, total\",\"SP.POP.TOTL\",\"87751066\",\"90098396\",\"92518373\",\"95015295\",\"97596728\",\"100267070\",\"103025423\",\"105865576\",\"108779926\",\"111758566\",\"114793179\",\"117880146\",\"121017316\",\"124199693\",\"127422198\",\"130680730\",\"133966940\",\"137278057\",\"140621731\",\"144009844\",\"147447834\",\"150938222\",\"154468235\",\"158009248\",\"161523353\",\"164982452\",\"168374287\",\"171702756\",\"174975953\",\"178209147\",\"181413398\",\"184591897\",\"187739786\",\"190851184\",\"193917458\",\"196934257\",\"199901231\",\"202826444\",\"205724597\",\"208615171\",\"211513822\",\"214427419\",\"217357790\",\"220309473\",\"223285666\",\"226289468\",\"229318262\",\"232374239\",\"235469755\",\"238620554\",\"241834226\",\"245115988\",\"248451714\",\"251805314\",\"255128076\",\"258383257\",\"261556386\",\"264650969\",\"267670549\",\"270625567\",\"273523621\",\\r\\n\"IDA only\",\"IDX\",\"Population, total\",\"SP.POP.TOTL\",\"259210418\",\"265526695\",\"272071878\",\"278871888\",\"285959851\",\"293349272\",\"301072561\",\"309101659\",\"317345497\",\"325676248\",\"334005180\",\"342307872\",\"350636431\",\"359070757\",\"367744628\",\"376746682\",\"386111965\",\"395826933\",\"405885784\",\"416271818\",\"426969946\",\"437993855\",\"449367276\",\"461113169\",\"473247177\",\"485786171\",\"498725885\",\"512067216\",\"525840604\",\"540106603\",\"554867390\",\"570148218\",\"585899345\",\"601965900\",\"618224538\",\"634606326\",\"651028352\",\"667508390\",\"684006262\",\"700728468\",\"717995606\",\"735758647\",\"753924123\",\"772456504\",\"791288301\",\"810355268\",\"829685516\",\"849281094\",\"869106828\",\"889124646\",\"909297040\",\"929606135\",\"950126838\",\"970986671\",\"992345383\",\"1014341625\",\"1037034072\",\"1060401803\",\"1084433733\",\"1109120636\",\"1134444535\",\\r\\n\"Isle of Man\",\"IMN\",\"Population, total\",\"SP.POP.TOTL\",\"48444\",\"48286\",\"48421\",\"48800\",\"49396\",\"50145\",\"51051\",\"52117\",\"53252\",\"54378\",\"55431\",\"56352\",\"57166\",\"57919\",\"58673\",\"59482\",\"60374\",\"61335\",\"62260\",\"63026\",\"63546\",\"63778\",\"63765\",\"63697\",\"63812\",\"64277\",\"65200\",\"66476\",\"67927\",\"69263\",\"70292\",\"70928\",\"71262\",\"71431\",\"71662\",\"72133\",\"72884\",\"73851\",\"74936\",\"75996\",\"76942\",\"77707\",\"78318\",\"78878\",\"79515\",\"80293\",\"81283\",\"82406\",\"83515\",\"84379\",\"84856\",\"84889\",\"84534\",\"83985\",\"83488\",\"83232\",\"83296\",\"83610\",\"84073\",\"84589\",\"85032\",\\r\\n\"India\",\"IND\",\"Population, total\",\"SP.POP.TOTL\",\"450547675\",\"459642166\",\"469077191\",\"478825602\",\"488848139\",\"499123328\",\"509631509\",\"520400577\",\"531513834\",\"543084333\",\"555189797\",\"567868021\",\"581087255\",\"594770136\",\"608802595\",\"623102900\",\"637630085\",\"652408766\",\"667499815\",\"682995348\",\"698952837\",\"715384997\",\"732239498\",\"749428958\",\"766833411\",\"784360012\",\"801975250\",\"819682095\",\"837468938\",\"855334675\",\"873277799\",\"891273202\",\"909307018\",\"927403866\",\"945601828\",\"963922586\",\"982365248\",\"1000900028\",\"1019483586\",\"1038058154\",\"1056575548\",\"1075000094\",\"1093317187\",\"1111523146\",\"1129623466\",\"1147609924\",\"1165486291\",\"1183209471\",\"1200669762\",\"1217726217\",\"1234281163\",\"1250287939\",\"1265780243\",\"1280842119\",\"1295600768\",\"1310152392\",\"1324517250\",\"1338676779\",\"1352642283\",\"1366417756\",\"1380004385\",\\r\\n\"Not classified\",\"INX\",\"Population, total\",\"SP.POP.TOTL\",\"\",\"\",\"\",\"\",\"\",\"\",\"\",\"\",\"\",\"\",\"\",\"\",\"\",\"\",\"\",\"\",\"\",\"\",\"\",\"\",\"\",\"\",\"\",\"\",\"\",\"\",\"\",\"\",\"\",\"\",\"\",\"\",\"\",\"\",\"\",\"\",\"\",\"\",\"\",\"\",\"\",\"\",\"\",\"\",\"\",\"\",\"\",\"\",\"\",\"\",\"\",\"\",\"\",\"\",\"\",\"\",\"\",\"\",\"\",\"\",\"\",\\r\\n\"Ireland\",\"IRL\",\"Population, total\",\"SP.POP.TOTL\",\"2828600\",\"2824400\",\"2836050\",\"2852650\",\"2866550\",\"2877300\",\"2888800\",\"2902450\",\"2915550\",\"2932650\",\"2957250\",\"2992050\",\"3036850\",\"3085950\",\"3137500\",\"3189550\",\"3238050\",\"3282200\",\"3329100\",\"3373750\",\"3412800\",\"3453000\",\"3485800\",\"3510600\",\"3532423\",\"3538082\",\"3539690\",\"3540057\",\"3524949\",\"3511009\",\"3513974\",\"3534235\",\"3558430\",\"3576261\",\"3590386\",\"3608841\",\"3637510\",\"3674171\",\"3712696\",\"3754786\",\"3805174\",\"3866243\",\"3931947\",\"3996521\",\"4070262\",\"4159914\",\"4273591\",\"4398942\",\"4489544\",\"4535375\",\"4560155\",\"4580084\",\"4599533\",\"4623816\",\"4657740\",\"4701957\",\"4755335\",\"4807388\",\"4867316\",\"4934340\",\"4994724\",\\r\\n\"Iran, Islamic Rep.\",\"IRN\",\"Population, total\",\"SP.POP.TOTL\",\"21906909\",\"22480371\",\"23071309\",\"23680246\",\"24307855\",\"24954865\",\"25624380\",\"26317776\",\"27032576\",\"27764928\",\"28513872\",\"29281583\",\"30075295\",\"30905721\",\"31786481\",\"32729772\",\"33733975\",\"34803041\",\"35960811\",\"37237145\",\"38650244\",\"40199911\",\"41869231\",\"43636838\",\"45472792\",\"47347197\",\"49260263\",\"51193782\",\"53077312\",\"54822005\",\"56366212\",\"57679025\",\"58780376\",\"59723761\",\"60590608\",\"61442658\",\"62294919\",\"63136309\",\"63971836\",\"64800875\",\"65623397\",\"66449111\",\"67284801\",\"68122947\",\"68951279\",\"69762345\",\"70554756\",\"71336476\",\"72120608\",\"72924833\",\"73762519\",\"74634959\",\"75539881\",\"76481963\",\"77465769\",\"78492208\",\"79563991\",\"80673888\",\"81800204\",\"82913893\",\"83992953\",\\r\\n\"Iraq\",\"IRQ\",\"Population, total\",\"SP.POP.TOTL\",\"7289753\",\"7475349\",\"7674217\",\"7888910\",\"8122199\",\"8375795\",\"8651162\",\"8947397\",\"9260687\",\"9585585\",\"9917978\",\"10255853\",\"10599661\",\"10950888\",\"11312062\",\"11684579\",\"12068675\",\"12462059\",\"12860678\",\"13259107\",\"13653348\",\"14044115\",\"14432466\",\"14815653\",\"15190396\",\"15555807\",\"15909764\",\"16257072\",\"16612319\",\"16994942\",\"17419113\",\"17889457\",\"18402740\",\"18955087\",\"19539348\",\"20149342\",\"20783073\",\"21439579\",\"22114330\",\"22802061\",\"23497589\",\"24208178\",\"24931922\",\"25644503\",\"26313838\",\"26922279\",\"27448124\",\"27911242\",\"28385739\",\"28973157\",\"29741977\",\"30725305\",\"31890012\",\"33157061\",\"34411949\",\"35572269\",\"36610632\",\"37552789\",\"38433604\",\"39309789\",\"40222503\",\\r\\n\"Iceland\",\"ISL\",\"Population, total\",\"SP.POP.TOTL\",\"175574\",\"179029\",\"182378\",\"185653\",\"188983\",\"192286\",\"195570\",\"198751\",\"201488\",\"203369\",\"204438\",\"206098\",\"209137\",\"212317\",\"215209\",\"217979\",\"220154\",\"221799\",\"223537\",\"225735\",\"228138\",\"230755\",\"233860\",\"236977\",\"239511\",\"241405\",\"243180\",\"245859\",\"249740\",\"252852\",\"254826\",\"257797\",\"261057\",\"263725\",\"266021\",\"267468\",\"268916\",\"271128\",\"274047\",\"277381\",\"281205\",\"284968\",\"287523\",\"289521\",\"292074\",\"296734\",\"303782\",\"311566\",\"317414\",\"318499\",\"318041\",\"319014\",\"320716\",\"323764\",\"327386\",\"330815\",\"335439\",\"343400\",\"352721\",\"360563\",\"366425\",\\r\\n\"Israel\",\"ISR\",\"Population, total\",\"SP.POP.TOTL\",\"2114020\",\"2185000\",\"2293000\",\"2379000\",\"2475000\",\"2563000\",\"2629000\",\"2745000\",\"2803000\",\"2877000\",\"2974000\",\"3069000\",\"3148000\",\"3278000\",\"3377000\",\"3455000\",\"3533000\",\"3613000\",\"3690000\",\"3786000\",\"3878000\",\"3956000\",\"4031000\",\"4105000\",\"4159000\",\"4233000\",\"4299000\",\"4369000\",\"4442000\",\"4518000\",\"4660000\",\"4949000\",\"5123000\",\"5261000\",\"5399000\",\"5545000\",\"5692000\",\"5836000\",\"5971000\",\"6125000\",\"6289000\",\"6439000\",\"6570000\",\"6689700\",\"6809000\",\"6930100\",\"7053700\",\"7180100\",\"7308800\",\"7485600\",\"7623600\",\"7765800\",\"7910500\",\"8059500\",\"8215700\",\"8380100\",\"8546000\",\"8713300\",\"8882800\",\"9054000\",\"9216900\",\\r\\n\"Italy\",\"ITA\",\"Population, total\",\"SP.POP.TOTL\",\"50199700\",\"50536350\",\"50879450\",\"51252000\",\"51675350\",\"52112350\",\"52519000\",\"52900500\",\"53235750\",\"53537950\",\"53821850\",\"54073490\",\"54381345\",\"54751406\",\"55110868\",\"55441001\",\"55718260\",\"55955411\",\"56155143\",\"56317749\",\"56433883\",\"56501675\",\"56543548\",\"56564074\",\"56576718\",\"56593071\",\"56596155\",\"56601931\",\"56629288\",\"56671781\",\"56719240\",\"56758521\",\"56797087\",\"56831821\",\"56843400\",\"56844303\",\"56860281\",\"56890372\",\"56906744\",\"56916317\",\"56942108\",\"56974100\",\"57059007\",\"57313203\",\"57685327\",\"57969484\",\"58143979\",\"58438310\",\"58826731\",\"59095365\",\"59277417\",\"59379449\",\"59539717\",\"60233948\",\"60789140\",\"60730582\",\"60627498\",\"60536709\",\"60421760\",\"59729081\",\"59554023\",\\r\\n\"Jamaica\",\"JAM\",\"Population, total\",\"SP.POP.TOTL\",\"1628524\",\"1651067\",\"1676500\",\"1703660\",\"1730739\",\"1756508\",\"1780522\",\"1803324\",\"1825873\",\"1849658\",\"1875637\",\"1904281\",\"1935089\",\"1966978\",\"1998313\",\"2028019\",\"2055371\",\"2080824\",\"2105903\",\"2132784\",\"2162839\",\"2196921\",\"2234062\",\"2271735\",\"2306367\",\"2335510\",\"2358165\",\"2375400\",\"2389415\",\"2403464\",\"2419901\",\"2439329\",\"2461047\",\"2484583\",\"2509042\",\"2533705\",\"2558631\",\"2583914\",\"2608874\",\"2632677\",\"2654698\",\"2674706\",\"2692843\",\"2709438\",\"2725017\",\"2740000\",\"2754414\",\"2768229\",\"2781869\",\"2795839\",\"2810464\",\"2825932\",\"2842128\",\"2858710\",\"2875137\",\"2891024\",\"2906242\",\"2920848\",\"2934853\",\"2948277\",\"2961161\",\\r\\n\"Jordan\",\"JOR\",\"Population, total\",\"SP.POP.TOTL\",\"933102\",\"973983\",\"1010647\",\"1050212\",\"1102404\",\"1173603\",\"1267063\",\"1378995\",\"1500168\",\"1617427\",\"1721315\",\"1809193\",\"1883923\",\"1948443\",\"2007735\",\"2065916\",\"2123180\",\"2179361\",\"2237936\",\"2303116\",\"2377997\",\"2464870\",\"2563525\",\"2671413\",\"2784457\",\"2900055\",\"3015294\",\"3131800\",\"3256552\",\"3399333\",\"3565888\",\"3760493\",\"3977667\",\"4201559\",\"4410357\",\"4588842\",\"4732848\",\"4848536\",\"4943975\",\"5031754\",\"5122495\",\"5217328\",\"5317514\",\"5434036\",\"5580241\",\"5765639\",\"5991547\",\"6255290\",\"6556473\",\"6893258\",\"7261541\",\"7662858\",\"8089963\",\"8518992\",\"8918822\",\"9266573\",\"9554286\",\"9785840\",\"9965322\",\"10101697\",\"10203140\",\\r\\n\"Japan\",\"JPN\",\"Population, total\",\"SP.POP.TOTL\",\"93216000\",\"94055000\",\"94933000\",\"95900000\",\"96903000\",\"97952000\",\"98851000\",\"99879000\",\"101011000\",\"102219000\",\"103403000\",\"105697000\",\"107188000\",\"108707000\",\"110162000\",\"111573000\",\"112775000\",\"113872000\",\"114913000\",\"115890000\",\"116807000\",\"117661000\",\"118480000\",\"119307000\",\"120083000\",\"120837000\",\"121482000\",\"122069000\",\"122578000\",\"123069000\",\"123478000\",\"123964000\",\"124425000\",\"124829000\",\"125178000\",\"125472000\",\"125757000\",\"126057000\",\"126400000\",\"126631000\",\"126843000\",\"127149000\",\"127445000\",\"127718000\",\"127761000\",\"127773000\",\"127854000\",\"128001000\",\"128063000\",\"128047000\",\"128070000\",\"127833000\",\"127629000\",\"127445000\",\"127276000\",\"127141000\",\"126994511\",\"126785797\",\"126529100\",\"126264931\",\"125836021\",\\r\\n\"Kazakhstan\",\"KAZ\",\"Population, total\",\"SP.POP.TOTL\",\"9934564\",\"10349422\",\"10756931\",\"11147860\",\"11511856\",\"11841926\",\"12132560\",\"12385706\",\"12611432\",\"12824614\",\"13036140\",\"13250211\",\"13463985\",\"13673014\",\"13869975\",\"14050227\",\"14212145\",\"14359629\",\"14499957\",\"14643133\",\"14796175\",\"14958897\",\"15128090\",\"15303316\",\"15483411\",\"15665594\",\"15852524\",\"16039253\",\"16205998\",\"16249500\",\"16348000\",\"16451711\",\"16439095\",\"16380672\",\"16145766\",\"15816243\",\"15578227\",\"15334405\",\"15071640\",\"14928374\",\"14883626\",\"14858335\",\"14858948\",\"14909019\",\"15012984\",\"15147029\",\"15308085\",\"15484192\",\"15776938\",\"16092822\",\"16321872\",\"16557202\",\"16792090\",\"17035551\",\"17288285\",\"17542806\",\"17794055\",\"18037776\",\"18276452\",\"18513673\",\"18754440\",\\r\\n\"Kenya\",\"KEN\",\"Population, total\",\"SP.POP.TOTL\",\"8120082\",\"8377693\",\"8647002\",\"8928510\",\"9222692\",\"9530163\",\"9851453\",\"10187487\",\"10539909\",\"10910677\",\"11301394\",\"11713046\",\"12146070\",\"12600799\",\"13077341\",\"13575898\",\"14096258\",\"14638887\",\"15205381\",\"15797771\",\"16417203\",\"17063870\",\"17736326\",\"18431760\",\"19146403\",\"19877078\",\"20622560\",\"21382111\",\"22153685\",\"22935088\",\"23724574\",\"24521714\",\"25326080\",\"26136217\",\"26950508\",\"27768297\",\"28589456\",\"29415660\",\"30250488\",\"31098763\",\"31964557\",\"32848569\",\"33751746\",\"34678781\",\"35635267\",\"36624897\",\"37649039\",\"38705934\",\"39791984\",\"40901798\",\"42030684\",\"43178270\",\"44343469\",\"45519986\",\"46700063\",\"47878339\",\"49051531\",\"50221146\",\"51392570\",\"52573967\",\"53771300\",\\r\\n\"Kyrgyz Republic\",\"KGZ\",\"Population, total\",\"SP.POP.TOTL\",\"2172300\",\"2255900\",\"2333400\",\"2413700\",\"2495300\",\"2573300\",\"2655300\",\"2736500\",\"2818300\",\"2894800\",\"2959900\",\"3022300\",\"3088200\",\"3153800\",\"3223900\",\"3292400\",\"3358700\",\"3423900\",\"3487100\",\"3552000\",\"3617400\",\"3685800\",\"3759300\",\"3838300\",\"3916400\",\"3990300\",\"4066500\",\"4144600\",\"4218400\",\"4307500\",\"4391200\",\"4463600\",\"4515400\",\"4516700\",\"4515100\",\"4560400\",\"4628400\",\"4696400\",\"4769000\",\"4840400\",\"4898400\",\"4945100\",\"4990700\",\"5043300\",\"5104700\",\"5162600\",\"5218400\",\"5268400\",\"5318700\",\"5383300\",\"5447900\",\"5514600\",\"5607200\",\"5719600\",\"5835500\",\"5956900\",\"6079500\",\"6198200\",\"6322800\",\"6456200\",\"6591600\",\\r\\n\"Cambodia\",\"KHM\",\"Population, total\",\"SP.POP.TOTL\",\"5722372\",\"5872968\",\"6028434\",\"6183586\",\"6331443\",\"6467191\",\"6585034\",\"6685961\",\"6779778\",\"6880623\",\"6996576\",\"7139640\",\"7302114\",\"7449233\",\"7533332\",\"7524457\",\"7404687\",\"7196042\",\"6957267\",\"6770393\",\"6693759\",\"6749849\",\"6919803\",\"7170004\",\"7447844\",\"7714894\",\"7960952\",\"8198082\",\"8435909\",\"8691331\",\"8975597\",\"9289298\",\"9623899\",\"9970727\",\"10317901\",\"10656145\",\"10982919\",\"11298594\",\"11600510\",\"11886464\",\"12155241\",\"12405411\",\"12637719\",\"12856171\",\"13066475\",\"13273355\",\"13477705\",\"13679953\",\"13883835\",\"14093605\",\"14312205\",\"14541421\",\"14780454\",\"15026330\",\"15274506\",\"15521435\",\"15766290\",\"16009413\",\"16249795\",\"16486542\",\"16718971\",\\r\\n\"Kiribati\",\"KIR\",\"Population, total\",\"SP.POP.TOTL\",\"41196\",\"42234\",\"43283\",\"44342\",\"45392\",\"46429\",\"47429\",\"48403\",\"49354\",\"50267\",\"51142\",\"51979\",\"52775\",\"53558\",\"54334\",\"55114\",\"55922\",\"56759\",\"57613\",\"58469\",\"59296\",\"60101\",\"60887\",\"61736\",\"62745\",\"63989\",\"65504\",\"67244\",\"69087\",\"70849\",\"72394\",\"73692\",\"74767\",\"75711\",\"76668\",\"77716\",\"78904\",\"80188\",\"81558\",\"82969\",\"84405\",\"85844\",\"87308\",\"88840\",\"90498\",\"92319\",\"94341\",\"96531\",\"98760\",\"100928\",\"102930\",\"104735\",\"106359\",\"107887\",\"109387\",\"110927\",\"112529\",\"114153\",\"115842\",\"117608\",\"119446\",\\r\\n\"St. Kitts and Nevis\",\"KNA\",\"Population, total\",\"SP.POP.TOTL\",\"51199\",\"51196\",\"50961\",\"50529\",\"49928\",\"49209\",\"48351\",\"47388\",\"46399\",\"45529\",\"44878\",\"44489\",\"44318\",\"44304\",\"44322\",\"44271\",\"44140\",\"43944\",\"43703\",\"43452\",\"43201\",\"42963\",\"42733\",\"42477\",\"42198\",\"41874\",\"41479\",\"41041\",\"40633\",\"40354\",\"40260\",\"40381\",\"40691\",\"41141\",\"41618\",\"42077\",\"42472\",\"42857\",\"43225\",\"43622\",\"44083\",\"44602\",\"45168\",\"45749\",\"46323\",\"46852\",\"47333\",\"47769\",\"48178\",\"48599\",\"49011\",\"49442\",\"49881\",\"50328\",\"50776\",\"51204\",\"51629\",\"52036\",\"52438\",\"52834\",\"53192\",\\r\\n\"Korea, Rep.\",\"KOR\",\"Population, total\",\"SP.POP.TOTL\",\"25012374\",\"25765673\",\"26513030\",\"27261747\",\"27984155\",\"28704674\",\"29435571\",\"30130983\",\"30838302\",\"31544266\",\"32240827\",\"32882704\",\"33505406\",\"34103149\",\"34692266\",\"35280725\",\"35848523\",\"36411795\",\"36969185\",\"37534236\",\"38123775\",\"38723248\",\"39326352\",\"39910403\",\"40405956\",\"40805744\",\"41213674\",\"41621690\",\"42031247\",\"42449038\",\"42869283\",\"43295704\",\"43747962\",\"44194628\",\"44641540\",\"45092991\",\"45524681\",\"45953580\",\"46286503\",\"46616677\",\"47008111\",\"47370164\",\"47644736\",\"47892330\",\"48082519\",\"48184561\",\"48438292\",\"48683638\",\"49054708\",\"49307835\",\"49554112\",\"49936638\",\"50199853\",\"50428893\",\"50746659\",\"51014947\",\"51217803\",\"51361911\",\"51606633\",\"51709098\",\"51780579\",\\r\\n\"Kuwait\",\"KWT\",\"Population, total\",\"SP.POP.TOTL\",\"269026\",\"300581\",\"337346\",\"378756\",\"423900\",\"472032\",\"523169\",\"577164\",\"632911\",\"688972\",\"744444\",\"798639\",\"851918\",\"905639\",\"961773\",\"1021725\",\"1085866\",\"1153573\",\"1224063\",\"1296077\",\"1368680\",\"1439334\",\"1507636\",\"1576975\",\"1652150\",\"1735278\",\"1832302\",\"1938916\",\"2034850\",\"2092786\",\"2095350\",\"2031297\",\"\",\"\",\"\",\"1605907\",\"1626858\",\"1710257\",\"1831121\",\"1951642\",\"2045123\",\"2103273\",\"2136991\",\"2161626\",\"2200498\",\"2270196\",\"2373661\",\"2504026\",\"2656010\",\"2821041\",\"2991884\",\"3168054\",\"3348852\",\"3526382\",\"3690939\",\"3835588\",\"3956862\",\"4056102\",\"4137314\",\"4207077\",\"4270563\",\\r\\n\"Latin America & Caribbean (excluding high income)\",\"LAC\",\"Population, total\",\"SP.POP.TOTL\",\"197123485\",\"202635411\",\"208319980\",\"214152054\",\"220096687\",\"226126959\",\"232233929\",\"238418074\",\"244674060\",\"250999444\",\"257392749\",\"263849485\",\"270368419\",\"276956213\",\"283622634\",\"290374325\",\"297207329\",\"304120290\",\"311125944\",\"318240296\",\"325470475\",\"332819629\",\"340272476\",\"347792200\",\"355331567\",\"362854776\",\"370346031\",\"377806267\",\"385236744\",\"392644850\",\"400034081\",\"407394108\",\"414713589\",\"421995092\",\"429246145\",\"436470219\",\"443669730\",\"450833590\",\"457935268\",\"464933468\",\"471805920\",\"478530627\",\"485108963\",\"491558169\",\"497915775\",\"504205968\",\"510437972\",\"516611312\",\"522729313\",\"528793175\",\"534699518\",\"540699864\",\"546631449\",\"552552130\",\"558534202\",\"564618410\",\"570838477\",\"577151682\",\"583432088\",\"589503742\",\"595242966\",\\r\\n\"Lao PDR\",\"LAO\",\"Population, total\",\"SP.POP.TOTL\",\"2120892\",\"2170340\",\"2221123\",\"2273352\",\"2327137\",\"2382586\",\"2439197\",\"2496927\",\"2556845\",\"2620448\",\"2688429\",\"2762264\",\"2840842\",\"2919288\",\"2990963\",\"3051583\",\"3098962\",\"3135839\",\"3168838\",\"3207331\",\"3258149\",\"3323353\",\"3401193\",\"3489910\",\"3586315\",\"3687889\",\"3794204\",\"3905530\",\"4020817\",\"4138845\",\"4258471\",\"4379234\",\"4500346\",\"4619946\",\"4735837\",\"4846477\",\"4951189\",\"5050308\",\"5144601\",\"5235339\",\"5323701\",\"5409584\",\"5493247\",\"5576640\",\"5662199\",\"5751675\",\"5846075\",\"5944950\",\"6046630\",\"6148621\",\"6249168\",\"6347564\",\"6444527\",\"6541302\",\"6639763\",\"6741160\",\"6845848\",\"6953031\",\"7061498\",\"7169456\",\"7275556\",\\r\\n\"Lebanon\",\"LBN\",\"Population, total\",\"SP.POP.TOTL\",\"1804935\",\"1864613\",\"1925295\",\"1984999\",\"2041231\",\"2092374\",\"2136617\",\"2174732\",\"2210769\",\"2250454\",\"2297436\",\"2354046\",\"2417837\",\"2481943\",\"2536772\",\"2575746\",\"2596409\",\"2601734\",\"2597202\",\"2590911\",\"2588928\",\"2594299\",\"2606148\",\"2622072\",\"2638056\",\"2651992\",\"2660873\",\"2667957\",\"2684682\",\"2726438\",\"2803032\",\"2921700\",\"3076133\",\"3246129\",\"3403359\",\"3528379\",\"3610663\",\"3658425\",\"3693514\",\"3747762\",\"3842774\",\"3990999\",\"4182205\",\"4388378\",\"4569377\",\"4698761\",\"4759760\",\"4767347\",\"4764745\",\"4813026\",\"4953064\",\"5202022\",\"5537620\",\"5913016\",\"6261046\",\"6532681\",\"6714281\",\"6819373\",\"6859408\",\"6855709\",\"6825442\",\\r\\n\"Liberia\",\"LBR\",\"Population, total\",\"SP.POP.TOTL\",\"1118655\",\"1142304\",\"1166651\",\"1191796\",\"1217905\",\"1245104\",\"1273458\",\"1303032\",\"1333980\",\"1366500\",\"1400730\",\"1436740\",\"1474567\",\"1514364\",\"1556288\",\"1600454\",\"1645833\",\"1692155\",\"1740919\",\"1794251\",\"1852991\",\"1918832\",\"1989477\",\"2057232\",\"2111667\",\"2145756\",\"2158434\",\"2153312\",\"2134105\",\"2106429\",\"2075917\",\"2040141\",\"2001612\",\"1976701\",\"1986491\",\"2044657\",\"2160480\",\"2326210\",\"2517472\",\"2699708\",\"2848447\",\"2953928\",\"3024727\",\"3077055\",\"3135654\",\"3218114\",\"3329211\",\"3461911\",\"3607863\",\"3754129\",\"3891357\",\"4017446\",\"4135662\",\"4248337\",\"4359508\",\"4472229\",\"4586788\",\"4702224\",\"4818976\",\"4937374\",\"5057677\",\\r\\n\"Libya\",\"LBY\",\"Population, total\",\"SP.POP.TOTL\",\"1448416\",\"1498076\",\"1550815\",\"1607168\",\"1667822\",\"1733307\",\"1803689\",\"1878869\",\"1958909\",\"2043820\",\"2133527\",\"2228142\",\"2327487\",\"2430754\",\"2536895\",\"2645136\",\"2754698\",\"2865639\",\"2979102\",\"3096724\",\"3219462\",\"3347779\",\"3480443\",\"3614682\",\"3746712\",\"3873781\",\"3994601\",\"4109717\",\"4220451\",\"4328935\",\"4436663\",\"4544245\",\"4650896\",\"4755134\",\"4854871\",\"4948796\",\"5036173\",\"5118008\",\"5196774\",\"5275921\",\"5357893\",\"5443249\",\"5531097\",\"5620545\",\"5710163\",\"5798615\",\"5886874\",\"5974786\",\"6058740\",\"6133987\",\"6197667\",\"6247438\",\"6285751\",\"6320350\",\"6362039\",\"6418315\",\"6492160\",\"6580723\",\"6678565\",\"6777453\",\"6871287\",\\r\\n\"St. Lucia\",\"LCA\",\"Population, total\",\"SP.POP.TOTL\",\"89698\",\"90718\",\"91892\",\"93214\",\"94637\",\"96138\",\"97721\",\"99370\",\"101028\",\"102599\",\"104016\",\"105244\",\"106303\",\"107311\",\"108389\",\"109634\",\"111074\",\"112685\",\"114398\",\"116148\",\"117828\",\"119435\",\"120987\",\"122571\",\"124296\",\"126246\",\"128448\",\"130868\",\"133364\",\"135787\",\"138019\",\"140001\",\"141758\",\"143402\",\"145080\",\"146871\",\"148837\",\"150920\",\"153023\",\"154988\",\"156737\",\"158184\",\"159392\",\"160530\",\"161821\",\"163408\",\"165378\",\"167644\",\"170011\",\"172223\",\"174092\",\"175538\",\"176654\",\"177505\",\"178307\",\"179131\",\"180028\",\"180955\",\"181890\",\"182795\",\"183629\",\\r\\n\"Latin America & Caribbean\",\"LCN\",\"Population, total\",\"SP.POP.TOTL\",\"219828794\",\"225912719\",\"232183258\",\"238612680\",\"245147710\",\"251760583\",\"258440584\",\"265187879\",\"272006857\",\"278898334\",\"285867424\",\"292913867\",\"300028905\",\"307224818\",\"314508488\",\"321883714\",\"329348136\",\"336897935\",\"344553109\",\"352320721\",\"360211832\",\"368220724\",\"376337306\",\"384527729\",\"392750803\",\"400974913\",\"409183996\",\"417376183\",\"425549887\",\"433708712\",\"441855797\",\"449968703\",\"458041493\",\"466082322\",\"474089591\",\"482060085\",\"490002410\",\"497889881\",\"505687097\",\"513366691\",\"520903474\",\"528283130\",\"535509387\",\"542599527\",\"549590680\",\"556504216\",\"563337657\",\"570091479\",\"576783743\",\"583430021\",\"589932530\",\"596538052\",\"603094656\",\"609595811\",\"615999056\",\"622301041\",\"628493594\",\"634566052\",\"640483586\",\"646430786\",\"652276325\",\\r\\n\"Least developed countries: UN classification\",\"LDC\",\"Population, total\",\"SP.POP.TOTL\",\"240518397\",\"246113624\",\"251900655\",\"257908038\",\"264174076\",\"270720935\",\"277573103\",\"284708606\",\"292046003\",\"299473694\",\"306916898\",\"314345051\",\"321797948\",\"329357734\",\"337142875\",\"345242741\",\"353691447\",\"362475157\",\"371577357\",\"380963357\",\"390612544\",\"400528973\",\"410740623\",\"421279177\",\"432185306\",\"443491299\",\"455193679\",\"467290486\",\"479814027\",\"492803041\",\"506275626\",\"520262436\",\"534731004\",\"549559275\",\"564581120\",\"579681702\",\"594801271\",\"609983284\",\"625342129\",\"641046832\",\"657215854\",\"673903088\",\"691061433\",\"708587940\",\"726331171\",\"744190509\",\"762132501\",\"780219573\",\"798563425\",\"817322615\",\"836614841\",\"856471437\",\"876867234\",\"897793439\",\"919222955\",\"941131317\",\"963519718\",\"986385402\",\"1009691252\",\"1033388868\",\"1057438163\",\\r\\n\"Low income\",\"LIC\",\"Population, total\",\"SP.POP.TOTL\",\"137782356\",\"140848427\",\"143991035\",\"147246689\",\"150668279\",\"154292515\",\"158131724\",\"162169520\",\"166378127\",\"170716523\",\"175154298\",\"179681941\",\"184306845\",\"189035415\",\"193880021\",\"198849250\",\"203955515\",\"209195581\",\"214544342\",\"219966776\",\"225445124\",\"230976727\",\"236593189\",\"242355131\",\"248343146\",\"254622410\",\"261201749\",\"268084615\",\"275322077\",\"282972202\",\"291068697\",\"299656373\",\"308709029\",\"318101755\",\"327660123\",\"337265010\",\"346863261\",\"356508832\",\"366320517\",\"376471932\",\"387088076\",\"398196096\",\"409752737\",\"421725011\",\"434055590\",\"446695034\",\"459659653\",\"472947450\",\"486468200\",\"500104939\",\"513783318\",\"527467149\",\"541205688\",\"555116804\",\"569367413\",\"584084928\",\"599290280\",\"614965124\",\"631147232\",\"647870823\",\"665149035\",\\r\\n\"Liechtenstein\",\"LIE\",\"Population, total\",\"SP.POP.TOTL\",\"16501\",\"16894\",\"17300\",\"17724\",\"18170\",\"18642\",\"19160\",\"19688\",\"20237\",\"20766\",\"21268\",\"21729\",\"22161\",\"22560\",\"22985\",\"23436\",\"23933\",\"24451\",\"24968\",\"25463\",\"25881\",\"26229\",\"26533\",\"26790\",\"27028\",\"27286\",\"27552\",\"27835\",\"28135\",\"28449\",\"28790\",\"29166\",\"29552\",\"29987\",\"30415\",\"30884\",\"31354\",\"31830\",\"32306\",\"32765\",\"33184\",\"33543\",\"33885\",\"34172\",\"34444\",\"34718\",\"34975\",\"35217\",\"35469\",\"35723\",\"35996\",\"36299\",\"36615\",\"36940\",\"37219\",\"37465\",\"37655\",\"37805\",\"37918\",\"38020\",\"38137\",\\r\\n\"Sri Lanka\",\"LKA\",\"Population, total\",\"SP.POP.TOTL\",\"9874476\",\"10111639\",\"10352180\",\"10597516\",\"10849977\",\"11110825\",\"11380665\",\"11657650\",\"11937607\",\"12214948\",\"12485736\",\"12747831\",\"13002234\",\"13252033\",\"13501931\",\"13755141\",\"14012894\",\"14273495\",\"14533691\",\"14788866\",\"15035840\",\"15272822\",\"15501210\",\"15724641\",\"15948501\",\"16176282\",\"16408861\",\"16643956\",\"16878186\",\"17106752\",\"17325769\",\"17535732\",\"17736827\",\"17924827\",\"18094474\",\"18242917\",\"18367290\",\"18470897\",\"18564595\",\"18663293\",\"18777606\",\"18911727\",\"19062476\",\"19224036\",\"19387153\",\"19544988\",\"19695977\",\"19842044\",\"19983984\",\"20123508\",\"20261738\",\"20398496\",\"20425000\",\"20585000\",\"20778000\",\"20970000\",\"21203000\",\"21444000\",\"21670000\",\"21803000\",\"21919000\",\\r\\n\"Lower middle income\",\"LMC\",\"Population, total\",\"SP.POP.TOTL\",\"989984004\",\"1012695283\",\"1036174880\",\"1060393357\",\"1085299211\",\"1110852757\",\"1137057458\",\"1163922580\",\"1191458095\",\"1219673698\",\"1248583279\",\"1278208964\",\"1308581612\",\"1339744791\",\"1371761160\",\"1404677295\",\"1438471529\",\"1473161514\",\"1508876331\",\"1545785670\",\"1583984211\",\"1623540865\",\"1664223803\",\"1705941229\",\"1748404026\",\"1791342151\",\"1834732208\",\"1878529520\",\"1922581048\",\"1966720233\",\"2012725416\",\"2056479735\",\"2100111594\",\"2143451976\",\"2186469992\",\"2229481699\",\"2272648448\",\"2315905969\",\"2359112024\",\"2402132069\",\"2445096607\",\"2487900839\",\"2530679514\",\"2573512638\",\"2616457516\",\"2659559236\",\"2702862046\",\"2746406133\",\"2790205950\",\"2834272715\",\"2878875404\",\"2923659939\",\"2968243908\",\"3013187396\",\"3058248975\",\"3103569257\",\"3149022555\",\"3194517542\",\"3240031866\",\"3285416867\",\"3330652547\",\\r\\n\"Low & middle income\",\"LMY\",\"Population, total\",\"SP.POP.TOTL\",\"2264230620\",\"2293657434\",\"2336352877\",\"2391244202\",\"2446616794\",\"2503757914\",\"2564648351\",\"2625561008\",\"2688185221\",\"2753244603\",\"2820016062\",\"2888210757\",\"2955489373\",\"3022725529\",\"3089529348\",\"3155089855\",\"3220127983\",\"3284682193\",\"3350362852\",\"3417557084\",\"3485705709\",\"3555885098\",\"3629464839\",\"3704198772\",\"3779008675\",\"3855293544\",\"3933787633\",\"4014448614\",\"4095886112\",\"4176844232\",\"4258735820\",\"4337877075\",\"4415505150\",\"4492317445\",\"4568575554\",\"4644103191\",\"4719451017\",\"4794701339\",\"4869215508\",\"4942554270\",\"5015320490\",\"5087215714\",\"5158616199\",\"5230164654\",\"5301861509\",\"5373892527\",\"5446043718\",\"5518245128\",\"5591217271\",\"5664931795\",\"5739242600\",\"5814350691\",\"5889963667\",\"5966542299\",\"6043826104\",\"6121677430\",\"6200441680\",\"6279734109\",\"6357646877\",\"6434033786\",\"6509474374\",\\r\\n\"Lesotho\",\"LSO\",\"Population, total\",\"SP.POP.TOTL\",\"837264\",\"852892\",\"869132\",\"886061\",\"903757\",\"922307\",\"941798\",\"962279\",\"983683\",\"1005911\",\"1028930\",\"1052619\",\"1077102\",\"1102885\",\"1130634\",\"1160795\",\"1193517\",\"1228527\",\"1265211\",\"1302670\",\"1340258\",\"1377808\",\"1415362\",\"1452727\",\"1489685\",\"1526132\",\"1561687\",\"1596395\",\"1630993\",\"1666564\",\"1703757\",\"1742534\",\"1782284\",\"1822237\",\"1861323\",\"1898598\",\"1934294\",\"1968054\",\"1997524\",\"2019732\",\"2032805\",\"2035738\",\"2029832\",\"2018355\",\"2005953\",\"1996115\",\"1989933\",\"1986926\",\"1987130\",\"1990135\",\"1995575\",\"2003793\",\"2014988\",\"2028528\",\"2043448\",\"2059011\",\"2075041\",\"2091532\",\"2108327\",\"2125267\",\"2142252\",\\r\\n\"Late-demographic dividend\",\"LTE\",\"Population, total\",\"SP.POP.TOTL\",\"1096903448\",\"1099284940\",\"1113927919\",\"1139889997\",\"1165421495\",\"1191679434\",\"1220687497\",\"1248850553\",\"1277803242\",\"1308225875\",\"1339320296\",\"1370950386\",\"1400911434\",\"1429901917\",\"1457475769\",\"1482809855\",\"1506611986\",\"1528866928\",\"1551073484\",\"1573488423\",\"1595481006\",\"1618039026\",\"1642764734\",\"1667457285\",\"1691255626\",\"1715762768\",\"1741726104\",\"1769123601\",\"1796650131\",\"1823252483\",\"1848477086\",\"1872532928\",\"1892668367\",\"1913822185\",\"1934464875\",\"1955853174\",\"1975201502\",\"1994265140\",\"2012571686\",\"2029613463\",\"2045125929\",\"2059873472\",\"2073757388\",\"2087310573\",\"2100746553\",\"2114307472\",\"2127750947\",\"2140907333\",\"2154348068\",\"2167842694\",\"2180828802\",\"2193829487\",\"2206930121\",\"2220295172\",\"2233865679\",\"2247405366\",\"2261410364\",\"2275536083\",\"2287851415\",\"2298495924\",\"2307887395\",\\r\\n\"Lithuania\",\"LTU\",\"Population, total\",\"SP.POP.TOTL\",\"2778550\",\"2823550\",\"2863350\",\"2898950\",\"2935200\",\"2971450\",\"3008050\",\"3044400\",\"3078850\",\"3107321\",\"3139689\",\"3179041\",\"3213622\",\"3244438\",\"3273894\",\"3301652\",\"3328664\",\"3355036\",\"3379514\",\"3397842\",\"3413202\",\"3432947\",\"3457179\",\"3485192\",\"3514205\",\"3544543\",\"3578914\",\"3616367\",\"3655049\",\"3684255\",\"3697838\",\"3704134\",\"3700114\",\"3682613\",\"3657144\",\"3629102\",\"3601613\",\"3575137\",\"3549331\",\"3524238\",\"3499536\",\"3470818\",\"3443067\",\"3415213\",\"3377075\",\"3322528\",\"3269909\",\"3231294\",\"3198231\",\"3162916\",\"3097282\",\"3028115\",\"2987773\",\"2957689\",\"2932367\",\"2904910\",\"2868231\",\"2828403\",\"2801543\",\"2794137\",\"2794700\",\\r\\n\"Luxembourg\",\"LUX\",\"Population, total\",\"SP.POP.TOTL\",\"313970\",\"316845\",\"320750\",\"324100\",\"327750\",\"331500\",\"333895\",\"334995\",\"335850\",\"337500\",\"339171\",\"342421\",\"346600\",\"350450\",\"355050\",\"358950\",\"360731\",\"361358\",\"362007\",\"362856\",\"364150\",\"365225\",\"365525\",\"365622\",\"365998\",\"366706\",\"368355\",\"370750\",\"373450\",\"377100\",\"381850\",\"387000\",\"392175\",\"397475\",\"402925\",\"408625\",\"414225\",\"419450\",\"424700\",\"430475\",\"436300\",\"441525\",\"446175\",\"451630\",\"458095\",\"465158\",\"472637\",\"479993\",\"488650\",\"497783\",\"506953\",\"518347\",\"530946\",\"543360\",\"556319\",\"569604\",\"582014\",\"596336\",\"607950\",\"620001\",\"632275\",\\r\\n\"Latvia\",\"LVA\",\"Population, total\",\"SP.POP.TOTL\",\"2120979\",\"2152681\",\"2181586\",\"2210919\",\"2240623\",\"2265919\",\"2283217\",\"2301220\",\"2323619\",\"2343173\",\"2359164\",\"2376389\",\"2395674\",\"2415819\",\"2437186\",\"2456130\",\"2470989\",\"2485073\",\"2497921\",\"2505953\",\"2511701\",\"2519421\",\"2531080\",\"2546011\",\"2562047\",\"2578873\",\"2599892\",\"2626583\",\"2653434\",\"2666955\",\"2663151\",\"2650581\",\"2614338\",\"2563290\",\"2520742\",\"2485056\",\"2457222\",\"2432851\",\"2410019\",\"2390482\",\"2367550\",\"2337170\",\"2310173\",\"2287955\",\"2263122\",\"2238799\",\"2218357\",\"2200325\",\"2177322\",\"2141669\",\"2097555\",\"2059709\",\"2034319\",\"2012647\",\"1993782\",\"1977527\",\"1959537\",\"1942248\",\"1927174\",\"1913822\",\"1901548\",\\r\\n\"Macao SAR, China\",\"MAC\",\"Population, total\",\"SP.POP.TOTL\",\"167795\",\"170466\",\"176188\",\"184245\",\"193556\",\"203224\",\"213189\",\"223416\",\"233002\",\"240837\",\"246193\",\"248745\",\"248770\",\"246945\",\"244289\",\"241631\",\"239074\",\"236669\",\"235175\",\"235440\",\"238085\",\"243373\",\"251154\",\"260921\",\"271914\",\"283490\",\"295597\",\"308181\",\"320774\",\"332783\",\"343816\",\"353623\",\"362308\",\"370195\",\"377805\",\"385517\",\"393376\",\"401353\",\"409620\",\"418388\",\"427772\",\"437928\",\"448813\",\"460157\",\"471600\",\"482863\",\"493804\",\"504504\",\"515232\",\"526401\",\"538215\",\"550833\",\"564037\",\"577368\",\"590210\",\"602093\",\"612824\",\"622578\",\"631633\",\"640446\",\"649342\",\\r\\n\"St. Martin (French part)\",\"MAF\",\"Population, total\",\"SP.POP.TOTL\",\"3898\",\"3996\",\"4078\",\"4179\",\"4302\",\"4471\",\"4675\",\"4922\",\"5194\",\"5461\",\"5707\",\"5945\",\"6156\",\"6370\",\"6601\",\"6882\",\"7250\",\"7713\",\"8191\",\"8557\",\"8777\",\"8675\",\"8372\",\"8296\",\"9067\",\"11066\",\"14561\",\"19274\",\"24374\",\"28723\",\"31522\",\"32441\",\"31816\",\"30194\",\"28482\",\"27320\",\"26854\",\"26910\",\"27388\",\"28122\",\"28935\",\"29847\",\"30913\",\"32055\",\"33187\",\"34252\",\"35240\",\"36138\",\"36880\",\"37380\",\"37582\",\"37451\",\"37012\",\"36458\",\"36018\",\"35865\",\"36061\",\"36569\",\"37264\",\"38002\",\"38659\",\\r\\n\"Morocco\",\"MAR\",\"Population, total\",\"SP.POP.TOTL\",\"12328532\",\"12710587\",\"13094890\",\"13478425\",\"13857656\",\"14230163\",\"14595351\",\"14954037\",\"15307267\",\"15656846\",\"16004732\",\"16350883\",\"16696890\",\"17048525\",\"17413149\",\"17796171\",\"18198836\",\"18620087\",\"19059773\",\"19516942\",\"19990006\",\"20479709\",\"20984023\",\"21495088\",\"22002641\",\"22499111\",\"22980334\",\"23447256\",\"23903592\",\"24355624\",\"24807461\",\"25260407\",\"25711410\",\"26155204\",\"26584473\",\"26994255\",\"27383472\",\"27754573\",\"28110447\",\"28455504\",\"28793672\",\"29126323\",\"29454765\",\"29782884\",\"30115196\",\"30455563\",\"30804689\",\"31163670\",\"31536807\",\"31929087\",\"32343384\",\"32781860\",\"33241898\",\"33715705\",\"34192358\",\"34663608\",\"35126274\",\"35581257\",\"36029089\",\"36471766\",\"36910558\",\\r\\n\"Monaco\",\"MCO\",\"Population, total\",\"SP.POP.TOTL\",\"22461\",\"22813\",\"23043\",\"23165\",\"23236\",\"23289\",\"23302\",\"23292\",\"23295\",\"23348\",\"23487\",\"23721\",\"24049\",\"24445\",\"24829\",\"25203\",\"25523\",\"25811\",\"26090\",\"26391\",\"26752\",\"27162\",\"27633\",\"28091\",\"28511\",\"28836\",\"29050\",\"29156\",\"29232\",\"29309\",\"29433\",\"29629\",\"29859\",\"30145\",\"30436\",\"30731\",\"31001\",\"31268\",\"31554\",\"31836\",\"32148\",\"32474\",\"32804\",\"33144\",\"33499\",\"33842\",\"34189\",\"34524\",\"34860\",\"35223\",\"35609\",\"36025\",\"36459\",\"36899\",\"37320\",\"37723\",\"38070\",\"38392\",\"38682\",\"38967\",\"39244\",\\r\\n\"Moldova\",\"MDA\",\"Population, total\",\"SP.POP.TOTL\",\"2043664\",\"2092667\",\"2140063\",\"2185050\",\"2228429\",\"2269399\",\"2307959\",\"2344108\",\"2377848\",\"2411588\",\"2445328\",\"2479871\",\"2515217\",\"2549760\",\"2582697\",\"2611616\",\"2638126\",\"2660619\",\"2682309\",\"2703999\",\"2728099\",\"2754609\",\"2782725\",\"2811645\",\"2840565\",\"2867878\",\"2893584\",\"2918487\",\"2940177\",\"2957047\",\"2969097\",\"2975523\",\"2977130\",\"2973114\",\"2964277\",\"2952307\",\"2946401\",\"2935524\",\"2934339\",\"2929735\",\"2923783\",\"2917252\",\"2910504\",\"2902320\",\"2895147\",\"2888111\",\"2880095\",\"2873429\",\"2867964\",\"2864346\",\"2861487\",\"2859833\",\"2859458\",\"2858692\",\"2856950\",\"2834530\",\"2802170\",\"2755158\",\"2708214\",\"2663251\",\"2617820\",\\r\\n\"Madagascar\",\"MDG\",\"Population, total\",\"SP.POP.TOTL\",\"5099368\",\"5223561\",\"5352497\",\"5486319\",\"5625164\",\"5769215\",\"5918592\",\"6073529\",\"6234468\",\"6401920\",\"6576305\",\"6757853\",\"6946619\",\"7142634\",\"7345773\",\"7556032\",\"7773452\",\"7998157\",\"8230214\",\"8469677\",\"8716549\",\"8971339\",\"9234137\",\"9504283\",\"9780869\",\"10063493\",\"10352117\",\"10647753\",\"10952396\",\"11268653\",\"11598647\",\"11942809\",\"12301338\",\"12675469\",\"13066544\",\"13475403\",\"13902697\",\"14347860\",\"14808791\",\"15282524\",\"15766806\",\"16260933\",\"16765122\",\"17279139\",\"17802992\",\"18336722\",\"18880265\",\"19433520\",\"19996476\",\"20569115\",\"21151640\",\"21743970\",\"22346641\",\"22961259\",\"23589897\",\"24234080\",\"24894370\",\"25570511\",\"26262313\",\"26969306\",\"27691019\",\\r\\n\"Maldives\",\"MDV\",\"Population, total\",\"SP.POP.TOTL\",\"89873\",\"92328\",\"94902\",\"97540\",\"100177\",\"102710\",\"105129\",\"107481\",\"109893\",\"112582\",\"115688\",\"119303\",\"123347\",\"127700\",\"132102\",\"136418\",\"140563\",\"144625\",\"148774\",\"153276\",\"158271\",\"163821\",\"169849\",\"176255\",\"182848\",\"189540\",\"196262\",\"203024\",\"209787\",\"216502\",\"223159\",\"229743\",\"236271\",\"242596\",\"248582\",\"254144\",\"259178\",\"263836\",\"268445\",\"273522\",\"279396\",\"286309\",\"294185\",\"302681\",\"311265\",\"319604\",\"327489\",\"335172\",\"343448\",\"353391\",\"365730\",\"380493\",\"397231\",\"415592\",\"435018\",\"454914\",\"475505\",\"496398\",\"515704\",\"530957\",\"540542\",\\r\\n\"Middle East & North Africa\",\"MEA\",\"Population, total\",\"SP.POP.TOTL\",\"105203230\",\"108061826\",\"111045418\",\"114101578\",\"117271192\",\"120541198\",\"123908187\",\"127444919\",\"131026902\",\"134704201\",\"138473057\",\"142307871\",\"146213398\",\"150292311\",\"154509840\",\"158917282\",\"163532333\",\"168361040\",\"173447050\",\"178866336\",\"184628581\",\"190731389\",\"197157155\",\"203834175\",\"210648804\",\"217572797\",\"224549836\",\"231570125\",\"238565130\",\"245453236\",\"254215127\",\"261046286\",\"265656639\",\"272107854\",\"278384977\",\"286096967\",\"292041169\",\"297891711\",\"303641719\",\"309436718\",\"315326781\",\"321297196\",\"327362274\",\"333608806\",\"340143477\",\"347029862\",\"354302465\",\"361929175\",\"369823227\",\"377883960\",\"385917928\",\"393942668\",\"401968363\",\"409968633\",\"417924350\",\"425821771\",\"433616042\",\"441298977\",\"448974232\",\"456709496\",\"464554123\",\\r\\n\"Mexico\",\"MEX\",\"Population, total\",\"SP.POP.TOTL\",\"37771861\",\"38966049\",\"40195318\",\"41462373\",\"42771077\",\"44123863\",\"45519746\",\"46956208\",\"48431971\",\"49945278\",\"51493565\",\"53076366\",\"54689944\",\"56324310\",\"57966812\",\"59607947\",\"61242189\",\"62869908\",\"64494872\",\"66123908\",\"67761367\",\"69407623\",\"71058650\",\"72709306\",\"74352631\",\"75983486\",\"77599105\",\"79200081\",\"80788725\",\"82368930\",\"83943135\",\"85512621\",\"87075136\",\"88625440\",\"90156396\",\"91663290\",\"93147045\",\"94611008\",\"96056313\",\"97484823\",\"98899845\",\"100298152\",\"101684764\",\"103081020\",\"104514934\",\"106005199\",\"107560155\",\"109170503\",\"110815272\",\"112463886\",\"114092961\",\"115695468\",\"117274156\",\"118827158\",\"120355137\",\"121858251\",\"123333379\",\"124777326\",\"126190782\",\"127575529\",\"128932753\",\\r\\n\"Marshall Islands\",\"MHL\",\"Population, total\",\"SP.POP.TOTL\",\"14674\",\"15056\",\"15547\",\"16111\",\"16710\",\"17282\",\"17834\",\"18383\",\"18966\",\"19617\",\"20394\",\"21305\",\"22335\",\"23440\",\"24530\",\"25579\",\"26548\",\"27479\",\"28400\",\"29417\",\"30574\",\"31883\",\"33330\",\"34881\",\"36564\",\"38331\",\"40212\",\"42168\",\"44092\",\"45827\",\"47265\",\"48403\",\"49242\",\"49828\",\"50214\",\"50454\",\"50523\",\"50453\",\"50356\",\"50418\",\"50754\",\"51411\",\"52368\",\"53465\",\"54476\",\"55257\",\"55765\",\"56046\",\"56166\",\"56255\",\"56361\",\"56524\",\"56712\",\"56933\",\"57183\",\"57444\",\"57723\",\"58053\",\"58412\",\"58791\",\"59194\",\\r\\n\"Middle income\",\"MIC\",\"Population, total\",\"SP.POP.TOTL\",\"2126448264\",\"2152809007\",\"2192361842\",\"2243997513\",\"2295948515\",\"2349465399\",\"2406516627\",\"2463391488\",\"2521807094\",\"2582528080\",\"2644861764\",\"2708528816\",\"2771182528\",\"2833690114\",\"2895649327\",\"2956240605\",\"3016172468\",\"3075486612\",\"3135818510\",\"3197590308\",\"3260260585\",\"3324908371\",\"3392871650\",\"3461843641\",\"3530665529\",\"3600671134\",\"3672585884\",\"3746363999\",\"3820564035\",\"3893872030\",\"3967667123\",\"4038220702\",\"4106796121\",\"4174215690\",\"4240915431\",\"4306838181\",\"4372587756\",\"4438192507\",\"4502894991\",\"4566082338\",\"4628232414\",\"4689019618\",\"4748863462\",\"4808439643\",\"4867805919\",\"4927197493\",\"4986384065\",\"5045297678\",\"5104749071\",\"5164826856\",\"5225459282\",\"5286883542\",\"5348757979\",\"5411425495\",\"5474458691\",\"5537592502\",\"5601151400\",\"5664768985\",\"5726499645\",\"5786162963\",\"5844325339\",\\r\\n\"North Macedonia\",\"MKD\",\"Population, total\",\"SP.POP.TOTL\",\"1488670\",\"1507647\",\"1527109\",\"1547449\",\"1569139\",\"1592437\",\"1617797\",\"1644949\",\"1672399\",\"1698150\",\"1720805\",\"1739529\",\"1754951\",\"1769002\",\"1784400\",\"1803008\",\"1825559\",\"1851070\",\"1877690\",\"1902718\",\"1924203\",\"1941527\",\"1955247\",\"1965892\",\"1974413\",\"1981536\",\"1987538\",\"1992278\",\"1995508\",\"1996863\",\"1996218\",\"1993304\",\"1988659\",\"1984024\",\"1981713\",\"1983259\",\"1989441\",\"1999588\",\"2012052\",\"2024393\",\"2034823\",\"2042844\",\"2048930\",\"2053426\",\"2057044\",\"2060280\",\"2063132\",\"2065408\",\"2067309\",\"2069030\",\"2070737\",\"2072484\",\"2074275\",\"2076065\",\"2077780\",\"2079335\",\"2080746\",\"2081996\",\"2082957\",\"2083458\",\"2083380\",\\r\\n\"Mali\",\"MLI\",\"Population, total\",\"SP.POP.TOTL\",\"5263727\",\"5322269\",\"5381367\",\"5441618\",\"5503750\",\"5568495\",\"5635864\",\"5706192\",\"5780836\",\"5861417\",\"5949042\",\"6044524\",\"6147464\",\"6256191\",\"6368346\",\"6482282\",\"6596721\",\"6712267\",\"6831090\",\"6956409\",\"7090124\",\"7234725\",\"7388670\",\"7545163\",\"7694857\",\"7831888\",\"7952863\",\"8062216\",\"8171525\",\"8296919\",\"8449915\",\"8635528\",\"8850334\",\"9087173\",\"9334893\",\"9585660\",\"9837575\",\"10094363\",\"10360564\",\"10642937\",\"10946448\",\"11271603\",\"11616890\",\"11982692\",\"12369078\",\"12775509\",\"13203378\",\"13651455\",\"14113578\",\"14581427\",\"15049352\",\"15514593\",\"15979492\",\"16449854\",\"16934213\",\"17438772\",\"17965448\",\"18512429\",\"19077755\",\"19658023\",\"20250834\",\\r\\n\"Malta\",\"MLT\",\"Population, total\",\"SP.POP.TOTL\",\"326550\",\"325250\",\"323900\",\"322550\",\"321250\",\"318800\",\"315200\",\"311550\",\"307900\",\"304300\",\"302650\",\"302700\",\"302450\",\"302200\",\"301996\",\"304222\",\"305774\",\"306970\",\"310182\",\"313342\",\"316645\",\"318982\",\"325898\",\"330524\",\"330593\",\"336452\",\"342121\",\"344485\",\"347325\",\"350722\",\"354170\",\"363845\",\"367618\",\"371308\",\"374797\",\"377419\",\"379905\",\"382791\",\"385287\",\"387578\",\"390087\",\"393028\",\"395969\",\"398582\",\"401268\",\"403834\",\"405308\",\"406724\",\"409379\",\"412477\",\"414508\",\"416268\",\"420028\",\"425967\",\"434558\",\"445053\",\"455356\",\"467999\",\"484630\",\"504062\",\"525285\",\\r\\n\"Myanmar\",\"MMR\",\"Population, total\",\"SP.POP.TOTL\",\"21736947\",\"22211626\",\"22697664\",\"23198238\",\"23717785\",\"24259356\",\"24823937\",\"25410054\",\"26015239\",\"26635852\",\"27269063\",\"27913749\",\"28570093\",\"29238168\",\"29918469\",\"30611093\",\"31314347\",\"32026748\",\"32748782\",\"33481397\",\"34224316\",\"34976465\",\"35734273\",\"36491804\",\"37241530\",\"37977087\",\"38698484\",\"39404350\",\"40085653\",\"40731439\",\"41335188\",\"41890192\",\"42401686\",\"42889992\",\"43383421\",\"43901598\",\"44452203\",\"45027223\",\"45611220\",\"46181075\",\"46719698\",\"47225119\",\"47702163\",\"48148907\",\"48564489\",\"48949931\",\"49301049\",\"49621479\",\"49929642\",\"50250366\",\"50600827\",\"50990612\",\"51413703\",\"51852464\",\"52280816\",\"52680724\",\"53045199\",\"53382521\",\"53708318\",\"54045422\",\"54409794\",\\r\\n\"Middle East & North Africa (excluding high income)\",\"MNA\",\"Population, total\",\"SP.POP.TOTL\",\"97553136\",\"100147125\",\"102808039\",\"105546241\",\"108376349\",\"111307810\",\"114351844\",\"117503838\",\"120739199\",\"124023275\",\"127335093\",\"130670746\",\"134051048\",\"137511232\",\"141099598\",\"144855662\",\"148781943\",\"152881163\",\"157192250\",\"161761403\",\"166616386\",\"171766018\",\"177185651\",\"182825252\",\"188614684\",\"194494177\",\"200443463\",\"206447529\",\"212456877\",\"218415839\",\"226259024\",\"232101413\",\"237828686\",\"243429317\",\"248897278\",\"254233340\",\"259431598\",\"264504158\",\"269440674\",\"274350014\",\"279279614\",\"284249005\",\"289264351\",\"294343659\",\"299502746\",\"304755514\",\"310109431\",\"315573363\",\"321168746\",\"326900966\",\"332777842\",\"338813060\",\"344998428\",\"351290405\",\"357629838\",\"363975556\",\"370294017\",\"376588457\",\"382955167\",\"389457075\",\"396147843\",\\r\\n\"Montenegro\",\"MNE\",\"Population, total\",\"SP.POP.TOTL\",\"480579\",\"491140\",\"502558\",\"513409\",\"521753\",\"526327\",\"526419\",\"522796\",\"517481\",\"513340\",\"512407\",\"515449\",\"521785\",\"530220\",\"538902\",\"546487\",\"552562\",\"557576\",\"562065\",\"566888\",\"572608\",\"579445\",\"587001\",\"594506\",\"600884\",\"605398\",\"607711\",\"608144\",\"607413\",\"606571\",\"606372\",\"607105\",\"608516\",\"610170\",\"611389\",\"611712\",\"611003\",\"609520\",\"607662\",\"606001\",\"604950\",\"607389\",\"609828\",\"612267\",\"613353\",\"614261\",\"615025\",\"615875\",\"616969\",\"618294\",\"619428\",\"620079\",\"620601\",\"621207\",\"621810\",\"622159\",\"622303\",\"622373\",\"622227\",\"622028\",\"621718\",\\r\\n\"Mongolia\",\"MNG\",\"Population, total\",\"SP.POP.TOTL\",\"955514\",\"982181\",\"1011327\",\"1042387\",\"1074518\",\"1107121\",\"1139962\",\"1173186\",\"1207104\",\"1242213\",\"1278819\",\"1317042\",\"1356673\",\"1397305\",\"1438421\",\"1479646\",\"1520868\",\"1562207\",\"1603910\",\"1646290\",\"1689622\",\"1733475\",\"1777727\",\"1823214\",\"1871089\",\"1921889\",\"1976313\",\"2033351\",\"2089709\",\"2141005\",\"2184139\",\"2217918\",\"2243495\",\"2263196\",\"2280475\",\"2298017\",\"2316571\",\"2335744\",\"2355667\",\"2376228\",\"2397417\",\"2419594\",\"2443261\",\"2468765\",\"2496394\",\"2526429\",\"2558854\",\"2593819\",\"2631899\",\"2673794\",\"2719902\",\"2770357\",\"2824698\",\"2881783\",\"2940111\",\"2998433\",\"3056358\",\"3113788\",\"3170214\",\"3225166\",\"3278292\",\\r\\n\"Northern Mariana Islands\",\"MNP\",\"Population, total\",\"SP.POP.TOTL\",\"9980\",\"10243\",\"10438\",\"10591\",\"10780\",\"11023\",\"11341\",\"11723\",\"12135\",\"12577\",\"13000\",\"13423\",\"13884\",\"14322\",\"14672\",\"14917\",\"15024\",\"15049\",\"15167\",\"15640\",\"16633\",\"18168\",\"20163\",\"22622\",\"25496\",\"28719\",\"32377\",\"36371\",\"40294\",\"43542\",\"45752\",\"46662\",\"46473\",\"45763\",\"45361\",\"45872\",\"47518\",\"50052\",\"52999\",\"55633\",\"57453\",\"58319\",\"58412\",\"57954\",\"57240\",\"56547\",\"55886\",\"55215\",\"54621\",\"54194\",\"53971\",\"54013\",\"54306\",\"54786\",\"55301\",\"55779\",\"56187\",\"56553\",\"56889\",\"57213\",\"57557\",\\r\\n\"Mozambique\",\"MOZ\",\"Population, total\",\"SP.POP.TOTL\",\"7184870\",\"7342117\",\"7507309\",\"7679465\",\"7857107\",\"8039217\",\"8225919\",\"8417698\",\"8614445\",\"8816056\",\"9022747\",\"9232655\",\"9446235\",\"9668655\",\"9906963\",\"10165216\",\"10443954\",\"10738534\",\"11041206\",\"11341405\",\"11630194\",\"11913085\",\"12189817\",\"12439773\",\"12636120\",\"12764385\",\"12808566\",\"12786353\",\"12758003\",\"12805950\",\"12987292\",\"13328029\",\"13805999\",\"14370950\",\"14948050\",\"15483277\",\"15960445\",\"16397175\",\"16813946\",\"17244176\",\"17711925\",\"18221884\",\"18764147\",\"19331097\",\"19910549\",\"20493927\",\"21080108\",\"21673319\",\"22276596\",\"22894718\",\"23531567\",\"24187500\",\"24862673\",\"25560752\",\"26286192\",\"27042001\",\"27829930\",\"28649007\",\"29496009\",\"30366043\",\"31255435\",\\r\\n\"Mauritania\",\"MRT\",\"Population, total\",\"SP.POP.TOTL\",\"850377\",\"875586\",\"901690\",\"928742\",\"956794\",\"985907\",\"1016093\",\"1047345\",\"1079580\",\"1112749\",\"1146776\",\"1181659\",\"1217443\",\"1254156\",\"1291857\",\"1330594\",\"1370364\",\"1411139\",\"1453028\",\"1496174\",\"1540644\",\"1586496\",\"1633655\",\"1681859\",\"1730737\",\"1780033\",\"1829678\",\"1879756\",\"1930427\",\"1981902\",\"2034347\",\"2087914\",\"2142645\",\"2198538\",\"2255520\",\"2313630\",\"2372900\",\"2433567\",\"2496217\",\"2561584\",\"2630217\",\"2702405\",\"2778097\",\"2857150\",\"2939246\",\"3024198\",\"3111908\",\"3202512\",\"3296237\",\"3393408\",\"3494200\",\"3598646\",\"3706555\",\"3817497\",\"3930894\",\"4046304\",\"4163532\",\"4282582\",\"4403312\",\"4525698\",\"4649660\",\\r\\n\"Mauritius\",\"MUS\",\"Population, total\",\"SP.POP.TOTL\",\"659351\",\"680757\",\"700349\",\"718861\",\"736381\",\"753000\",\"768813\",\"783917\",\"798413\",\"812405\",\"826000\",\"839230\",\"852053\",\"864819\",\"878042\",\"892000\",\"906507\",\"921379\",\"933499\",\"949888\",\"966039\",\"980462\",\"992521\",\"1001691\",\"1012221\",\"1020528\",\"1028360\",\"1036082\",\"1043239\",\"1051260\",\"1058775\",\"1070266\",\"1084441\",\"1097374\",\"1112846\",\"1122457\",\"1133996\",\"1148284\",\"1160421\",\"1175267\",\"1186873\",\"1196287\",\"1204621\",\"1213370\",\"1221003\",\"1228254\",\"1233996\",\"1239630\",\"1244121\",\"1247429\",\"1250400\",\"1252404\",\"1255882\",\"1258653\",\"1260934\",\"1262605\",\"1263473\",\"1264613\",\"1265303\",\"1265711\",\"1265740\",\\r\\n\"Malawi\",\"MWI\",\"Population, total\",\"SP.POP.TOTL\",\"3659980\",\"3747758\",\"3839047\",\"3933914\",\"4032364\",\"4134464\",\"4240430\",\"4350456\",\"4464427\",\"4582197\",\"4703783\",\"4829092\",\"4958556\",\"5093368\",\"5235074\",\"5384798\",\"5545653\",\"5717954\",\"5896864\",\"6075485\",\"6250434\",\"6412380\",\"6565985\",\"6737924\",\"6964613\",\"7268271\",\"7666390\",\"8141140\",\"8636686\",\"9075568\",\"9404499\",\"9600361\",\"9685974\",\"9710335\",\"9745695\",\"9844418\",\"10022783\",\"10264906\",\"10552345\",\"10854325\",\"11148751\",\"11432001\",\"11713663\",\"12000183\",\"12301837\",\"12625950\",\"12973693\",\"13341808\",\"13727899\",\"14128161\",\"14539609\",\"14962118\",\"15396010\",\"15839287\",\"16289550\",\"16745305\",\"17205253\",\"17670193\",\"18143215\",\"18628749\",\"19129955\",\\r\\n\"Malaysia\",\"MYS\",\"Population, total\",\"SP.POP.TOTL\",\"8156342\",\"8417821\",\"8692337\",\"8973791\",\"9253827\",\"9526558\",\"9790083\",\"10046321\",\"10297983\",\"10549395\",\"10804131\",\"11062434\",\"11324277\",\"11592638\",\"11871102\",\"12162189\",\"12468688\",\"12790313\",\"13122833\",\"13460035\",\"13798094\",\"14134060\",\"14471215\",\"14819430\",\"15192300\",\"15598924\",\"16043736\",\"16522004\",\"17022470\",\"17528961\",\"18029824\",\"18519941\",\"19002660\",\"19484901\",\"19977508\",\"20487604\",\"21017619\",\"21562790\",\"22114647\",\"22661293\",\"23194252\",\"23709115\",\"24208391\",\"24698821\",\"25190647\",\"25690615\",\"26201954\",\"26720367\",\"27236003\",\"27735038\",\"28208028\",\"28650962\",\"29068189\",\"29468923\",\"29866606\",\"30270965\",\"30684652\",\"31104655\",\"31528033\",\"31949789\",\"32365998\",\\r\\n\"North America\",\"NAC\",\"Population, total\",\"SP.POP.TOTL\",\"198624409\",\"202007500\",\"205198600\",\"208253700\",\"211262900\",\"214031100\",\"216659000\",\"219176000\",\"221503000\",\"223759000\",\"226431000\",\"229677632\",\"232168663\",\"234454577\",\"236715369\",\"239169275\",\"241538008\",\"244018243\",\"246601803\",\"249310344\",\"251795337\",\"254340965\",\"256836391\",\"259214381\",\"261488476\",\"263823014\",\"266290660\",\"268793450\",\"271349094\",\"274154622\",\"277373464\",\"281077441\",\"284943859\",\"288662674\",\"292185983\",\"295640057\",\"299064347\",\"302623445\",\"306070116\",\"309502571\",\"312909974\",\"316052361\",\"319048184\",\"321815286\",\"324809693\",\"327824506\",\"331015609\",\"334185120\",\"337406357\",\"340466060\",\"343397156\",\"345987373\",\"348656682\",\"351207902\",\"353888902\",\"356507139\",\"359245796\",\"361731296\",\"363967296\",\"365987250\",\"367553264\",\\r\\n\"Namibia\",\"NAM\",\"Population, total\",\"SP.POP.TOTL\",\"634138\",\"649274\",\"665119\",\"681633\",\"698797\",\"716588\",\"734866\",\"753683\",\"773428\",\"794588\",\"817474\",\"842353\",\"868954\",\"896264\",\"922900\",\"947925\",\"971117\",\"992955\",\"1014055\",\"1035379\",\"1057723\",\"1080938\",\"1105103\",\"1131624\",\"1162282\",\"1198149\",\"1239923\",\"1286796\",\"1336545\",\"1386011\",\"1432899\",\"1476399\",\"1516951\",\"1555098\",\"1591826\",\"1627866\",\"1663378\",\"1698029\",\"1731635\",\"1763861\",\"1794583\",\"1823667\",\"1851519\",\"1879113\",\"1907737\",\"1938316\",\"1971318\",\"2006516\",\"2043382\",\"2081039\",\"2118877\",\"2156698\",\"2194777\",\"2233506\",\"2273426\",\"2314901\",\"2358044\",\"2402623\",\"2448300\",\"2494524\",\"2540916\",\\r\\n\"New Caledonia\",\"NCL\",\"Population, total\",\"SP.POP.TOTL\",\"79000\",\"81200\",\"83400\",\"85700\",\"88100\",\"90500\",\"93500\",\"96500\",\"99500\",\"104000\",\"112000\",\"120000\",\"125500\",\"128500\",\"131000\",\"132500\",\"134000\",\"136000\",\"137500\",\"138500\",\"140050\",\"142650\",\"145700\",\"148700\",\"151650\",\"154450\",\"157350\",\"160500\",\"163650\",\"166898\",\"170899\",\"175362\",\"179799\",\"184496\",\"189482\",\"193816\",\"197564\",\"201418\",\"205279\",\"209214\",\"213230\",\"217324\",\"221490\",\"225296\",\"228750\",\"232250\",\"235750\",\"239250\",\"242750\",\"245950\",\"249750\",\"254350\",\"259000\",\"263650\",\"268050\",\"268700\",\"269350\",\"270000\",\"270650\",\"271300\",\"271960\",\\r\\n\"Niger\",\"NER\",\"Population, total\",\"SP.POP.TOTL\",\"3388774\",\"3486322\",\"3588228\",\"3693985\",\"3802802\",\"3914118\",\"4027969\",\"4144588\",\"4263925\",\"4385925\",\"4510645\",\"4637984\",\"4768225\",\"4902151\",\"5040795\",\"5184940\",\"5335083\",\"5491158\",\"5652655\",\"5818763\",\"5989000\",\"6163711\",\"6343530\",\"6528646\",\"6719310\",\"6915994\",\"7118885\",\"7328934\",\"7548429\",\"7780242\",\"8026592\",\"8288739\",\"8566773\",\"8860297\",\"9168316\",\"9490289\",\"9826600\",\"10178196\",\"10545720\",\"10929922\",\"11331561\",\"11751364\",\"12189988\",\"12647983\",\"13125914\",\"13624474\",\"14143969\",\"14685404\",\"15250913\",\"15843131\",\"16464025\",\"17114770\",\"17795209\",\"18504287\",\"19240182\",\"20001663\",\"20788789\",\"21602388\",\"22442831\",\"23310719\",\"24206636\",\\r\\n\"Nigeria\",\"NGA\",\"Population, total\",\"SP.POP.TOTL\",\"45138460\",\"46063570\",\"47029818\",\"48032932\",\"49066762\",\"50127920\",\"51217969\",\"52342231\",\"53506201\",\"54717035\",\"55982142\",\"57296988\",\"58665813\",\"60114615\",\"61677167\",\"63374289\",\"65221379\",\"67203134\",\"69271915\",\"71361141\",\"73423646\",\"75440505\",\"77427539\",\"79414841\",\"81448757\",\"83562776\",\"85766396\",\"88048029\",\"90395278\",\"92788039\",\"95212454\",\"97667632\",\"100161708\",\"102700751\",\"105293701\",\"107948339\",\"110668784\",\"113457661\",\"116319763\",\"119260055\",\"122283853\",\"125394046\",\"128596079\",\"131900634\",\"135320420\",\"138865014\",\"142538305\",\"146339971\",\"150269622\",\"154324939\",\"158503203\",\"162805080\",\"167228803\",\"171765819\",\"176404931\",\"181137454\",\"185960244\",\"190873247\",\"195874685\",\"200963603\",\"206139587\",\\r\\n\"Nicaragua\",\"NIC\",\"Population, total\",\"SP.POP.TOTL\",\"1773132\",\"1829772\",\"1887426\",\"1946240\",\"2006478\",\"2068379\",\"2131973\",\"2197303\",\"2264623\",\"2334285\",\"2406523\",\"2481345\",\"2558705\",\"2638699\",\"2721417\",\"2806859\",\"2894967\",\"2985480\",\"3077861\",\"3171404\",\"3265520\",\"3360142\",\"3455129\",\"3549711\",\"3642978\",\"3734343\",\"3823133\",\"3909672\",\"3995529\",\"4082958\",\"4173435\",\"4267570\",\"4364514\",\"4462496\",\"4559010\",\"4652185\",\"4741571\",\"4827658\",\"4910642\",\"4991041\",\"5069310\",\"5145367\",\"5219324\",\"5292115\",\"5364930\",\"5438692\",\"5513757\",\"5590066\",\"5667436\",\"5745538\",\"5824058\",\"5903035\",\"5982530\",\"6062462\",\"6142734\",\"6223234\",\"6303970\",\"6384843\",\"6465502\",\"6545503\",\"6624554\",\\r\\n\"Netherlands\",\"NLD\",\"Population, total\",\"SP.POP.TOTL\",\"11486631\",\"11638712\",\"11805689\",\"11965966\",\"12127120\",\"12294732\",\"12456251\",\"12598201\",\"12729721\",\"12877984\",\"13038526\",\"13194497\",\"13328593\",\"13439322\",\"13545056\",\"13666335\",\"13774037\",\"13856185\",\"13941700\",\"14038270\",\"14149800\",\"14247208\",\"14312690\",\"14367070\",\"14424211\",\"14491632\",\"14572278\",\"14665037\",\"14760094\",\"14848907\",\"14951510\",\"15069798\",\"15184166\",\"15290368\",\"15382838\",\"15459006\",\"15530498\",\"15610650\",\"15707209\",\"15812088\",\"15925513\",\"16046180\",\"16148929\",\"16225302\",\"16281779\",\"16319868\",\"16346101\",\"16381696\",\"16445593\",\"16530388\",\"16615394\",\"16693074\",\"16754962\",\"16804432\",\"16865008\",\"16939923\",\"17030314\",\"17131296\",\"17231624\",\"17344874\",\"17441139\",\\r\\n\"Norway\",\"NOR\",\"Population, total\",\"SP.POP.TOTL\",\"3581239\",\"3609800\",\"3638918\",\"3666537\",\"3694339\",\"3723168\",\"3753012\",\"3784539\",\"3816486\",\"3847707\",\"3875763\",\"3903039\",\"3933004\",\"3960612\",\"3985258\",\"4007313\",\"4026152\",\"4043205\",\"4058671\",\"4072517\",\"4085620\",\"4099702\",\"4114787\",\"4128432\",\"4140099\",\"4152516\",\"4167354\",\"4186905\",\"4209488\",\"4226901\",\"4241473\",\"4261732\",\"4286401\",\"4311991\",\"4336613\",\"4359184\",\"4381336\",\"4405157\",\"4431464\",\"4461913\",\"4490967\",\"4513751\",\"4538159\",\"4564855\",\"4591910\",\"4623291\",\"4660677\",\"4709153\",\"4768212\",\"4828726\",\"4889252\",\"4953088\",\"5018573\",\"5079623\",\"5137232\",\"5188607\",\"5234519\",\"5276968\",\"5311916\",\"5347896\",\"5379475\",\\r\\n\"Nepal\",\"NPL\",\"Population, total\",\"SP.POP.TOTL\",\"10105060\",\"10267260\",\"10433147\",\"10604620\",\"10783958\",\"10972912\",\"11172530\",\"11382965\",\"11603921\",\"11834657\",\"12074628\",\"12323984\",\"12583142\",\"12852205\",\"13131260\",\"13420367\",\"13719466\",\"14028535\",\"14347653\",\"14676932\",\"15016408\",\"15367229\",\"15729431\",\"16100623\",\"16477488\",\"16858315\",\"17239677\",\"17623697\",\"18020755\",\"18445021\",\"18905480\",\"19405506\",\"19938322\",\"20489973\",\"21040899\",\"21576074\",\"22090352\",\"22584772\",\"23057875\",\"23509971\",\"23941099\",\"24347113\",\"24725625\",\"25080880\",\"25419337\",\"25744500\",\"26066687\",\"26382586\",\"26666581\",\"26883531\",\"27013207\",\"27041220\",\"26989160\",\"26916795\",\"26905982\",\"27015033\",\"27263430\",\"27632682\",\"28095712\",\"28608715\",\"29136808\",\\r\\n\"Nauru\",\"NRU\",\"Population, total\",\"SP.POP.TOTL\",\"4377\",\"4627\",\"4942\",\"5270\",\"5590\",\"5859\",\"6065\",\"6221\",\"6343\",\"6445\",\"6553\",\"6669\",\"6798\",\"6929\",\"7062\",\"7178\",\"7284\",\"7396\",\"7505\",\"7626\",\"7751\",\"7871\",\"8016\",\"8163\",\"8331\",\"8501\",\"8679\",\"8868\",\"9058\",\"9275\",\"9506\",\"9766\",\"10030\",\"10287\",\"10496\",\"10626\",\"10677\",\"10643\",\"10567\",\"10449\",\"10335\",\"10219\",\"10102\",\"9990\",\"9906\",\"9848\",\"9827\",\"9846\",\"9880\",\"9945\",\"10009\",\"10069\",\"10136\",\"10208\",\"10289\",\"10374\",\"10474\",\"10577\",\"10678\",\"10764\",\"10834\",\\r\\n\"New Zealand\",\"NZL\",\"Population, total\",\"SP.POP.TOTL\",\"2371800\",\"2419700\",\"2482000\",\"2531800\",\"2585400\",\"2628400\",\"2675900\",\"2724100\",\"2748100\",\"2772800\",\"2810700\",\"2853000\",\"2903900\",\"2961300\",\"3023700\",\"3083100\",\"3110500\",\"3120200\",\"3121200\",\"3109000\",\"3112900\",\"3124900\",\"3156100\",\"3199300\",\"3227100\",\"3247100\",\"3246300\",\"3274400\",\"3283400\",\"3299200\",\"3329800\",\"3495100\",\"3531700\",\"3572200\",\"3620000\",\"3673400\",\"3732000\",\"3781300\",\"3815000\",\"3835100\",\"3857700\",\"3880500\",\"3948500\",\"4027200\",\"4087500\",\"4133900\",\"4184600\",\"4223800\",\"4259800\",\"4302600\",\"4350700\",\"4384000\",\"4408100\",\"4442100\",\"4516500\",\"4609400\",\"4714100\",\"4813600\",\"4900600\",\"4979300\",\"5084300\",\\r\\n\"OECD members\",\"OED\",\"Population, total\",\"SP.POP.TOTL\",\"809413164\",\"820690358\",\"832204126\",\"843700013\",\"855187441\",\"866357882\",\"877034871\",\"887433263\",\"897619456\",\"907848349\",\"917970733\",\"929959388\",\"940747243\",\"951245160\",\"961564535\",\"971664215\",\"981155050\",\"990517797\",\"999924442\",\"1009488956\",\"1018954080\",\"1028314741\",\"1037309705\",\"1045955467\",\"1054256534\",\"1062613469\",\"1071150369\",\"1079711152\",\"1088387125\",\"1097531158\",\"1107196961\",\"1117820520\",\"1128349539\",\"1138362949\",\"1147748534\",\"1156879819\",\"1165880992\",\"1174865635\",\"1183546848\",\"1192267323\",\"1200836415\",\"1209787876\",\"1218855820\",\"1227854277\",\"1236872189\",\"1245821323\",\"1255133872\",\"1264614793\",\"1274522708\",\"1283634878\",\"1292110708\",\"1298723126\",\"1306807834\",\"1315224394\",\"1324034852\",\"1332787383\",\"1341701902\",\"1350048436\",\"1358019416\",\"1364841892\",\"1370858752\",\\r\\n\"Oman\",\"OMN\",\"Population, total\",\"SP.POP.TOTL\",\"551735\",\"564891\",\"578827\",\"593498\",\"608890\",\"625006\",\"642007\",\"660117\",\"679592\",\"700725\",\"723842\",\"748968\",\"776385\",\"806985\",\"841952\",\"882038\",\"927434\",\"977804\",\"1032797\",\"1091858\",\"1154373\",\"1220578\",\"1290121\",\"1361085\",\"1431066\",\"1498413\",\"1561180\",\"1619871\",\"1678119\",\"1741155\",\"1812158\",\"1893761\",\"1983272\",\"2072106\",\"2148416\",\"2204267\",\"2236652\",\"2249759\",\"2251859\",\"2254898\",\"2267973\",\"2294959\",\"2334860\",\"2386164\",\"2445524\",\"2511254\",\"2580753\",\"2657162\",\"2750956\",\"2876186\",\"3041435\",\"3251102\",\"3498031\",\"3764805\",\"4027255\",\"4267341\",\"4479217\",\"4665926\",\"4829476\",\"4974992\",\"5106622\",\\r\\n\"Other small states\",\"OSS\",\"Population, total\",\"SP.POP.TOTL\",\"9151857\",\"9315834\",\"9485194\",\"9659416\",\"9840401\",\"10026023\",\"10214282\",\"10406007\",\"10606217\",\"10813719\",\"11029164\",\"11255188\",\"11488070\",\"11725338\",\"11968057\",\"12219420\",\"12475005\",\"12737700\",\"13008020\",\"13294824\",\"13598547\",\"13917150\",\"14253285\",\"14600166\",\"14962369\",\"15347574\",\"15754491\",\"16180206\",\"16610046\",\"17031505\",\"17430785\",\"17813808\",\"18156582\",\"18476080\",\"18801091\",\"19125038\",\"19460551\",\"19809591\",\"20163900\",\"20540135\",\"20917080\",\"21276754\",\"21639144\",\"22018460\",\"22442097\",\"22929069\",\"23486191\",\"24104686\",\"24762404\",\"25417810\",\"26050929\",\"26647965\",\"27227313\",\"27794594\",\"28364446\",\"28948893\",\"29542903\",\"30148954\",\"30760469\",\"31361259\",\"31941786\",\\r\\n\"Pakistan\",\"PAK\",\"Population, total\",\"SP.POP.TOTL\",\"44988690\",\"46065229\",\"47198886\",\"48387293\",\"49627623\",\"50917975\",\"52260183\",\"53655783\",\"55102690\",\"56598148\",\"58142062\",\"59734479\",\"61381982\",\"63099404\",\"64905996\",\"66816875\",\"68834324\",\"70958168\",\"73197254\",\"75561128\",\"78054346\",\"80680461\",\"83431597\",\"86285936\",\"89213708\",\"92191505\",\"95215375\",\"98285762\",\"101389603\",\"104512874\",\"107647918\",\"110778655\",\"113911126\",\"117086680\",\"120362764\",\"123776835\",\"127349293\",\"131057432\",\"134843233\",\"138624625\",\"142343583\",\"145978408\",\"149549695\",\"153093371\",\"156664698\",\"160304007\",\"164022626\",\"167808106\",\"171648984\",\"175525610\",\"179424643\",\"183340168\",\"187280125\",\"191260799\",\"195305012\",\"199426953\",\"203631356\",\"207906210\",\"212228288\",\"216565317\",\"220892331\",\\r\\n\"Panama\",\"PAN\",\"Population, total\",\"SP.POP.TOTL\",\"1133005\",\"1167120\",\"1202447\",\"1238893\",\"1276331\",\"1314679\",\"1353847\",\"1393824\",\"1434676\",\"1476481\",\"1519286\",\"1563093\",\"1607797\",\"1653208\",\"1699056\",\"1745142\",\"1791389\",\"1837804\",\"1884427\",\"1931302\",\"1978489\",\"2025965\",\"2073748\",\"2121863\",\"2170330\",\"2219200\",\"2268500\",\"2318259\",\"2368556\",\"2419424\",\"2470946\",\"2523115\",\"2575949\",\"2629584\",\"2684117\",\"2739667\",\"2796291\",\"2853907\",\"2912318\",\"2971197\",\"3030333\",\"3089641\",\"3149195\",\"3209056\",\"3269356\",\"3330222\",\"3391673\",\"3453671\",\"3516204\",\"3579215\",\"3642691\",\"3706479\",\"3770635\",\"3835447\",\"3901311\",\"3968490\",\"4037073\",\"4106764\",\"4176868\",\"4246440\",\"4314768\",\\r\\n\"Peru\",\"PER\",\"Population, total\",\"SP.POP.TOTL\",\"10155011\",\"10446618\",\"10749463\",\"11062295\",\"11383364\",\"11711402\",\"12045783\",\"12386868\",\"12735491\",\"13092846\",\"13459789\",\"13836365\",\"14221954\",\"14615847\",\"15017060\",\"15424745\",\"15838568\",\"16258323\",\"16683451\",\"17113393\",\"17547612\",\"17985398\",\"18426420\",\"18870988\",\"19319746\",\"19772871\",\"20230385\",\"20691285\",\"21153462\",\"21614193\",\"22071433\",\"22522383\",\"22966822\",\"23408135\",\"23851405\",\"24299168\",\"24753825\",\"25210957\",\"25658070\",\"26078295\",\"26459944\",\"26799289\",\"27100964\",\"27372217\",\"27624226\",\"27866140\",\"28102055\",\"28333050\",\"28562321\",\"28792663\",\"29027680\",\"29264314\",\"29506790\",\"29773986\",\"30090372\",\"30470739\",\"30926036\",\"31444299\",\"31989265\",\"32510462\",\"32971846\",\\r\\n\"Philippines\",\"PHL\",\"Population, total\",\"SP.POP.TOTL\",\"26269741\",\"27161052\",\"28077345\",\"29012630\",\"29958687\",\"30909997\",\"31864175\",\"32823970\",\"33795203\",\"34786309\",\"35803591\",\"36849678\",\"37923400\",\"39022759\",\"40144250\",\"41285741\",\"42446659\",\"43629415\",\"44838485\",\"46079844\",\"47357741\",\"48672831\",\"50023564\",\"51408910\",\"52827047\",\"54275836\",\"55755346\",\"57263835\",\"58794999\",\"60340768\",\"61895169\",\"63454785\",\"65020124\",\"66593904\",\"68180846\",\"69784087\",\"71401743\",\"73030879\",\"74672009\",\"76325927\",\"77991757\",\"79672869\",\"81365260\",\"83051970\",\"84710544\",\"86326251\",\"87888675\",\"89405482\",\"90901967\",\"92414161\",\"93966784\",\"95570049\",\"97212639\",\"98871558\",\"100513137\",\"102113206\",\"103663812\",\"105172921\",\"106651394\",\"108116622\",\"109581085\",\\r\\n\"Palau\",\"PLW\",\"Population, total\",\"SP.POP.TOTL\",\"9769\",\"10046\",\"10329\",\"10566\",\"10792\",\"11005\",\"11178\",\"11329\",\"11460\",\"11617\",\"11803\",\"12051\",\"12342\",\"12625\",\"12823\",\"12898\",\"12835\",\"12646\",\"12409\",\"12231\",\"12178\",\"12281\",\"12519\",\"12842\",\"13190\",\"13534\",\"13835\",\"14121\",\"14400\",\"14704\",\"15063\",\"15442\",\"15859\",\"16285\",\"16735\",\"17158\",\"17599\",\"18016\",\"18409\",\"18773\",\"19104\",\"19390\",\"19642\",\"19812\",\"19861\",\"19784\",\"19545\",\"19159\",\"18708\",\"18290\",\"17954\",\"17748\",\"17635\",\"17603\",\"17625\",\"17665\",\"17718\",\"17809\",\"17911\",\"18001\",\"18092\",\\r\\n\"Papua New Guinea\",\"PNG\",\"Population, total\",\"SP.POP.TOTL\",\"2255858\",\"2297052\",\"2340349\",\"2385943\",\"2434220\",\"2485433\",\"2539683\",\"2596820\",\"2656636\",\"2718805\",\"2783132\",\"2849522\",\"2918138\",\"2989201\",\"3063051\",\"3139944\",\"3219825\",\"3302636\",\"3388631\",\"3478093\",\"3571209\",\"3668102\",\"3768489\",\"3871490\",\"3975950\",\"4081022\",\"4186499\",\"4292575\",\"4399320\",\"4506996\",\"4615843\",\"4725543\",\"4836216\",\"4949053\",\"5065664\",\"5187063\",\"5314258\",\"5446633\",\"5581767\",\"5716166\",\"5847590\",\"5974627\",\"6098621\",\"6223378\",\"6354247\",\"6494902\",\"6646891\",\"6808503\",\"6976200\",\"7144774\",\"7310512\",\"7472196\",\"7631003\",\"7788388\",\"7946733\",\"8107772\",\"8271766\",\"8438038\",\"8606324\",\"8776119\",\"8947027\",\\r\\n\"Poland\",\"POL\",\"Population, total\",\"SP.POP.TOTL\",\"29637450\",\"29964000\",\"30308500\",\"30712000\",\"31139450\",\"31444950\",\"31681000\",\"31987155\",\"32294655\",\"32548300\",\"32664300\",\"32783500\",\"33055650\",\"33357200\",\"33678899\",\"34015199\",\"34356300\",\"34689050\",\"34965600\",\"35247217\",\"35574150\",\"35898587\",\"36230481\",\"36571808\",\"36904134\",\"37201885\",\"37456119\",\"37668045\",\"37824487\",\"37961529\",\"38110782\",\"38246193\",\"38363667\",\"38461408\",\"38542652\",\"38594998\",\"38624370\",\"38649660\",\"38663481\",\"38660271\",\"38258629\",\"38248076\",\"38230364\",\"38204570\",\"38182222\",\"38165445\",\"38141267\",\"38120560\",\"38125759\",\"38151603\",\"38042794\",\"38063255\",\"38063164\",\"38040196\",\"38011735\",\"37986412\",\"37970087\",\"37974826\",\"37974750\",\"37965475\",\"37950802\",\\r\\n\"Pre-demographic dividend\",\"PRE\",\"Population, total\",\"SP.POP.TOTL\",\"187617086\",\"191889668\",\"196349130\",\"200997696\",\"205835402\",\"210865011\",\"216096182\",\"221539857\",\"227201766\",\"233087196\",\"239204922\",\"245537967\",\"252097876\",\"258953399\",\"266195192\",\"273877853\",\"282049633\",\"290664978\",\"299570039\",\"308551498\",\"317462476\",\"326257709\",\"335003783\",\"343806080\",\"352822095\",\"362177648\",\"371878713\",\"381918442\",\"392393113\",\"403416174\",\"415057402\",\"427398546\",\"440397744\",\"453849671\",\"467465268\",\"481049536\",\"494517689\",\"507968951\",\"521617701\",\"535773383\",\"550660000\",\"566366083\",\"582828758\",\"599938100\",\"617518659\",\"635451626\",\"653695057\",\"672318862\",\"691447634\",\"711257518\",\"731868780\",\"753326898\",\"775573262\",\"798496024\",\"821931559\",\"845759372\",\"869943573\",\"894512378\",\"919485090\",\"944902748\",\"970795671\",\\r\\n\"Puerto Rico\",\"PRI\",\"Population, total\",\"SP.POP.TOTL\",\"2358000\",\"2399722\",\"2450322\",\"2504530\",\"2554066\",\"2594000\",\"2624995\",\"2645674\",\"2662064\",\"2684150\",\"2718000\",\"2762190\",\"2817256\",\"2878786\",\"2939299\",\"2994000\",\"3043854\",\"3088690\",\"3129421\",\"3168088\",\"3206000\",\"3242552\",\"3277453\",\"3311138\",\"3344190\",\"3377000\",\"3409554\",\"3441850\",\"3473898\",\"3505650\",\"3537000\",\"3562110\",\"3585176\",\"3615497\",\"3649237\",\"3683103\",\"3724655\",\"3759430\",\"3781101\",\"3800081\",\"3810605\",\"3818774\",\"3823701\",\"3826095\",\"3826878\",\"3821362\",\"3805214\",\"3782995\",\"3760866\",\"3740410\",\"3721525\",\"3678732\",\"3634488\",\"3593077\",\"3534874\",\"3473232\",\"3406672\",\"3325286\",\"3193354\",\"3193694\",\"3194034\",\\r\\n\"Korea, Dem. People\\'s Rep.\",\"PRK\",\"Population, total\",\"SP.POP.TOTL\",\"11424189\",\"11665592\",\"11871726\",\"12065468\",\"12282417\",\"12547524\",\"12864947\",\"13222703\",\"13609976\",\"14010339\",\"14410391\",\"14809518\",\"15207765\",\"15593353\",\"15952077\",\"16274737\",\"16554744\",\"16796568\",\"17015984\",\"17235668\",\"17472144\",\"17731229\",\"18008568\",\"18298212\",\"18590142\",\"18877226\",\"19156791\",\"19431992\",\"19708316\",\"19993757\",\"20293057\",\"20609151\",\"20937407\",\"21265832\",\"21577979\",\"21862300\",\"22113428\",\"22335263\",\"22536754\",\"22731470\",\"22929078\",\"23132982\",\"23339453\",\"23542434\",\"23732740\",\"23904167\",\"24054866\",\"24188330\",\"24310143\",\"24428340\",\"24548840\",\"24673392\",\"24800638\",\"24929500\",\"25057793\",\"25183832\",\"25307665\",\"25429816\",\"25549606\",\"25666158\",\"25778815\",\\r\\n\"Portugal\",\"PRT\",\"Population, total\",\"SP.POP.TOTL\",\"8857716\",\"8929316\",\"8993985\",\"9030355\",\"9035365\",\"8998595\",\"8930990\",\"8874520\",\"8836650\",\"8757705\",\"8680431\",\"8643756\",\"8630430\",\"8633100\",\"8754365\",\"9093470\",\"9355810\",\"9455675\",\"9558250\",\"9661265\",\"9766312\",\"9851362\",\"9911771\",\"9957865\",\"9996232\",\"10023613\",\"10032734\",\"10030031\",\"10019610\",\"10005000\",\"9983218\",\"9960235\",\"9952494\",\"9964675\",\"9991525\",\"10026176\",\"10063945\",\"10108977\",\"10160196\",\"10217828\",\"10289898\",\"10362722\",\"10419631\",\"10458821\",\"10483861\",\"10503330\",\"10522288\",\"10542964\",\"10558177\",\"10568247\",\"10573100\",\"10557560\",\"10514844\",\"10457295\",\"10401062\",\"10358076\",\"10325452\",\"10300300\",\"10283822\",\"10286263\",\"10305564\",\\r\\n\"Paraguay\",\"PRY\",\"Population, total\",\"SP.POP.TOTL\",\"1903990\",\"1954552\",\"2006675\",\"2060340\",\"2115573\",\"2172309\",\"2230733\",\"2290797\",\"2351926\",\"2413396\",\"2474757\",\"2535877\",\"2597149\",\"2659418\",\"2723816\",\"2791236\",\"2861868\",\"2935710\",\"3013281\",\"3095151\",\"3181627\",\"3272922\",\"3368763\",\"3468533\",\"3571275\",\"3676206\",\"3783074\",\"3891725\",\"4001678\",\"4112396\",\"4223413\",\"4334348\",\"4445019\",\"4555518\",\"4666096\",\"4776838\",\"4887638\",\"4998096\",\"5107840\",\"5216346\",\"5323202\",\"5428442\",\"5531958\",\"5632983\",\"5730556\",\"5824095\",\"5913212\",\"5998430\",\"6081296\",\"6163970\",\"6248017\",\"6333981\",\"6421510\",\"6510273\",\"6599524\",\"6688746\",\"6777878\",\"6867058\",\"6956069\",\"7044639\",\"7132530\",\\r\\n\"West Bank and Gaza\",\"PSE\",\"Population, total\",\"SP.POP.TOTL\",\"\",\"\",\"\",\"\",\"\",\"\",\"\",\"\",\"\",\"\",\"\",\"\",\"\",\"\",\"\",\"\",\"\",\"\",\"\",\"\",\"\",\"\",\"\",\"\",\"\",\"\",\"\",\"\",\"\",\"\",\"1978248\",\"2068845\",\"2163591\",\"2262676\",\"2366298\",\"2474666\",\"2587997\",\"2706518\",\"2776568\",\"2848431\",\"2922153\",\"2997784\",\"3075373\",\"3154969\",\"3236626\",\"3320396\",\"3406334\",\"3494496\",\"3591977\",\"3689099\",\"3786161\",\"3882986\",\"3979998\",\"4076708\",\"4173398\",\"4270092\",\"4367088\",\"4454805\",\"4569087\",\"4685306\",\"4803269\",\\r\\n\"Pacific island small states\",\"PSS\",\"Population, total\",\"SP.POP.TOTL\",\"865064\",\"893394\",\"923320\",\"954098\",\"984824\",\"1014633\",\"1043365\",\"1071166\",\"1098151\",\"1124577\",\"1150712\",\"1176559\",\"1202128\",\"1227653\",\"1253371\",\"1279519\",\"1306023\",\"1332876\",\"1360542\",\"1389594\",\"1420314\",\"1453209\",\"1487849\",\"1522650\",\"1555395\",\"1584644\",\"1609572\",\"1630869\",\"1650438\",\"1670962\",\"1694327\",\"1721236\",\"1750932\",\"1782085\",\"1812838\",\"1841674\",\"1868390\",\"1893438\",\"1917140\",\"1939956\",\"1962451\",\"1984469\",\"2006091\",\"2027859\",\"2050583\",\"2074776\",\"2100892\",\"2128647\",\"2157454\",\"2186314\",\"2214509\",\"2241808\",\"2268553\",\"2295450\",\"2323558\",\"2353578\",\"2385744\",\"2419767\",\"2455336\",\"2491878\",\"2528958\",\\r\\n\"Post-demographic dividend\",\"PST\",\"Population, total\",\"SP.POP.TOTL\",\"755229793\",\"764423461\",\"773856028\",\"783141819\",\"792263980\",\"801098720\",\"809363152\",\"817179925\",\"824733296\",\"832280859\",\"839822017\",\"849163924\",\"857079422\",\"864609745\",\"871928836\",\"878890622\",\"885145869\",\"891251760\",\"897391855\",\"903788370\",\"909890607\",\"915971623\",\"921511883\",\"926614804\",\"931410415\",\"936241263\",\"941376248\",\"946671291\",\"952173528\",\"958081653\",\"964173901\",\"970997793\",\"977878861\",\"984374928\",\"990074277\",\"995310615\",\"1000603716\",\"1005700198\",\"1010590857\",\"1015421531\",\"1020504874\",\"1025401797\",\"1030561691\",\"1035711715\",\"1041075191\",\"1046366703\",\"1052054839\",\"1057981930\",\"1064394135\",\"1069878419\",\"1074870583\",\"1077841980\",\"1082374116\",\"1087130325\",\"1092088238\",\"1096977604\",\"1101866343\",\"1105983497\",\"1109795203\",\"1112707633\",\"1115116448\",\\r\\n\"French Polynesia\",\"PYF\",\"Population, total\",\"SP.POP.TOTL\",\"78080\",\"80705\",\"83652\",\"86847\",\"90132\",\"93442\",\"96719\",\"99990\",\"103329\",\"106814\",\"110490\",\"114385\",\"118438\",\"122641\",\"126919\",\"131229\",\"135559\",\"139893\",\"144273\",\"148734\",\"153298\",\"157954\",\"162679\",\"167456\",\"172249\",\"177024\",\"181807\",\"186588\",\"191260\",\"195728\",\"199906\",\"203716\",\"207238\",\"210644\",\"214196\",\"218064\",\"222323\",\"226854\",\"231562\",\"236217\",\"240681\",\"244929\",\"248976\",\"252707\",\"255995\",\"258780\",\"261007\",\"262717\",\"264064\",\"265256\",\"266449\",\"267702\",\"268995\",\"270332\",\"271713\",\"273119\",\"274576\",\"276108\",\"277673\",\"279285\",\"280904\",\\r\\n\"Qatar\",\"QAT\",\"Population, total\",\"SP.POP.TOTL\",\"47383\",\"51427\",\"56266\",\"61721\",\"67562\",\"73631\",\"79850\",\"86298\",\"93206\",\"100880\",\"109521\",\"119413\",\"130505\",\"142181\",\"153624\",\"164314\",\"173716\",\"182319\",\"191947\",\"205172\",\"223622\",\"247984\",\"277229\",\"309299\",\"341272\",\"370886\",\"397739\",\"422154\",\"443611\",\"461688\",\"476275\",\"487354\",\"495403\",\"501479\",\"507044\",\"513447\",\"522531\",\"535320\",\"551566\",\"570486\",\"592467\",\"615013\",\"640872\",\"681791\",\"753332\",\"865410\",\"1022704\",\"1218441\",\"1436670\",\"1654944\",\"1856329\",\"2035862\",\"2196078\",\"2336579\",\"2459202\",\"2565708\",\"2654379\",\"2724727\",\"2781682\",\"2832071\",\"2881060\",\\r\\n\"Romania\",\"ROU\",\"Population, total\",\"SP.POP.TOTL\",\"18406905\",\"18555250\",\"18676550\",\"18797850\",\"18919126\",\"19031576\",\"19215450\",\"19534242\",\"19799831\",\"20009141\",\"20250398\",\"20461567\",\"20657957\",\"20835681\",\"21029429\",\"21293583\",\"21551634\",\"21756096\",\"21951464\",\"22090488\",\"22207282\",\"22353070\",\"22475741\",\"22560478\",\"22640547\",\"22732999\",\"22836841\",\"22949430\",\"23057662\",\"23161458\",\"23201835\",\"23001155\",\"22794284\",\"22763280\",\"22730211\",\"22684270\",\"22619004\",\"22553978\",\"22507344\",\"22472040\",\"22442971\",\"22131970\",\"21730496\",\"21574326\",\"21451748\",\"21319685\",\"21193760\",\"20882982\",\"20537875\",\"20367487\",\"20246871\",\"20147528\",\"20058035\",\"19983693\",\"19908979\",\"19815616\",\"19702267\",\"19588715\",\"19473970\",\"19371648\",\"19286123\",\\r\\n\"Russian Federation\",\"RUS\",\"Population, total\",\"SP.POP.TOTL\",\"119897000\",\"121236000\",\"122591000\",\"123960000\",\"125345000\",\"126745000\",\"127468000\",\"128196000\",\"128928000\",\"129664000\",\"130404000\",\"131155000\",\"131909000\",\"132669000\",\"133432000\",\"134200000\",\"135147000\",\"136100000\",\"137060000\",\"138027000\",\"139010000\",\"139941000\",\"140823000\",\"141668000\",\"142745000\",\"143858000\",\"144894000\",\"145908000\",\"146857000\",\"147721000\",\"147969407\",\"148394216\",\"148538197\",\"148458777\",\"148407912\",\"148375787\",\"148160129\",\"147915361\",\"147670784\",\"147214776\",\"146596869\",\"145976482\",\"145306497\",\"144648618\",\"144067316\",\"143518814\",\"143049637\",\"142805114\",\"142742366\",\"142785349\",\"142849468\",\"142960908\",\"143201721\",\"143506995\",\"143819667\",\"144096870\",\"144342397\",\"144496739\",\"144477859\",\"144406261\",\"144104080\",\\r\\n\"Rwanda\",\"RWA\",\"Population, total\",\"SP.POP.TOTL\",\"2935575\",\"2998334\",\"3052937\",\"3105417\",\"3164258\",\"3235536\",\"3321674\",\"3420897\",\"3529839\",\"3643237\",\"3757351\",\"3871428\",\"3987223\",\"4106411\",\"4231579\",\"4364709\",\"4506109\",\"4655386\",\"4812872\",\"4978812\",\"5153314\",\"5329250\",\"5504847\",\"5690989\",\"5902847\",\"6146884\",\"6443748\",\"6779981\",\"7088194\",\"7276983\",\"7288883\",\"7083928\",\"6702239\",\"6263758\",\"5936253\",\"5836490\",\"6013112\",\"6419898\",\"6962800\",\"7501238\",\"7933688\",\"8231150\",\"8427061\",\"8557160\",\"8680516\",\"8840220\",\"9043342\",\"9273759\",\"9524532\",\"9782770\",\"10039338\",\"10293333\",\"10549668\",\"10811538\",\"11083629\",\"11369066\",\"11668829\",\"11980960\",\"12301969\",\"12626938\",\"12952209\",\\r\\n\"South Asia\",\"SAS\",\"Population, total\",\"SP.POP.TOTL\",\"572839530\",\"584939711\",\"597494450\",\"610498308\",\"623943328\",\"637823175\",\"652144171\",\"666908586\",\"682102192\",\"697706091\",\"713711358\",\"730107660\",\"746911710\",\"764174968\",\"781966557\",\"800335570\",\"819292532\",\"838819900\",\"858901743\",\"879510842\",\"900620583\",\"922226632\",\"944315173\",\"966836458\",\"989728262\",\"1012942302\",\"1036437878\",\"1060208544\",\"1084281159\",\"1108702366\",\"1133495194\",\"1158655616\",\"1184133340\",\"1209847774\",\"1235693864\",\"1261587780\",\"1287476203\",\"1313346375\",\"1339202700\",\"1365067953\",\"1390946065\",\"1416822995\",\"1442644044\",\"1468324423\",\"1493757846\",\"1518861546\",\"1543610686\",\"1568003175\",\"1592010815\",\"1615610187\",\"1638792927\",\"1661532158\",\"1683740452\",\"1705761545\",\"1727632022\",\"1749417067\",\"1771187426\",\"1792883164\",\"1814455018\",\"1835776769\",\"1856882402\",\\r\\n\"Saudi Arabia\",\"SAU\",\"Population, total\",\"SP.POP.TOTL\",\"4086534\",\"4218852\",\"4362788\",\"4516540\",\"4677304\",\"4843632\",\"5015353\",\"5195124\",\"5387822\",\"5599909\",\"5836388\",\"6100631\",\"6392973\",\"6711922\",\"7054532\",\"7419486\",\"7802928\",\"8207695\",\"8646845\",\"9137928\",\"9691471\",\"10311771\",\"10988851\",\"11701132\",\"12418836\",\"13118998\",\"13794167\",\"14445663\",\"15070082\",\"15666289\",\"16233786\",\"16772695\",\"17282686\",\"17763297\",\"18214475\",\"18638790\",\"19033843\",\"19407138\",\"19783301\",\"20194531\",\"20663840\",\"21202646\",\"21805322\",\"22456645\",\"23132686\",\"23816175\",\"24498313\",\"25184589\",\"25888535\",\"26630303\",\"27421468\",\"28267591\",\"29154906\",\"30052058\",\"30916603\",\"31717676\",\"32443443\",\"33101183\",\"33702757\",\"34268529\",\"34813867\",\\r\\n\"Sudan\",\"SDN\",\"Population, total\",\"SP.POP.TOTL\",\"7544498\",\"7769475\",\"8004122\",\"8248818\",\"8503989\",\"8770094\",\"9047803\",\"9337662\",\"9639846\",\"9954411\",\"10281695\",\"10621471\",\"10974626\",\"11343923\",\"11732957\",\"12144128\",\"12578398\",\"13034631\",\"13510429\",\"14002302\",\"14507466\",\"15027254\",\"15562129\",\"16107613\",\"16657956\",\"17210182\",\"17757494\",\"18303430\",\"18867559\",\"19476653\",\"20147592\",\"20891442\",\"21696240\",\"22527837\",\"23338465\",\"24094741\",\"24782384\",\"25413912\",\"26015518\",\"26626512\",\"27275019\",\"27971077\",\"28704786\",\"29460517\",\"30214189\",\"30949514\",\"31661824\",\"32360619\",\"33060844\",\"33783779\",\"34545014\",\"35349676\",\"36193781\",\"37072555\",\"37977657\",\"38902948\",\"39847433\",\"40813398\",\"41801532\",\"42813237\",\"43849269\",\\r\\n\"Senegal\",\"SEN\",\"Population, total\",\"SP.POP.TOTL\",\"3206757\",\"3295280\",\"3386803\",\"3481654\",\"3580241\",\"3682879\",\"3789381\",\"3899648\",\"4014107\",\"4133324\",\"4257508\",\"4387532\",\"4522886\",\"4660726\",\"4797188\",\"4929846\",\"5057375\",\"5181505\",\"5306685\",\"5439069\",\"5583157\",\"5740441\",\"5909734\",\"6089567\",\"6277420\",\"6471329\",\"6670665\",\"6875746\",\"7086624\",\"7303511\",\"7526306\",\"7755503\",\"7990090\",\"8226749\",\"8461066\",\"8690155\",\"8912872\",\"9130876\",\"9347777\",\"9568717\",\"9797731\",\"10036102\",\"10283694\",\"10541470\",\"10810086\",\"11090123\",\"11382272\",\"11687078\",\"12004700\",\"12335092\",\"12678143\",\"13033814\",\"13401990\",\"13782429\",\"14174740\",\"14578450\",\"14993514\",\"15419354\",\"15854324\",\"16296362\",\"16743930\",\\r\\n\"Singapore\",\"SGP\",\"Population, total\",\"SP.POP.TOTL\",\"1646400\",\"1702400\",\"1750200\",\"1795000\",\"1841600\",\"1886900\",\"1934400\",\"1977600\",\"2012000\",\"2042500\",\"2074507\",\"2112900\",\"2152400\",\"2193000\",\"2229800\",\"2262600\",\"2293300\",\"2325300\",\"2353600\",\"2383500\",\"2413945\",\"2532835\",\"2646466\",\"2681061\",\"2732221\",\"2735957\",\"2733373\",\"2774789\",\"2846108\",\"2930901\",\"3047132\",\"3135083\",\"3230698\",\"3313471\",\"3419048\",\"3524506\",\"3670704\",\"3796038\",\"3927213\",\"3958723\",\"4027887\",\"4138012\",\"4175950\",\"4114826\",\"4166664\",\"4265762\",\"4401365\",\"4588599\",\"4839396\",\"4987573\",\"5076732\",\"5183688\",\"5312437\",\"5399162\",\"5469724\",\"5535002\",\"5607283\",\"5612253\",\"5638676\",\"5703569\",\"5685807\",\\r\\n\"Solomon Islands\",\"SLB\",\"Population, total\",\"SP.POP.TOTL\",\"117847\",\"121385\",\"125040\",\"128838\",\"132766\",\"136815\",\"140995\",\"145319\",\"149887\",\"154830\",\"160240\",\"166163\",\"172550\",\"179306\",\"186297\",\"193401\",\"200602\",\"207885\",\"215299\",\"222841\",\"230550\",\"238423\",\"246451\",\"254566\",\"262691\",\"270787\",\"278834\",\"286871\",\"294976\",\"303272\",\"311869\",\"320781\",\"330004\",\"339501\",\"349273\",\"359276\",\"369517\",\"379998\",\"390702\",\"401592\",\"412665\",\"423949\",\"435434\",\"447016\",\"458549\",\"469918\",\"481086\",\"492133\",\"503366\",\"515182\",\"527861\",\"541522\",\"556066\",\"571329\",\"587079\",\"603133\",\"619438\",\"636030\",\"652856\",\"669821\",\"686878\",\\r\\n\"Sierra Leone\",\"SLE\",\"Population, total\",\"SP.POP.TOTL\",\"2317638\",\"2352370\",\"2388759\",\"2426864\",\"2466671\",\"2508226\",\"2551580\",\"2596798\",\"2644011\",\"2693344\",\"2744890\",\"2798727\",\"2854866\",\"2913347\",\"2974105\",\"3037158\",\"3102595\",\"3170503\",\"3240841\",\"3313506\",\"3388494\",\"3464113\",\"3540164\",\"3619854\",\"3707513\",\"3805304\",\"3916685\",\"4038154\",\"4156636\",\"4254434\",\"4319763\",\"4348663\",\"4347727\",\"4328965\",\"4309780\",\"4303953\",\"4312660\",\"4335295\",\"4381484\",\"4462374\",\"4584570\",\"4754069\",\"4965770\",\"5201074\",\"5433995\",\"5645629\",\"5829240\",\"5989641\",\"6133599\",\"6272735\",\"6415636\",\"6563238\",\"6712586\",\"6863975\",\"7017153\",\"7171909\",\"7328846\",\"7488427\",\"7650149\",\"7813207\",\"7976985\",\\r\\n\"El Salvador\",\"SLV\",\"Population, total\",\"SP.POP.TOTL\",\"2766319\",\"2846601\",\"2931187\",\"3019224\",\"3109571\",\"3201310\",\"3293954\",\"3387384\",\"3481624\",\"3576834\",\"3673066\",\"3770060\",\"3867310\",\"3964273\",\"4060255\",\"4154689\",\"4247508\",\"4338451\",\"4426679\",\"4511127\",\"4591135\",\"4666361\",\"4737256\",\"4804936\",\"4871041\",\"4936803\",\"5002339\",\"5067531\",\"5133273\",\"5200608\",\"5270074\",\"5342190\",\"5416327\",\"5490478\",\"5561916\",\"5628602\",\"5689943\",\"5746288\",\"5797764\",\"5844834\",\"5887930\",\"5927001\",\"5962139\",\"5994075\",\"6023801\",\"6052124\",\"6079395\",\"6105810\",\"6131767\",\"6157678\",\"6183877\",\"6210567\",\"6237922\",\"6266076\",\"6295124\",\"6325121\",\"6356137\",\"6388124\",\"6420740\",\"6453550\",\"6486201\",\\r\\n\"San Marino\",\"SMR\",\"Population, total\",\"SP.POP.TOTL\",\"15440\",\"15836\",\"16255\",\"16669\",\"17101\",\"17508\",\"17919\",\"18309\",\"18668\",\"18980\",\"19224\",\"19393\",\"19490\",\"19561\",\"19661\",\"19829\",\"20086\",\"20397\",\"20764\",\"21122\",\"21453\",\"21761\",\"22043\",\"22295\",\"22546\",\"22794\",\"23046\",\"23297\",\"23548\",\"23833\",\"24124\",\"24454\",\"24830\",\"25208\",\"25588\",\"25925\",\"26253\",\"26563\",\"26851\",\"27141\",\"27460\",\"27818\",\"28175\",\"28561\",\"28942\",\"29324\",\"29694\",\"30068\",\"30434\",\"30825\",\"31221\",\"31655\",\"32103\",\"32554\",\"32941\",\"33270\",\"33503\",\"33671\",\"33784\",\"33864\",\"33938\",\\r\\n\"Somalia\",\"SOM\",\"Population, total\",\"SP.POP.TOTL\",\"2755967\",\"2814125\",\"2874215\",\"2936478\",\"3001160\",\"3068465\",\"3143654\",\"3227835\",\"3312735\",\"3386736\",\"3444569\",\"3472357\",\"3479792\",\"3512626\",\"3632986\",\"3880285\",\"4278974\",\"4802134\",\"5375018\",\"5892763\",\"6281138\",\"6511115\",\"6608040\",\"6618594\",\"6614713\",\"6648628\",\"6736751\",\"6862267\",\"7005226\",\"7133263\",\"7225089\",\"7274026\",\"7295380\",\"7315864\",\"7372592\",\"7491647\",\"7682683\",\"7936122\",\"8235064\",\"8553595\",\"8872250\",\"9186719\",\"9501335\",\"9815412\",\"10130251\",\"10446856\",\"10763904\",\"11080122\",\"11397188\",\"11717691\",\"12043886\",\"12376305\",\"12715487\",\"13063711\",\"13423571\",\"13797204\",\"14185635\",\"14589165\",\"15008225\",\"15442906\",\"15893219\",\\r\\n\"Serbia\",\"SRB\",\"Population, total\",\"SP.POP.TOTL\",\"6608000\",\"6655000\",\"6696000\",\"6732000\",\"6765000\",\"6794000\",\"6841000\",\"6880000\",\"6915000\",\"6945000\",\"6972000\",\"7013000\",\"7053000\",\"7091000\",\"7128000\",\"7163000\",\"7214000\",\"7258000\",\"7297000\",\"7332000\",\"7362000\",\"7405000\",\"7440000\",\"7468000\",\"7489000\",\"7504000\",\"7536000\",\"7558000\",\"7572000\",\"7581000\",\"7586000\",\"7595636\",\"7646424\",\"7699307\",\"7734639\",\"7625357\",\"7617794\",\"7596501\",\"7567745\",\"7540401\",\"7516346\",\"7503433\",\"7496522\",\"7480591\",\"7463157\",\"7440769\",\"7411569\",\"7381579\",\"7350222\",\"7320807\",\"7291436\",\"7234099\",\"7199077\",\"7164132\",\"7130576\",\"7095383\",\"7058322\",\"7020858\",\"6982604\",\"6945235\",\"6908224\",\\r\\n\"Sub-Saharan Africa (excluding high income)\",\"SSA\",\"Population, total\",\"SP.POP.TOTL\",\"227191484\",\"232524118\",\"238077562\",\"243848199\",\"249827334\",\"256012349\",\"262405783\",\"269022493\",\"275886412\",\"283028136\",\"290472633\",\"298229780\",\"306303621\",\"314704612\",\"323442396\",\"332524189\",\"341958433\",\"351746974\",\"361877306\",\"372341551\",\"383124954\",\"394217957\",\"405624485\",\"417361377\",\"429457197\",\"441922760\",\"454770025\",\"467984604\",\"481525582\",\"495338255\",\"509382368\",\"523656521\",\"538175676\",\"552948132\",\"567997865\",\"583337983\",\"598991357\",\"614977022\",\"631321857\",\"648067928\",\"665246457\",\"682874821\",\"700982474\",\"719633384\",\"738900772\",\"758841806\",\"779482246\",\"800823534\",\"822858534\",\"845567911\",\"868935345\",\"892958422\",\"917637577\",\"942949525\",\"968866993\",\"995365079\",\"1022435568\",\"1050066967\",\"1078222750\",\"1106860245\",\"1135948313\",\\r\\n\"South Sudan\",\"SSD\",\"Population, total\",\"SP.POP.TOTL\",\"2842718\",\"2895609\",\"2951041\",\"3009061\",\"3069735\",\"3133155\",\"3199348\",\"3268392\",\"3340426\",\"3415572\",\"3494011\",\"3575896\",\"3661442\",\"3750780\",\"3844094\",\"3941613\",\"4041792\",\"4144552\",\"4253085\",\"4371711\",\"4502603\",\"4646478\",\"4799435\",\"4953154\",\"5096478\",\"5220748\",\"5328167\",\"5419808\",\"5485288\",\"5511582\",\"5492620\",\"5420179\",\"5305449\",\"5185712\",\"5111371\",\"5118084\",\"5221925\",\"5411653\",\"5661934\",\"5933884\",\"6199396\",\"6447791\",\"6688225\",\"6935665\",\"7213354\",\"7535931\",\"7907407\",\"8315144\",\"8736932\",\"9142258\",\"9508372\",\"9830695\",\"10113648\",\"10355030\",\"10554882\",\"10715657\",\"10832520\",\"10910774\",\"10975924\",\"11062114\",\"11193729\",\\r\\n\"Sub-Saharan Africa\",\"SSF\",\"Population, total\",\"SP.POP.TOTL\",\"227233184\",\"232567007\",\"238121604\",\"243893375\",\"249873656\",\"256059849\",\"262454482\",\"269072404\",\"275937546\",\"283080501\",\"290526233\",\"298284475\",\"306359650\",\"314761504\",\"323500333\",\"332583481\",\"342018937\",\"351808760\",\"361939456\",\"372404237\",\"383188215\",\"394281992\",\"405688898\",\"417425712\",\"429521914\",\"441988004\",\"454835677\",\"468053103\",\"481594337\",\"495407422\",\"509451875\",\"523726960\",\"538246439\",\"553020385\",\"568072070\",\"583413287\",\"599067774\",\"615054341\",\"631400703\",\"648148338\",\"665327588\",\"682956023\",\"701066197\",\"719716165\",\"738983247\",\"758924664\",\"779566846\",\"800908567\",\"822945490\",\"845655209\",\"869025115\",\"893045863\",\"917725880\",\"943039474\",\"968958352\",\"995458498\",\"1022530245\",\"1050162810\",\"1078319512\",\"1106957870\",\"1136046775\",\\r\\n\"Small states\",\"SST\",\"Population, total\",\"SP.POP.TOTL\",\"14211632\",\"14483280\",\"14762137\",\"15045754\",\"15333414\",\"15621038\",\"15906000\",\"16189729\",\"16478258\",\"16772135\",\"17073320\",\"17384835\",\"17702798\",\"18024903\",\"18352225\",\"18688113\",\"19027575\",\"19373865\",\"19729124\",\"20104329\",\"20501052\",\"20918880\",\"21359036\",\"21809929\",\"22269272\",\"22740424\",\"23219508\",\"23705895\",\"24190637\",\"24669495\",\"25134374\",\"25593378\",\"26020298\",\"26428489\",\"26841261\",\"27247916\",\"27660218\",\"28081580\",\"28504891\",\"28948552\",\"29393017\",\"29820320\",\"30250201\",\"30697300\",\"31189665\",\"31746502\",\"32375205\",\"33066727\",\"33798831\",\"34529570\",\"35238631\",\"35912140\",\"36568506\",\"37213359\",\"37861447\",\"38524668\",\"39198032\",\"39883677\",\"40574734\",\"41254526\",\"41913035\",\\r\\n\"Sao Tome and Principe\",\"STP\",\"Population, total\",\"SP.POP.TOTL\",\"64294\",\"64597\",\"64478\",\"64237\",\"64278\",\"64884\",\"66172\",\"68039\",\"70258\",\"72501\",\"74570\",\"76344\",\"77930\",\"79463\",\"81148\",\"83134\",\"85475\",\"88102\",\"90846\",\"93458\",\"95788\",\"97767\",\"99478\",\"101064\",\"102826\",\"104926\",\"107429\",\"110259\",\"113288\",\"116313\",\"119211\",\"121949\",\"124574\",\"127066\",\"129426\",\"131679\",\"133799\",\"135831\",\"137855\",\"139964\",\"142264\",\"144760\",\"147450\",\"150405\",\"153736\",\"157472\",\"161676\",\"166297\",\"171122\",\"175877\",\"180372\",\"184521\",\"188394\",\"192076\",\"195727\",\"199439\",\"203221\",\"207086\",\"211032\",\"215048\",\"219161\",\\r\\n\"Suriname\",\"SUR\",\"Population, total\",\"SP.POP.TOTL\",\"287870\",\"295913\",\"303894\",\"311945\",\"320267\",\"328939\",\"338155\",\"347673\",\"356551\",\"363574\",\"367926\",\"369230\",\"367907\",\"364907\",\"361665\",\"359234\",\"357949\",\"357649\",\"358103\",\"358826\",\"359531\",\"360144\",\"360927\",\"362282\",\"364722\",\"368636\",\"374133\",\"381033\",\"388877\",\"397082\",\"405169\",\"413009\",\"420658\",\"428028\",\"435099\",\"441851\",\"448207\",\"454165\",\"459838\",\"465380\",\"470944\",\"476574\",\"482228\",\"487938\",\"493680\",\"499461\",\"505292\",\"511181\",\"517122\",\"523113\",\"529126\",\"535177\",\"541247\",\"547295\",\"553278\",\"559136\",\"564883\",\"570501\",\"575987\",\"581363\",\"586634\",\\r\\n\"Slovak Republic\",\"SVK\",\"Population, total\",\"SP.POP.TOTL\",\"4068095\",\"4191667\",\"4238188\",\"4282017\",\"4327341\",\"4370983\",\"4411666\",\"4449367\",\"4483915\",\"4518607\",\"4538223\",\"4557449\",\"4596622\",\"4641445\",\"4689623\",\"4739105\",\"4789507\",\"4840501\",\"4890125\",\"4938973\",\"4979815\",\"5016105\",\"5055099\",\"5091971\",\"5127097\",\"5161768\",\"5193838\",\"5222840\",\"5250596\",\"5275942\",\"5299187\",\"5303294\",\"5305016\",\"5325305\",\"5346331\",\"5361999\",\"5373361\",\"5383291\",\"5390516\",\"5396020\",\"5388720\",\"5378867\",\"5376912\",\"5373374\",\"5372280\",\"5372807\",\"5373054\",\"5374622\",\"5379233\",\"5386406\",\"5391428\",\"5398384\",\"5407579\",\"5413393\",\"5418649\",\"5423801\",\"5430798\",\"5439232\",\"5446771\",\"5454147\",\"5458827\",\\r\\n\"Slovenia\",\"SVN\",\"Population, total\",\"SP.POP.TOTL\",\"1584720\",\"1594131\",\"1603649\",\"1616971\",\"1632114\",\"1649160\",\"1669905\",\"1689528\",\"1704546\",\"1713874\",\"1724891\",\"1738335\",\"1752233\",\"1766697\",\"1776132\",\"1793581\",\"1820249\",\"1842377\",\"1862548\",\"1882599\",\"1901315\",\"1906531\",\"1910334\",\"1922321\",\"1932154\",\"1941641\",\"1965964\",\"1989776\",\"1995196\",\"1996351\",\"1998161\",\"1999429\",\"1996498\",\"1991746\",\"1989443\",\"1989872\",\"1988628\",\"1985956\",\"1981629\",\"1983045\",\"1988925\",\"1992060\",\"1994530\",\"1995733\",\"1997012\",\"2000474\",\"2006868\",\"2018122\",\"2021316\",\"2039669\",\"2048583\",\"2052843\",\"2057159\",\"2059953\",\"2061980\",\"2063531\",\"2065042\",\"2066388\",\"2073894\",\"2088385\",\"2100126\",\\r\\n\"Sweden\",\"SWE\",\"Population, total\",\"SP.POP.TOTL\",\"7484656\",\"7519998\",\"7561588\",\"7604328\",\"7661354\",\"7733853\",\"7807797\",\"7867931\",\"7912273\",\"7968072\",\"8042801\",\"8098334\",\"8122300\",\"8136312\",\"8159955\",\"8192437\",\"8222286\",\"8251540\",\"8275599\",\"8293678\",\"8310531\",\"8320503\",\"8325263\",\"8329033\",\"8336605\",\"8350386\",\"8369829\",\"8397804\",\"8436489\",\"8492964\",\"8558835\",\"8617375\",\"8668067\",\"8718561\",\"8780745\",\"8826939\",\"8840998\",\"8846062\",\"8850974\",\"8857874\",\"8872109\",\"8895960\",\"8924958\",\"8958229\",\"8993531\",\"9029572\",\"9080505\",\"9148092\",\"9219637\",\"9298515\",\"9378126\",\"9449213\",\"9519374\",\"9600379\",\"9696110\",\"9799186\",\"9923085\",\"10057698\",\"10175214\",\"10278887\",\"10353442\",\\r\\n\"Eswatini\",\"SWZ\",\"Population, total\",\"SP.POP.TOTL\",\"336578\",\"343346\",\"350155\",\"357279\",\"365120\",\"373925\",\"383820\",\"394760\",\"406508\",\"418739\",\"431251\",\"443979\",\"457039\",\"470561\",\"484747\",\"499759\",\"515602\",\"532253\",\"549787\",\"568316\",\"587852\",\"608374\",\"629812\",\"652112\",\"675240\",\"699077\",\"723599\",\"748634\",\"773774\",\"798498\",\"822423\",\"845267\",\"866995\",\"887706\",\"907622\",\"926836\",\"945506\",\"963416\",\"979922\",\"994105\",\"1005432\",\"1013608\",\"1019054\",\"1022796\",\"1026287\",\"1030575\",\"1036095\",\"1042651\",\"1049948\",\"1057462\",\"1064841\",\"1072029\",\"1079285\",\"1086843\",\"1095022\",\"1104038\",\"1113994\",\"1124808\",\"1136274\",\"1148133\",\"1160164\",\\r\\n\"Sint Maarten (Dutch part)\",\"SXM\",\"Population, total\",\"SP.POP.TOTL\",\"2833\",\"3077\",\"3367\",\"3703\",\"4063\",\"4460\",\"4895\",\"5362\",\"5857\",\"6354\",\"6854\",\"7372\",\"7892\",\"8429\",\"8977\",\"9556\",\"10147\",\"10791\",\"11481\",\"12244\",\"13097\",\"14030\",\"15032\",\"16175\",\"17517\",\"19127\",\"21028\",\"23157\",\"25334\",\"27280\",\"28814\",\"29852\",\"30458\",\"30765\",\"30950\",\"31164\",\"31434\",\"31731\",\"31240\",\"31084\",\"30519\",\"30600\",\"30777\",\"31472\",\"32488\",\"33011\",\"33441\",\"33811\",\"33964\",\"34238\",\"34056\",\"33435\",\"34640\",\"36607\",\"37685\",\"38825\",\"39969\",\"40574\",\"40654\",\"40733\",\"40812\",\\r\\n\"Seychelles\",\"SYC\",\"Population, total\",\"SP.POP.TOTL\",\"41700\",\"42889\",\"44042\",\"45176\",\"46322\",\"47500\",\"48699\",\"49911\",\"51134\",\"52365\",\"53600\",\"54695\",\"56029\",\"56892\",\"57937\",\"59292\",\"60504\",\"61786\",\"62150\",\"62686\",\"63261\",\"64035\",\"64413\",\"64335\",\"64717\",\"65244\",\"65652\",\"68499\",\"68755\",\"69167\",\"69507\",\"70439\",\"70763\",\"72253\",\"74205\",\"75304\",\"76417\",\"77319\",\"78846\",\"80410\",\"81131\",\"81202\",\"83723\",\"82781\",\"82475\",\"82858\",\"84600\",\"85033\",\"86956\",\"87298\",\"89770\",\"87441\",\"88303\",\"89949\",\"91359\",\"93419\",\"94677\",\"95843\",\"96762\",\"97625\",\"98462\",\\r\\n\"Syrian Arab Republic\",\"SYR\",\"Population, total\",\"SP.POP.TOTL\",\"4573514\",\"4721893\",\"4875429\",\"5034639\",\"5200341\",\"5373137\",\"5553247\",\"5740702\",\"5935850\",\"6139054\",\"6350544\",\"6570859\",\"6800148\",\"7037860\",\"7283181\",\"7535715\",\"7794658\",\"8060652\",\"8336421\",\"8625693\",\"8930776\",\"9252854\",\"9590226\",\"9938852\",\"10293048\",\"10648633\",\"11004273\",\"11360848\",\"11719064\",\"12080439\",\"12446168\",\"12815400\",\"13187669\",\"13565074\",\"13950486\",\"14345491\",\"14754148\",\"15175308\",\"15599588\",\"16013992\",\"16410847\",\"16766555\",\"17084628\",\"17415214\",\"17827827\",\"18361178\",\"19059257\",\"19878257\",\"20664037\",\"21205873\",\"21362541\",\"21081814\",\"20438861\",\"19578466\",\"18710711\",\"17997411\",\"17465567\",\"17095669\",\"16945062\",\"17070132\",\"17500657\",\\r\\n\"Turks and Caicos Islands\",\"TCA\",\"Population, total\",\"SP.POP.TOTL\",\"5825\",\"5867\",\"5884\",\"5870\",\"5851\",\"5814\",\"5783\",\"5766\",\"5746\",\"5765\",\"5837\",\"5973\",\"6156\",\"6380\",\"6610\",\"6832\",\"7020\",\"7193\",\"7380\",\"7607\",\"7894\",\"8243\",\"8654\",\"9096\",\"9556\",\"9974\",\"10365\",\"10717\",\"11091\",\"11550\",\"12115\",\"12815\",\"13639\",\"14526\",\"15399\",\"16221\",\"16930\",\"17566\",\"18228\",\"19069\",\"20171\",\"21578\",\"23230\",\"25008\",\"26709\",\"28181\",\"29394\",\"30383\",\"31200\",\"31933\",\"32658\",\"33371\",\"34067\",\"34733\",\"35371\",\"35979\",\"36558\",\"37116\",\"37667\",\"38194\",\"38718\",\\r\\n\"Chad\",\"TCD\",\"Population, total\",\"SP.POP.TOTL\",\"3001604\",\"3060365\",\"3121226\",\"3183576\",\"3246527\",\"3309583\",\"3372182\",\"3434817\",\"3499370\",\"3568402\",\"3643608\",\"3726189\",\"3815253\",\"3907891\",\"3999918\",\"4088568\",\"4173131\",\"4255242\",\"4337292\",\"4422743\",\"4514427\",\"4612858\",\"4718157\",\"4832316\",\"4957561\",\"5095400\",\"5247281\",\"5412844\",\"5589624\",\"5773930\",\"5963250\",\"6157085\",\"6356741\",\"6563925\",\"6781057\",\"7010159\",\"7250974\",\"7503494\",\"7770053\",\"8053532\",\"8355654\",\"8678049\",\"9019226\",\"9373913\",\"9734761\",\"10096630\",\"10457122\",\"10818031\",\"11183589\",\"11560142\",\"11952134\",\"12360986\",\"12784748\",\"13220433\",\"13663562\",\"14110971\",\"14561658\",\"15016761\",\"15477727\",\"15946882\",\"16425859\",\\r\\n\"East Asia & Pacific (IDA & IBRD countries)\",\"TEA\",\"Population, total\",\"SP.POP.TOTL\",\"883445587\",\"882807979\",\"894536202\",\"917563058\",\"940205341\",\"963806224\",\"990927362\",\"1017110642\",\"1044230688\",\"1073035646\",\"1102743524\",\"1133088596\",\"1161692236\",\"1189353305\",\"1215519592\",\"1239283626\",\"1261221802\",\"1281596019\",\"1301958170\",\"1322627340\",\"1342952249\",\"1363987476\",\"1387365779\",\"1410865643\",\"1433295157\",\"1456445331\",\"1481135104\",\"1507322673\",\"1533819032\",\"1559650590\",\"1584871821\",\"1608998997\",\"1631566861\",\"1653289936\",\"1674861271\",\"1696013989\",\"1716810410\",\"1737388723\",\"1757224496\",\"1775880197\",\"1793498345\",\"1810261111\",\"1826238741\",\"1841560611\",\"1856486255\",\"1871341383\",\"1885806879\",\"1899800479\",\"1913718217\",\"1927560597\",\"1941377365\",\"1955333874\",\"1969561377\",\"1983961912\",\"1998510237\",\"2012978425\",\"2027772092\",\"2042693823\",\"2056073849\",\"2067982370\",\"2079198305\",\\r\\n\"Europe & Central Asia (IDA & IBRD countries)\",\"TEC\",\"Population, total\",\"SP.POP.TOTL\",\"308424859\",\"313062858\",\"317744155\",\"322502356\",\"327271196\",\"331852935\",\"335704786\",\"339692825\",\"343594800\",\"347372826\",\"351017860\",\"354660485\",\"358451364\",\"362249658\",\"366086343\",\"369959058\",\"373993098\",\"377959108\",\"381826792\",\"385669994\",\"389610131\",\"393632708\",\"397542988\",\"401434284\",\"405559660\",\"409642788\",\"413657306\",\"417635043\",\"421417208\",\"424805449\",\"427265643\",\"429373010\",\"431065065\",\"432578780\",\"433470960\",\"433787234\",\"434113825\",\"434474220\",\"434722171\",\"434668281\",\"434313565\",\"433863004\",\"433541378\",\"433680250\",\"434022280\",\"434427808\",\"434964327\",\"435646350\",\"436828065\",\"438498963\",\"440420863\",\"442655860\",\"444896570\",\"447365261\",\"449817266\",\"452301310\",\"454723324\",\"456992326\",\"458994120\",\"460791608\",\"462247461\",\\r\\n\"Togo\",\"TGO\",\"Population, total\",\"SP.POP.TOTL\",\"1580508\",\"1597523\",\"1612761\",\"1631758\",\"1662073\",\"1708631\",\"1774020\",\"1855450\",\"1945777\",\"2034902\",\"2115522\",\"2185667\",\"2247578\",\"2303344\",\"2356620\",\"2410451\",\"2464424\",\"2518454\",\"2576293\",\"2642693\",\"2720835\",\"2812312\",\"2915618\",\"3026980\",\"3140840\",\"3252997\",\"3363040\",\"3471738\",\"3577469\",\"3678567\",\"3774310\",\"3862998\",\"3945902\",\"4029044\",\"4120615\",\"4226293\",\"4348808\",\"4485945\",\"4632451\",\"4780455\",\"4924406\",\"5062571\",\"5197040\",\"5330629\",\"5467770\",\"5611643\",\"5762881\",\"5920360\",\"6083417\",\"6250840\",\"6421674\",\"6595939\",\"6773807\",\"6954721\",\"7137997\",\"7323162\",\"7509952\",\"7698476\",\"7889095\",\"8082359\",\"8278737\",\\r\\n\"Thailand\",\"THA\",\"Population, total\",\"SP.POP.TOTL\",\"27397208\",\"28224186\",\"29080945\",\"29966873\",\"30881136\",\"31822656\",\"32789129\",\"33778804\",\"34791418\",\"35827089\",\"36884525\",\"37963280\",\"39058594\",\"40159581\",\"41252320\",\"42326307\",\"43377270\",\"44405903\",\"45413082\",\"46401750\",\"47374463\",\"48326269\",\"49255889\",\"50173922\",\"51094870\",\"52026901\",\"52980105\",\"53945872\",\"54891520\",\"55772169\",\"56558196\",\"57232471\",\"57811025\",\"58337773\",\"58875275\",\"59467272\",\"60130190\",\"60846588\",\"61585103\",\"62298569\",\"62952639\",\"63539190\",\"64069093\",\"64549867\",\"64995303\",\"65416189\",\"65812540\",\"66182064\",\"66530980\",\"66866834\",\"67195032\",\"67518379\",\"67835969\",\"68144519\",\"68438748\",\"68714519\",\"68971313\",\"69209817\",\"69428454\",\"69625581\",\"69799978\",\\r\\n\"Tajikistan\",\"TJK\",\"Population, total\",\"SP.POP.TOTL\",\"2087053\",\"2159134\",\"2236564\",\"2318252\",\"2402473\",\"2487975\",\"2574506\",\"2662257\",\"2750932\",\"2840265\",\"2930108\",\"3020419\",\"3111284\",\"3203035\",\"3296092\",\"3390941\",\"3487658\",\"3586516\",\"3688411\",\"3794457\",\"3905443\",\"4020818\",\"4140297\",\"4265278\",\"4397563\",\"4537820\",\"4687328\",\"4843997\",\"5001172\",\"5149872\",\"5283811\",\"5400636\",\"5502490\",\"5593317\",\"5679169\",\"5764806\",\"5851354\",\"5938404\",\"6027395\",\"6119664\",\"6216329\",\"6318510\",\"6426861\",\"6541550\",\"6662391\",\"6789318\",\"6922590\",\"7062667\",\"7209924\",\"7364752\",\"7527397\",\"7697507\",\"7874838\",\"8059782\",\"8252828\",\"8454019\",\"8663575\",\"8880270\",\"9100847\",\"9321023\",\"9537642\",\\r\\n\"Turkmenistan\",\"TKM\",\"Population, total\",\"SP.POP.TOTL\",\"1603254\",\"1658364\",\"1715408\",\"1773854\",\"1833065\",\"1892596\",\"1952144\",\"2011762\",\"2071793\",\"2132800\",\"2195165\",\"2258965\",\"2324019\",\"2390212\",\"2457379\",\"2525374\",\"2594315\",\"2664262\",\"2734899\",\"2805817\",\"2876809\",\"2947783\",\"3019064\",\"3091510\",\"3166215\",\"3244024\",\"3324462\",\"3407310\",\"3493892\",\"3585867\",\"3683978\",\"3789188\",\"3899843\",\"4010789\",\"4115105\",\"4207841\",\"4287337\",\"4355125\",\"4413477\",\"4466133\",\"4516128\",\"4564087\",\"4610018\",\"4655752\",\"4703396\",\"4754652\",\"4810114\",\"4870142\",\"4935765\",\"5007953\",\"5087211\",\"5174076\",\"5267906\",\"5366376\",\"5466324\",\"5565283\",\"5662371\",\"5757667\",\"5850902\",\"5942094\",\"6031187\",\\r\\n\"Latin America & the Caribbean (IDA & IBRD countries)\",\"TLA\",\"Population, total\",\"SP.POP.TOTL\",\"209749023\",\"215629972\",\"221676249\",\"227866079\",\"234169957\",\"240564863\",\"247044234\",\"253607485\",\"260246118\",\"266952916\",\"273723962\",\"280552945\",\"287442489\",\"294409011\",\"301475452\",\"308657753\",\"315955197\",\"323363576\",\"330890816\",\"338545320\",\"346328178\",\"354241995\",\"362272025\",\"370377355\",\"378506071\",\"386619091\",\"394697236\",\"402742139\",\"410761042\",\"418769937\",\"426777889\",\"434776652\",\"442751009\",\"450695871\",\"458608078\",\"466483148\",\"474321040\",\"482112390\",\"489832061\",\"497441659\",\"504921279\",\"512247446\",\"519420841\",\"526462542\",\"533415243\",\"540306150\",\"547139431\",\"553909998\",\"560624662\",\"567289597\",\"573800616\",\"580428448\",\"586999600\",\"593506947\",\"599935349\",\"606271936\",\"612511541\",\"618653508\",\"624698076\",\"630644771\",\"636492840\",\\r\\n\"Timor-Leste\",\"TLS\",\"Population, total\",\"SP.POP.TOTL\",\"474535\",\"482852\",\"491575\",\"500652\",\"510035\",\"519676\",\"529328\",\"538906\",\"548817\",\"559620\",\"571565\",\"585250\",\"600185\",\"614264\",\"624561\",\"629227\",\"627255\",\"619817\",\"610048\",\"602363\",\"599907\",\"603837\",\"613233\",\"626677\",\"641845\",\"657061\",\"671747\",\"686475\",\"701812\",\"718736\",\"737814\",\"759526\",\"783204\",\"806867\",\"827828\",\"844333\",\"855358\",\"861870\",\"866523\",\"873138\",\"884366\",\"901214\",\"922699\",\"947110\",\"971889\",\"995130\",\"1016437\",\"1036388\",\"1055428\",\"1074286\",\"1093517\",\"1113154\",\"1133002\",\"1153288\",\"1174333\",\"1196294\",\"1219289\",\"1243260\",\"1267975\",\"1293120\",\"1318442\",\\r\\n\"Middle East & North Africa (IDA & IBRD countries)\",\"TMN\",\"Population, total\",\"SP.POP.TOTL\",\"97553136\",\"100147125\",\"102808039\",\"105546241\",\"108376349\",\"111307810\",\"114351844\",\"117503838\",\"120739199\",\"124023275\",\"127335093\",\"130670746\",\"134051048\",\"137511232\",\"141099598\",\"144855662\",\"148781943\",\"152881163\",\"157192250\",\"161761403\",\"166616386\",\"171766018\",\"177185651\",\"182825252\",\"188614684\",\"194494177\",\"200443463\",\"206447529\",\"212456877\",\"218415839\",\"224280776\",\"230032568\",\"235665095\",\"241166641\",\"246530980\",\"251758674\",\"256843601\",\"261797640\",\"266664106\",\"271501583\",\"276357461\",\"281251221\",\"286188978\",\"291188690\",\"296266120\",\"301435118\",\"306703097\",\"312078867\",\"317576769\",\"323211867\",\"328991681\",\"334930074\",\"341018430\",\"347213697\",\"353456440\",\"359705464\",\"365926929\",\"372133652\",\"378386080\",\"384771769\",\"391344574\",\\r\\n\"Tonga\",\"TON\",\"Population, total\",\"SP.POP.TOTL\",\"61574\",\"63721\",\"66233\",\"68975\",\"71744\",\"74348\",\"76774\",\"79034\",\"81076\",\"82861\",\"84344\",\"85492\",\"86327\",\"86958\",\"87584\",\"88321\",\"89228\",\"90259\",\"91336\",\"92271\",\"92966\",\"93415\",\"93636\",\"93736\",\"93793\",\"93896\",\"94081\",\"94318\",\"94592\",\"94848\",\"95069\",\"95243\",\"95398\",\"95556\",\"95739\",\"95972\",\"96267\",\"96621\",\"97036\",\"97475\",\"97962\",\"98482\",\"99023\",\"99591\",\"100214\",\"100908\",\"101714\",\"102577\",\"103384\",\"103897\",\"103981\",\"103558\",\"102736\",\"101768\",\"101023\",\"100780\",\"101143\",\"102002\",\"103199\",\"104497\",\"105697\",\\r\\n\"South Asia (IDA & IBRD)\",\"TSA\",\"Population, total\",\"SP.POP.TOTL\",\"572839530\",\"584939711\",\"597494450\",\"610498308\",\"623943328\",\"637823175\",\"652144171\",\"666908586\",\"682102192\",\"697706091\",\"713711358\",\"730107660\",\"746911710\",\"764174968\",\"781966557\",\"800335570\",\"819292532\",\"838819900\",\"858901743\",\"879510842\",\"900620583\",\"922226632\",\"944315173\",\"966836458\",\"989728262\",\"1012942302\",\"1036437878\",\"1060208544\",\"1084281159\",\"1108702366\",\"1133495194\",\"1158655616\",\"1184133340\",\"1209847774\",\"1235693864\",\"1261587780\",\"1287476203\",\"1313346375\",\"1339202700\",\"1365067953\",\"1390946065\",\"1416822995\",\"1442644044\",\"1468324423\",\"1493757846\",\"1518861546\",\"1543610686\",\"1568003175\",\"1592010815\",\"1615610187\",\"1638792927\",\"1661532158\",\"1683740452\",\"1705761545\",\"1727632022\",\"1749417067\",\"1771187426\",\"1792883164\",\"1814455018\",\"1835776769\",\"1856882402\",\\r\\n\"Sub-Saharan Africa (IDA & IBRD countries)\",\"TSS\",\"Population, total\",\"SP.POP.TOTL\",\"227233184\",\"232567007\",\"238121604\",\"243893375\",\"249873656\",\"256059849\",\"262454482\",\"269072404\",\"275937546\",\"283080501\",\"290526233\",\"298284475\",\"306359650\",\"314761504\",\"323500333\",\"332583481\",\"342018937\",\"351808760\",\"361939456\",\"372404237\",\"383188215\",\"394281992\",\"405688898\",\"417425712\",\"429521914\",\"441988004\",\"454835677\",\"468053103\",\"481594337\",\"495407422\",\"509451875\",\"523726960\",\"538246439\",\"553020385\",\"568072070\",\"583413287\",\"599067774\",\"615054341\",\"631400703\",\"648148338\",\"665327588\",\"682956023\",\"701066197\",\"719716165\",\"738983247\",\"758924664\",\"779566846\",\"800908567\",\"822945490\",\"845655209\",\"869025115\",\"893045863\",\"917725880\",\"943039474\",\"968958352\",\"995458498\",\"1022530245\",\"1050162810\",\"1078319512\",\"1106957870\",\"1136046775\",\\r\\n\"Trinidad and Tobago\",\"TTO\",\"Population, total\",\"SP.POP.TOTL\",\"847973\",\"864814\",\"879436\",\"891948\",\"902620\",\"911742\",\"919218\",\"925233\",\"930792\",\"937184\",\"945357\",\"955753\",\"968136\",\"982006\",\"996479\",\"1010934\",\"1025104\",\"1039210\",\"1053560\",\"1068644\",\"1084743\",\"1101983\",\"1120019\",\"1138071\",\"1155083\",\"1170296\",\"1183382\",\"1194532\",\"1204150\",\"1212858\",\"1221121\",\"1229108\",\"1236685\",\"1243605\",\"1249527\",\"1254200\",\"1257547\",\"1259838\",\"1261699\",\"1263927\",\"1267159\",\"1271627\",\"1277210\",\"1283564\",\"1290115\",\"1296497\",\"1302552\",\"1308450\",\"1314449\",\"1320921\",\"1328144\",\"1336180\",\"1344814\",\"1353708\",\"1362337\",\"1370332\",\"1377563\",\"1384060\",\"1389841\",\"1394969\",\"1399491\",\\r\\n\"Tunisia\",\"TUN\",\"Population, total\",\"SP.POP.TOTL\",\"4178235\",\"4238141\",\"4305477\",\"4380074\",\"4461111\",\"4547941\",\"4640995\",\"4740526\",\"4845220\",\"4953379\",\"5063805\",\"5176290\",\"5291335\",\"5409338\",\"5530978\",\"5656912\",\"5786482\",\"5919958\",\"6060158\",\"6210756\",\"6374040\",\"6551232\",\"6740520\",\"6937332\",\"7135265\",\"7329590\",\"7517854\",\"7700733\",\"7880333\",\"8060211\",\"8242509\",\"8427851\",\"8613855\",\"8795934\",\"8967916\",\"9125400\",\"9267335\",\"9395119\",\"9509862\",\"9613587\",\"9708347\",\"9793915\",\"9871261\",\"9945282\",\"10022278\",\"10106778\",\"10201211\",\"10304729\",\"10414425\",\"10525691\",\"10635245\",\"10741872\",\"10846993\",\"10952949\",\"11063195\",\"11179951\",\"11303942\",\"11433438\",\"11565203\",\"11694721\",\"11818618\",\\r\\n\"Turkey\",\"TUR\",\"Population, total\",\"SP.POP.TOTL\",\"27472339\",\"28146909\",\"28832831\",\"29531362\",\"30244258\",\"30972996\",\"31717504\",\"32477994\",\"33256465\",\"34055391\",\"34876296\",\"35720603\",\"36587267\",\"37472329\",\"38370278\",\"39277249\",\"40189561\",\"41108290\",\"42039983\",\"42994043\",\"43975972\",\"44988411\",\"46025411\",\"47073470\",\"48114158\",\"49133928\",\"50128548\",\"51100930\",\"52053764\",\"52992479\",\"53921758\",\"54840595\",\"55748946\",\"56653808\",\"57564209\",\"58486453\",\"59423278\",\"60372571\",\"61329665\",\"62287391\",\"63240196\",\"64192243\",\"65145357\",\"66089402\",\"67010930\",\"67903461\",\"68756809\",\"69581854\",\"70418612\",\"71321406\",\"72326992\",\"73443254\",\"74651046\",\"75925454\",\"77229262\",\"78529413\",\"79827868\",\"81116451\",\"82340090\",\"83429607\",\"84339067\",\\r\\n\"Tuvalu\",\"TUV\",\"Population, total\",\"SP.POP.TOTL\",\"5321\",\"5330\",\"5340\",\"5341\",\"5354\",\"5388\",\"5435\",\"5510\",\"5598\",\"5671\",\"5740\",\"5770\",\"5786\",\"5819\",\"5903\",\"6064\",\"6319\",\"6650\",\"7018\",\"7357\",\"7631\",\"7825\",\"7951\",\"8041\",\"8110\",\"8211\",\"8341\",\"8481\",\"8637\",\"8787\",\"8910\",\"9014\",\"9110\",\"9194\",\"9259\",\"9298\",\"9317\",\"9328\",\"9332\",\"9344\",\"9392\",\"9478\",\"9593\",\"9724\",\"9871\",\"9997\",\"10118\",\"10219\",\"10315\",\"10413\",\"10521\",\"10626\",\"10744\",\"10849\",\"10973\",\"11099\",\"11232\",\"11365\",\"11505\",\"11655\",\"11792\",\\r\\n\"Tanzania\",\"TZA\",\"Population, total\",\"SP.POP.TOTL\",\"10052151\",\"10346695\",\"10651954\",\"10968196\",\"11295675\",\"11634837\",\"11985442\",\"12348188\",\"12725519\",\"13120587\",\"13535487\",\"13971698\",\"14428340\",\"14902271\",\"15388933\",\"15885228\",\"16390161\",\"16905222\",\"17432756\",\"17976219\",\"18538263\",\"19120683\",\"19723317\",\"20344550\",\"20981775\",\"21633799\",\"22296282\",\"22971208\",\"23670807\",\"24411744\",\"25203848\",\"26056605\",\"26961204\",\"27887204\",\"28792649\",\"29649128\",\"30444523\",\"31192853\",\"31924201\",\"32682240\",\"33499177\",\"34385849\",\"35334790\",\"36337778\",\"37379766\",\"38450323\",\"39548666\",\"40681416\",\"41853944\",\"43073830\",\"44346532\",\"45673520\",\"47053033\",\"48483132\",\"49960563\",\"51482638\",\"53049231\",\"54660345\",\"56313444\",\"58005461\",\"59734213\",\\r\\n\"Uganda\",\"UGA\",\"Population, total\",\"SP.POP.TOTL\",\"6767092\",\"6983824\",\"7215799\",\"7461636\",\"7719108\",\"7986062\",\"8263434\",\"8550444\",\"8841156\",\"9127855\",\"9405606\",\"9671856\",\"9929644\",\"10186452\",\"10453029\",\"10737403\",\"11042975\",\"11368618\",\"11712540\",\"12071140\",\"12442333\",\"12825084\",\"13221991\",\"13638729\",\"14082870\",\"14559357\",\"15070319\",\"15612754\",\"16180129\",\"16763041\",\"17354395\",\"17953534\",\"18561668\",\"19175986\",\"19793541\",\"20413157\",\"21032817\",\"21655392\",\"22290787\",\"22952406\",\"23650159\",\"24388974\",\"25167261\",\"25980547\",\"26821300\",\"27684590\",\"28571475\",\"29486335\",\"30431734\",\"31411096\",\"32428164\",\"33476772\",\"34558700\",\"35694519\",\"36911530\",\"38225447\",\"39649173\",\"41166588\",\"42729032\",\"44269587\",\"45741000\",\\r\\n\"Ukraine\",\"UKR\",\"Population, total\",\"SP.POP.TOTL\",\"42664646\",\"43206353\",\"43752227\",\"44288607\",\"44796959\",\"45264552\",\"45684983\",\"46063219\",\"46411816\",\"46749289\",\"47088862\",\"47435008\",\"47783006\",\"48125829\",\"48452623\",\"48755662\",\"49032729\",\"49287118\",\"49523304\",\"49747998\",\"49965872\",\"50221000\",\"50384000\",\"50564000\",\"50754000\",\"50917000\",\"51097000\",\"51293000\",\"51521000\",\"51773000\",\"51891400\",\"52000500\",\"52150400\",\"52179200\",\"51921400\",\"51512800\",\"51057800\",\"50594600\",\"50144500\",\"49674000\",\"49176500\",\"48662400\",\"48202470\",\"47812949\",\"47451626\",\"47105171\",\"46787786\",\"46509355\",\"46258189\",\"46053331\",\"45870741\",\"45706086\",\"45593342\",\"45489648\",\"45272155\",\"45154036\",\"45004673\",\"44831135\",\"44622518\",\"44386203\",\"44134693\",\\r\\n\"Upper middle income\",\"UMC\",\"Population, total\",\"SP.POP.TOTL\",\"1136464260\",\"1140113724\",\"1156186962\",\"1183604156\",\"1210649304\",\"1238612642\",\"1269459169\",\"1299468908\",\"1330348999\",\"1362854382\",\"1396278485\",\"1430319852\",\"1462600916\",\"1493945323\",\"1523888167\",\"1551563310\",\"1577700939\",\"1602325098\",\"1626942179\",\"1651804638\",\"1676276374\",\"1701367506\",\"1728647847\",\"1755902412\",\"1782261503\",\"1809328983\",\"1837853676\",\"1867834479\",\"1897982987\",\"1927151797\",\"1954941707\",\"1981740967\",\"2006684527\",\"2030763714\",\"2054445439\",\"2077356482\",\"2099939308\",\"2122286538\",\"2143782967\",\"2163950269\",\"2183135807\",\"2201118779\",\"2218183948\",\"2234927005\",\"2251348403\",\"2267638257\",\"2283522019\",\"2298891545\",\"2314543121\",\"2330554141\",\"2346583878\",\"2363223603\",\"2380514071\",\"2398238099\",\"2416209716\",\"2434023245\",\"2452128845\",\"2470251443\",\"2486467779\",\"2500746096\",\"2513672792\",\\r\\n\"Uruguay\",\"URY\",\"Population, total\",\"SP.POP.TOTL\",\"2538648\",\"2571682\",\"2603883\",\"2635125\",\"2665383\",\"2694537\",\"2722871\",\"2750091\",\"2774761\",\"2795037\",\"2809799\",\"2818283\",\"2821458\",\"2822112\",\"2824095\",\"2830172\",\"2841371\",\"2856958\",\"2875724\",\"2895683\",\"2915389\",\"2934624\",\"2953852\",\"2973048\",\"2992250\",\"3011519\",\"3030651\",\"3049581\",\"3068714\",\"3088603\",\"3109598\",\"3131657\",\"3154459\",\"3177734\",\"3201149\",\"3224275\",\"3247383\",\"3270158\",\"3291053\",\"3308005\",\"3319734\",\"3325471\",\"3326046\",\"3323661\",\"3321486\",\"3321799\",\"3325403\",\"3331753\",\"3340221\",\"3349676\",\"3359273\",\"3368926\",\"3378975\",\"3389436\",\"3400439\",\"3412013\",\"3424139\",\"3436645\",\"3449290\",\"3461731\",\"3473727\",\\r\\n\"United States\",\"USA\",\"Population, total\",\"SP.POP.TOTL\",\"180671000\",\"183691000\",\"186538000\",\"189242000\",\"191889000\",\"194303000\",\"196560000\",\"198712000\",\"200706000\",\"202677000\",\"205052000\",\"207661000\",\"209896000\",\"211909000\",\"213854000\",\"215973000\",\"218035000\",\"220239000\",\"222585000\",\"225055000\",\"227225000\",\"229466000\",\"231664000\",\"233792000\",\"235825000\",\"237924000\",\"240133000\",\"242289000\",\"244499000\",\"246819000\",\"249623000\",\"252981000\",\"256514000\",\"259919000\",\"263126000\",\"266278000\",\"269394000\",\"272657000\",\"275854000\",\"279040000\",\"282162411\",\"284968955\",\"287625193\",\"290107933\",\"292805298\",\"295516599\",\"298379912\",\"301231207\",\"304093966\",\"306771529\",\"309327143\",\"311583481\",\"313877662\",\"316059947\",\"318386329\",\"320738994\",\"323071755\",\"325122128\",\"326838199\",\"328329953\",\"329484123\",\\r\\n\"Uzbekistan\",\"UZB\",\"Population, total\",\"SP.POP.TOTL\",\"8526299\",\"8813619\",\"9113629\",\"9428906\",\"9762819\",\"10116870\",\"10493441\",\"10889499\",\"11294666\",\"11694843\",\"12080311\",\"12446444\",\"12796982\",\"13140797\",\"13491114\",\"13857469\",\"14242766\",\"14643881\",\"15057226\",\"15476928\",\"15898760\",\"16321692\",\"16747428\",\"17177663\",\"17615037\",\"18061283\",\"18515579\",\"18976411\",\"19443890\",\"19918119\",\"20510000\",\"20952000\",\"21449000\",\"21942000\",\"22377000\",\"22785000\",\"23225000\",\"23667000\",\"24051000\",\"24311650\",\"24650400\",\"24964450\",\"25271850\",\"25567650\",\"25864350\",\"26167000\",\"26488250\",\"26868000\",\"27302800\",\"27767400\",\"28562400\",\"29339400\",\"29774500\",\"30243200\",\"30757700\",\"31298900\",\"31847900\",\"32388600\",\"32956100\",\"33580350\",\"34232050\",\\r\\n\"St. Vincent and the Grenadines\",\"VCT\",\"Population, total\",\"SP.POP.TOTL\",\"80970\",\"82168\",\"83239\",\"84200\",\"85117\",\"86009\",\"86907\",\"87779\",\"88663\",\"89565\",\"90501\",\"91490\",\"92511\",\"93559\",\"94618\",\"95665\",\"96694\",\"97708\",\"98688\",\"99649\",\"100566\",\"101439\",\"102255\",\"103035\",\"103776\",\"104503\",\"105217\",\"105905\",\"106533\",\"107071\",\"107489\",\"107772\",\"107941\",\"108036\",\"108059\",\"108043\",\"107983\",\"107895\",\"107807\",\"107763\",\"107787\",\"107893\",\"108095\",\"108322\",\"108520\",\"108617\",\"108602\",\"108516\",\"108401\",\"108293\",\"108260\",\"108315\",\"108435\",\"108624\",\"108868\",\"109135\",\"109467\",\"109826\",\"110210\",\"110593\",\"110947\",\\r\\n\"Venezuela, RB\",\"VEN\",\"Population, total\",\"SP.POP.TOTL\",\"8141839\",\"8439261\",\"8742780\",\"9052632\",\"9369101\",\"9692281\",\"10022592\",\"10359741\",\"10702281\",\"11048256\",\"11396396\",\"11745952\",\"12097696\",\"12453709\",\"12816954\",\"13189511\",\"13572210\",\"13964377\",\"14364726\",\"14771270\",\"15182616\",\"15597878\",\"16017570\",\"16443128\",\"16876703\",\"17319513\",\"17772000\",\"18232733\",\"18698850\",\"19166474\",\"19632665\",\"20096314\",\"20557694\",\"21016900\",\"21474553\",\"21931087\",\"22385650\",\"22837743\",\"23288567\",\"23739835\",\"24192449\",\"24646471\",\"25100407\",\"25551624\",\"25996594\",\"26432445\",\"26850190\",\"27247601\",\"27635827\",\"28031010\",\"28439942\",\"28887873\",\"29360827\",\"29781046\",\"30042973\",\"30081827\",\"29851249\",\"29402480\",\"28887117\",\"28515829\",\"28435943\",\\r\\n\"British Virgin Islands\",\"VGB\",\"Population, total\",\"SP.POP.TOTL\",\"8053\",\"8164\",\"8319\",\"8469\",\"8644\",\"8836\",\"9022\",\"9213\",\"9427\",\"9621\",\"9830\",\"10012\",\"10210\",\"10391\",\"10551\",\"10697\",\"10821\",\"10923\",\"11041\",\"11226\",\"11471\",\"11821\",\"12250\",\"12755\",\"13317\",\"13951\",\"14646\",\"15390\",\"16155\",\"16867\",\"17489\",\"18007\",\"18443\",\"18783\",\"19068\",\"19307\",\"19508\",\"19660\",\"19820\",\"20026\",\"20313\",\"20675\",\"21128\",\"21674\",\"22329\",\"23106\",\"24022\",\"25050\",\"26096\",\"27035\",\"27796\",\"28326\",\"28654\",\"28850\",\"28985\",\"29148\",\"29355\",\"29567\",\"29795\",\"30033\",\"30237\",\\r\\n\"Virgin Islands (U.S.)\",\"VIR\",\"Population, total\",\"SP.POP.TOTL\",\"32500\",\"34300\",\"35000\",\"39800\",\"40800\",\"43500\",\"46200\",\"49100\",\"55700\",\"60300\",\"63476\",\"70937\",\"76319\",\"84121\",\"89941\",\"94484\",\"96166\",\"93203\",\"95929\",\"96183\",\"99636\",\"99853\",\"100068\",\"100348\",\"100600\",\"100760\",\"100842\",\"100901\",\"100952\",\"101041\",\"103963\",\"104807\",\"105712\",\"106578\",\"107318\",\"107818\",\"108095\",\"108357\",\"108537\",\"108599\",\"108642\",\"108549\",\"108509\",\"108505\",\"108466\",\"108453\",\"108369\",\"108337\",\"108397\",\"108404\",\"108357\",\"108290\",\"108188\",\"108041\",\"107882\",\"107712\",\"107516\",\"107281\",\"107001\",\"106669\",\"106290\",\\r\\n\"Vietnam\",\"VNM\",\"Population, total\",\"SP.POP.TOTL\",\"32670048\",\"33666111\",\"34683410\",\"35721213\",\"36780001\",\"37858947\",\"38958046\",\"40072951\",\"41193588\",\"42307149\",\"43404802\",\"44484032\",\"45548476\",\"46603522\",\"47657554\",\"48718190\",\"49785278\",\"50861166\",\"51959021\",\"53095406\",\"54281841\",\"55522804\",\"56814309\",\"58148384\",\"59512619\",\"60896732\",\"62293859\",\"63701974\",\"65120432\",\"66550231\",\"67988855\",\"69436956\",\"70883488\",\"72300308\",\"73651220\",\"74910462\",\"76068739\",\"77133212\",\"78115712\",\"79035871\",\"79910411\",\"80742500\",\"81534406\",\"82301650\",\"83062819\",\"83832662\",\"84617545\",\"85419588\",\"86243424\",\"87092250\",\"87967655\",\"88871384\",\"89801926\",\"90752593\",\"91713850\",\"92677082\",\"93640435\",\"94600643\",\"95545959\",\"96462108\",\"97338583\",\\r\\n\"Vanuatu\",\"VUT\",\"Population, total\",\"SP.POP.TOTL\",\"63689\",\"65700\",\"67793\",\"69944\",\"72116\",\"74268\",\"76392\",\"78505\",\"80653\",\"82920\",\"85374\",\"88012\",\"90802\",\"93749\",\"96773\",\"99863\",\"103002\",\"106206\",\"109397\",\"112543\",\"115598\",\"118546\",\"121398\",\"124213\",\"127058\",\"129989\",\"132988\",\"136075\",\"139319\",\"142801\",\"146575\",\"150718\",\"155176\",\"159743\",\"164128\",\"168161\",\"171721\",\"174917\",\"177987\",\"181259\",\"184964\",\"189209\",\"193927\",\"198960\",\"204123\",\"209282\",\"214379\",\"219464\",\"224700\",\"230244\",\"236216\",\"242658\",\"249505\",\"256637\",\"263888\",\"271128\",\"278326\",\"285499\",\"292675\",\"299882\",\"307150\",\\r\\n\"World\",\"WLD\",\"Population, total\",\"SP.POP.TOTL\",\"3032156070\",\"3071596055\",\"3124561005\",\"3189655687\",\"3255145692\",\"3322046795\",\"3392097729\",\"3461619724\",\"3532782993\",\"3606553753\",\"3681975908\",\"3760516757\",\"3836900801\",\"3912984371\",\"3988487336\",\"4062507027\",\"4135432265\",\"4207786422\",\"4281339378\",\"4356778367\",\"4432963653\",\"4511164132\",\"4592387213\",\"4674330282\",\"4755996689\",\"4839176734\",\"4924747934\",\"5012556248\",\"5101287675\",\"5189977062\",\"5280046096\",\"5368139468\",\"5452576447\",\"5537885552\",\"5622085788\",\"5706753900\",\"5789655609\",\"5872286683\",\"5954005906\",\"6034491620\",\"6114332517\",\"6193671694\",\"6272753009\",\"6351882385\",\"6431551721\",\"6511748273\",\"6592734559\",\"6674203697\",\"6757020825\",\"6839574233\",\"6921877071\",\"7002880914\",\"7085790438\",\"7169675197\",\"7254292848\",\"7339076654\",\"7424484741\",\"7509410228\",\"7592475615\",\"7673345391\",\"7752840547\",\\r\\n\"Samoa\",\"WSM\",\"Population, total\",\"SP.POP.TOTL\",\"108627\",\"112112\",\"115768\",\"119552\",\"123346\",\"127055\",\"130672\",\"134181\",\"137484\",\"140495\",\"143146\",\"145407\",\"147295\",\"148858\",\"150191\",\"151353\",\"152362\",\"153218\",\"153986\",\"154740\",\"155522\",\"156410\",\"157365\",\"158345\",\"159243\",\"159995\",\"160552\",\"160962\",\"161369\",\"161935\",\"162797\",\"164000\",\"165490\",\"167117\",\"168689\",\"170050\",\"171165\",\"172065\",\"172839\",\"173606\",\"174454\",\"175394\",\"176410\",\"177481\",\"178597\",\"179722\",\"180874\",\"182045\",\"183270\",\"184553\",\"185944\",\"187469\",\"189089\",\"190712\",\"192220\",\"193510\",\"194540\",\"195358\",\"196128\",\"197093\",\"198410\",\\r\\n\"Kosovo\",\"XKX\",\"Population, total\",\"SP.POP.TOTL\",\"947000\",\"966000\",\"994000\",\"1022000\",\"1050000\",\"1078000\",\"1106000\",\"1135000\",\"1163000\",\"1191000\",\"1219000\",\"1247000\",\"1278000\",\"1308000\",\"1339000\",\"1369000\",\"1400000\",\"1430000\",\"1460000\",\"1491000\",\"1521000\",\"1552000\",\"1582000\",\"1614000\",\"1647000\",\"1682000\",\"1717000\",\"1753000\",\"1791000\",\"1827000\",\"1862000\",\"1898000\",\"1932000\",\"1965000\",\"1997000\",\"2029000\",\"2059000\",\"2086000\",\"1966000\",\"1762000\",\"1700000\",\"1701154\",\"1702310\",\"1703466\",\"1704622\",\"1705780\",\"1719536\",\"1733404\",\"1747383\",\"1761474\",\"1775680\",\"1791000\",\"1807106\",\"1818117\",\"1812771\",\"1788196\",\"1777557\",\"1791003\",\"1797085\",\"1788878\",\"1775378\",\\r\\n\"Yemen, Rep.\",\"YEM\",\"Population, total\",\"SP.POP.TOTL\",\"5315351\",\"5393034\",\"5473671\",\"5556767\",\"5641598\",\"5727745\",\"5816241\",\"5907873\",\"6001858\",\"6097042\",\"6193379\",\"6290367\",\"6390573\",\"6500809\",\"6630003\",\"6784699\",\"6967944\",\"7178672\",\"7414167\",\"7669699\",\"7941903\",\"8231905\",\"8541605\",\"8869363\",\"9213078\",\"9572170\",\"9941102\",\"10322044\",\"10730864\",\"11189185\",\"11709987\",\"12302127\",\"12954157\",\"13634082\",\"14297617\",\"14913313\",\"15469274\",\"15975676\",\"16450306\",\"16921157\",\"17409071\",\"17918369\",\"18443684\",\"18985001\",\"19540096\",\"20107416\",\"20687648\",\"21282514\",\"21892149\",\"22516464\",\"23154854\",\"23807586\",\"24473176\",\"25147112\",\"25823488\",\"26497881\",\"27168210\",\"27834811\",\"28498683\",\"29161922\",\"29825968\",\\r\\n\"South Africa\",\"ZAF\",\"Population, total\",\"SP.POP.TOTL\",\"17099836\",\"17524533\",\"17965733\",\"18423157\",\"18896303\",\"19384838\",\"19888259\",\"20406863\",\"20942147\",\"21496075\",\"22069783\",\"22665265\",\"23281517\",\"23913090\",\"24552540\",\"25195184\",\"25836890\",\"26480915\",\"27138966\",\"27827325\",\"28556771\",\"29333095\",\"30150448\",\"30993762\",\"31841588\",\"32678876\",\"33495956\",\"34297727\",\"35100905\",\"35930056\",\"36800507\",\"37718952\",\"38672611\",\"39633754\",\"40564061\",\"41435761\",\"42241007\",\"42987456\",\"43682259\",\"44338551\",\"44967713\",\"45571272\",\"46150913\",\"46719203\",\"47291610\",\"47880595\",\"48489464\",\"49119766\",\"49779472\",\"50477013\",\"51216967\",\"52003759\",\"52832659\",\"53687125\",\"54544184\",\"55386369\",\"56207649\",\"57009751\",\"57792520\",\"58558267\",\"59308690\",\\r\\n\"Zambia\",\"ZMB\",\"Population, total\",\"SP.POP.TOTL\",\"3070780\",\"3164330\",\"3260645\",\"3360099\",\"3463211\",\"3570466\",\"3681953\",\"3797877\",\"3918872\",\"4045740\",\"4179062\",\"4319226\",\"4466170\",\"4619549\",\"4778716\",\"4943279\",\"5112823\",\"5287544\",\"5468259\",\"5656145\",\"5851818\",\"6055361\",\"6265869\",\"6481907\",\"6701547\",\"6923148\",\"7146965\",\"7372835\",\"7598270\",\"7820199\",\"8036849\",\"8246662\",\"8451346\",\"8656484\",\"8869745\",\"9096608\",\"9339740\",\"9597610\",\"9866474\",\"10140564\",\"10415942\",\"10692197\",\"10971704\",\"11256740\",\"11550641\",\"11856244\",\"12173518\",\"12502958\",\"12848531\",\"13215142\",\"13605986\",\"14023199\",\"14465148\",\"14926551\",\"15399793\",\"15879370\",\"16363449\",\"16853608\",\"17351714\",\"17861034\",\"18383956\",\\r\\n\"Zimbabwe\",\"ZWE\",\"Population, total\",\"SP.POP.TOTL\",\"3776679\",\"3905038\",\"4039209\",\"4178726\",\"4322854\",\"4471178\",\"4623340\",\"4779825\",\"4941901\",\"5111326\",\"5289312\",\"5476978\",\"5673914\",\"5877725\",\"6085078\",\"6293875\",\"6502566\",\"6712825\",\"6929663\",\"7160021\",\"7408630\",\"7675582\",\"7958239\",\"8254746\",\"8562259\",\"8877489\",\"9200150\",\"9527202\",\"9849129\",\"10153852\",\"10432409\",\"10681008\",\"10900511\",\"11092775\",\"11261752\",\"11410721\",\"11541215\",\"11653254\",\"11747079\",\"11822722\",\"11881482\",\"11923906\",\"11954293\",\"11982219\",\"12019911\",\"12076697\",\"12155496\",\"12255920\",\"12379553\",\"12526964\",\"12697728\",\"12894323\",\"13115149\",\"13350378\",\"13586710\",\"13814642\",\"14030338\",\"14236599\",\"14438812\",\"14645473\",\"14862927\",\\r\\n'}"
      ]
     },
     "execution_count": 71,
     "metadata": {
      "tags": []
     },
     "output_type": "execute_result"
    }
   ],
   "source": [
    "files.upload()"
   ]
  },
  {
   "cell_type": "code",
   "execution_count": null,
   "metadata": {
    "id": "X47O-HOPM5UZ"
   },
   "outputs": [],
   "source": [
    "population_data =pd.read_csv(\"Population_data.csv\", skiprows=4)"
   ]
  },
  {
   "cell_type": "code",
   "execution_count": null,
   "metadata": {
    "id": "BT-nRfnHNbNt"
   },
   "outputs": [],
   "source": [
    "population_df = population_data[['Country Name', \"Country Code\", \"2007\", \"2011\", \"2015\", \"2020\"]]"
   ]
  },
  {
   "cell_type": "code",
   "execution_count": null,
   "metadata": {
    "colab": {
     "base_uri": "https://localhost:8080/"
    },
    "id": "n8xDJLfIQAp_",
    "outputId": "bebd09e6-2755-4fb4-8005-b94d448dfe71"
   },
   "outputs": [
    {
     "data": {
      "text/plain": [
       "['Country Name',\n",
       " 'Country Code',\n",
       " '2007 population in millions',\n",
       " '2011 population in millions',\n",
       " '2015 population in millions',\n",
       " '2020 population in millions']"
      ]
     },
     "execution_count": 75,
     "metadata": {
      "tags": []
     },
     "output_type": "execute_result"
    }
   ],
   "source": [
    "new_columns = list(population_df.columns[:2]) + [col + \" population in millions\" for col in list(population_df.columns[2:])]\n",
    "new_columns"
   ]
  },
  {
   "cell_type": "code",
   "execution_count": null,
   "metadata": {
    "colab": {
     "base_uri": "https://localhost:8080/"
    },
    "id": "WLcL5Ou1PT5s",
    "outputId": "cab368e5-1e44-43e5-8407-5abd19ee69a4"
   },
   "outputs": [
    {
     "name": "stderr",
     "output_type": "stream",
     "text": [
      "/usr/local/lib/python3.7/dist-packages/pandas/core/indexing.py:1715: SettingWithCopyWarning: \n",
      "A value is trying to be set on a copy of a slice from a DataFrame.\n",
      "Try using .loc[row_indexer,col_indexer] = value instead\n",
      "\n",
      "See the caveats in the documentation: https://pandas.pydata.org/pandas-docs/stable/user_guide/indexing.html#returning-a-view-versus-a-copy\n",
      "  isetter(loc, v)\n"
     ]
    }
   ],
   "source": [
    "population_df.iloc[:,2:] = population_df.iloc[:,2:] / 1e6\n",
    "population_df.columns = new_columns\n"
   ]
  },
  {
   "cell_type": "code",
   "execution_count": null,
   "metadata": {
    "colab": {
     "base_uri": "https://localhost:8080/",
     "height": 150
    },
    "id": "em3x2iRBE3n5",
    "outputId": "9695768d-181d-4375-94dc-916b299fc31c"
   },
   "outputs": [
    {
     "data": {
      "text/html": [
       "<div>\n",
       "<style scoped>\n",
       "    .dataframe tbody tr th:only-of-type {\n",
       "        vertical-align: middle;\n",
       "    }\n",
       "\n",
       "    .dataframe tbody tr th {\n",
       "        vertical-align: top;\n",
       "    }\n",
       "\n",
       "    .dataframe thead th {\n",
       "        text-align: right;\n",
       "    }\n",
       "</style>\n",
       "<table border=\"1\" class=\"dataframe\">\n",
       "  <thead>\n",
       "    <tr style=\"text-align: right;\">\n",
       "      <th></th>\n",
       "      <th>IOC Code</th>\n",
       "      <th>National Olympic Committee</th>\n",
       "      <th>Reference Name</th>\n",
       "      <th>Country</th>\n",
       "      <th>Flag Code</th>\n",
       "      <th>Country Code</th>\n",
       "      <th>Country Name</th>\n",
       "      <th>gold_medals_2020</th>\n",
       "      <th>total_medals_2020</th>\n",
       "      <th>gold_medals_2016</th>\n",
       "      <th>total_medals_2016</th>\n",
       "      <th>gold_medals_2012</th>\n",
       "      <th>total_medals_2012</th>\n",
       "      <th>gold_medals_2008</th>\n",
       "      <th>total_medals_2008</th>\n",
       "    </tr>\n",
       "  </thead>\n",
       "  <tbody>\n",
       "    <tr>\n",
       "      <th>103</th>\n",
       "      <td>TPE</td>\n",
       "      <td>Chinese Taipei</td>\n",
       "      <td>Taiwan</td>\n",
       "      <td>Taiwan</td>\n",
       "      <td>TW</td>\n",
       "      <td>TWN</td>\n",
       "      <td>Chinese Taipei</td>\n",
       "      <td>2.0</td>\n",
       "      <td>12.0</td>\n",
       "      <td>1.0</td>\n",
       "      <td>3.0</td>\n",
       "      <td>1.0</td>\n",
       "      <td>2.0</td>\n",
       "      <td>1</td>\n",
       "      <td>4</td>\n",
       "    </tr>\n",
       "  </tbody>\n",
       "</table>\n",
       "</div>"
      ],
      "text/plain": [
       "    IOC Code National Olympic Committee  ... gold_medals_2008 total_medals_2008\n",
       "103      TPE             Chinese Taipei  ...                1                 4\n",
       "\n",
       "[1 rows x 15 columns]"
      ]
     },
     "execution_count": 77,
     "metadata": {
      "tags": []
     },
     "output_type": "execute_result"
    }
   ],
   "source": [
    "mask = olympics_data_with_country_codes[\"IOC Code\"] == \"TPE\"\n",
    "olympics_data_with_country_codes.loc[mask, :]"
   ]
  },
  {
   "cell_type": "code",
   "execution_count": null,
   "metadata": {
    "colab": {
     "base_uri": "https://localhost:8080/",
     "height": 203
    },
    "id": "7mG8PLSZQIY1",
    "outputId": "0a4ba6c2-2669-46a3-8fc6-d2ac6149d381"
   },
   "outputs": [
    {
     "data": {
      "text/html": [
       "<div>\n",
       "<style scoped>\n",
       "    .dataframe tbody tr th:only-of-type {\n",
       "        vertical-align: middle;\n",
       "    }\n",
       "\n",
       "    .dataframe tbody tr th {\n",
       "        vertical-align: top;\n",
       "    }\n",
       "\n",
       "    .dataframe thead th {\n",
       "        text-align: right;\n",
       "    }\n",
       "</style>\n",
       "<table border=\"1\" class=\"dataframe\">\n",
       "  <thead>\n",
       "    <tr style=\"text-align: right;\">\n",
       "      <th></th>\n",
       "      <th>Country Name</th>\n",
       "      <th>Country Code</th>\n",
       "      <th>2007 population in millions</th>\n",
       "      <th>2011 population in millions</th>\n",
       "      <th>2015 population in millions</th>\n",
       "      <th>2020 population in millions</th>\n",
       "    </tr>\n",
       "  </thead>\n",
       "  <tbody>\n",
       "    <tr>\n",
       "      <th>261</th>\n",
       "      <td>Kosovo</td>\n",
       "      <td>XKX</td>\n",
       "      <td>1.733404</td>\n",
       "      <td>1.791000</td>\n",
       "      <td>1.788196</td>\n",
       "      <td>1.775378</td>\n",
       "    </tr>\n",
       "    <tr>\n",
       "      <th>262</th>\n",
       "      <td>Yemen, Rep.</td>\n",
       "      <td>YEM</td>\n",
       "      <td>21.282514</td>\n",
       "      <td>23.807586</td>\n",
       "      <td>26.497881</td>\n",
       "      <td>29.825968</td>\n",
       "    </tr>\n",
       "    <tr>\n",
       "      <th>263</th>\n",
       "      <td>South Africa</td>\n",
       "      <td>ZAF</td>\n",
       "      <td>49.119766</td>\n",
       "      <td>52.003759</td>\n",
       "      <td>55.386369</td>\n",
       "      <td>59.308690</td>\n",
       "    </tr>\n",
       "    <tr>\n",
       "      <th>264</th>\n",
       "      <td>Zambia</td>\n",
       "      <td>ZMB</td>\n",
       "      <td>12.502958</td>\n",
       "      <td>14.023199</td>\n",
       "      <td>15.879370</td>\n",
       "      <td>18.383956</td>\n",
       "    </tr>\n",
       "    <tr>\n",
       "      <th>265</th>\n",
       "      <td>Zimbabwe</td>\n",
       "      <td>ZWE</td>\n",
       "      <td>12.255920</td>\n",
       "      <td>12.894323</td>\n",
       "      <td>13.814642</td>\n",
       "      <td>14.862927</td>\n",
       "    </tr>\n",
       "  </tbody>\n",
       "</table>\n",
       "</div>"
      ],
      "text/plain": [
       "     Country Name  ... 2020 population in millions\n",
       "261        Kosovo  ...                    1.775378\n",
       "262   Yemen, Rep.  ...                   29.825968\n",
       "263  South Africa  ...                   59.308690\n",
       "264        Zambia  ...                   18.383956\n",
       "265      Zimbabwe  ...                   14.862927\n",
       "\n",
       "[5 rows x 6 columns]"
      ]
     },
     "execution_count": 78,
     "metadata": {
      "tags": []
     },
     "output_type": "execute_result"
    }
   ],
   "source": [
    "population_df.tail()"
   ]
  },
  {
   "cell_type": "code",
   "execution_count": null,
   "metadata": {
    "colab": {
     "base_uri": "https://localhost:8080/"
    },
    "id": "vI0ul5iNHaB8",
    "outputId": "b9599117-1a17-4150-ad94-6b07013087f6"
   },
   "outputs": [
    {
     "data": {
      "text/plain": [
       "(266, 6)"
      ]
     },
     "execution_count": 79,
     "metadata": {
      "tags": []
     },
     "output_type": "execute_result"
    }
   ],
   "source": [
    "population_df.shape"
   ]
  },
  {
   "cell_type": "code",
   "execution_count": null,
   "metadata": {
    "colab": {
     "base_uri": "https://localhost:8080/"
    },
    "id": "gPLnMZe6Gh_e",
    "outputId": "9547f0e2-3bd2-4b0a-81b8-4a33b630ad2e"
   },
   "outputs": [
    {
     "name": "stderr",
     "output_type": "stream",
     "text": [
      "/usr/local/lib/python3.7/dist-packages/ipykernel_launcher.py:1: SettingWithCopyWarning: \n",
      "A value is trying to be set on a copy of a slice from a DataFrame\n",
      "\n",
      "See the caveats in the documentation: https://pandas.pydata.org/pandas-docs/stable/user_guide/indexing.html#returning-a-view-versus-a-copy\n",
      "  \"\"\"Entry point for launching an IPython kernel.\n"
     ]
    }
   ],
   "source": [
    "population_df.loc[266, :] = [\"Taiwan\", \"TWN\", 22.968, 23.225, 23.492, 23.57]"
   ]
  },
  {
   "cell_type": "code",
   "execution_count": null,
   "metadata": {
    "id": "sPARs8cEPJFy"
   },
   "outputs": [],
   "source": [
    "final_df = pd.merge(olympics_data_with_country_codes, population_df, on=\"Country Code\", how=\"inner\")"
   ]
  },
  {
   "cell_type": "code",
   "execution_count": null,
   "metadata": {
    "colab": {
     "base_uri": "https://localhost:8080/"
    },
    "id": "5n03hGa7RIbw",
    "outputId": "0ec2501c-1047-467e-fa2e-cbd4141365a7"
   },
   "outputs": [
    {
     "data": {
      "text/plain": [
       "(116, 20)"
      ]
     },
     "execution_count": 82,
     "metadata": {
      "tags": []
     },
     "output_type": "execute_result"
    }
   ],
   "source": [
    "final_df.shape"
   ]
  },
  {
   "cell_type": "code",
   "execution_count": null,
   "metadata": {
    "id": "XdPfHWV3RJiH"
   },
   "outputs": [],
   "source": [
    "final_missing_data = [code for code in list(olympics_data_with_country_codes[\"Country Code\"]) if code not in list(population_df['Country Code'])]"
   ]
  },
  {
   "cell_type": "code",
   "execution_count": null,
   "metadata": {
    "colab": {
     "base_uri": "https://localhost:8080/"
    },
    "id": "fn8TpdLZRrcn",
    "outputId": "ccacd7cc-fe20-4d1a-9a9a-35a75bb4c85a"
   },
   "outputs": [
    {
     "data": {
      "text/plain": [
       "[]"
      ]
     },
     "execution_count": 84,
     "metadata": {
      "tags": []
     },
     "output_type": "execute_result"
    }
   ],
   "source": [
    "final_missing_data"
   ]
  },
  {
   "cell_type": "code",
   "execution_count": null,
   "metadata": {
    "colab": {
     "base_uri": "https://localhost:8080/"
    },
    "id": "TPHodhNUyDYQ",
    "outputId": "7566bd22-ebb6-4e55-b2ba-acb486e4f0a0"
   },
   "outputs": [
    {
     "data": {
      "text/plain": [
       "Index(['IOC Code', 'National Olympic Committee', 'Reference Name', 'Country',\n",
       "       'Flag Code', 'Country Code', 'Country Name_x', 'gold_medals_2020',\n",
       "       'total_medals_2020', 'gold_medals_2016', 'total_medals_2016',\n",
       "       'gold_medals_2012', 'total_medals_2012', 'gold_medals_2008',\n",
       "       'total_medals_2008', 'Country Name_y', '2007 population in millions',\n",
       "       '2011 population in millions', '2015 population in millions',\n",
       "       '2020 population in millions'],\n",
       "      dtype='object')"
      ]
     },
     "execution_count": 85,
     "metadata": {
      "tags": []
     },
     "output_type": "execute_result"
    }
   ],
   "source": [
    "final_df.columns"
   ]
  },
  {
   "cell_type": "code",
   "execution_count": null,
   "metadata": {
    "id": "NTWJgwYjSAWG"
   },
   "outputs": [],
   "source": [
    "final_df = final_df.loc[:, ['IOC Code', \"Flag Code\", 'National Olympic Committee', 'Country', 'gold_medals_2020','total_medals_2020', 'gold_medals_2016', 'total_medals_2016',\n",
    "       'gold_medals_2012', 'total_medals_2012', 'gold_medals_2008',\n",
    "       'total_medals_2008', '2007 population in millions',\n",
    "       '2011 population in millions', '2015 population in millions',\n",
    "       '2020 population in millions']]"
   ]
  },
  {
   "cell_type": "code",
   "execution_count": null,
   "metadata": {
    "id": "OpA4YfQiS86b"
   },
   "outputs": [],
   "source": [
    "final_df.to_csv(\"D/My Drive/2021 /final_df.csv\")"
   ]
  },
  {
   "cell_type": "code",
   "execution_count": null,
   "metadata": {
    "id": "A6ud6sVAVChk"
   },
   "outputs": [],
   "source": [
    "final_df[\"gold_medals_ratio_2020\"] = final_df[\"gold_medals_2020\"] / final_df['2020 population in millions']\n",
    "final_df[\"total_medals_ratio_2020\"] = final_df[\"total_medals_2020\"] / final_df['2020 population in millions']\n",
    "final_df[\"gold_medals_ratio_2016\"] = final_df[\"gold_medals_2016\"]/ final_df['2015 population in millions']\n",
    "final_df[\"total_medals_ratio_2016\"] = final_df[\"total_medals_2016\"] / final_df['2015 population in millions']\n",
    "final_df[\"gold_medals_ratio_2012\"] = final_df[\"gold_medals_2012\"] / final_df['2011 population in millions']\n",
    "final_df[\"total_medals_ratio_2012\"] = final_df[\"total_medals_2012\"] / final_df['2011 population in millions']\n",
    "final_df[\"gold_medals_ratio_2008\"] = final_df[\"gold_medals_2008\"]/ final_df['2007 population in millions']\n",
    "final_df[\"total_medals_ratio_2008\"] = final_df[\"total_medals_2008\"] / final_df['2007 population in millions']\n",
    "\n"
   ]
  },
  {
   "cell_type": "code",
   "execution_count": null,
   "metadata": {
    "colab": {
     "base_uri": "https://localhost:8080/",
     "height": 487
    },
    "id": "rqw8ZdjVo938",
    "outputId": "6f806972-34fe-4a0b-b347-3afebb6b5708"
   },
   "outputs": [
    {
     "data": {
      "text/html": [
       "<div>\n",
       "<style scoped>\n",
       "    .dataframe tbody tr th:only-of-type {\n",
       "        vertical-align: middle;\n",
       "    }\n",
       "\n",
       "    .dataframe tbody tr th {\n",
       "        vertical-align: top;\n",
       "    }\n",
       "\n",
       "    .dataframe thead th {\n",
       "        text-align: right;\n",
       "    }\n",
       "</style>\n",
       "<table border=\"1\" class=\"dataframe\">\n",
       "  <thead>\n",
       "    <tr style=\"text-align: right;\">\n",
       "      <th></th>\n",
       "      <th>IOC Code</th>\n",
       "      <th>Flag Code</th>\n",
       "      <th>National Olympic Committee</th>\n",
       "      <th>Country</th>\n",
       "      <th>gold_medals_2020</th>\n",
       "      <th>total_medals_2020</th>\n",
       "      <th>gold_medals_2016</th>\n",
       "      <th>total_medals_2016</th>\n",
       "      <th>gold_medals_2012</th>\n",
       "      <th>total_medals_2012</th>\n",
       "      <th>gold_medals_2008</th>\n",
       "      <th>total_medals_2008</th>\n",
       "      <th>2007 population in millions</th>\n",
       "      <th>2011 population in millions</th>\n",
       "      <th>2015 population in millions</th>\n",
       "      <th>2020 population in millions</th>\n",
       "      <th>gold_medals_ratio_2020</th>\n",
       "      <th>total_medals_ratio_2020</th>\n",
       "      <th>gold_medals_ratio_2016</th>\n",
       "      <th>total_medals_ratio_2016</th>\n",
       "      <th>gold_medals_ratio_2012</th>\n",
       "      <th>total_medals_ratio_2012</th>\n",
       "      <th>gold_medals_ratio_2008</th>\n",
       "      <th>total_medals_ratio_2008</th>\n",
       "    </tr>\n",
       "  </thead>\n",
       "  <tbody>\n",
       "    <tr>\n",
       "      <th>0</th>\n",
       "      <td>AFG</td>\n",
       "      <td>AF</td>\n",
       "      <td>Afghanistan</td>\n",
       "      <td>Afghanistan</td>\n",
       "      <td>0.0</td>\n",
       "      <td>0.0</td>\n",
       "      <td>0.0</td>\n",
       "      <td>0.0</td>\n",
       "      <td>0.0</td>\n",
       "      <td>1.0</td>\n",
       "      <td>0</td>\n",
       "      <td>1</td>\n",
       "      <td>27.100542</td>\n",
       "      <td>30.117411</td>\n",
       "      <td>34.413603</td>\n",
       "      <td>38.928341</td>\n",
       "      <td>0.000000</td>\n",
       "      <td>0.000000</td>\n",
       "      <td>0.000000</td>\n",
       "      <td>0.000000</td>\n",
       "      <td>0.000000</td>\n",
       "      <td>0.033203</td>\n",
       "      <td>0.000000</td>\n",
       "      <td>0.036900</td>\n",
       "    </tr>\n",
       "    <tr>\n",
       "      <th>1</th>\n",
       "      <td>ALG</td>\n",
       "      <td>DZ</td>\n",
       "      <td>Algeria</td>\n",
       "      <td>Algeria</td>\n",
       "      <td>0.0</td>\n",
       "      <td>0.0</td>\n",
       "      <td>0.0</td>\n",
       "      <td>2.0</td>\n",
       "      <td>1.0</td>\n",
       "      <td>1.0</td>\n",
       "      <td>0</td>\n",
       "      <td>2</td>\n",
       "      <td>34.166976</td>\n",
       "      <td>36.661438</td>\n",
       "      <td>39.728020</td>\n",
       "      <td>43.851043</td>\n",
       "      <td>0.000000</td>\n",
       "      <td>0.000000</td>\n",
       "      <td>0.000000</td>\n",
       "      <td>0.050342</td>\n",
       "      <td>0.027277</td>\n",
       "      <td>0.027277</td>\n",
       "      <td>0.000000</td>\n",
       "      <td>0.058536</td>\n",
       "    </tr>\n",
       "    <tr>\n",
       "      <th>2</th>\n",
       "      <td>ARG</td>\n",
       "      <td>AR</td>\n",
       "      <td>Argentina</td>\n",
       "      <td>Argentina</td>\n",
       "      <td>0.0</td>\n",
       "      <td>3.0</td>\n",
       "      <td>3.0</td>\n",
       "      <td>4.0</td>\n",
       "      <td>1.0</td>\n",
       "      <td>4.0</td>\n",
       "      <td>2</td>\n",
       "      <td>6</td>\n",
       "      <td>39.684303</td>\n",
       "      <td>41.261490</td>\n",
       "      <td>43.131966</td>\n",
       "      <td>45.376763</td>\n",
       "      <td>0.000000</td>\n",
       "      <td>0.066113</td>\n",
       "      <td>0.069554</td>\n",
       "      <td>0.092739</td>\n",
       "      <td>0.024236</td>\n",
       "      <td>0.096943</td>\n",
       "      <td>0.050398</td>\n",
       "      <td>0.151193</td>\n",
       "    </tr>\n",
       "    <tr>\n",
       "      <th>3</th>\n",
       "      <td>ARM</td>\n",
       "      <td>AM</td>\n",
       "      <td>Armenia</td>\n",
       "      <td>Armenia</td>\n",
       "      <td>0.0</td>\n",
       "      <td>4.0</td>\n",
       "      <td>1.0</td>\n",
       "      <td>4.0</td>\n",
       "      <td>0.0</td>\n",
       "      <td>2.0</td>\n",
       "      <td>0</td>\n",
       "      <td>5</td>\n",
       "      <td>2.932615</td>\n",
       "      <td>2.876536</td>\n",
       "      <td>2.925559</td>\n",
       "      <td>2.963234</td>\n",
       "      <td>0.000000</td>\n",
       "      <td>1.349877</td>\n",
       "      <td>0.341815</td>\n",
       "      <td>1.367260</td>\n",
       "      <td>0.000000</td>\n",
       "      <td>0.695281</td>\n",
       "      <td>0.000000</td>\n",
       "      <td>1.704963</td>\n",
       "    </tr>\n",
       "    <tr>\n",
       "      <th>4</th>\n",
       "      <td>AUS</td>\n",
       "      <td>AU</td>\n",
       "      <td>Australia</td>\n",
       "      <td>Australia</td>\n",
       "      <td>17.0</td>\n",
       "      <td>46.0</td>\n",
       "      <td>8.0</td>\n",
       "      <td>29.0</td>\n",
       "      <td>8.0</td>\n",
       "      <td>35.0</td>\n",
       "      <td>14</td>\n",
       "      <td>46</td>\n",
       "      <td>20.827600</td>\n",
       "      <td>22.340024</td>\n",
       "      <td>23.815995</td>\n",
       "      <td>25.687041</td>\n",
       "      <td>0.661812</td>\n",
       "      <td>1.790786</td>\n",
       "      <td>0.335909</td>\n",
       "      <td>1.217669</td>\n",
       "      <td>0.358102</td>\n",
       "      <td>1.566695</td>\n",
       "      <td>0.672185</td>\n",
       "      <td>2.208608</td>\n",
       "    </tr>\n",
       "    <tr>\n",
       "      <th>...</th>\n",
       "      <td>...</td>\n",
       "      <td>...</td>\n",
       "      <td>...</td>\n",
       "      <td>...</td>\n",
       "      <td>...</td>\n",
       "      <td>...</td>\n",
       "      <td>...</td>\n",
       "      <td>...</td>\n",
       "      <td>...</td>\n",
       "      <td>...</td>\n",
       "      <td>...</td>\n",
       "      <td>...</td>\n",
       "      <td>...</td>\n",
       "      <td>...</td>\n",
       "      <td>...</td>\n",
       "      <td>...</td>\n",
       "      <td>...</td>\n",
       "      <td>...</td>\n",
       "      <td>...</td>\n",
       "      <td>...</td>\n",
       "      <td>...</td>\n",
       "      <td>...</td>\n",
       "      <td>...</td>\n",
       "      <td>...</td>\n",
       "    </tr>\n",
       "    <tr>\n",
       "      <th>111</th>\n",
       "      <td>UZB</td>\n",
       "      <td>UZ</td>\n",
       "      <td>Uzbekistan</td>\n",
       "      <td>Uzbekistan</td>\n",
       "      <td>3.0</td>\n",
       "      <td>5.0</td>\n",
       "      <td>4.0</td>\n",
       "      <td>13.0</td>\n",
       "      <td>0.0</td>\n",
       "      <td>2.0</td>\n",
       "      <td>0</td>\n",
       "      <td>4</td>\n",
       "      <td>26.868000</td>\n",
       "      <td>29.339400</td>\n",
       "      <td>31.298900</td>\n",
       "      <td>34.232050</td>\n",
       "      <td>0.087637</td>\n",
       "      <td>0.146062</td>\n",
       "      <td>0.127800</td>\n",
       "      <td>0.415350</td>\n",
       "      <td>0.000000</td>\n",
       "      <td>0.068168</td>\n",
       "      <td>0.000000</td>\n",
       "      <td>0.148876</td>\n",
       "    </tr>\n",
       "    <tr>\n",
       "      <th>112</th>\n",
       "      <td>VEN</td>\n",
       "      <td>VE</td>\n",
       "      <td>Venezuela</td>\n",
       "      <td>Venezuela</td>\n",
       "      <td>1.0</td>\n",
       "      <td>4.0</td>\n",
       "      <td>0.0</td>\n",
       "      <td>3.0</td>\n",
       "      <td>1.0</td>\n",
       "      <td>1.0</td>\n",
       "      <td>0</td>\n",
       "      <td>1</td>\n",
       "      <td>27.247601</td>\n",
       "      <td>28.887873</td>\n",
       "      <td>30.081827</td>\n",
       "      <td>28.435943</td>\n",
       "      <td>0.035167</td>\n",
       "      <td>0.140667</td>\n",
       "      <td>0.000000</td>\n",
       "      <td>0.099728</td>\n",
       "      <td>0.034617</td>\n",
       "      <td>0.034617</td>\n",
       "      <td>0.000000</td>\n",
       "      <td>0.036700</td>\n",
       "    </tr>\n",
       "    <tr>\n",
       "      <th>113</th>\n",
       "      <td>VIE</td>\n",
       "      <td>VN</td>\n",
       "      <td>Vietnam</td>\n",
       "      <td>Vietnam</td>\n",
       "      <td>0.0</td>\n",
       "      <td>0.0</td>\n",
       "      <td>1.0</td>\n",
       "      <td>2.0</td>\n",
       "      <td>0.0</td>\n",
       "      <td>0.0</td>\n",
       "      <td>0</td>\n",
       "      <td>1</td>\n",
       "      <td>85.419588</td>\n",
       "      <td>88.871384</td>\n",
       "      <td>92.677082</td>\n",
       "      <td>97.338583</td>\n",
       "      <td>0.000000</td>\n",
       "      <td>0.000000</td>\n",
       "      <td>0.010790</td>\n",
       "      <td>0.021580</td>\n",
       "      <td>0.000000</td>\n",
       "      <td>0.000000</td>\n",
       "      <td>0.000000</td>\n",
       "      <td>0.011707</td>\n",
       "    </tr>\n",
       "    <tr>\n",
       "      <th>114</th>\n",
       "      <td>ZIM</td>\n",
       "      <td>ZW</td>\n",
       "      <td>Zimbabwe</td>\n",
       "      <td>Zimbabwe</td>\n",
       "      <td>0.0</td>\n",
       "      <td>0.0</td>\n",
       "      <td>0.0</td>\n",
       "      <td>0.0</td>\n",
       "      <td>0.0</td>\n",
       "      <td>0.0</td>\n",
       "      <td>1</td>\n",
       "      <td>4</td>\n",
       "      <td>12.255920</td>\n",
       "      <td>12.894323</td>\n",
       "      <td>13.814642</td>\n",
       "      <td>14.862927</td>\n",
       "      <td>0.000000</td>\n",
       "      <td>0.000000</td>\n",
       "      <td>0.000000</td>\n",
       "      <td>0.000000</td>\n",
       "      <td>0.000000</td>\n",
       "      <td>0.000000</td>\n",
       "      <td>0.081593</td>\n",
       "      <td>0.326373</td>\n",
       "    </tr>\n",
       "    <tr>\n",
       "      <th>115</th>\n",
       "      <td>KOS</td>\n",
       "      <td>XK</td>\n",
       "      <td>Kosovo</td>\n",
       "      <td>Kosovo</td>\n",
       "      <td>2.0</td>\n",
       "      <td>2.0</td>\n",
       "      <td>1.0</td>\n",
       "      <td>1.0</td>\n",
       "      <td>0.0</td>\n",
       "      <td>0.0</td>\n",
       "      <td>0</td>\n",
       "      <td>0</td>\n",
       "      <td>1.733404</td>\n",
       "      <td>1.791000</td>\n",
       "      <td>1.788196</td>\n",
       "      <td>1.775378</td>\n",
       "      <td>1.126521</td>\n",
       "      <td>1.126521</td>\n",
       "      <td>0.559223</td>\n",
       "      <td>0.559223</td>\n",
       "      <td>0.000000</td>\n",
       "      <td>0.000000</td>\n",
       "      <td>0.000000</td>\n",
       "      <td>0.000000</td>\n",
       "    </tr>\n",
       "  </tbody>\n",
       "</table>\n",
       "<p>116 rows × 24 columns</p>\n",
       "</div>"
      ],
      "text/plain": [
       "    IOC Code Flag Code  ... gold_medals_ratio_2008 total_medals_ratio_2008\n",
       "0        AFG        AF  ...               0.000000                0.036900\n",
       "1        ALG        DZ  ...               0.000000                0.058536\n",
       "2        ARG        AR  ...               0.050398                0.151193\n",
       "3        ARM        AM  ...               0.000000                1.704963\n",
       "4        AUS        AU  ...               0.672185                2.208608\n",
       "..       ...       ...  ...                    ...                     ...\n",
       "111      UZB        UZ  ...               0.000000                0.148876\n",
       "112      VEN        VE  ...               0.000000                0.036700\n",
       "113      VIE        VN  ...               0.000000                0.011707\n",
       "114      ZIM        ZW  ...               0.081593                0.326373\n",
       "115      KOS        XK  ...               0.000000                0.000000\n",
       "\n",
       "[116 rows x 24 columns]"
      ]
     },
     "execution_count": 89,
     "metadata": {
      "tags": []
     },
     "output_type": "execute_result"
    }
   ],
   "source": [
    "final_df"
   ]
  },
  {
   "cell_type": "markdown",
   "metadata": {
    "id": "BLNWrZX1BUv7"
   },
   "source": [
    "Creating a Data Base of flags"
   ]
  },
  {
   "cell_type": "code",
   "execution_count": null,
   "metadata": {
    "id": "zA4mdqcYIc0p"
   },
   "outputs": [],
   "source": [
    "def data_fetcher(df, cond=\"gold\", year=\"2008\", num=8):\n",
    "    sorter = cond + \"_medals_ratio_\" + year\n",
    "    df = df.sort_values(sorter).tail(num)\n",
    "    data = df.loc[:, [\"Flag Code\", \"National Olympic Committee\", sorter]]\n",
    "\n",
    "    return data"
   ]
  },
  {
   "cell_type": "code",
   "execution_count": null,
   "metadata": {
    "colab": {
     "base_uri": "https://localhost:8080/"
    },
    "id": "vwbO_7z0DRaB",
    "outputId": "17e58137-43c6-4f5a-f245-7b73164affe6"
   },
   "outputs": [
    {
     "data": {
      "text/plain": [
       "array(['AU', 'BH', 'BM', 'BS', 'CU', 'DK', 'EE', 'FJ', 'GD', 'GE', 'HR',\n",
       "       'HU', 'IS', 'JM', 'MN', 'NO', 'NZ', 'SI', 'SM', 'TT', 'WS', 'XK'],\n",
       "      dtype=object)"
      ]
     },
     "execution_count": 91,
     "metadata": {
      "tags": []
     },
     "output_type": "execute_result"
    }
   ],
   "source": [
    "def get_flag_codes(df):\n",
    "    frames = []\n",
    "    years = [\"2008\", \"2012\", \"2016\", \"2020\"]\n",
    "    conds = [\"total\", \"gold\"]\n",
    "    for year in years:\n",
    "        for cond in conds:\n",
    "            sub_frame = data_fetcher(df, cond=cond, year=year)\n",
    "            frames.append(sub_frame)\n",
    "\n",
    "    big_frame = pd.concat(frames, axis=0)\n",
    "\n",
    "    set_of_flags = np.unique(big_frame[\"Flag Code\"])\n",
    "\n",
    "    return set_of_flags\n",
    "\n",
    "\n",
    "get_flag_codes(final_df)"
   ]
  },
  {
   "cell_type": "code",
   "execution_count": null,
   "metadata": {
    "id": "kd7gZ-q1F7QP"
   },
   "outputs": [],
   "source": [
    "flags = get_flag_codes(final_df)"
   ]
  },
  {
   "cell_type": "code",
   "execution_count": null,
   "metadata": {
    "id": "G60A-evrB9IP"
   },
   "outputs": [],
   "source": [
    "for flag in flags:\n",
    "    res = requests.get(\"https://www.countryflags.io/{}/flat/64.png\".format(flag))\n",
    "    f = open(\"D/My Drive/2021 /Flags3/{}.png\".format(flag), \"wb\")\n",
    "    f.write(res.content)\n",
    "    f.close()"
   ]
  },
  {
   "cell_type": "markdown",
   "metadata": {
    "id": "UCohWFSkC5Os"
   },
   "source": [
    "**Plotting the data**"
   ]
  },
  {
   "cell_type": "code",
   "execution_count": null,
   "metadata": {
    "id": "1m7PzW0aHeYg"
   },
   "outputs": [],
   "source": [
    "from matplotlib.offsetbox import OffsetImage,AnnotationBbox\n",
    "\n",
    "def get_flag(flag):\n",
    "    path = \"D/My Drive/2021 /Flags3/{}.png\".format(flag)\n",
    "    image = plt.imread(path)\n",
    "\n",
    "    return image"
   ]
  },
  {
   "cell_type": "code",
   "execution_count": null,
   "metadata": {
    "id": "HDutoYHHKR6f"
   },
   "outputs": [],
   "source": [
    "def offset_image(coord, flag, ax, val):\n",
    "    img = get_flag(flag)\n",
    "    im = OffsetImage(img, zoom=0.8)\n",
    "    im.image.axes = ax\n",
    "\n",
    "    ab = AnnotationBbox(im, (val, coord),  xybox=(15., 0.), frameon=False,\n",
    "                        xycoords='data',  boxcoords=\"offset points\", pad=0)\n",
    "\n",
    "    ax.add_artist(ab)"
   ]
  },
  {
   "cell_type": "code",
   "execution_count": null,
   "metadata": {
    "id": "F7SywtgNnbxN"
   },
   "outputs": [],
   "source": [
    "def data_fetcher(df, cond=\"gold\", year=\"2008\", num=10):\n",
    "    sorter = cond + \"_medals_ratio_\" + year\n",
    "    df = df.sort_values(sorter).tail(num)\n",
    "    data = df.loc[:, [\"Flag Code\", \"National Olympic Committee\", sorter]]\n",
    "\n",
    "    return data"
   ]
  },
  {
   "cell_type": "code",
   "execution_count": null,
   "metadata": {
    "id": "eH1KFxh5nNl2"
   },
   "outputs": [],
   "source": [
    "def plot_bars(df, cond=\"total\", title=\"Medals\"):\n",
    "    years = [\"2008\", \"2012\", \"2016\", \"2020\"]\n",
    "    fig = plt.figure(figsize=(30, 18))\n",
    "    fig.patch.set_facecolor(\"#ccffcc\")\n",
    "    fig.suptitle(\"%s won per million people for the 2008, 2012, 2016 and 2020 Olympic Games (Top 8 countries)\" %(title), fontsize=25, fontweight=\"bold\")\n",
    "    for year in years:\n",
    "        j = years.index(year) + 1\n",
    "        data = data_fetcher(df, cond=cond, year=year, num=8)\n",
    "        countries = data[\"National Olympic Committee\"]\n",
    "        values = data.iloc[:, 2]\n",
    "        flag_codes = data[\"Flag Code\"]\n",
    "        ax = plt.subplot(2, 2, j)\n",
    "        ax.barh(range(len(countries)), values, height=0.6, align=\"center\", color=[ \"#CD7F32\", \"#CD7F32\",\"#AFAFAF\",\"#AFAFAF\",\"#AFAFAF\",'#FFD700','#FFD700', '#FFD700'])\n",
    "        ax.set_yticks(range(len(countries)))\n",
    "        ax.set_yticklabels(countries, fontdict={'size':  24})\n",
    "        ax.tick_params(axis='x', which='major', pad=26, size=1, labelsize=16)\n",
    "        c =cond.title()\n",
    "        ax.set_xlabel(\"\\n%s medals per million people - %s Olympic Games\" %(c, year), fontdict={'size':  24})\n",
    "        ax.patch.set_facecolor(\"#ccffcc\")\n",
    "\n",
    "        val = values.max()\n",
    "\n",
    "\n",
    "        for i, c in enumerate(flag_codes):\n",
    "        \n",
    "            offset_image(i, c, ax, val)\n",
    "    # else:\n",
    "    #   for i, c in enumerate(flag_codes):\n",
    "        \n",
    "    #     offset_image2(i, c, ax, val)\n",
    "\n",
    "    \n",
    "        plt.subplots_adjust(top=0.9, left=0.01, right=0.92,  bottom=0.1, hspace=0.35, wspace=0.35)\n",
    "    \n",
    "    \n",
    "\n",
    "\n",
    "#'fontweight': 'bold'\n",
    "    "
   ]
  },
  {
   "cell_type": "code",
   "execution_count": null,
   "metadata": {
    "colab": {
     "base_uri": "https://localhost:8080/",
     "height": 843
    },
    "id": "wPtqze0rpIvT",
    "outputId": "4029ce61-d30d-4117-fdc9-0eddf809dfb7"
   },
   "outputs": [
    {
     "data": {
      "image/png": "[encoded data removed]",
      "text/plain": [
       "<Figure size 2160x1296 with 4 Axes>"
      ]
     },
     "metadata": {
      "tags": []
     },
     "output_type": "display_data"
    }
   ],
   "source": [
    "plot_bars(final_df)"
   ]
  },
  {
   "cell_type": "code",
   "execution_count": null,
   "metadata": {
    "colab": {
     "base_uri": "https://localhost:8080/",
     "height": 812
    },
    "id": "CLaPymxh4kgb",
    "outputId": "bf49fecd-e332-4e10-af50-3254adc4330b"
   },
   "outputs": [
    {
     "data": {
      "image/png": "[encoded data removed]",
      "text/plain": [
       "<Figure size 2160x1296 with 4 Axes>"
      ]
     },
     "metadata": {
      "tags": []
     },
     "output_type": "display_data"
    }
   ],
   "source": [
    "plot_bars(final_df, cond=\"gold\", title=\"Gold medals\")"
   ]
  },
  {
   "cell_type": "code",
   "execution_count": null,
   "metadata": {
    "id": "Woc6_VTfDQ3S"
   },
   "outputs": [],
   "source": [
    "def fact_checker(df):\n",
    "    frames = []\n",
    "    years = [\"2008\", \"2012\", \"2016\", \"2020\"]\n",
    "    conds = [\"total\", \"gold\"]\n",
    "    for year in years:\n",
    "        for cond in conds:\n",
    "        sub_frame = data_fetcher(df, cond=cond, year=year, num=8)\n",
    "        frames.append(sub_frame)\n",
    "\n",
    "    big_frame = pd.concat(frames, axis=0)\n",
    "\n",
    "    counts = big_frame[\"National Olympic Committee\"].value_counts()\n",
    "\n",
    "    return counts"
   ]
  },
  {
   "cell_type": "code",
   "execution_count": null,
   "metadata": {
    "colab": {
     "base_uri": "https://localhost:8080/"
    },
    "id": "haY3F72SA-BF",
    "outputId": "1957b4f0-b544-4b43-918b-4cd9c42b3b1c"
   },
   "outputs": [
    {
     "data": {
      "text/plain": [
       "Jamaica                8\n",
       "New Zealand            8\n",
       "Bahamas                7\n",
       "Slovenia               5\n",
       "Grenada                4\n",
       "Trinidad and Tobago    3\n",
       "Hungary                3\n",
       "Fiji                   3\n",
       "Croatia                3\n",
       "Bahrain                2\n",
       "Georgia                2\n",
       "Estonia                2\n",
       "Mongolia               2\n",
       "Australia              2\n",
       "Kosovo                 2\n",
       "Bermuda                2\n",
       "Cuba                   1\n",
       "San Marino             1\n",
       "Iceland                1\n",
       "Denmark                1\n",
       "Norway                 1\n",
       "Samoa                  1\n",
       "Name: National Olympic Committee, dtype: int64"
      ]
     },
     "execution_count": 101,
     "metadata": {
      "tags": []
     },
     "output_type": "execute_result"
    }
   ],
   "source": [
    "fact_checker(final_df)"
   ]
  },
  {
   "cell_type": "code",
   "execution_count": null,
   "metadata": {
    "colab": {
     "base_uri": "https://localhost:8080/",
     "height": 274
    },
    "id": "2AGtu0x-K4A3",
    "outputId": "be8b2364-7955-4e8a-c30d-e1154c964660"
   },
   "outputs": [
    {
     "data": {
      "text/html": [
       "<div>\n",
       "<style scoped>\n",
       "    .dataframe tbody tr th:only-of-type {\n",
       "        vertical-align: middle;\n",
       "    }\n",
       "\n",
       "    .dataframe tbody tr th {\n",
       "        vertical-align: top;\n",
       "    }\n",
       "\n",
       "    .dataframe thead th {\n",
       "        text-align: right;\n",
       "    }\n",
       "</style>\n",
       "<table border=\"1\" class=\"dataframe\">\n",
       "  <thead>\n",
       "    <tr style=\"text-align: right;\">\n",
       "      <th></th>\n",
       "      <th>IOC Code</th>\n",
       "      <th>Flag Code</th>\n",
       "      <th>National Olympic Committee</th>\n",
       "      <th>Country</th>\n",
       "      <th>gold_medals_2020</th>\n",
       "      <th>total_medals_2020</th>\n",
       "      <th>gold_medals_2016</th>\n",
       "      <th>total_medals_2016</th>\n",
       "      <th>gold_medals_2012</th>\n",
       "      <th>total_medals_2012</th>\n",
       "      <th>gold_medals_2008</th>\n",
       "      <th>total_medals_2008</th>\n",
       "      <th>2007 population in millions</th>\n",
       "      <th>2011 population in millions</th>\n",
       "      <th>2015 population in millions</th>\n",
       "      <th>2020 population in millions</th>\n",
       "      <th>gold_medals_ratio_2020</th>\n",
       "      <th>total_medals_ratio_2020</th>\n",
       "      <th>gold_medals_ratio_2016</th>\n",
       "      <th>total_medals_ratio_2016</th>\n",
       "      <th>gold_medals_ratio_2012</th>\n",
       "      <th>total_medals_ratio_2012</th>\n",
       "      <th>gold_medals_ratio_2008</th>\n",
       "      <th>total_medals_ratio_2008</th>\n",
       "    </tr>\n",
       "  </thead>\n",
       "  <tbody>\n",
       "    <tr>\n",
       "      <th>0</th>\n",
       "      <td>AFG</td>\n",
       "      <td>AF</td>\n",
       "      <td>Afghanistan</td>\n",
       "      <td>Afghanistan</td>\n",
       "      <td>0.0</td>\n",
       "      <td>0.0</td>\n",
       "      <td>0.0</td>\n",
       "      <td>0.0</td>\n",
       "      <td>0.0</td>\n",
       "      <td>1.0</td>\n",
       "      <td>0</td>\n",
       "      <td>1</td>\n",
       "      <td>27.100542</td>\n",
       "      <td>30.117411</td>\n",
       "      <td>34.413603</td>\n",
       "      <td>38.928341</td>\n",
       "      <td>0.000000</td>\n",
       "      <td>0.000000</td>\n",
       "      <td>0.000000</td>\n",
       "      <td>0.000000</td>\n",
       "      <td>0.000000</td>\n",
       "      <td>0.033203</td>\n",
       "      <td>0.000000</td>\n",
       "      <td>0.036900</td>\n",
       "    </tr>\n",
       "    <tr>\n",
       "      <th>1</th>\n",
       "      <td>ALG</td>\n",
       "      <td>DZ</td>\n",
       "      <td>Algeria</td>\n",
       "      <td>Algeria</td>\n",
       "      <td>0.0</td>\n",
       "      <td>0.0</td>\n",
       "      <td>0.0</td>\n",
       "      <td>2.0</td>\n",
       "      <td>1.0</td>\n",
       "      <td>1.0</td>\n",
       "      <td>0</td>\n",
       "      <td>2</td>\n",
       "      <td>34.166976</td>\n",
       "      <td>36.661438</td>\n",
       "      <td>39.728020</td>\n",
       "      <td>43.851043</td>\n",
       "      <td>0.000000</td>\n",
       "      <td>0.000000</td>\n",
       "      <td>0.000000</td>\n",
       "      <td>0.050342</td>\n",
       "      <td>0.027277</td>\n",
       "      <td>0.027277</td>\n",
       "      <td>0.000000</td>\n",
       "      <td>0.058536</td>\n",
       "    </tr>\n",
       "    <tr>\n",
       "      <th>2</th>\n",
       "      <td>ARG</td>\n",
       "      <td>AR</td>\n",
       "      <td>Argentina</td>\n",
       "      <td>Argentina</td>\n",
       "      <td>0.0</td>\n",
       "      <td>3.0</td>\n",
       "      <td>3.0</td>\n",
       "      <td>4.0</td>\n",
       "      <td>1.0</td>\n",
       "      <td>4.0</td>\n",
       "      <td>2</td>\n",
       "      <td>6</td>\n",
       "      <td>39.684303</td>\n",
       "      <td>41.261490</td>\n",
       "      <td>43.131966</td>\n",
       "      <td>45.376763</td>\n",
       "      <td>0.000000</td>\n",
       "      <td>0.066113</td>\n",
       "      <td>0.069554</td>\n",
       "      <td>0.092739</td>\n",
       "      <td>0.024236</td>\n",
       "      <td>0.096943</td>\n",
       "      <td>0.050398</td>\n",
       "      <td>0.151193</td>\n",
       "    </tr>\n",
       "    <tr>\n",
       "      <th>3</th>\n",
       "      <td>ARM</td>\n",
       "      <td>AM</td>\n",
       "      <td>Armenia</td>\n",
       "      <td>Armenia</td>\n",
       "      <td>0.0</td>\n",
       "      <td>4.0</td>\n",
       "      <td>1.0</td>\n",
       "      <td>4.0</td>\n",
       "      <td>0.0</td>\n",
       "      <td>2.0</td>\n",
       "      <td>0</td>\n",
       "      <td>5</td>\n",
       "      <td>2.932615</td>\n",
       "      <td>2.876536</td>\n",
       "      <td>2.925559</td>\n",
       "      <td>2.963234</td>\n",
       "      <td>0.000000</td>\n",
       "      <td>1.349877</td>\n",
       "      <td>0.341815</td>\n",
       "      <td>1.367260</td>\n",
       "      <td>0.000000</td>\n",
       "      <td>0.695281</td>\n",
       "      <td>0.000000</td>\n",
       "      <td>1.704963</td>\n",
       "    </tr>\n",
       "    <tr>\n",
       "      <th>4</th>\n",
       "      <td>AUS</td>\n",
       "      <td>AU</td>\n",
       "      <td>Australia</td>\n",
       "      <td>Australia</td>\n",
       "      <td>17.0</td>\n",
       "      <td>46.0</td>\n",
       "      <td>8.0</td>\n",
       "      <td>29.0</td>\n",
       "      <td>8.0</td>\n",
       "      <td>35.0</td>\n",
       "      <td>14</td>\n",
       "      <td>46</td>\n",
       "      <td>20.827600</td>\n",
       "      <td>22.340024</td>\n",
       "      <td>23.815995</td>\n",
       "      <td>25.687041</td>\n",
       "      <td>0.661812</td>\n",
       "      <td>1.790786</td>\n",
       "      <td>0.335909</td>\n",
       "      <td>1.217669</td>\n",
       "      <td>0.358102</td>\n",
       "      <td>1.566695</td>\n",
       "      <td>0.672185</td>\n",
       "      <td>2.208608</td>\n",
       "    </tr>\n",
       "  </tbody>\n",
       "</table>\n",
       "</div>"
      ],
      "text/plain": [
       "  IOC Code Flag Code  ... gold_medals_ratio_2008 total_medals_ratio_2008\n",
       "0      AFG        AF  ...               0.000000                0.036900\n",
       "1      ALG        DZ  ...               0.000000                0.058536\n",
       "2      ARG        AR  ...               0.050398                0.151193\n",
       "3      ARM        AM  ...               0.000000                1.704963\n",
       "4      AUS        AU  ...               0.672185                2.208608\n",
       "\n",
       "[5 rows x 24 columns]"
      ]
     },
     "execution_count": 102,
     "metadata": {
      "tags": []
     },
     "output_type": "execute_result"
    }
   ],
   "source": [
    "final_df.head()"
   ]
  },
  {
   "cell_type": "code",
   "execution_count": null,
   "metadata": {
    "id": "M_tZi_VcRl8F"
   },
   "outputs": [],
   "source": []
  }
 ],
 "metadata": {
  "colab": {
   "collapsed_sections": [],
   "name": "Olympics Project - Fifth Draft.ipynb",
   "provenance": []
  },
  "kernelspec": {
   "display_name": "Python 3 (ipykernel)",
   "language": "python",
   "name": "python3"
  },
  "language_info": {
   "codemirror_mode": {
    "name": "ipython",
    "version": 3
   },
   "file_extension": ".py",
   "mimetype": "text/x-python",
   "name": "python",
   "nbconvert_exporter": "python",
   "pygments_lexer": "ipython3",
   "version": "3.8.8"
  }
 },
 "nbformat": 4,
 "nbformat_minor": 1
}
